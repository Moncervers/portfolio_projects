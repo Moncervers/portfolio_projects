{
 "cells": [
  {
   "cell_type": "markdown",
   "metadata": {},
   "source": [
    "# Выбор локации для скважины"
   ]
  },
  {
   "cell_type": "markdown",
   "metadata": {},
   "source": [
    "Нам нужно решить, где бурить новую скважину.\n",
    "\n",
    "Нам предоставлены пробы нефти в трёх регионах: в каждом 10 000 месторождений, где измерили качество нефти и объём её запасов. Построим модель машинного обучения, которая поможет определить регион, где добыча принесёт наибольшую прибыль. Проанализируем возможную прибыль и риски техникой *Bootstrap.*\n",
    "\n",
    "Шаги для выбора локации:\n",
    "\n",
    "- В избранном регионе ищут месторождения, для каждого определяют значения признаков;\n",
    "- Строят модель и оценивают объём запасов;\n",
    "- Выбирают месторождения с самым высокими оценками значений. Количество месторождений зависит от бюджета компании и стоимости разработки одной скважины;\n",
    "- Прибыль равна суммарной прибыли отобранных месторождений."
   ]
  },
  {
   "cell_type": "markdown",
   "metadata": {},
   "source": [
    "**Описание данных**\n",
    " - `id` — уникальный идентификатор скважины\n",
    " - `f0, f1, f2` — три признака точек\n",
    " - `product` — объём запасов в скважине (тыс. баррелей). Это наш целевой признак\n",
    "\n",
    "**Условия задачи**\n",
    " - Для обучения модели подходит только линейная регрессия (остальные — недостаточно предсказуемые).\n",
    " - При разведке региона исследуют 500 точек, из которых с помощью машинного обучения выбирают 200 лучших для разработки.\n",
    " - Бюджет на разработку скважин в регионе — 10 млрд рублей.\n",
    " - При нынешних ценах один баррель сырья приносит 450 рублей дохода. Доход с каждой единицы продукта составляет 450 тыс. рублей, поскольку объём указан в тысячах баррелей.\n",
    " - После оценки рисков нужно оставить лишь те регионы, в которых вероятность убытков меньше 2.5%. Среди них выбирают регион с наибольшей средней прибылью.\n",
    "\n"
   ]
  },
  {
   "cell_type": "code",
   "execution_count": 2,
   "metadata": {
    "ExecuteTime": {
     "end_time": "2025-02-20T10:46:50.668749Z",
     "start_time": "2025-02-20T10:46:50.665642Z"
    }
   },
   "outputs": [],
   "source": [
    "# Импортируем необходимые библиотеки\n",
    "import pandas as pd\n",
    "import numpy as np\n",
    "import matplotlib.pyplot as plt\n",
    "import seaborn as sns\n",
    "import phik\n",
    "import warnings\n",
    "\n",
    "from seaborn.algorithms import bootstrap\n",
    "from sklearn.impute import SimpleImputer\n",
    "\n",
    "# Импорт для масштабирования и кодирования данных\n",
    "from sklearn.preprocessing import (\n",
    "    # Масштабирование числовых значений\n",
    "    StandardScaler,\n",
    "    RobustScaler,\n",
    "    MinMaxScaler,\n",
    ")\n",
    "\n",
    "# Импорт линейных моделей\n",
    "from sklearn.linear_model import (\n",
    "    LinearRegression\n",
    ")\n",
    "\n",
    "from sklearn.dummy import DummyRegressor\n",
    "\n",
    "# Импорт для подбора гиперпараметров модели и разбиения на выборки\n",
    "from sklearn.model_selection import (\n",
    "    train_test_split,\n",
    "    RandomizedSearchCV\n",
    ")\n",
    "\n",
    "# Импорт для расчета метрик\n",
    "from sklearn.metrics import (\n",
    "    make_scorer,\n",
    "    mean_squared_error\n",
    ")\n",
    "\n",
    "# Импорт для создания пайплайнов\n",
    "from sklearn.pipeline import Pipeline\n",
    "from sklearn.compose import ColumnTransformer\n",
    "\n",
    "# pd.options.display.float_format = '{:,.1f}'.format\n",
    "warnings.filterwarnings('ignore')\n",
    "RANDOM_STATE = np.random.RandomState(42)"
   ]
  },
  {
   "cell_type": "markdown",
   "metadata": {},
   "source": [
    "## Загрузка и подготовка данных"
   ]
  },
  {
   "cell_type": "code",
   "execution_count": 3,
   "metadata": {
    "ExecuteTime": {
     "end_time": "2025-02-20T10:46:50.799710Z",
     "start_time": "2025-02-20T10:46:50.695445Z"
    }
   },
   "outputs": [],
   "source": [
    "# Импортируем данные\n",
    "try:\n",
    "    geo_0 = pd.read_csv('data/geo_data_0.csv')\n",
    "    geo_1 = pd.read_csv('data/geo_data_1.csv')\n",
    "    geo_2 = pd.read_csv('data/geo_data_2.csv')\n",
    "except:\n",
    "    geo_0 = pd.read_csv('/datasets/geo_data_0.csv')\n",
    "    geo_1 = pd.read_csv('/datasets/geo_data_1.csv')\n",
    "    geo_2 = pd.read_csv('/datasets/geo_data_2.csv')\n",
    "\n",
    "# Указываем имена для того, чтобы можно было вызвать их в цикле\n",
    "geo_0.name = 'geo_0'\n",
    "geo_1.name = 'geo_1'\n",
    "geo_2.name = 'geo_2'"
   ]
  },
  {
   "cell_type": "markdown",
   "metadata": {},
   "source": [
    "### Вывод общей информации"
   ]
  },
  {
   "cell_type": "code",
   "execution_count": 4,
   "metadata": {
    "ExecuteTime": {
     "end_time": "2025-02-20T10:46:50.822201Z",
     "start_time": "2025-02-20T10:46:50.820038Z"
    }
   },
   "outputs": [],
   "source": [
    "def get_info(df):\n",
    "    print(f'\\n\\nКоличество неявных дубликатов в {df.name}: {df.duplicated().sum()}')\n",
    "    print(f'Количество уникальных значений id в {df.name}: {df[\"id\"].nunique()}\\n')\n",
    "    print(df.info())\n",
    "    print(df.head())\n",
    "    print('-'*50)"
   ]
  },
  {
   "cell_type": "code",
   "execution_count": 5,
   "metadata": {
    "ExecuteTime": {
     "end_time": "2025-02-20T10:46:50.902723Z",
     "start_time": "2025-02-20T10:46:50.844241Z"
    }
   },
   "outputs": [
    {
     "name": "stdout",
     "output_type": "stream",
     "text": [
      "\n",
      "\n",
      "Количество неявных дубликатов в geo_0: 0\n",
      "Количество уникальных значений id в geo_0: 99990\n",
      "\n",
      "<class 'pandas.core.frame.DataFrame'>\n",
      "RangeIndex: 100000 entries, 0 to 99999\n",
      "Data columns (total 5 columns):\n",
      " #   Column   Non-Null Count   Dtype  \n",
      "---  ------   --------------   -----  \n",
      " 0   id       100000 non-null  object \n",
      " 1   f0       100000 non-null  float64\n",
      " 2   f1       100000 non-null  float64\n",
      " 3   f2       100000 non-null  float64\n",
      " 4   product  100000 non-null  float64\n",
      "dtypes: float64(4), object(1)\n",
      "memory usage: 3.8+ MB\n",
      "None\n",
      "      id        f0        f1        f2     product\n",
      "0  txEyH  0.705745 -0.497823  1.221170  105.280062\n",
      "1  2acmU  1.334711 -0.340164  4.365080   73.037750\n",
      "2  409Wp  1.022732  0.151990  1.419926   85.265647\n",
      "3  iJLyR -0.032172  0.139033  2.978566  168.620776\n",
      "4  Xdl7t  1.988431  0.155413  4.751769  154.036647\n",
      "--------------------------------------------------\n",
      "\n",
      "\n",
      "Количество неявных дубликатов в geo_1: 0\n",
      "Количество уникальных значений id в geo_1: 99996\n",
      "\n",
      "<class 'pandas.core.frame.DataFrame'>\n",
      "RangeIndex: 100000 entries, 0 to 99999\n",
      "Data columns (total 5 columns):\n",
      " #   Column   Non-Null Count   Dtype  \n",
      "---  ------   --------------   -----  \n",
      " 0   id       100000 non-null  object \n",
      " 1   f0       100000 non-null  float64\n",
      " 2   f1       100000 non-null  float64\n",
      " 3   f2       100000 non-null  float64\n",
      " 4   product  100000 non-null  float64\n",
      "dtypes: float64(4), object(1)\n",
      "memory usage: 3.8+ MB\n",
      "None\n",
      "      id         f0         f1        f2     product\n",
      "0  kBEdx -15.001348  -8.276000 -0.005876    3.179103\n",
      "1  62mP7  14.272088  -3.475083  0.999183   26.953261\n",
      "2  vyE1P   6.263187  -5.948386  5.001160  134.766305\n",
      "3  KcrkZ -13.081196 -11.506057  4.999415  137.945408\n",
      "4  AHL4O  12.702195  -8.147433  5.004363  134.766305\n",
      "--------------------------------------------------\n",
      "\n",
      "\n",
      "Количество неявных дубликатов в geo_2: 0\n",
      "Количество уникальных значений id в geo_2: 99996\n",
      "\n",
      "<class 'pandas.core.frame.DataFrame'>\n",
      "RangeIndex: 100000 entries, 0 to 99999\n",
      "Data columns (total 5 columns):\n",
      " #   Column   Non-Null Count   Dtype  \n",
      "---  ------   --------------   -----  \n",
      " 0   id       100000 non-null  object \n",
      " 1   f0       100000 non-null  float64\n",
      " 2   f1       100000 non-null  float64\n",
      " 3   f2       100000 non-null  float64\n",
      " 4   product  100000 non-null  float64\n",
      "dtypes: float64(4), object(1)\n",
      "memory usage: 3.8+ MB\n",
      "None\n",
      "      id        f0        f1        f2     product\n",
      "0  fwXo0 -1.146987  0.963328 -0.828965   27.758673\n",
      "1  WJtFt  0.262778  0.269839 -2.530187   56.069697\n",
      "2  ovLUW  0.194587  0.289035 -5.586433   62.871910\n",
      "3  q6cA6  2.236060 -0.553760  0.930038  114.572842\n",
      "4  WPMUX -0.515993  1.716266  5.899011  149.600746\n",
      "--------------------------------------------------\n"
     ]
    }
   ],
   "source": [
    "for df in [geo_0, geo_1, geo_2]:\n",
    "    get_info(df)"
   ]
  },
  {
   "cell_type": "markdown",
   "metadata": {},
   "source": [
    "Все данные приведены к нужному типу данных. Пропуски в столбцах у нас отсутствуют"
   ]
  },
  {
   "cell_type": "markdown",
   "metadata": {},
   "source": [
    "### Исследовательский анализ данных\n",
    "\n",
    "Посмотрим на наличие выбросов в данных, а так же на то, как эти данных распределены"
   ]
  },
  {
   "cell_type": "code",
   "execution_count": 7,
   "metadata": {
    "ExecuteTime": {
     "end_time": "2025-02-20T10:46:51.247087Z",
     "start_time": "2025-02-20T10:46:50.947419Z"
    }
   },
   "outputs": [
    {
     "data": {
      "image/png": "[encoded data removed]",
      "text/plain": [
       "<Figure size 1152x1440 with 8 Axes>"
      ]
     },
     "metadata": {
      "needs_background": "light"
     },
     "output_type": "display_data"
    }
   ],
   "source": [
    "# Анализ значений для geo_0\n",
    "fig, ax = plt.subplots(4, 2, figsize=(16, 20))\n",
    "\n",
    "ax[0, 0].hist(geo_0['f0'], bins=70)\n",
    "ax[0, 0].set_title('Гистограмма f0')\n",
    "ax[0, 0].set_xlabel('Значение')\n",
    "ax[0, 0].set_ylabel('Количество')\n",
    "ax[0, 1].boxplot(geo_1['f0'])\n",
    "ax[0, 1].set_title('Диаграмма размаха f0')\n",
    "\n",
    "ax[1, 0].hist(geo_0['f1'], bins=70)\n",
    "ax[1, 0].set_title('Гистограмма f1')\n",
    "ax[1, 0].set_xlabel('Значение')\n",
    "ax[1, 0].set_ylabel('Количество')\n",
    "ax[1, 1].boxplot(geo_1['f1'])\n",
    "ax[1, 1].set_title('Диаграмма размаха f1')\n",
    "\n",
    "ax[2, 0].hist(geo_0['f2'], bins=70)\n",
    "ax[2, 0].set_title('Гистограмма f2')\n",
    "ax[2, 0].set_xlabel('Значение')\n",
    "ax[2, 0].set_ylabel('Количество')\n",
    "ax[2, 1].boxplot(geo_1['f2'])\n",
    "ax[2, 1].set_title('Диаграмма размаха f2')\n",
    "\n",
    "ax[3, 0].hist(geo_0['product'], bins=70)\n",
    "ax[3, 0].set_title('Гистограмма product')\n",
    "ax[3, 0].set_xlabel('Значение')\n",
    "ax[3, 0].set_ylabel('Количество')\n",
    "ax[3, 1].boxplot(geo_0['product'])\n",
    "ax[3, 1].set_title('Диаграмма размаха product')\n",
    "\n",
    "plt.show()"
   ]
  },
  {
   "cell_type": "markdown",
   "metadata": {},
   "source": [
    "- `f0` - Бимодальное распределение с двумя пиками около 0 и 1\n",
    "- `f1` - Также бимодальное распределение, но с меньшим разбросом значений.\n",
    "- `f2` - Нормальное распределение с одним пиком около нуля.\n",
    "- `product` - Распределение с несколькими пиками, указывающее на наличие нескольких групп данных.\n",
    "\n",
    "В столбце `f1` присутствуют выбросы, однако среди них нет экстремальных значений, так что оставим их, чтобы у модели были более разнообразные данные для обучения"
   ]
  },
  {
   "cell_type": "code",
   "execution_count": 8,
   "metadata": {
    "ExecuteTime": {
     "end_time": "2025-02-20T10:46:51.494119Z",
     "start_time": "2025-02-20T10:46:51.269155Z"
    }
   },
   "outputs": [
    {
     "data": {
      "image/png": "[encoded data removed]",
      "text/plain": [
       "<Figure size 1152x1440 with 8 Axes>"
      ]
     },
     "metadata": {
      "needs_background": "light"
     },
     "output_type": "display_data"
    }
   ],
   "source": [
    "# Анализ значений для geo_1\n",
    "fig, ax = plt.subplots(4, 2, figsize=(16, 20))\n",
    "\n",
    "ax[0, 0].hist(geo_1['f0'], bins=70)\n",
    "ax[0, 0].set_title('Гистограмма f0')\n",
    "ax[0, 0].set_xlabel('Значение')\n",
    "ax[0, 0].set_ylabel('Количество')\n",
    "ax[0, 1].boxplot(geo_1['f0'])\n",
    "ax[0, 1].set_title('Диаграмма размаха f0')\n",
    "\n",
    "ax[1, 0].hist(geo_1['f1'], bins=70)\n",
    "ax[1, 0].set_title('Гистограмма f1')\n",
    "ax[1, 0].set_xlabel('Значение')\n",
    "ax[1, 0].set_ylabel('Количество')\n",
    "ax[1, 1].boxplot(geo_1['f1'])\n",
    "ax[1, 1].set_title('Диаграмма размаха f1')\n",
    "\n",
    "ax[2, 0].hist(geo_1['f2'], bins=70)\n",
    "ax[2, 0].set_title('Гистограмма f2')\n",
    "ax[2, 0].set_xlabel('Значение')\n",
    "ax[2, 0].set_ylabel('Количество')\n",
    "ax[2, 1].boxplot(geo_1['f2'])\n",
    "ax[2, 1].set_title('Диаграмма размаха f2')\n",
    "\n",
    "ax[3, 0].hist(geo_1['product'], bins=70)\n",
    "ax[3, 0].set_title('Гистограмма product')\n",
    "ax[3, 0].set_xlabel('Значение')\n",
    "ax[3, 0].set_ylabel('Количество')\n",
    "ax[3, 1].boxplot(geo_1['product'])\n",
    "ax[3, 1].set_title('Диаграмма размаха product')\n",
    "\n",
    "plt.show()"
   ]
  },
  {
   "cell_type": "markdown",
   "metadata": {},
   "source": [
    "- `f0` - Бимодальное распределение с двумя пиками около -10 и 10\n",
    "- `f1` - Нормальное распределение\n",
    "\n",
    "В столбце `f1` присутствуют выбросы, однако среди них нет экстремальных значений, так что оставим их, чтобы у модели были более разнообразные данные для обучения"
   ]
  },
  {
   "cell_type": "code",
   "execution_count": 9,
   "metadata": {
    "ExecuteTime": {
     "end_time": "2025-02-20T10:46:51.757035Z",
     "start_time": "2025-02-20T10:46:51.535053Z"
    }
   },
   "outputs": [
    {
     "data": {
      "image/png": "[encoded data removed]",
      "text/plain": [
       "<Figure size 1152x1440 with 8 Axes>"
      ]
     },
     "metadata": {
      "needs_background": "light"
     },
     "output_type": "display_data"
    }
   ],
   "source": [
    "# Анализ значений для geo_2\n",
    "fig, ax = plt.subplots(4, 2, figsize=(16, 20))\n",
    "\n",
    "ax[0, 0].hist(geo_2['f0'], bins=70)\n",
    "ax[0, 0].set_title('Гистограмма f0')\n",
    "ax[0, 0].set_xlabel('Значение')\n",
    "ax[0, 0].set_ylabel('Количество')\n",
    "ax[0, 1].boxplot(geo_2['f0'])\n",
    "ax[0, 1].set_title('Диаграмма размаха f0')\n",
    "\n",
    "ax[1, 0].hist(geo_2['f1'], bins=70)\n",
    "ax[1, 0].set_title('Гистограмма f1')\n",
    "ax[1, 0].set_xlabel('Значение')\n",
    "ax[1, 0].set_ylabel('Количество')\n",
    "ax[1, 1].boxplot(geo_2['f1'])\n",
    "ax[1, 1].set_title('Диаграмма размаха f1')\n",
    "\n",
    "ax[2, 0].hist(geo_2['f2'], bins=70)\n",
    "ax[2, 0].set_title('Гистограмма f2')\n",
    "ax[2, 0].set_xlabel('Значение')\n",
    "ax[2, 0].set_ylabel('Количество')\n",
    "ax[2, 1].boxplot(geo_2['f2'])\n",
    "ax[2, 1].set_title('Диаграмма размаха f2')\n",
    "\n",
    "ax[3, 0].hist(geo_2['product'], bins=70)\n",
    "ax[3, 0].set_title('Гистограмма product')\n",
    "ax[3, 0].set_xlabel('Значение')\n",
    "ax[3, 0].set_ylabel('Количество')\n",
    "ax[3, 1].boxplot(geo_2['product'])\n",
    "ax[3, 1].set_title('Диаграмма размаха product')\n",
    "\n",
    "plt.show()"
   ]
  },
  {
   "cell_type": "markdown",
   "metadata": {},
   "source": [
    "- `f0` - Нормальное распределение с пиком около нуля и симметричным спадом в обе стороны\n",
    "- `f1` - Также нормальное распределение, но с меньшим разбросом значений и пиком около нуля\n",
    "- `f2` - Нормальное распределение с пиком около нуля и более широким разбросом по сравнению с f0 и f1\n",
    "- `product` - Распределение с несколькими пиками, указывающее на наличие нескольких групп данных\n",
    "\n",
    "Во всех столбцах, кроме последнего, присутствуют выбросы. Аналогично с прошлыми датафреймами, оставим их, чтобы модель получила больше данных"
   ]
  },
  {
   "cell_type": "markdown",
   "metadata": {},
   "source": [
    "### Корреляционный анализ"
   ]
  },
  {
   "cell_type": "code",
   "execution_count": 10,
   "metadata": {
    "ExecuteTime": {
     "end_time": "2025-02-20T10:46:53.769973Z",
     "start_time": "2025-02-20T10:46:51.780132Z"
    }
   },
   "outputs": [
    {
     "data": {
      "image/png": "[encoded data removed]",
      "text/plain": [
       "<Figure size 1440x576 with 6 Axes>"
      ]
     },
     "metadata": {
      "needs_background": "light"
     },
     "output_type": "display_data"
    }
   ],
   "source": [
    "# Создадим хитмап корреляции\n",
    "fig, ax = plt.subplots(1, 3, figsize=(20, 8))\n",
    "\n",
    "sns.heatmap(\n",
    "    geo_0.drop('id', axis=1).phik_matrix(\n",
    "        interval_cols=['f0', 'f1', 'f2', 'product']\n",
    "    ),\n",
    "    annot=True, cmap='Greens', ax=ax[0],\n",
    "    mask=(np.triu(\n",
    "        np.ones_like(geo_0.drop('id', axis=1).phik_matrix(interval_cols=['f0', 'f1', 'f2', 'product']), dtype=bool)))\n",
    ")\n",
    "ax[0].set_title('geo_0')\n",
    "\n",
    "sns.heatmap(\n",
    "    geo_1.drop('id', axis=1).phik_matrix(\n",
    "        interval_cols=['f0', 'f1', 'f2', 'product']\n",
    "    ),\n",
    "    annot=True, cmap='Greens', ax=ax[1],\n",
    "    mask=(np.triu(\n",
    "        np.ones_like(geo_1.drop('id', axis=1).phik_matrix(interval_cols=['f0', 'f1', 'f2', 'product']), dtype=bool)))\n",
    ")\n",
    "ax[1].set_title('geo_1')\n",
    "\n",
    "sns.heatmap(\n",
    "    geo_2.drop('id', axis=1).phik_matrix(\n",
    "        interval_cols=['f0', 'f1', 'f2', 'product']\n",
    "    ),\n",
    "    annot=True, cmap='Greens', ax=ax[2],\n",
    "    mask=(np.triu(\n",
    "        np.ones_like(geo_2.drop('id', axis=1).phik_matrix(interval_cols=['f0', 'f1', 'f2', 'product']), dtype=bool)))\n",
    ")\n",
    "ax[2].set_title('geo_2')\n",
    "\n",
    "plt.suptitle('Диаграмма корреляции Phik')\n",
    "plt.show()"
   ]
  },
  {
   "cell_type": "markdown",
   "metadata": {},
   "source": [
    "1. `geo_0` - больше всего признак `f0` коррелирует с признаком `f1`. `product` имеет умеренно-низкую корреляцию со всеми признаками\n",
    "2. `geo_1` - больше всего признак `product` коррелирует с признаком `f2`. Корреляция составляет почти 1, потому впоследствии при обучении модели могут возникнуть проблемы.\n",
    "3. `geo_2` - `product` умеренно-низко коррелирует со всеми признаками. Сами же признаки между собой не коррелируют"
   ]
  },
  {
   "cell_type": "markdown",
   "metadata": {},
   "source": [
    "### Промежуточный вывод:\n",
    "\n",
    "- Мы загрузили данные\n",
    "- Во время обработки дубликатов, мы не нашли явных дубликатов, однако среди уникальных id нашли несколько неявных дубликатов, которые скорее всего вызваны каким-то техническим сбоем\n",
    "- Во время исследовательского анализа, мы выяснили, что большинство данных распределено нормально, некоторые из них имеют несколько пиков, что говорит о биноминальном распределении. Выбросы в данных мы оставили, так как там нет экстремальных значений, которые могут значительно ухудшить данные модели. Оставив выбросы, мы позволим модели учиться не в \"идеальных\" условиях.\n",
    "- Во время корреляционного анализа мы увидели, мы увидели, что в датафрейме `geo_1` признак `f2` мультиколлинеарен с признаком `product`. В большинстве своем признаки имеют умеренно-низкую корреляцию"
   ]
  },
  {
   "cell_type": "markdown",
   "metadata": {},
   "source": [
    "## Обучение и проверка модели\n",
    "\n",
    "Создадим пайплайн для обучения модели, проверив качество через кросс-валидацию"
   ]
  },
  {
   "cell_type": "markdown",
   "metadata": {},
   "source": [
    "### Создание пайплайна"
   ]
  },
  {
   "cell_type": "code",
   "execution_count": 11,
   "metadata": {
    "ExecuteTime": {
     "end_time": "2025-02-20T10:46:53.774884Z",
     "start_time": "2025-02-20T10:46:53.772619Z"
    }
   },
   "outputs": [],
   "source": [
    "# Список столбцов с числовыми значениями\n",
    "num_columns = ['f0', 'f1', 'f2']\n",
    "\n",
    "# Пайплайн для числовых значений\n",
    "num_pipeline = Pipeline(\n",
    "    [\n",
    "        (\n",
    "            'imputer_before_scaler',\n",
    "            SimpleImputer(missing_values=np.nan, strategy='most_frequent'),\n",
    "        ),\n",
    "        (\n",
    "            'num',\n",
    "            StandardScaler()\n",
    "        ),\n",
    "    ]\n",
    ")\n",
    "\n",
    "# Создаем препроцессор\n",
    "data_preprocessor = ColumnTransformer(\n",
    "    [\n",
    "        ('num', num_pipeline, num_columns),\n",
    "    ],\n",
    "    remainder='passthrough',\n",
    ")\n",
    "\n",
    "# Собираем финальный пайплайн\n",
    "final_pipeline = Pipeline(\n",
    "    [\n",
    "        ('preprocessor', data_preprocessor),\n",
    "        ('models', DummyRegressor(strategy='median')),\n",
    "    ]\n",
    ")"
   ]
  },
  {
   "cell_type": "code",
   "execution_count": 12,
   "metadata": {
    "ExecuteTime": {
     "end_time": "2025-02-20T10:46:53.818080Z",
     "start_time": "2025-02-20T10:46:53.816263Z"
    }
   },
   "outputs": [],
   "source": [
    "# Создаем сетку гиперпараметров\n",
    "param_grid = [\n",
    "    {\n",
    "        'models': [DummyRegressor()],\n",
    "        'preprocessor__num': [MinMaxScaler(), StandardScaler(), RobustScaler(), 'passthrough'],\n",
    "        'models__strategy': ['most_frequent', 'median', 'mean'],\n",
    "    },\n",
    "    {\n",
    "        'models': [LinearRegression()],\n",
    "        'preprocessor__num': [MinMaxScaler(), StandardScaler(), RobustScaler(), 'passthrough'],\n",
    "    }\n",
    "]"
   ]
  },
  {
   "cell_type": "code",
   "execution_count": 13,
   "metadata": {
    "ExecuteTime": {
     "end_time": "2025-02-20T10:46:53.821473Z",
     "start_time": "2025-02-20T10:46:53.819868Z"
    }
   },
   "outputs": [],
   "source": [
    "# Создаем пользовательскую метрику RMSE\n",
    "def rmse(y_true, y_pred):\n",
    "    return np.sqrt(mean_squared_error(y_true, y_pred))\n",
    "\n",
    "\n",
    "rmse_scorer = make_scorer(rmse, greater_is_better=False)"
   ]
  },
  {
   "cell_type": "code",
   "execution_count": 14,
   "metadata": {
    "ExecuteTime": {
     "end_time": "2025-02-20T10:46:53.842473Z",
     "start_time": "2025-02-20T10:46:53.841088Z"
    }
   },
   "outputs": [],
   "source": [
    "random_search = RandomizedSearchCV(\n",
    "    final_pipeline,\n",
    "    param_distributions=param_grid,\n",
    "    cv=5,\n",
    "    scoring=rmse_scorer,\n",
    ")"
   ]
  },
  {
   "cell_type": "markdown",
   "metadata": {},
   "source": [
    "### Обучение модели"
   ]
  },
  {
   "cell_type": "code",
   "execution_count": 15,
   "metadata": {
    "ExecuteTime": {
     "end_time": "2025-02-20T10:46:53.863600Z",
     "start_time": "2025-02-20T10:46:53.862034Z"
    }
   },
   "outputs": [],
   "source": [
    "# Создадим таблицу с реальными и предсказанными данными\n",
    "predictions = pd.DataFrame()"
   ]
  },
  {
   "cell_type": "code",
   "execution_count": 16,
   "metadata": {
    "ExecuteTime": {
     "end_time": "2025-02-20T10:46:54.095123Z",
     "start_time": "2025-02-20T10:46:53.888510Z"
    }
   },
   "outputs": [
    {
     "name": "stdout",
     "output_type": "stream",
     "text": [
      "RMSE: 37.67200536313506\n"
     ]
    },
    {
     "data": {
      "text/plain": [
       "RandomizedSearchCV(cv=5,\n",
       "                   estimator=Pipeline(steps=[('preprocessor',\n",
       "                                              ColumnTransformer(remainder='passthrough',\n",
       "                                                                transformers=[('num',\n",
       "                                                                               Pipeline(steps=[('imputer_before_scaler',\n",
       "                                                                                                SimpleImputer(strategy='most_frequent')),\n",
       "                                                                                               ('num',\n",
       "                                                                                                StandardScaler())]),\n",
       "                                                                               ['f0',\n",
       "                                                                                'f1',\n",
       "                                                                                'f2'])])),\n",
       "                                             ('models',\n",
       "                                              DummyRegressor(strategy='median'))]),\n",
       "                   param_distributions=[{'models': [DummyRegressor()],\n",
       "                                         'models__strategy': ['most_frequent',\n",
       "                                                              'median',\n",
       "                                                              'mean'],\n",
       "                                         'preprocessor__num': [MinMaxScaler(),\n",
       "                                                               StandardScaler(),\n",
       "                                                               RobustScaler(),\n",
       "                                                               'passthrough']},\n",
       "                                        {'models': [LinearRegression()],\n",
       "                                         'preprocessor__num': [MinMaxScaler(),\n",
       "                                                               StandardScaler(),\n",
       "                                                               RobustScaler(),\n",
       "                                                               'passthrough']}],\n",
       "                   scoring=make_scorer(rmse, greater_is_better=False))"
      ]
     },
     "execution_count": 16,
     "metadata": {},
     "output_type": "execute_result"
    }
   ],
   "source": [
    "X_train_geo_0, X_valid_geo_0, y_train_geo_0, y_valid_geo_0 = train_test_split(\n",
    "    geo_0.drop(['id', 'product'], axis=1),\n",
    "    geo_0['product'],\n",
    "    test_size=0.25, random_state=RANDOM_STATE\n",
    ")\n",
    "\n",
    "# Создаем таблицу для предсказаний\n",
    "predictions['geo_0_true'] = y_valid_geo_0.reset_index(drop=True)\n",
    "\n",
    "random_search.fit(X_train_geo_0, y_train_geo_0)\n",
    "print('RMSE:', -random_search.best_score_)\n",
    "\n",
    "# Добавляем предсказание для первой локации\n",
    "predictions['geo_0_pred'] = random_search.predict(X_valid_geo_0)\n",
    "\n",
    "random_search"
   ]
  },
  {
   "cell_type": "code",
   "execution_count": 17,
   "metadata": {
    "ExecuteTime": {
     "end_time": "2025-02-20T10:46:54.310648Z",
     "start_time": "2025-02-20T10:46:54.121790Z"
    }
   },
   "outputs": [
    {
     "name": "stdout",
     "output_type": "stream",
     "text": [
      "RMSE: 0.8905865307911203\n"
     ]
    },
    {
     "data": {
      "text/plain": [
       "RandomizedSearchCV(cv=5,\n",
       "                   estimator=Pipeline(steps=[('preprocessor',\n",
       "                                              ColumnTransformer(remainder='passthrough',\n",
       "                                                                transformers=[('num',\n",
       "                                                                               Pipeline(steps=[('imputer_before_scaler',\n",
       "                                                                                                SimpleImputer(strategy='most_frequent')),\n",
       "                                                                                               ('num',\n",
       "                                                                                                StandardScaler())]),\n",
       "                                                                               ['f0',\n",
       "                                                                                'f1',\n",
       "                                                                                'f2'])])),\n",
       "                                             ('models',\n",
       "                                              DummyRegressor(strategy='median'))]),\n",
       "                   param_distributions=[{'models': [DummyRegressor()],\n",
       "                                         'models__strategy': ['most_frequent',\n",
       "                                                              'median',\n",
       "                                                              'mean'],\n",
       "                                         'preprocessor__num': [MinMaxScaler(),\n",
       "                                                               StandardScaler(),\n",
       "                                                               RobustScaler(),\n",
       "                                                               'passthrough']},\n",
       "                                        {'models': [LinearRegression()],\n",
       "                                         'preprocessor__num': [MinMaxScaler(),\n",
       "                                                               StandardScaler(),\n",
       "                                                               RobustScaler(),\n",
       "                                                               'passthrough']}],\n",
       "                   scoring=make_scorer(rmse, greater_is_better=False))"
      ]
     },
     "execution_count": 17,
     "metadata": {},
     "output_type": "execute_result"
    }
   ],
   "source": [
    "X_train_geo_1, X_valid_geo_1, y_train_geo_1, y_valid_geo_1 = train_test_split(\n",
    "    geo_1.drop(['id', 'product'], axis=1),\n",
    "    geo_1['product'],\n",
    "    test_size=0.25, random_state=RANDOM_STATE\n",
    ")\n",
    "\n",
    "# Создаем таблицу для предсказаний\n",
    "predictions['geo_1_true'] = y_valid_geo_1.reset_index(drop=True)\n",
    "\n",
    "random_search.fit(X_train_geo_1, y_train_geo_1)\n",
    "print('RMSE:', -random_search.best_score_)\n",
    "\n",
    "# Добавляем предсказание для второй локации\n",
    "predictions['geo_1_pred'] = random_search.predict(X_valid_geo_1)\n",
    "\n",
    "random_search"
   ]
  },
  {
   "cell_type": "code",
   "execution_count": 19,
   "metadata": {
    "ExecuteTime": {
     "end_time": "2025-02-20T10:46:54.575878Z",
     "start_time": "2025-02-20T10:46:54.356134Z"
    }
   },
   "outputs": [
    {
     "name": "stdout",
     "output_type": "stream",
     "text": [
      "RMSE: 39.995888582524245\n"
     ]
    },
    {
     "data": {
      "text/plain": [
       "RandomizedSearchCV(cv=5,\n",
       "                   estimator=Pipeline(steps=[('preprocessor',\n",
       "                                              ColumnTransformer(remainder='passthrough',\n",
       "                                                                transformers=[('num',\n",
       "                                                                               Pipeline(steps=[('imputer_before_scaler',\n",
       "                                                                                                SimpleImputer(strategy='most_frequent')),\n",
       "                                                                                               ('num',\n",
       "                                                                                                StandardScaler())]),\n",
       "                                                                               ['f0',\n",
       "                                                                                'f1',\n",
       "                                                                                'f2'])])),\n",
       "                                             ('models',\n",
       "                                              DummyRegressor(strategy='median'))]),\n",
       "                   param_distributions=[{'models': [DummyRegressor()],\n",
       "                                         'models__strategy': ['most_frequent',\n",
       "                                                              'median',\n",
       "                                                              'mean'],\n",
       "                                         'preprocessor__num': [MinMaxScaler(),\n",
       "                                                               StandardScaler(),\n",
       "                                                               RobustScaler(),\n",
       "                                                               'passthrough']},\n",
       "                                        {'models': [LinearRegression()],\n",
       "                                         'preprocessor__num': [MinMaxScaler(),\n",
       "                                                               StandardScaler(),\n",
       "                                                               RobustScaler(),\n",
       "                                                               'passthrough']}],\n",
       "                   scoring=make_scorer(rmse, greater_is_better=False))"
      ]
     },
     "execution_count": 19,
     "metadata": {},
     "output_type": "execute_result"
    }
   ],
   "source": [
    "X_train_geo_2, X_valid_geo_2, y_train_geo_2, y_valid_geo_2 = train_test_split(\n",
    "    geo_2.drop(['id', 'product'], axis=1),\n",
    "    geo_2['product'],\n",
    "    test_size=0.25, random_state=RANDOM_STATE\n",
    ")\n",
    "\n",
    "# Создаем таблицу для предсказаний\n",
    "predictions['geo_2_true'] = y_valid_geo_2.reset_index(drop=True)\n",
    "\n",
    "random_search.fit(X_train_geo_2, y_train_geo_2)\n",
    "print('RMSE:', -random_search.best_score_)\n",
    "\n",
    "# Добавляем предсказание для третьей локации\n",
    "predictions['geo_2_pred'] = random_search.predict(X_valid_geo_2)\n",
    "\n",
    "random_search"
   ]
  },
  {
   "cell_type": "code",
   "execution_count": 20,
   "metadata": {
    "ExecuteTime": {
     "end_time": "2025-02-20T10:46:54.601862Z",
     "start_time": "2025-02-20T10:46:54.598385Z"
    }
   },
   "outputs": [
    {
     "data": {
      "text/html": [
       "<div>\n",
       "<style scoped>\n",
       "    .dataframe tbody tr th:only-of-type {\n",
       "        vertical-align: middle;\n",
       "    }\n",
       "\n",
       "    .dataframe tbody tr th {\n",
       "        vertical-align: top;\n",
       "    }\n",
       "\n",
       "    .dataframe thead th {\n",
       "        text-align: right;\n",
       "    }\n",
       "</style>\n",
       "<table border=\"1\" class=\"dataframe\">\n",
       "  <thead>\n",
       "    <tr style=\"text-align: right;\">\n",
       "      <th></th>\n",
       "      <th>geo_0_true</th>\n",
       "      <th>geo_0_pred</th>\n",
       "      <th>geo_1_true</th>\n",
       "      <th>geo_1_pred</th>\n",
       "      <th>geo_2_true</th>\n",
       "      <th>geo_2_pred</th>\n",
       "    </tr>\n",
       "  </thead>\n",
       "  <tbody>\n",
       "    <tr>\n",
       "      <th>0</th>\n",
       "      <td>122.073350</td>\n",
       "      <td>101.901017</td>\n",
       "      <td>137.945408</td>\n",
       "      <td>136.980500</td>\n",
       "      <td>12.129573</td>\n",
       "      <td>103.253098</td>\n",
       "    </tr>\n",
       "    <tr>\n",
       "      <th>1</th>\n",
       "      <td>48.738540</td>\n",
       "      <td>78.217774</td>\n",
       "      <td>30.132364</td>\n",
       "      <td>29.796653</td>\n",
       "      <td>111.758783</td>\n",
       "      <td>120.537785</td>\n",
       "    </tr>\n",
       "    <tr>\n",
       "      <th>2</th>\n",
       "      <td>131.338088</td>\n",
       "      <td>115.266901</td>\n",
       "      <td>26.953261</td>\n",
       "      <td>27.109922</td>\n",
       "      <td>69.146198</td>\n",
       "      <td>108.464791</td>\n",
       "    </tr>\n",
       "    <tr>\n",
       "      <th>3</th>\n",
       "      <td>88.327757</td>\n",
       "      <td>105.618618</td>\n",
       "      <td>84.038886</td>\n",
       "      <td>83.969079</td>\n",
       "      <td>148.901905</td>\n",
       "      <td>102.507935</td>\n",
       "    </tr>\n",
       "    <tr>\n",
       "      <th>4</th>\n",
       "      <td>36.959266</td>\n",
       "      <td>97.980185</td>\n",
       "      <td>57.085625</td>\n",
       "      <td>56.500323</td>\n",
       "      <td>53.445327</td>\n",
       "      <td>85.070567</td>\n",
       "    </tr>\n",
       "  </tbody>\n",
       "</table>\n",
       "</div>"
      ],
      "text/plain": [
       "   geo_0_true  geo_0_pred  geo_1_true  geo_1_pred  geo_2_true  geo_2_pred\n",
       "0  122.073350  101.901017  137.945408  136.980500   12.129573  103.253098\n",
       "1   48.738540   78.217774   30.132364   29.796653  111.758783  120.537785\n",
       "2  131.338088  115.266901   26.953261   27.109922   69.146198  108.464791\n",
       "3   88.327757  105.618618   84.038886   83.969079  148.901905  102.507935\n",
       "4   36.959266   97.980185   57.085625   56.500323   53.445327   85.070567"
      ]
     },
     "execution_count": 20,
     "metadata": {},
     "output_type": "execute_result"
    }
   ],
   "source": [
    "predictions.head()"
   ]
  },
  {
   "cell_type": "code",
   "execution_count": 21,
   "metadata": {
    "ExecuteTime": {
     "end_time": "2025-02-20T10:46:54.639333Z",
     "start_time": "2025-02-20T10:46:54.636412Z"
    }
   },
   "outputs": [
    {
     "name": "stdout",
     "output_type": "stream",
     "text": [
      "Среднее geo_0_true: 92.32595637084387\n",
      "Среднее geo_0_pred: 92.39879990657768\n",
      "\n",
      "Среднее geo_1_true: 68.59968732439852\n",
      "Среднее geo_1_pred: 68.58780312701154\n",
      "\n",
      "Среднее geo_2_true: 95.03521872476617\n",
      "Среднее geo_2_pred: 95.09230341410031\n"
     ]
    }
   ],
   "source": [
    "# Выводим среднее\n",
    "print('Среднее geo_0_true:', predictions['geo_0_true'].mean())\n",
    "print('Среднее geo_0_pred:', predictions['geo_0_pred'].mean())\n",
    "print()\n",
    "print('Среднее geo_1_true:', predictions['geo_1_true'].mean())\n",
    "print('Среднее geo_1_pred:', predictions['geo_1_pred'].mean())\n",
    "# print('Среднее geo_1_without_f2_pred:', predictions['geo_1_without_f2_pred'].mean())\n",
    "print()\n",
    "print('Среднее geo_2_true:', predictions['geo_2_true'].mean())\n",
    "print('Среднее geo_2_pred:', predictions['geo_2_pred'].mean())"
   ]
  },
  {
   "cell_type": "markdown",
   "metadata": {},
   "source": [
    "Мы можем видеть, что среднее значение предсказанных значений почти не отличается от среднего истинных значений. Во время проверки на валидационной выборке, мы получили следующие значение RMSE для каждой таблицы:\n",
    " - `geo_0` — 37.7\n",
    " - `geo_1` — 0.9\n",
    " - `geo_1_without_f2` — 45.8\n",
    " - `geo_2` — 40\\\n",
    "\n",
    "Это означает, что модель в среднем отклоняется на 40 единиц от истинного значения. Стоит так же отметить, что в таблице `geo_1` без целевого признака `f2` ошибка сильно возрастает, так как этот признак мультиколлинеарен с целевым признаком"
   ]
  },
  {
   "cell_type": "markdown",
   "metadata": {},
   "source": [
    "### Промежуточный вывод:\n",
    "Мы создали пайплайн для предсказания объема запасов в скважине. Лидером является `geo_2` со средним значением запасов, равным `95`. Далее идет `geo_0` со средним значением запасов, равным `92`. Меньше всего запасов в точке `geo_1` со средним значением запасов, равным `69`. Средние значения предсказанных значений почти не отличаются от среднего истинных значений. `RMSE` в среднем составляет 40, что означает отклонение предсказания от целевого признака на 40 тыс. баррелей"
   ]
  },
  {
   "cell_type": "markdown",
   "metadata": {},
   "source": [
    "## Подготовка к расчёту прибыли\n",
    "\n",
    "- Сохраним все ключевые значения для расчётов в отдельных переменных.\n",
    "- Рассчитаем достаточный объём сырья для безубыточной разработки новой скважины. Сравним полученный объём сырья со средним запасом в каждом регионе.\n",
    "- Напишем функцию для расчёта прибыли по выбранным скважинам и предсказаниям модели\n"
   ]
  },
  {
   "cell_type": "code",
   "execution_count": 22,
   "metadata": {
    "ExecuteTime": {
     "end_time": "2025-02-20T10:46:54.657922Z",
     "start_time": "2025-02-20T10:46:54.656385Z"
    }
   },
   "outputs": [],
   "source": [
    "# Объявляем константы\n",
    "POINTS = 500\n",
    "BEST_POINTS = 200\n",
    "\n",
    "BUDGET = 10 * 10 ** 9\n",
    "PROFIT_PER_PRODUCT = 450 * 10 ** 3\n",
    "\n",
    "BOOTSTRAP_ITERATIONS = 1000\n",
    "\n",
    "LOSS_THRESHOLD = 0.025"
   ]
  },
  {
   "cell_type": "code",
   "execution_count": 23,
   "metadata": {
    "ExecuteTime": {
     "end_time": "2025-02-20T10:46:54.699171Z",
     "start_time": "2025-02-20T10:46:54.695819Z"
    }
   },
   "outputs": [
    {
     "name": "stdout",
     "output_type": "stream",
     "text": [
      "Минимальный объем сырья для безубыточной разработки: 111.11 тыс. баррелей\n",
      "\n",
      "Средний объем сырья для geo_0: 93 тыс. баррелей\n",
      "Средний объем сырья для geo_1: 69 тыс. баррелей\n",
      "Средний объем сырья для geo_2: 95 тыс. баррелей\n"
     ]
    }
   ],
   "source": [
    "cost_per_point = BUDGET / BEST_POINTS\n",
    "lossless_threshold = cost_per_point / PROFIT_PER_PRODUCT\n",
    "print(f'Минимальный объем сырья для безубыточной разработки: {lossless_threshold:.2f} тыс. баррелей\\n')\n",
    "\n",
    "# Считаем средний объем запасов для каждой точки\n",
    "for df in [geo_0, geo_1, geo_2]:\n",
    "    print(f'Средний объем сырья для {df.name}: {df[\"product\"].mean():,.0f} тыс. баррелей'.replace(',', ' '))"
   ]
  },
  {
   "cell_type": "markdown",
   "metadata": {},
   "source": [
    "Мы видим, что у ни в одном регионе средний объем сырья ниже, чем минимальный объем, необходимой для безубыточной разработки. Это не означает, что компания потерпит убытки в любом случае, это значит лишь то, что в регионе присутствует достаточно точек, запасы сырья которых слишком малы. Нам придется тщательнее выбирать точки, чтобы объем запасов в них был достаточно велик для безубыточной разработки"
   ]
  },
  {
   "cell_type": "code",
   "execution_count": 24,
   "metadata": {
    "ExecuteTime": {
     "end_time": "2025-02-20T10:46:54.727038Z",
     "start_time": "2025-02-20T10:46:54.725202Z"
    }
   },
   "outputs": [],
   "source": [
    "# Функция для подсчета прибыли\n",
    "def calculate_profit(predicted_values, true_values):\n",
    "    df = pd.concat([predicted_values, true_values], axis=1)\n",
    "    df.columns = ['predicted_value', 'true_value']\n",
    "    df = df.sort_values(by='predicted_value', ascending=False)\n",
    "\n",
    "    best_points_sum = df['true_value'][:BEST_POINTS].sum()\n",
    "    profit = (best_points_sum * PROFIT_PER_PRODUCT) - BUDGET\n",
    "    return profit, best_points_sum"
   ]
  },
  {
   "cell_type": "code",
   "execution_count": 25,
   "metadata": {
    "ExecuteTime": {
     "end_time": "2025-02-20T10:46:54.730705Z",
     "start_time": "2025-02-20T10:46:54.729038Z"
    }
   },
   "outputs": [],
   "source": [
    "# Функция для расчёта прибыли с использованием Bootstrap\n",
    "def calculate_profit_bootstrap(predicted_values, true_values):\n",
    "    df = pd.concat([predicted_values, true_values], axis=1)\n",
    "    df.columns = ['predicted_value', 'true_value']\n",
    "\n",
    "    profit_values = []\n",
    "    state = np.random.RandomState(42)\n",
    "    for _ in range(BOOTSTRAP_ITERATIONS):\n",
    "        sample = df.sample(n=POINTS, replace=True, random_state=state)\n",
    "        profit, _ = calculate_profit(sample['predicted_value'], sample['true_value'])\n",
    "        profit_values.append(profit)\n",
    "\n",
    "    return np.array(profit_values)"
   ]
  },
  {
   "cell_type": "code",
   "execution_count": 26,
   "metadata": {
    "ExecuteTime": {
     "end_time": "2025-02-20T10:46:54.752594Z",
     "start_time": "2025-02-20T10:46:54.750412Z"
    }
   },
   "outputs": [],
   "source": [
    "# Функция для анализа региона\n",
    "def analyze_region(predicted_values, true_values):\n",
    "    profits = calculate_profit_bootstrap(predicted_values, true_values)\n",
    "\n",
    "    # Считаем доверительный интервал\n",
    "    lower_bound, upper_bound = np.percentile(profits, [2.5, 97.5])\n",
    "\n",
    "    # Рассчитываем вероятность убытков\n",
    "    risk_of_loss = (profits < 0).mean()\n",
    "\n",
    "    print(f\"Средняя прибыль: {profits.mean():,.2f} рублей\".replace(',', ' '))\n",
    "    print(f\"95%-й доверительный интервал: [{lower_bound:,.2f}: {upper_bound:,.2f}] рублей\".replace(',', ' '))\n",
    "    print(f\"Вероятность убытков: {risk_of_loss:.3f}\")\n",
    "    if risk_of_loss > LOSS_THRESHOLD:\n",
    "        print(f'Вероятность убытков выше порогового значения, равного {LOSS_THRESHOLD}')\n",
    "\n",
    "    return risk_of_loss"
   ]
  },
  {
   "cell_type": "markdown",
   "metadata": {},
   "source": [
    "### Промежуточный вывод:\n",
    "\n",
    "Мы вычислили, что минимальный объем сырья, которы необходим для безубыточной разработки новой скважины составляет `111 000 баррелей`. Так же мы создали функцию для расчета прибыли, рассчета прибыли с использованием Bootstrap, и анализа региона"
   ]
  },
  {
   "cell_type": "markdown",
   "metadata": {},
   "source": [
    "## Расчёт прибыли и рисков"
   ]
  },
  {
   "cell_type": "code",
   "execution_count": 27,
   "metadata": {
    "ExecuteTime": {
     "end_time": "2025-02-20T10:46:54.782124Z",
     "start_time": "2025-02-20T10:46:54.773521Z"
    }
   },
   "outputs": [
    {
     "name": "stdout",
     "output_type": "stream",
     "text": [
      "Объем сырья для geo_0: 29 687 тыс.баррелей\n",
      "Прибыль для geo_0: 3 359 141 114.46 рублей\n",
      "\n",
      "Объем сырья для geo_1: 27 589 тыс.баррелей\n",
      "Прибыль для geo_1: 2 415 086 696.68 рублей\n",
      "\n",
      "Объем сырья для geo_2: 27 965 тыс.баррелей\n",
      "Прибыль для geo_2: 2 584 156 887.15 рублей\n",
      "\n"
     ]
    }
   ],
   "source": [
    "# geo_0\n",
    "profit, volume = calculate_profit(predictions['geo_0_pred'], predictions['geo_0_true'])\n",
    "print(f'Объем сырья для geo_0: {volume:,.0f} тыс.баррелей'.replace(',', ' '))\n",
    "print(f'Прибыль для geo_0: {profit:,.2f} рублей\\n'.replace(',', ' '))\n",
    "\n",
    "# geo_1\n",
    "profit, volume = calculate_profit(predictions['geo_1_pred'], predictions['geo_1_true'])\n",
    "print(f'Объем сырья для geo_1: {volume:,.0f} тыс.баррелей'.replace(',', ' '))\n",
    "print(f'Прибыль для geo_1: {profit:,.2f} рублей\\n'.replace(',', ' '))\n",
    "\n",
    "# geo_2\n",
    "profit, volume = calculate_profit(predictions['geo_2_pred'], predictions['geo_2_true'])\n",
    "print(f'Объем сырья для geo_2: {volume:,.0f} тыс.баррелей'.replace(',', ' '))\n",
    "print(f'Прибыль для geo_2: {profit:,.2f} рублей\\n'.replace(',', ' '))"
   ]
  },
  {
   "cell_type": "markdown",
   "metadata": {},
   "source": [
    "Мы видим, что наибольшая прибыль в `geo_0`. Далее идет `geo_2`, и меньше всего прибыл в точке `geo_1`"
   ]
  },
  {
   "cell_type": "code",
   "execution_count": 28,
   "metadata": {
    "ExecuteTime": {
     "end_time": "2025-02-20T10:46:56.293848Z",
     "start_time": "2025-02-20T10:46:54.805020Z"
    }
   },
   "outputs": [
    {
     "name": "stdout",
     "output_type": "stream",
     "text": [
      "Первая точка:\n",
      "Средняя прибыль: 399 575 478.05 рублей\n",
      "95%-й доверительный интервал: [-110 467 895.33: 897 460 327.72] рублей\n",
      "Вероятность убытков: 0.060\n",
      "Вероятность убытков выше порогового значения, равного 0.025\n",
      "\n",
      "Вторая точка:\n",
      "Средняя прибыль: 438 927 462.90 рублей\n",
      "95%-й доверительный интервал: [57 935 384.71: 832 990 400.64] рублей\n",
      "Вероятность убытков: 0.015\n",
      "\n",
      "Третья точка:\n",
      "Средняя прибыль: 327 430 227.57 рублей\n",
      "95%-й доверительный интервал: [-182 327 111.18: 850 615 490.63] рублей\n",
      "Вероятность убытков: 0.098\n",
      "Вероятность убытков выше порогового значения, равного 0.025\n"
     ]
    },
    {
     "data": {
      "text/plain": [
       "0.098"
      ]
     },
     "execution_count": 28,
     "metadata": {},
     "output_type": "execute_result"
    }
   ],
   "source": [
    "print('Первая точка:')\n",
    "analyze_region(predictions['geo_0_pred'], predictions['geo_0_true'])\n",
    "\n",
    "print('\\nВторая точка:')\n",
    "analyze_region(predictions['geo_1_pred'], predictions['geo_1_true'])\n",
    "\n",
    "print('\\nТретья точка:')\n",
    "analyze_region(predictions['geo_2_pred'], predictions['geo_2_true'])"
   ]
  },
  {
   "cell_type": "markdown",
   "metadata": {},
   "source": [
    "1. `geo_0`\n",
    "    - Средняя прибыль составляет 400 млн. рублей\n",
    "    - 95% доверительный интервал лежит в диапазоне от -110 до 897 млн. рублей\n",
    "    - Вероятность того, что при выборе данной точки компания понесет убытки составляет 0.06, что выше поставленного порога\n",
    "2. `geo_1`\n",
    "    - Средняя прибыль составляет 439 млн. рублей. Это самая высока прибыль, однако это обусловлено высоким разбросом доверительного интервала\n",
    "    - 95% доверительный интервал лежит в диапазоне от 58 до 832 млн. рублей. Это самый широкий интервал среди всех точек\n",
    "    - Вероятность того, что при выборе данной точки компания понесет убытки составляет 0.015. Единственная точка, которая подходит под условие\n",
    "3. `geo_2`\n",
    "    - Средняя прибыль составляет 327 млн. рублей\n",
    "    - 95% доверительный интервал лежит в диапазоне от -182 до 850 млн. рублей\n",
    "    - Вероятность того, что при выборе данной точки компания понесет убытки составляет 0.098. Это точка с самой высокой вероятностью понести убытки\n",
    "\n",
    "\n",
    "Нам следует выбрать вторую точку `geo_1`, так как она единственная, где вероятность убытков не превышает пороговое значение"
   ]
  },
  {
   "cell_type": "markdown",
   "metadata": {},
   "source": [
    "### Промежуточный вывод:\n",
    "Мы видим, что у ни в одном регионе средний объем сырья ниже, чем минимальный объем, необходимой для безубыточной разработки. Это не означает, что компания потерпит убытки в любом случае, это значит лишь то, что в регионе присутствует достаточно точек, запасы сырья которых слишком малы. Нам придется тщательнее выбирать точки, чтобы объем запасов в них был достаточно велик для безубыточной разработки.\n",
    "\n",
    "Нам следует выбрать вторую точку `geo_1`, так как она единственная, где вероятность убытков не превышает пороговое значение"
   ]
  },
  {
   "cell_type": "markdown",
   "metadata": {},
   "source": [
    "## Общий вывод:\n",
    "\n",
    "- Во время обработки дубликатов, мы не нашли явных дубликатов, однако среди уникальных id нашли несколько неявных дубликатов, которые скорее всего вызваны каким-то техническим сбоем\n",
    "- Во время исследовательского анализа, мы выяснили, что большинство данных распределено нормально, некоторые из них имеют несколько пиков, что говорит о биноминальном распределении. Выбросы в данных мы оставили, так как там нет экстремальных значений, которые могут значительно ухудшить данные модели. Оставив выбросы, мы позволим модели учиться не в \"идеальных\" условиях.\n",
    "- Во время корреляционного анализа мы увидели, мы увидели, что в датафрейме `geo_1` признак `f2` мультиколлинеарен с признаком `product`. Удалять его мы не стали. В большинстве своем признаки имеют умеренно-низкую корреляцию\n",
    "- Мы вычислили, что минимальный объем сырья, которы необходим для безубыточной разработки новой скважины составляет `111 000 баррелей`. Ни в одном из регионов средний запас сырья не превышает минимальный, потому нужно отобрать количество точек для разработки\n",
    "- Нам следует выбрать вторую точку `geo_1`, так как она единственная, где вероятность убытков не превышает пороговое значение.\n",
    "    - Средняя прибыль составляет 439 млн. рублей\n",
    "    - 95% доверительный интервал лежит в диапазоне от 58 до 832 млн. рублей\n",
    "\n",
    "\n",
    "<br>\n",
    "<br>\n",
    "<br>\n",
    "<br>\n",
    "\n",
    "\n",
    "Проделанная работа:\n",
    "  - Мы загрузили данные\n",
    "  - В качестве метрики для оценки качества моделей мы выбрали `RMSE`\n",
    "  - Мы создали пайплайн для обучения моделей, создав сетку гиперпараметров. С помощью кросс-валидации, мы получили значение метрики около 40, если считать на всех данных\n",
    "  - Мы создали функцию для расчета прибыли, расчета прибыли с использованием Bootstrap, и анализа региона\n",
    "  - Мы посчитали доверительные интервалы потенциальной прибыли для каждого региона. Так же мы посчитали вероятность того, что компания понесет убытки при выборе определенной локации"
   ]
  }
 ],
 "metadata": {
  "ExecuteTimeLog": [
   {
    "duration": 3447,
    "start_time": "2025-02-09T14:45:19.147Z"
   },
   {
    "duration": 1593,
    "start_time": "2025-02-09T14:45:22.596Z"
   },
   {
    "duration": 466,
    "start_time": "2025-02-09T14:45:24.191Z"
   },
   {
    "duration": 24,
    "start_time": "2025-02-09T14:45:24.659Z"
   },
   {
    "duration": 19,
    "start_time": "2025-02-09T14:45:24.685Z"
   },
   {
    "duration": 21,
    "start_time": "2025-02-09T14:45:24.705Z"
   },
   {
    "duration": 201,
    "start_time": "2025-02-09T14:45:24.727Z"
   },
   {
    "duration": 1347,
    "start_time": "2025-02-09T14:45:24.930Z"
   },
   {
    "duration": 1238,
    "start_time": "2025-02-09T14:45:26.279Z"
   },
   {
    "duration": 1342,
    "start_time": "2025-02-09T14:45:27.520Z"
   },
   {
    "duration": 486,
    "start_time": "2025-02-09T14:45:28.863Z"
   },
   {
    "duration": 0,
    "start_time": "2025-02-09T14:45:29.351Z"
   },
   {
    "duration": 0,
    "start_time": "2025-02-09T14:45:29.352Z"
   },
   {
    "duration": 0,
    "start_time": "2025-02-09T14:45:29.353Z"
   },
   {
    "duration": 0,
    "start_time": "2025-02-09T14:45:29.354Z"
   },
   {
    "duration": 0,
    "start_time": "2025-02-09T14:45:29.355Z"
   },
   {
    "duration": 0,
    "start_time": "2025-02-09T14:45:29.356Z"
   },
   {
    "duration": 0,
    "start_time": "2025-02-09T14:45:29.357Z"
   },
   {
    "duration": 0,
    "start_time": "2025-02-09T14:45:29.359Z"
   },
   {
    "duration": 0,
    "start_time": "2025-02-09T14:45:29.360Z"
   },
   {
    "duration": 0,
    "start_time": "2025-02-09T14:45:29.361Z"
   },
   {
    "duration": 0,
    "start_time": "2025-02-09T14:45:29.363Z"
   },
   {
    "duration": 0,
    "start_time": "2025-02-09T14:45:29.364Z"
   },
   {
    "duration": 0,
    "start_time": "2025-02-09T14:45:29.365Z"
   },
   {
    "duration": 0,
    "start_time": "2025-02-09T14:45:29.367Z"
   },
   {
    "duration": 0,
    "start_time": "2025-02-09T14:45:29.368Z"
   },
   {
    "duration": 0,
    "start_time": "2025-02-09T14:45:29.369Z"
   },
   {
    "duration": 0,
    "start_time": "2025-02-09T14:45:29.370Z"
   },
   {
    "duration": 0,
    "start_time": "2025-02-09T14:45:29.371Z"
   },
   {
    "duration": 2371,
    "start_time": "2025-02-09T14:45:50.579Z"
   },
   {
    "duration": 1423,
    "start_time": "2025-02-09T14:45:52.953Z"
   },
   {
    "duration": 432,
    "start_time": "2025-02-09T14:45:54.378Z"
   },
   {
    "duration": 27,
    "start_time": "2025-02-09T14:45:54.811Z"
   },
   {
    "duration": 25,
    "start_time": "2025-02-09T14:45:54.840Z"
   },
   {
    "duration": 20,
    "start_time": "2025-02-09T14:45:54.866Z"
   },
   {
    "duration": 211,
    "start_time": "2025-02-09T14:45:54.887Z"
   },
   {
    "duration": 1427,
    "start_time": "2025-02-09T14:45:55.100Z"
   },
   {
    "duration": 1250,
    "start_time": "2025-02-09T14:45:56.529Z"
   },
   {
    "duration": 1347,
    "start_time": "2025-02-09T14:45:57.781Z"
   },
   {
    "duration": 2345,
    "start_time": "2025-02-09T14:45:59.130Z"
   },
   {
    "duration": 5,
    "start_time": "2025-02-09T14:46:01.476Z"
   },
   {
    "duration": 16,
    "start_time": "2025-02-09T14:46:01.483Z"
   },
   {
    "duration": 4,
    "start_time": "2025-02-09T14:46:01.503Z"
   },
   {
    "duration": 15,
    "start_time": "2025-02-09T14:46:01.509Z"
   },
   {
    "duration": 8,
    "start_time": "2025-02-09T14:46:01.526Z"
   },
   {
    "duration": 2527,
    "start_time": "2025-02-09T14:46:01.536Z"
   },
   {
    "duration": 2487,
    "start_time": "2025-02-09T14:46:04.065Z"
   },
   {
    "duration": 97,
    "start_time": "2025-02-09T14:46:06.553Z"
   },
   {
    "duration": 2112,
    "start_time": "2025-02-09T14:46:06.653Z"
   },
   {
    "duration": 11,
    "start_time": "2025-02-09T14:46:08.766Z"
   },
   {
    "duration": 10,
    "start_time": "2025-02-09T14:46:08.778Z"
   },
   {
    "duration": 6,
    "start_time": "2025-02-09T14:46:08.790Z"
   },
   {
    "duration": 7,
    "start_time": "2025-02-09T14:46:08.797Z"
   },
   {
    "duration": 12,
    "start_time": "2025-02-09T14:46:08.806Z"
   },
   {
    "duration": 7,
    "start_time": "2025-02-09T14:46:08.819Z"
   },
   {
    "duration": 23,
    "start_time": "2025-02-09T14:46:08.827Z"
   },
   {
    "duration": 15,
    "start_time": "2025-02-09T14:46:08.851Z"
   },
   {
    "duration": 1400,
    "start_time": "2025-02-09T14:46:08.867Z"
   },
   {
    "duration": 2305,
    "start_time": "2025-02-09T14:46:37.978Z"
   },
   {
    "duration": 1384,
    "start_time": "2025-02-09T14:46:40.286Z"
   },
   {
    "duration": 460,
    "start_time": "2025-02-09T14:46:41.671Z"
   },
   {
    "duration": 32,
    "start_time": "2025-02-09T14:46:42.133Z"
   },
   {
    "duration": 22,
    "start_time": "2025-02-09T14:46:42.167Z"
   },
   {
    "duration": 20,
    "start_time": "2025-02-09T14:46:42.190Z"
   },
   {
    "duration": 218,
    "start_time": "2025-02-09T14:46:42.211Z"
   },
   {
    "duration": 1285,
    "start_time": "2025-02-09T14:46:42.431Z"
   },
   {
    "duration": 1215,
    "start_time": "2025-02-09T14:46:43.717Z"
   },
   {
    "duration": 1376,
    "start_time": "2025-02-09T14:46:44.934Z"
   },
   {
    "duration": 2323,
    "start_time": "2025-02-09T14:46:46.311Z"
   },
   {
    "duration": 4,
    "start_time": "2025-02-09T14:46:48.636Z"
   },
   {
    "duration": 10,
    "start_time": "2025-02-09T14:46:48.648Z"
   },
   {
    "duration": 8,
    "start_time": "2025-02-09T14:46:48.659Z"
   },
   {
    "duration": 6,
    "start_time": "2025-02-09T14:46:48.669Z"
   },
   {
    "duration": 9,
    "start_time": "2025-02-09T14:46:48.676Z"
   },
   {
    "duration": 1268,
    "start_time": "2025-02-09T14:46:48.686Z"
   },
   {
    "duration": 2007,
    "start_time": "2025-02-09T14:46:49.956Z"
   },
   {
    "duration": 83,
    "start_time": "2025-02-09T14:46:51.965Z"
   },
   {
    "duration": 3118,
    "start_time": "2025-02-09T14:46:52.050Z"
   },
   {
    "duration": 11,
    "start_time": "2025-02-09T14:46:55.170Z"
   },
   {
    "duration": 9,
    "start_time": "2025-02-09T14:46:55.182Z"
   },
   {
    "duration": 3,
    "start_time": "2025-02-09T14:46:55.192Z"
   },
   {
    "duration": 5,
    "start_time": "2025-02-09T14:46:55.196Z"
   },
   {
    "duration": 3,
    "start_time": "2025-02-09T14:46:55.202Z"
   },
   {
    "duration": 42,
    "start_time": "2025-02-09T14:46:55.206Z"
   },
   {
    "duration": 18,
    "start_time": "2025-02-09T14:46:55.250Z"
   },
   {
    "duration": 11,
    "start_time": "2025-02-09T14:46:55.271Z"
   },
   {
    "duration": 1394,
    "start_time": "2025-02-09T14:46:55.283Z"
   },
   {
    "duration": 2383,
    "start_time": "2025-02-09T14:49:40.844Z"
   },
   {
    "duration": 1414,
    "start_time": "2025-02-09T14:49:43.229Z"
   },
   {
    "duration": 446,
    "start_time": "2025-02-09T14:49:44.645Z"
   },
   {
    "duration": 26,
    "start_time": "2025-02-09T14:49:45.093Z"
   },
   {
    "duration": 34,
    "start_time": "2025-02-09T14:49:45.121Z"
   },
   {
    "duration": 21,
    "start_time": "2025-02-09T14:49:45.157Z"
   },
   {
    "duration": 209,
    "start_time": "2025-02-09T14:49:45.179Z"
   },
   {
    "duration": 1335,
    "start_time": "2025-02-09T14:49:45.390Z"
   },
   {
    "duration": 1241,
    "start_time": "2025-02-09T14:49:46.727Z"
   },
   {
    "duration": 1352,
    "start_time": "2025-02-09T14:49:47.971Z"
   },
   {
    "duration": 2283,
    "start_time": "2025-02-09T14:49:49.325Z"
   },
   {
    "duration": 4,
    "start_time": "2025-02-09T14:49:51.610Z"
   },
   {
    "duration": 29,
    "start_time": "2025-02-09T14:49:51.615Z"
   },
   {
    "duration": 13,
    "start_time": "2025-02-09T14:49:51.645Z"
   },
   {
    "duration": 7,
    "start_time": "2025-02-09T14:49:51.659Z"
   },
   {
    "duration": 21,
    "start_time": "2025-02-09T14:49:51.668Z"
   },
   {
    "duration": 1764,
    "start_time": "2025-02-09T14:49:51.691Z"
   },
   {
    "duration": 2610,
    "start_time": "2025-02-09T14:49:53.456Z"
   },
   {
    "duration": 90,
    "start_time": "2025-02-09T14:49:56.068Z"
   },
   {
    "duration": 2710,
    "start_time": "2025-02-09T14:49:56.160Z"
   },
   {
    "duration": 11,
    "start_time": "2025-02-09T14:49:58.871Z"
   },
   {
    "duration": 76,
    "start_time": "2025-02-09T14:49:58.883Z"
   },
   {
    "duration": 3,
    "start_time": "2025-02-09T14:49:58.961Z"
   },
   {
    "duration": 6,
    "start_time": "2025-02-09T14:49:58.965Z"
   },
   {
    "duration": 30,
    "start_time": "2025-02-09T14:49:58.973Z"
   },
   {
    "duration": 8,
    "start_time": "2025-02-09T14:49:59.005Z"
   },
   {
    "duration": 10,
    "start_time": "2025-02-09T14:49:59.014Z"
   },
   {
    "duration": 31,
    "start_time": "2025-02-09T14:49:59.027Z"
   },
   {
    "duration": 1376,
    "start_time": "2025-02-09T14:49:59.060Z"
   },
   {
    "duration": 5281,
    "start_time": "2025-02-20T10:52:21.919Z"
   },
   {
    "duration": 1676,
    "start_time": "2025-02-20T10:52:27.203Z"
   },
   {
    "duration": 465,
    "start_time": "2025-02-20T10:52:28.880Z"
   },
   {
    "duration": 79,
    "start_time": "2025-02-20T10:52:29.347Z"
   },
   {
    "duration": 0,
    "start_time": "2025-02-20T10:52:29.428Z"
   },
   {
    "duration": 0,
    "start_time": "2025-02-20T10:52:29.429Z"
   },
   {
    "duration": 0,
    "start_time": "2025-02-20T10:52:29.430Z"
   },
   {
    "duration": 0,
    "start_time": "2025-02-20T10:52:29.431Z"
   },
   {
    "duration": 0,
    "start_time": "2025-02-20T10:52:29.432Z"
   },
   {
    "duration": 0,
    "start_time": "2025-02-20T10:52:29.433Z"
   },
   {
    "duration": 0,
    "start_time": "2025-02-20T10:52:29.434Z"
   },
   {
    "duration": 0,
    "start_time": "2025-02-20T10:52:29.435Z"
   },
   {
    "duration": 0,
    "start_time": "2025-02-20T10:52:29.437Z"
   },
   {
    "duration": 0,
    "start_time": "2025-02-20T10:52:29.438Z"
   },
   {
    "duration": 0,
    "start_time": "2025-02-20T10:52:29.439Z"
   },
   {
    "duration": 0,
    "start_time": "2025-02-20T10:52:29.439Z"
   },
   {
    "duration": 1,
    "start_time": "2025-02-20T10:52:29.440Z"
   },
   {
    "duration": 1,
    "start_time": "2025-02-20T10:52:29.441Z"
   },
   {
    "duration": 0,
    "start_time": "2025-02-20T10:52:29.443Z"
   },
   {
    "duration": 0,
    "start_time": "2025-02-20T10:52:29.444Z"
   },
   {
    "duration": 0,
    "start_time": "2025-02-20T10:52:29.445Z"
   },
   {
    "duration": 0,
    "start_time": "2025-02-20T10:52:29.446Z"
   },
   {
    "duration": 0,
    "start_time": "2025-02-20T10:52:29.447Z"
   },
   {
    "duration": 0,
    "start_time": "2025-02-20T10:52:29.448Z"
   },
   {
    "duration": 0,
    "start_time": "2025-02-20T10:52:29.449Z"
   },
   {
    "duration": 0,
    "start_time": "2025-02-20T10:52:29.449Z"
   },
   {
    "duration": 0,
    "start_time": "2025-02-20T10:52:29.451Z"
   },
   {
    "duration": 0,
    "start_time": "2025-02-20T10:52:29.452Z"
   },
   {
    "duration": 4,
    "start_time": "2025-02-20T10:52:59.562Z"
   },
   {
    "duration": 289,
    "start_time": "2025-02-20T10:53:03.855Z"
   },
   {
    "duration": 2664,
    "start_time": "2025-02-20T10:53:08.913Z"
   },
   {
    "duration": 1535,
    "start_time": "2025-02-20T10:53:11.579Z"
   },
   {
    "duration": 482,
    "start_time": "2025-02-20T10:53:13.115Z"
   },
   {
    "duration": 4,
    "start_time": "2025-02-20T10:53:13.598Z"
   },
   {
    "duration": 299,
    "start_time": "2025-02-20T10:53:13.604Z"
   },
   {
    "duration": 3,
    "start_time": "2025-02-20T10:53:13.905Z"
   },
   {
    "duration": 1512,
    "start_time": "2025-02-20T10:53:13.910Z"
   },
   {
    "duration": 1413,
    "start_time": "2025-02-20T10:53:15.424Z"
   },
   {
    "duration": 1552,
    "start_time": "2025-02-20T10:53:16.839Z"
   },
   {
    "duration": 2668,
    "start_time": "2025-02-20T10:53:18.393Z"
   },
   {
    "duration": 6,
    "start_time": "2025-02-20T10:53:21.063Z"
   },
   {
    "duration": 71,
    "start_time": "2025-02-20T10:53:21.071Z"
   },
   {
    "duration": 57,
    "start_time": "2025-02-20T10:53:21.144Z"
   },
   {
    "duration": 44,
    "start_time": "2025-02-20T10:53:21.205Z"
   },
   {
    "duration": 27,
    "start_time": "2025-02-20T10:53:21.251Z"
   },
   {
    "duration": 2293,
    "start_time": "2025-02-20T10:53:21.280Z"
   },
   {
    "duration": 2594,
    "start_time": "2025-02-20T10:53:23.575Z"
   },
   {
    "duration": 3,
    "start_time": "2025-02-20T10:53:26.171Z"
   },
   {
    "duration": 3990,
    "start_time": "2025-02-20T10:53:26.176Z"
   },
   {
    "duration": 13,
    "start_time": "2025-02-20T10:53:30.168Z"
   },
   {
    "duration": 78,
    "start_time": "2025-02-20T10:53:30.182Z"
   },
   {
    "duration": 45,
    "start_time": "2025-02-20T10:53:30.262Z"
   },
   {
    "duration": 89,
    "start_time": "2025-02-20T10:53:30.308Z"
   },
   {
    "duration": 0,
    "start_time": "2025-02-20T10:53:30.398Z"
   },
   {
    "duration": 0,
    "start_time": "2025-02-20T10:53:30.399Z"
   },
   {
    "duration": 0,
    "start_time": "2025-02-20T10:53:30.401Z"
   },
   {
    "duration": 1,
    "start_time": "2025-02-20T10:53:30.401Z"
   },
   {
    "duration": 0,
    "start_time": "2025-02-20T10:53:30.403Z"
   },
   {
    "duration": 2649,
    "start_time": "2025-02-20T10:54:03.580Z"
   },
   {
    "duration": 1564,
    "start_time": "2025-02-20T10:54:06.232Z"
   },
   {
    "duration": 480,
    "start_time": "2025-02-20T10:54:07.798Z"
   },
   {
    "duration": 3,
    "start_time": "2025-02-20T10:54:08.281Z"
   },
   {
    "duration": 298,
    "start_time": "2025-02-20T10:54:08.287Z"
   },
   {
    "duration": 2,
    "start_time": "2025-02-20T10:54:08.587Z"
   },
   {
    "duration": 1504,
    "start_time": "2025-02-20T10:54:08.591Z"
   },
   {
    "duration": 1404,
    "start_time": "2025-02-20T10:54:10.097Z"
   },
   {
    "duration": 1498,
    "start_time": "2025-02-20T10:54:11.503Z"
   },
   {
    "duration": 2614,
    "start_time": "2025-02-20T10:54:13.003Z"
   },
   {
    "duration": 4,
    "start_time": "2025-02-20T10:54:15.619Z"
   },
   {
    "duration": 19,
    "start_time": "2025-02-20T10:54:15.625Z"
   },
   {
    "duration": 23,
    "start_time": "2025-02-20T10:54:15.646Z"
   },
   {
    "duration": 5,
    "start_time": "2025-02-20T10:54:15.672Z"
   },
   {
    "duration": 4,
    "start_time": "2025-02-20T10:54:15.678Z"
   },
   {
    "duration": 2983,
    "start_time": "2025-02-20T10:54:15.684Z"
   },
   {
    "duration": 1704,
    "start_time": "2025-02-20T10:54:18.669Z"
   },
   {
    "duration": 3,
    "start_time": "2025-02-20T10:54:20.376Z"
   },
   {
    "duration": 3091,
    "start_time": "2025-02-20T10:54:20.381Z"
   },
   {
    "duration": 13,
    "start_time": "2025-02-20T10:54:23.474Z"
   },
   {
    "duration": 53,
    "start_time": "2025-02-20T10:54:23.488Z"
   },
   {
    "duration": 54,
    "start_time": "2025-02-20T10:54:23.543Z"
   },
   {
    "duration": 13,
    "start_time": "2025-02-20T10:54:23.598Z"
   },
   {
    "duration": 4,
    "start_time": "2025-02-20T10:54:23.613Z"
   },
   {
    "duration": 23,
    "start_time": "2025-02-20T10:54:23.618Z"
   },
   {
    "duration": 20,
    "start_time": "2025-02-20T10:54:23.643Z"
   },
   {
    "duration": 65,
    "start_time": "2025-02-20T10:54:23.665Z"
   },
   {
    "duration": 5548,
    "start_time": "2025-02-20T10:54:23.732Z"
   },
   {
    "duration": 2651,
    "start_time": "2025-02-20T10:59:26.389Z"
   },
   {
    "duration": 1528,
    "start_time": "2025-02-20T10:59:29.043Z"
   },
   {
    "duration": 465,
    "start_time": "2025-02-20T10:59:30.573Z"
   },
   {
    "duration": 4,
    "start_time": "2025-02-20T10:59:31.041Z"
   },
   {
    "duration": 317,
    "start_time": "2025-02-20T10:59:31.047Z"
   },
   {
    "duration": 2,
    "start_time": "2025-02-20T10:59:31.366Z"
   },
   {
    "duration": 1589,
    "start_time": "2025-02-20T10:59:31.370Z"
   },
   {
    "duration": 1341,
    "start_time": "2025-02-20T10:59:32.962Z"
   },
   {
    "duration": 1532,
    "start_time": "2025-02-20T10:59:34.305Z"
   },
   {
    "duration": 2775,
    "start_time": "2025-02-20T10:59:35.840Z"
   },
   {
    "duration": 5,
    "start_time": "2025-02-20T10:59:38.617Z"
   },
   {
    "duration": 69,
    "start_time": "2025-02-20T10:59:38.623Z"
   },
   {
    "duration": 97,
    "start_time": "2025-02-20T10:59:38.694Z"
   },
   {
    "duration": 11,
    "start_time": "2025-02-20T10:59:38.794Z"
   },
   {
    "duration": 30,
    "start_time": "2025-02-20T10:59:38.807Z"
   },
   {
    "duration": 1818,
    "start_time": "2025-02-20T10:59:38.839Z"
   },
   {
    "duration": 1609,
    "start_time": "2025-02-20T10:59:40.658Z"
   },
   {
    "duration": 3,
    "start_time": "2025-02-20T10:59:42.268Z"
   },
   {
    "duration": 3202,
    "start_time": "2025-02-20T10:59:42.273Z"
   },
   {
    "duration": 12,
    "start_time": "2025-02-20T10:59:45.477Z"
   },
   {
    "duration": 38,
    "start_time": "2025-02-20T10:59:45.490Z"
   },
   {
    "duration": 36,
    "start_time": "2025-02-20T10:59:45.530Z"
   },
   {
    "duration": 13,
    "start_time": "2025-02-20T10:59:45.568Z"
   },
   {
    "duration": 5,
    "start_time": "2025-02-20T10:59:45.583Z"
   },
   {
    "duration": 34,
    "start_time": "2025-02-20T10:59:45.589Z"
   },
   {
    "duration": 8,
    "start_time": "2025-02-20T10:59:45.625Z"
   },
   {
    "duration": 36,
    "start_time": "2025-02-20T10:59:45.635Z"
   },
   {
    "duration": 5606,
    "start_time": "2025-02-20T10:59:45.673Z"
   },
   {
    "duration": 2690,
    "start_time": "2025-02-20T11:01:17.880Z"
   },
   {
    "duration": 1537,
    "start_time": "2025-02-20T11:01:20.573Z"
   },
   {
    "duration": 477,
    "start_time": "2025-02-20T11:01:22.112Z"
   },
   {
    "duration": 5,
    "start_time": "2025-02-20T11:01:22.591Z"
   },
   {
    "duration": 363,
    "start_time": "2025-02-20T11:01:22.599Z"
   },
   {
    "duration": 3,
    "start_time": "2025-02-20T11:01:22.964Z"
   },
   {
    "duration": 1482,
    "start_time": "2025-02-20T11:01:22.969Z"
   },
   {
    "duration": 1484,
    "start_time": "2025-02-20T11:01:24.455Z"
   },
   {
    "duration": 1525,
    "start_time": "2025-02-20T11:01:25.940Z"
   },
   {
    "duration": 2689,
    "start_time": "2025-02-20T11:01:27.469Z"
   },
   {
    "duration": 5,
    "start_time": "2025-02-20T11:01:30.160Z"
   },
   {
    "duration": 312,
    "start_time": "2025-02-20T11:01:30.166Z"
   },
   {
    "duration": 310,
    "start_time": "2025-02-20T11:01:30.480Z"
   },
   {
    "duration": 201,
    "start_time": "2025-02-20T11:01:30.794Z"
   },
   {
    "duration": 61,
    "start_time": "2025-02-20T11:01:30.997Z"
   },
   {
    "duration": 2315,
    "start_time": "2025-02-20T11:01:31.060Z"
   },
   {
    "duration": 1696,
    "start_time": "2025-02-20T11:01:33.377Z"
   },
   {
    "duration": 3,
    "start_time": "2025-02-20T11:01:35.075Z"
   },
   {
    "duration": 3690,
    "start_time": "2025-02-20T11:01:35.080Z"
   },
   {
    "duration": 14,
    "start_time": "2025-02-20T11:01:38.772Z"
   },
   {
    "duration": 10,
    "start_time": "2025-02-20T11:01:38.788Z"
   },
   {
    "duration": 4,
    "start_time": "2025-02-20T11:01:38.799Z"
   },
   {
    "duration": 25,
    "start_time": "2025-02-20T11:01:38.804Z"
   },
   {
    "duration": 27,
    "start_time": "2025-02-20T11:01:38.831Z"
   },
   {
    "duration": 11,
    "start_time": "2025-02-20T11:01:38.860Z"
   },
   {
    "duration": 9,
    "start_time": "2025-02-20T11:01:38.873Z"
   },
   {
    "duration": 39,
    "start_time": "2025-02-20T11:01:38.884Z"
   },
   {
    "duration": 5460,
    "start_time": "2025-02-20T11:01:38.925Z"
   },
   {
    "duration": 3680,
    "start_time": "2025-02-22T15:27:11.745Z"
   },
   {
    "duration": 1739,
    "start_time": "2025-02-22T15:27:15.428Z"
   },
   {
    "duration": 455,
    "start_time": "2025-02-22T15:27:17.169Z"
   },
   {
    "duration": 5,
    "start_time": "2025-02-22T15:27:17.626Z"
   },
   {
    "duration": 344,
    "start_time": "2025-02-22T15:27:17.634Z"
   },
   {
    "duration": 3,
    "start_time": "2025-02-22T15:27:17.980Z"
   },
   {
    "duration": 1467,
    "start_time": "2025-02-22T15:27:17.984Z"
   },
   {
    "duration": 1407,
    "start_time": "2025-02-22T15:27:19.453Z"
   },
   {
    "duration": 1481,
    "start_time": "2025-02-22T15:27:20.862Z"
   },
   {
    "duration": 2673,
    "start_time": "2025-02-22T15:27:22.345Z"
   },
   {
    "duration": 5,
    "start_time": "2025-02-22T15:27:25.020Z"
   },
   {
    "duration": 25,
    "start_time": "2025-02-22T15:27:25.026Z"
   },
   {
    "duration": 34,
    "start_time": "2025-02-22T15:27:25.053Z"
   },
   {
    "duration": 39,
    "start_time": "2025-02-22T15:27:25.091Z"
   },
   {
    "duration": 47,
    "start_time": "2025-02-22T15:27:25.132Z"
   },
   {
    "duration": 3235,
    "start_time": "2025-02-22T15:27:25.181Z"
   },
   {
    "duration": 2397,
    "start_time": "2025-02-22T15:27:28.418Z"
   },
   {
    "duration": 3,
    "start_time": "2025-02-22T15:27:30.817Z"
   },
   {
    "duration": 3208,
    "start_time": "2025-02-22T15:27:30.822Z"
   },
   {
    "duration": 15,
    "start_time": "2025-02-22T15:27:34.035Z"
   },
   {
    "duration": 12,
    "start_time": "2025-02-22T15:27:34.052Z"
   },
   {
    "duration": 32,
    "start_time": "2025-02-22T15:27:34.067Z"
   },
   {
    "duration": 13,
    "start_time": "2025-02-22T15:27:34.101Z"
   },
   {
    "duration": 6,
    "start_time": "2025-02-22T15:27:34.115Z"
   },
   {
    "duration": 21,
    "start_time": "2025-02-22T15:27:34.122Z"
   },
   {
    "duration": 13,
    "start_time": "2025-02-22T15:27:34.145Z"
   },
   {
    "duration": 44,
    "start_time": "2025-02-22T15:27:34.160Z"
   },
   {
    "duration": 4912,
    "start_time": "2025-02-22T15:27:34.205Z"
   },
   {
    "duration": 2644,
    "start_time": "2025-02-22T15:52:55.789Z"
   },
   {
    "duration": 1540,
    "start_time": "2025-02-22T15:52:58.436Z"
   },
   {
    "duration": 510,
    "start_time": "2025-02-22T15:52:59.978Z"
   },
   {
    "duration": 9,
    "start_time": "2025-02-22T15:53:00.490Z"
   },
   {
    "duration": 284,
    "start_time": "2025-02-22T15:53:00.501Z"
   },
   {
    "duration": 13,
    "start_time": "2025-02-22T15:53:00.787Z"
   },
   {
    "duration": 1485,
    "start_time": "2025-02-22T15:53:00.802Z"
   },
   {
    "duration": 1409,
    "start_time": "2025-02-22T15:53:02.290Z"
   },
   {
    "duration": 1598,
    "start_time": "2025-02-22T15:53:03.701Z"
   },
   {
    "duration": 2800,
    "start_time": "2025-02-22T15:53:05.301Z"
   },
   {
    "duration": 5,
    "start_time": "2025-02-22T15:53:08.103Z"
   },
   {
    "duration": 16,
    "start_time": "2025-02-22T15:53:08.110Z"
   },
   {
    "duration": 8,
    "start_time": "2025-02-22T15:53:08.128Z"
   },
   {
    "duration": 3,
    "start_time": "2025-02-22T15:53:08.140Z"
   },
   {
    "duration": 4,
    "start_time": "2025-02-22T15:53:08.146Z"
   },
   {
    "duration": 2568,
    "start_time": "2025-02-22T15:53:08.151Z"
   },
   {
    "duration": 2584,
    "start_time": "2025-02-22T15:53:10.720Z"
   },
   {
    "duration": 3,
    "start_time": "2025-02-22T15:53:13.306Z"
   },
   {
    "duration": 4004,
    "start_time": "2025-02-22T15:53:13.311Z"
   },
   {
    "duration": 13,
    "start_time": "2025-02-22T15:53:17.317Z"
   },
   {
    "duration": 10,
    "start_time": "2025-02-22T15:53:17.331Z"
   },
   {
    "duration": 10,
    "start_time": "2025-02-22T15:53:17.343Z"
   },
   {
    "duration": 47,
    "start_time": "2025-02-22T15:53:17.355Z"
   },
   {
    "duration": 113,
    "start_time": "2025-02-22T15:53:17.404Z"
   },
   {
    "duration": 13,
    "start_time": "2025-02-22T15:53:17.518Z"
   },
   {
    "duration": 13,
    "start_time": "2025-02-22T15:53:17.533Z"
   },
   {
    "duration": 29,
    "start_time": "2025-02-22T15:53:17.548Z"
   },
   {
    "duration": 4924,
    "start_time": "2025-02-22T15:53:17.580Z"
   },
   {
    "duration": 2651,
    "start_time": "2025-02-22T16:01:06.029Z"
   },
   {
    "duration": 1542,
    "start_time": "2025-02-22T16:01:08.683Z"
   },
   {
    "duration": 567,
    "start_time": "2025-02-22T16:01:10.227Z"
   },
   {
    "duration": 4,
    "start_time": "2025-02-22T16:01:10.799Z"
   },
   {
    "duration": 273,
    "start_time": "2025-02-22T16:01:10.804Z"
   },
   {
    "duration": 2,
    "start_time": "2025-02-22T16:01:11.079Z"
   },
   {
    "duration": 1510,
    "start_time": "2025-02-22T16:01:11.083Z"
   },
   {
    "duration": 1445,
    "start_time": "2025-02-22T16:01:12.595Z"
   },
   {
    "duration": 1526,
    "start_time": "2025-02-22T16:01:14.042Z"
   },
   {
    "duration": 2630,
    "start_time": "2025-02-22T16:01:15.571Z"
   },
   {
    "duration": 5,
    "start_time": "2025-02-22T16:01:18.203Z"
   },
   {
    "duration": 10,
    "start_time": "2025-02-22T16:01:18.209Z"
   },
   {
    "duration": 9,
    "start_time": "2025-02-22T16:01:18.220Z"
   },
   {
    "duration": 4,
    "start_time": "2025-02-22T16:01:18.230Z"
   },
   {
    "duration": 8,
    "start_time": "2025-02-22T16:01:18.236Z"
   },
   {
    "duration": 2365,
    "start_time": "2025-02-22T16:01:18.246Z"
   },
   {
    "duration": 2004,
    "start_time": "2025-02-22T16:01:20.612Z"
   },
   {
    "duration": 3,
    "start_time": "2025-02-22T16:01:22.618Z"
   },
   {
    "duration": 3191,
    "start_time": "2025-02-22T16:01:22.623Z"
   },
   {
    "duration": 13,
    "start_time": "2025-02-22T16:01:25.815Z"
   },
   {
    "duration": 49,
    "start_time": "2025-02-22T16:01:25.829Z"
   },
   {
    "duration": 5,
    "start_time": "2025-02-22T16:01:25.880Z"
   },
   {
    "duration": 7,
    "start_time": "2025-02-22T16:01:25.887Z"
   },
   {
    "duration": 5,
    "start_time": "2025-02-22T16:01:25.896Z"
   },
   {
    "duration": 15,
    "start_time": "2025-02-22T16:01:25.903Z"
   },
   {
    "duration": 16,
    "start_time": "2025-02-22T16:01:25.920Z"
   },
   {
    "duration": 24,
    "start_time": "2025-02-22T16:01:25.938Z"
   },
   {
    "duration": 4815,
    "start_time": "2025-02-22T16:01:25.966Z"
   }
  ],
  "kernelspec": {
   "display_name": "Python 3 (ipykernel)",
   "language": "python",
   "name": "python3"
  },
  "language_info": {
   "codemirror_mode": {
    "name": "ipython",
    "version": 3
   },
   "file_extension": ".py",
   "mimetype": "text/x-python",
   "name": "python",
   "nbconvert_exporter": "python",
   "pygments_lexer": "ipython3",
   "version": "3.9.5"
  },
  "toc": {
   "base_numbering": 1,
   "nav_menu": {},
   "number_sections": true,
   "sideBar": true,
   "skip_h1_title": true,
   "title_cell": "Table of Contents",
   "title_sidebar": "Contents",
   "toc_cell": false,
   "toc_position": {},
   "toc_section_display": true,
   "toc_window_display": false
  }
 },
 "nbformat": 4,
 "nbformat_minor": 2
}
