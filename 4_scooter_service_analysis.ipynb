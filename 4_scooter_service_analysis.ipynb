{
 "cells": [
  {
   "cell_type": "markdown",
   "id": "30ece0b424686897",
   "metadata": {},
   "source": [
    "#### Описание данных"
   ]
  },
  {
   "cell_type": "markdown",
   "id": "d95419d8",
   "metadata": {},
   "source": [
    "Чтобы совершать поездки по городу, пользователи сервиса GoFast пользуются мобильным приложением. Сервисом можно пользоваться:\n",
    "<br>\n",
    "<br>\n",
    "без подписки <br>\n",
    "абонентская плата отсутствует;<br>\n",
    "стоимость одной минуты поездки — 8 рублей;<br>\n",
    "стоимость старта (начала поездки) — 50 рублей;<br>\n",
    "<br>\n",
    "<br>\n",
    "с подпиской Ultra <br> \n",
    "абонентская плата — 199 рублей в месяц;<br>\n",
    "стоимость одной минуты поездки — 6 рублей;<br>\n",
    "стоимость старта — бесплатно.\n"
   ]
  },
  {
   "cell_type": "markdown",
   "id": "b21ebe4f",
   "metadata": {},
   "source": [
    "user_go.csv содержит следующую информацию:\n",
    "- `user_id`\tуникальный идентификатор пользователя\n",
    "- `name`\tимя пользователя\n",
    "- `age`\tвозраст\n",
    "- `city`\tгород\n",
    "- `subscription_type`\tтип подписки (free, ultra)\n",
    "\n",
    "\n",
    "rides_go.csv содержит следующую информацию:\n",
    "- `user_id`\tуникальный идентификатор пользователя\n",
    "- `distance`\tрасстояние, которое пользователь проехал в текущей сессии (в метрах)\n",
    "-`duration`\tпродолжительность сессии (в минутах) — время с того момента, как пользователь нажал кнопку «Начать поездку» до момента, как он нажал кнопку «Завершить поездку»\n",
    "- `date`\tдата совершения поездки\n",
    "\n",
    "subscriptions_go.csv содержит следующую информацию:\n",
    "- `subscription_type`\tтип подписки\n",
    "- `minute_price`\tстоимость одной минуты поездки по данной подписке\n",
    "- `start_ride_price`\tстоимость начала поездки\n",
    "- `subscription_fee`\tстоимость ежемесячного платежа"
   ]
  },
  {
   "cell_type": "markdown",
   "id": "c0a5b168",
   "metadata": {},
   "source": [
    "**Цель исследования:** Проанализировать данные и проверить гипотезы, которые могут помочь бизнесу вырасти"
   ]
  },
  {
   "cell_type": "code",
   "id": "72576667",
   "metadata": {
    "ExecuteTime": {
     "end_time": "2025-01-24T16:13:58.020196Z",
     "start_time": "2025-01-24T16:13:57.350566Z"
    }
   },
   "source": [
    "import numpy as np\n",
    "# Импортируем необходимые библиотеки\n",
    "import pandas as pd\n",
    "import scipy.stats as stats\n",
    "import matplotlib.pyplot as plt\n",
    "import math\n",
    "import warnings\n",
    "\n",
    "# warnings.simplefilter(\"ignore\")"
   ],
   "outputs": [],
   "execution_count": 1
  },
  {
   "cell_type": "markdown",
   "id": "c42cbe00",
   "metadata": {},
   "source": [
    "#### Шаг 1. Загрузка данных"
   ]
  },
  {
   "cell_type": "code",
   "id": "eff9f206",
   "metadata": {
    "ExecuteTime": {
     "end_time": "2025-01-24T16:13:58.033021Z",
     "start_time": "2025-01-24T16:13:58.023731Z"
    }
   },
   "source": [
    "try:\n",
    "    users_df = pd.read_csv('/Users/moncervers/PycharmProjects/portfolio/scooters_analysis/data/users_go.csv')\n",
    "    rides_df = pd.read_csv('/Users/moncervers/PycharmProjects/portfolio/scooters_analysis/data/rides_go.csv')\n",
    "    subscriptions_df = pd.read_csv('/Users/moncervers/PycharmProjects/portfolio/scooters_analysis/data/subscriptions_go.csv')\n",
    "except:\n",
    "    users_df = pd.read_csv('/datasets/users_go.csv')\n",
    "    rides_df = pd.read_csv('/datasets/rides_go.csv')\n",
    "    subscriptions_df = pd.read_csv('/datasets/subscriptions_go.csv')"
   ],
   "outputs": [],
   "execution_count": 2
  },
  {
   "cell_type": "code",
   "id": "694689582acd9a22",
   "metadata": {
    "ExecuteTime": {
     "end_time": "2025-01-24T16:13:58.096060Z",
     "start_time": "2025-01-24T16:13:58.091598Z"
    }
   },
   "source": [
    "# Просматриваем информацию о пользователях\n",
    "users_df.head()"
   ],
   "outputs": [
    {
     "data": {
      "text/plain": [
       "   user_id        name  age            city subscription_type\n",
       "0        1        Кира   22          Тюмень             ultra\n",
       "1        2   Станислав   31            Омск             ultra\n",
       "2        3     Алексей   20          Москва             ultra\n",
       "3        4  Константин   26  Ростов-на-Дону             ultra\n",
       "4        5       Адель   28            Омск             ultra"
      ],
      "text/html": [
       "<div>\n",
       "<style scoped>\n",
       "    .dataframe tbody tr th:only-of-type {\n",
       "        vertical-align: middle;\n",
       "    }\n",
       "\n",
       "    .dataframe tbody tr th {\n",
       "        vertical-align: top;\n",
       "    }\n",
       "\n",
       "    .dataframe thead th {\n",
       "        text-align: right;\n",
       "    }\n",
       "</style>\n",
       "<table border=\"1\" class=\"dataframe\">\n",
       "  <thead>\n",
       "    <tr style=\"text-align: right;\">\n",
       "      <th></th>\n",
       "      <th>user_id</th>\n",
       "      <th>name</th>\n",
       "      <th>age</th>\n",
       "      <th>city</th>\n",
       "      <th>subscription_type</th>\n",
       "    </tr>\n",
       "  </thead>\n",
       "  <tbody>\n",
       "    <tr>\n",
       "      <th>0</th>\n",
       "      <td>1</td>\n",
       "      <td>Кира</td>\n",
       "      <td>22</td>\n",
       "      <td>Тюмень</td>\n",
       "      <td>ultra</td>\n",
       "    </tr>\n",
       "    <tr>\n",
       "      <th>1</th>\n",
       "      <td>2</td>\n",
       "      <td>Станислав</td>\n",
       "      <td>31</td>\n",
       "      <td>Омск</td>\n",
       "      <td>ultra</td>\n",
       "    </tr>\n",
       "    <tr>\n",
       "      <th>2</th>\n",
       "      <td>3</td>\n",
       "      <td>Алексей</td>\n",
       "      <td>20</td>\n",
       "      <td>Москва</td>\n",
       "      <td>ultra</td>\n",
       "    </tr>\n",
       "    <tr>\n",
       "      <th>3</th>\n",
       "      <td>4</td>\n",
       "      <td>Константин</td>\n",
       "      <td>26</td>\n",
       "      <td>Ростов-на-Дону</td>\n",
       "      <td>ultra</td>\n",
       "    </tr>\n",
       "    <tr>\n",
       "      <th>4</th>\n",
       "      <td>5</td>\n",
       "      <td>Адель</td>\n",
       "      <td>28</td>\n",
       "      <td>Омск</td>\n",
       "      <td>ultra</td>\n",
       "    </tr>\n",
       "  </tbody>\n",
       "</table>\n",
       "</div>"
      ]
     },
     "execution_count": 3,
     "metadata": {},
     "output_type": "execute_result"
    }
   ],
   "execution_count": 3
  },
  {
   "cell_type": "code",
   "id": "f7acbe59f328b3f1",
   "metadata": {
    "ExecuteTime": {
     "end_time": "2025-01-24T16:13:58.129740Z",
     "start_time": "2025-01-24T16:13:58.126391Z"
    }
   },
   "source": [
    "users_df.info()"
   ],
   "outputs": [
    {
     "name": "stdout",
     "output_type": "stream",
     "text": [
      "<class 'pandas.core.frame.DataFrame'>\n",
      "RangeIndex: 1565 entries, 0 to 1564\n",
      "Data columns (total 5 columns):\n",
      " #   Column             Non-Null Count  Dtype \n",
      "---  ------             --------------  ----- \n",
      " 0   user_id            1565 non-null   int64 \n",
      " 1   name               1565 non-null   object\n",
      " 2   age                1565 non-null   int64 \n",
      " 3   city               1565 non-null   object\n",
      " 4   subscription_type  1565 non-null   object\n",
      "dtypes: int64(2), object(3)\n",
      "memory usage: 61.3+ KB\n"
     ]
    }
   ],
   "execution_count": 4
  },
  {
   "cell_type": "code",
   "id": "16d8c9afe4c9efee",
   "metadata": {
    "ExecuteTime": {
     "end_time": "2025-01-24T16:13:58.165748Z",
     "start_time": "2025-01-24T16:13:58.162623Z"
    }
   },
   "source": [
    "# Просматриваем информацию о поездках\n",
    "rides_df.head()"
   ],
   "outputs": [
    {
     "data": {
      "text/plain": [
       "   user_id     distance   duration        date\n",
       "0        1  4409.919140  25.599769  2021-01-01\n",
       "1        1  2617.592153  15.816871  2021-01-18\n",
       "2        1   754.159807   6.232113  2021-04-20\n",
       "3        1  2694.783254  18.511000  2021-08-11\n",
       "4        1  4028.687306  26.265803  2021-08-28"
      ],
      "text/html": [
       "<div>\n",
       "<style scoped>\n",
       "    .dataframe tbody tr th:only-of-type {\n",
       "        vertical-align: middle;\n",
       "    }\n",
       "\n",
       "    .dataframe tbody tr th {\n",
       "        vertical-align: top;\n",
       "    }\n",
       "\n",
       "    .dataframe thead th {\n",
       "        text-align: right;\n",
       "    }\n",
       "</style>\n",
       "<table border=\"1\" class=\"dataframe\">\n",
       "  <thead>\n",
       "    <tr style=\"text-align: right;\">\n",
       "      <th></th>\n",
       "      <th>user_id</th>\n",
       "      <th>distance</th>\n",
       "      <th>duration</th>\n",
       "      <th>date</th>\n",
       "    </tr>\n",
       "  </thead>\n",
       "  <tbody>\n",
       "    <tr>\n",
       "      <th>0</th>\n",
       "      <td>1</td>\n",
       "      <td>4409.919140</td>\n",
       "      <td>25.599769</td>\n",
       "      <td>2021-01-01</td>\n",
       "    </tr>\n",
       "    <tr>\n",
       "      <th>1</th>\n",
       "      <td>1</td>\n",
       "      <td>2617.592153</td>\n",
       "      <td>15.816871</td>\n",
       "      <td>2021-01-18</td>\n",
       "    </tr>\n",
       "    <tr>\n",
       "      <th>2</th>\n",
       "      <td>1</td>\n",
       "      <td>754.159807</td>\n",
       "      <td>6.232113</td>\n",
       "      <td>2021-04-20</td>\n",
       "    </tr>\n",
       "    <tr>\n",
       "      <th>3</th>\n",
       "      <td>1</td>\n",
       "      <td>2694.783254</td>\n",
       "      <td>18.511000</td>\n",
       "      <td>2021-08-11</td>\n",
       "    </tr>\n",
       "    <tr>\n",
       "      <th>4</th>\n",
       "      <td>1</td>\n",
       "      <td>4028.687306</td>\n",
       "      <td>26.265803</td>\n",
       "      <td>2021-08-28</td>\n",
       "    </tr>\n",
       "  </tbody>\n",
       "</table>\n",
       "</div>"
      ]
     },
     "execution_count": 5,
     "metadata": {},
     "output_type": "execute_result"
    }
   ],
   "execution_count": 5
  },
  {
   "cell_type": "code",
   "id": "6c262a11b3d25fb9",
   "metadata": {
    "ExecuteTime": {
     "end_time": "2025-01-24T16:13:58.225460Z",
     "start_time": "2025-01-24T16:13:58.222188Z"
    }
   },
   "source": [
    "rides_df.info()"
   ],
   "outputs": [
    {
     "name": "stdout",
     "output_type": "stream",
     "text": [
      "<class 'pandas.core.frame.DataFrame'>\n",
      "RangeIndex: 18068 entries, 0 to 18067\n",
      "Data columns (total 4 columns):\n",
      " #   Column    Non-Null Count  Dtype  \n",
      "---  ------    --------------  -----  \n",
      " 0   user_id   18068 non-null  int64  \n",
      " 1   distance  18068 non-null  float64\n",
      " 2   duration  18068 non-null  float64\n",
      " 3   date      18068 non-null  object \n",
      "dtypes: float64(2), int64(1), object(1)\n",
      "memory usage: 564.8+ KB\n"
     ]
    }
   ],
   "execution_count": 6
  },
  {
   "cell_type": "code",
   "id": "243cda9bd9cf2ffa",
   "metadata": {
    "ExecuteTime": {
     "end_time": "2025-01-24T16:13:58.266731Z",
     "start_time": "2025-01-24T16:13:58.264141Z"
    }
   },
   "source": [
    "# Просматриваем информацию о тарифах\n",
    "subscriptions_df"
   ],
   "outputs": [
    {
     "data": {
      "text/plain": [
       "  subscription_type  minute_price  start_ride_price  subscription_fee\n",
       "0              free             8                50                 0\n",
       "1             ultra             6                 0               199"
      ],
      "text/html": [
       "<div>\n",
       "<style scoped>\n",
       "    .dataframe tbody tr th:only-of-type {\n",
       "        vertical-align: middle;\n",
       "    }\n",
       "\n",
       "    .dataframe tbody tr th {\n",
       "        vertical-align: top;\n",
       "    }\n",
       "\n",
       "    .dataframe thead th {\n",
       "        text-align: right;\n",
       "    }\n",
       "</style>\n",
       "<table border=\"1\" class=\"dataframe\">\n",
       "  <thead>\n",
       "    <tr style=\"text-align: right;\">\n",
       "      <th></th>\n",
       "      <th>subscription_type</th>\n",
       "      <th>minute_price</th>\n",
       "      <th>start_ride_price</th>\n",
       "      <th>subscription_fee</th>\n",
       "    </tr>\n",
       "  </thead>\n",
       "  <tbody>\n",
       "    <tr>\n",
       "      <th>0</th>\n",
       "      <td>free</td>\n",
       "      <td>8</td>\n",
       "      <td>50</td>\n",
       "      <td>0</td>\n",
       "    </tr>\n",
       "    <tr>\n",
       "      <th>1</th>\n",
       "      <td>ultra</td>\n",
       "      <td>6</td>\n",
       "      <td>0</td>\n",
       "      <td>199</td>\n",
       "    </tr>\n",
       "  </tbody>\n",
       "</table>\n",
       "</div>"
      ]
     },
     "execution_count": 7,
     "metadata": {},
     "output_type": "execute_result"
    }
   ],
   "execution_count": 7
  },
  {
   "cell_type": "markdown",
   "id": "71a0d403b88a5c33",
   "metadata": {},
   "source": [
    "##### Вывод:\n",
    "\n",
    "Всего у нас есть 3 датафрейма, в которых отсутствуют пропуски, а все столбцы, кроме столбца с датой приведены к корректному типу данных"
   ]
  },
  {
   "cell_type": "markdown",
   "id": "e95ebca7",
   "metadata": {},
   "source": [
    "#### Шаг 2. Предобработка данных"
   ]
  },
  {
   "cell_type": "markdown",
   "id": "c5e94f5ff4758e7d",
   "metadata": {},
   "source": [
    "Приведем столбец `date` в таблице `rides_df` к нужному типу данных создадим отдельный столбец с месяцем"
   ]
  },
  {
   "cell_type": "code",
   "id": "af6d202c",
   "metadata": {
    "ExecuteTime": {
     "end_time": "2025-01-24T16:13:58.329355Z",
     "start_time": "2025-01-24T16:13:58.322855Z"
    }
   },
   "source": [
    "rides_df['date'] = pd.to_datetime(rides_df['date'], format='%Y-%m-%d')\n",
    "rides_df['month'] = rides_df['date'].dt.month\n",
    "rides_df['weekday'] = rides_df['date'].dt.weekday  # создаем столбец с выделением дня недели из даты\n",
    "rides_df.head()"
   ],
   "outputs": [
    {
     "data": {
      "text/plain": [
       "   user_id     distance   duration       date  month  weekday\n",
       "0        1  4409.919140  25.599769 2021-01-01      1        4\n",
       "1        1  2617.592153  15.816871 2021-01-18      1        0\n",
       "2        1   754.159807   6.232113 2021-04-20      4        1\n",
       "3        1  2694.783254  18.511000 2021-08-11      8        2\n",
       "4        1  4028.687306  26.265803 2021-08-28      8        5"
      ],
      "text/html": [
       "<div>\n",
       "<style scoped>\n",
       "    .dataframe tbody tr th:only-of-type {\n",
       "        vertical-align: middle;\n",
       "    }\n",
       "\n",
       "    .dataframe tbody tr th {\n",
       "        vertical-align: top;\n",
       "    }\n",
       "\n",
       "    .dataframe thead th {\n",
       "        text-align: right;\n",
       "    }\n",
       "</style>\n",
       "<table border=\"1\" class=\"dataframe\">\n",
       "  <thead>\n",
       "    <tr style=\"text-align: right;\">\n",
       "      <th></th>\n",
       "      <th>user_id</th>\n",
       "      <th>distance</th>\n",
       "      <th>duration</th>\n",
       "      <th>date</th>\n",
       "      <th>month</th>\n",
       "      <th>weekday</th>\n",
       "    </tr>\n",
       "  </thead>\n",
       "  <tbody>\n",
       "    <tr>\n",
       "      <th>0</th>\n",
       "      <td>1</td>\n",
       "      <td>4409.919140</td>\n",
       "      <td>25.599769</td>\n",
       "      <td>2021-01-01</td>\n",
       "      <td>1</td>\n",
       "      <td>4</td>\n",
       "    </tr>\n",
       "    <tr>\n",
       "      <th>1</th>\n",
       "      <td>1</td>\n",
       "      <td>2617.592153</td>\n",
       "      <td>15.816871</td>\n",
       "      <td>2021-01-18</td>\n",
       "      <td>1</td>\n",
       "      <td>0</td>\n",
       "    </tr>\n",
       "    <tr>\n",
       "      <th>2</th>\n",
       "      <td>1</td>\n",
       "      <td>754.159807</td>\n",
       "      <td>6.232113</td>\n",
       "      <td>2021-04-20</td>\n",
       "      <td>4</td>\n",
       "      <td>1</td>\n",
       "    </tr>\n",
       "    <tr>\n",
       "      <th>3</th>\n",
       "      <td>1</td>\n",
       "      <td>2694.783254</td>\n",
       "      <td>18.511000</td>\n",
       "      <td>2021-08-11</td>\n",
       "      <td>8</td>\n",
       "      <td>2</td>\n",
       "    </tr>\n",
       "    <tr>\n",
       "      <th>4</th>\n",
       "      <td>1</td>\n",
       "      <td>4028.687306</td>\n",
       "      <td>26.265803</td>\n",
       "      <td>2021-08-28</td>\n",
       "      <td>8</td>\n",
       "      <td>5</td>\n",
       "    </tr>\n",
       "  </tbody>\n",
       "</table>\n",
       "</div>"
      ]
     },
     "execution_count": 8,
     "metadata": {},
     "output_type": "execute_result"
    }
   ],
   "execution_count": 8
  },
  {
   "cell_type": "code",
   "id": "25d21d864fdc8dc1",
   "metadata": {
    "ExecuteTime": {
     "end_time": "2025-01-24T16:13:58.355739Z",
     "start_time": "2025-01-24T16:13:58.352688Z"
    }
   },
   "source": [
    "rides_df.info()"
   ],
   "outputs": [
    {
     "name": "stdout",
     "output_type": "stream",
     "text": [
      "<class 'pandas.core.frame.DataFrame'>\n",
      "RangeIndex: 18068 entries, 0 to 18067\n",
      "Data columns (total 6 columns):\n",
      " #   Column    Non-Null Count  Dtype         \n",
      "---  ------    --------------  -----         \n",
      " 0   user_id   18068 non-null  int64         \n",
      " 1   distance  18068 non-null  float64       \n",
      " 2   duration  18068 non-null  float64       \n",
      " 3   date      18068 non-null  datetime64[ns]\n",
      " 4   month     18068 non-null  int32         \n",
      " 5   weekday   18068 non-null  int32         \n",
      "dtypes: datetime64[ns](1), float64(2), int32(2), int64(1)\n",
      "memory usage: 705.9 KB\n"
     ]
    }
   ],
   "execution_count": 9
  },
  {
   "cell_type": "markdown",
   "id": "e2f02e8968117d75",
   "metadata": {},
   "source": [
    "Проверим наличие пропусков и дубликатов в датафреймах"
   ]
  },
  {
   "cell_type": "code",
   "id": "277e29128b29f259",
   "metadata": {
    "ExecuteTime": {
     "end_time": "2025-01-24T16:13:58.422662Z",
     "start_time": "2025-01-24T16:13:58.419323Z"
    }
   },
   "source": [
    "print('Users: \\n', users_df.isna().sum())\n",
    "print()\n",
    "print('Rides: \\n', rides_df.isna().sum())\n",
    "print()\n",
    "print('Subscriptions: \\n', subscriptions_df.isna().sum())"
   ],
   "outputs": [
    {
     "name": "stdout",
     "output_type": "stream",
     "text": [
      "Users: \n",
      " user_id              0\n",
      "name                 0\n",
      "age                  0\n",
      "city                 0\n",
      "subscription_type    0\n",
      "dtype: int64\n",
      "\n",
      "Rides: \n",
      " user_id     0\n",
      "distance    0\n",
      "duration    0\n",
      "date        0\n",
      "month       0\n",
      "weekday     0\n",
      "dtype: int64\n",
      "\n",
      "Subscriptions: \n",
      " subscription_type    0\n",
      "minute_price         0\n",
      "start_ride_price     0\n",
      "subscription_fee     0\n",
      "dtype: int64\n"
     ]
    }
   ],
   "execution_count": 10
  },
  {
   "cell_type": "markdown",
   "id": "69db43442a98e663",
   "metadata": {},
   "source": [
    "Проверим датафреймы на наличие явных дубликатов"
   ]
  },
  {
   "cell_type": "code",
   "id": "9a1685c26c7afff6",
   "metadata": {
    "ExecuteTime": {
     "end_time": "2025-01-24T16:13:58.451785Z",
     "start_time": "2025-01-24T16:13:58.448236Z"
    }
   },
   "source": [
    "print('users: \\n', users_df.duplicated().sum())\n",
    "print()\n",
    "print('rides: \\n', rides_df.duplicated().sum())\n",
    "print()\n",
    "print('subscriptions: \\n', subscriptions_df.duplicated().sum())"
   ],
   "outputs": [
    {
     "name": "stdout",
     "output_type": "stream",
     "text": [
      "users: \n",
      " 31\n",
      "\n",
      "rides: \n",
      " 0\n",
      "\n",
      "subscriptions: \n",
      " 0\n"
     ]
    }
   ],
   "execution_count": 11
  },
  {
   "cell_type": "code",
   "id": "a0e984567212f437",
   "metadata": {
    "ExecuteTime": {
     "end_time": "2025-01-24T16:13:58.490064Z",
     "start_time": "2025-01-24T16:13:58.486179Z"
    }
   },
   "source": [
    "# Смотрим, какие дубликаты у нас присутствуют\n",
    "users_df[users_df.duplicated()].head()"
   ],
   "outputs": [
    {
     "data": {
      "text/plain": [
       "      user_id        name  age          city subscription_type\n",
       "1534      293       Агата   26     Краснодар             ultra\n",
       "1535       16      Амалия   27     Краснодар             ultra\n",
       "1536      909  Константин   20  Екатеринбург              free\n",
       "1537      403      Полина   19          Сочи             ultra\n",
       "1538      908      Рустам   30        Тюмень              free"
      ],
      "text/html": [
       "<div>\n",
       "<style scoped>\n",
       "    .dataframe tbody tr th:only-of-type {\n",
       "        vertical-align: middle;\n",
       "    }\n",
       "\n",
       "    .dataframe tbody tr th {\n",
       "        vertical-align: top;\n",
       "    }\n",
       "\n",
       "    .dataframe thead th {\n",
       "        text-align: right;\n",
       "    }\n",
       "</style>\n",
       "<table border=\"1\" class=\"dataframe\">\n",
       "  <thead>\n",
       "    <tr style=\"text-align: right;\">\n",
       "      <th></th>\n",
       "      <th>user_id</th>\n",
       "      <th>name</th>\n",
       "      <th>age</th>\n",
       "      <th>city</th>\n",
       "      <th>subscription_type</th>\n",
       "    </tr>\n",
       "  </thead>\n",
       "  <tbody>\n",
       "    <tr>\n",
       "      <th>1534</th>\n",
       "      <td>293</td>\n",
       "      <td>Агата</td>\n",
       "      <td>26</td>\n",
       "      <td>Краснодар</td>\n",
       "      <td>ultra</td>\n",
       "    </tr>\n",
       "    <tr>\n",
       "      <th>1535</th>\n",
       "      <td>16</td>\n",
       "      <td>Амалия</td>\n",
       "      <td>27</td>\n",
       "      <td>Краснодар</td>\n",
       "      <td>ultra</td>\n",
       "    </tr>\n",
       "    <tr>\n",
       "      <th>1536</th>\n",
       "      <td>909</td>\n",
       "      <td>Константин</td>\n",
       "      <td>20</td>\n",
       "      <td>Екатеринбург</td>\n",
       "      <td>free</td>\n",
       "    </tr>\n",
       "    <tr>\n",
       "      <th>1537</th>\n",
       "      <td>403</td>\n",
       "      <td>Полина</td>\n",
       "      <td>19</td>\n",
       "      <td>Сочи</td>\n",
       "      <td>ultra</td>\n",
       "    </tr>\n",
       "    <tr>\n",
       "      <th>1538</th>\n",
       "      <td>908</td>\n",
       "      <td>Рустам</td>\n",
       "      <td>30</td>\n",
       "      <td>Тюмень</td>\n",
       "      <td>free</td>\n",
       "    </tr>\n",
       "  </tbody>\n",
       "</table>\n",
       "</div>"
      ]
     },
     "execution_count": 12,
     "metadata": {},
     "output_type": "execute_result"
    }
   ],
   "execution_count": 12
  },
  {
   "cell_type": "code",
   "id": "ce00bed820a3fc94",
   "metadata": {
    "ExecuteTime": {
     "end_time": "2025-01-24T16:13:58.533338Z",
     "start_time": "2025-01-24T16:13:58.530602Z"
    }
   },
   "source": [
    "# Перед удалением дубликатов, проверим, нет ли неочевидной разницы\n",
    "users_df[users_df['user_id'] == 293]"
   ],
   "outputs": [
    {
     "data": {
      "text/plain": [
       "      user_id   name  age       city subscription_type\n",
       "292       293  Агата   26  Краснодар             ultra\n",
       "1534      293  Агата   26  Краснодар             ultra"
      ],
      "text/html": [
       "<div>\n",
       "<style scoped>\n",
       "    .dataframe tbody tr th:only-of-type {\n",
       "        vertical-align: middle;\n",
       "    }\n",
       "\n",
       "    .dataframe tbody tr th {\n",
       "        vertical-align: top;\n",
       "    }\n",
       "\n",
       "    .dataframe thead th {\n",
       "        text-align: right;\n",
       "    }\n",
       "</style>\n",
       "<table border=\"1\" class=\"dataframe\">\n",
       "  <thead>\n",
       "    <tr style=\"text-align: right;\">\n",
       "      <th></th>\n",
       "      <th>user_id</th>\n",
       "      <th>name</th>\n",
       "      <th>age</th>\n",
       "      <th>city</th>\n",
       "      <th>subscription_type</th>\n",
       "    </tr>\n",
       "  </thead>\n",
       "  <tbody>\n",
       "    <tr>\n",
       "      <th>292</th>\n",
       "      <td>293</td>\n",
       "      <td>Агата</td>\n",
       "      <td>26</td>\n",
       "      <td>Краснодар</td>\n",
       "      <td>ultra</td>\n",
       "    </tr>\n",
       "    <tr>\n",
       "      <th>1534</th>\n",
       "      <td>293</td>\n",
       "      <td>Агата</td>\n",
       "      <td>26</td>\n",
       "      <td>Краснодар</td>\n",
       "      <td>ultra</td>\n",
       "    </tr>\n",
       "  </tbody>\n",
       "</table>\n",
       "</div>"
      ]
     },
     "execution_count": 13,
     "metadata": {},
     "output_type": "execute_result"
    }
   ],
   "execution_count": 13
  },
  {
   "cell_type": "code",
   "id": "ae0b6877a36563cd",
   "metadata": {
    "ExecuteTime": {
     "end_time": "2025-01-24T16:13:58.593890Z",
     "start_time": "2025-01-24T16:13:58.589663Z"
    }
   },
   "source": [
    "# Удаляем дубликаты\n",
    "users_df = users_df.drop_duplicates().reset_index(drop=True)\n",
    "\n",
    "print(users_df.duplicated().sum())\n",
    "users_df.head()"
   ],
   "outputs": [
    {
     "name": "stdout",
     "output_type": "stream",
     "text": [
      "0\n"
     ]
    },
    {
     "data": {
      "text/plain": [
       "   user_id        name  age            city subscription_type\n",
       "0        1        Кира   22          Тюмень             ultra\n",
       "1        2   Станислав   31            Омск             ultra\n",
       "2        3     Алексей   20          Москва             ultra\n",
       "3        4  Константин   26  Ростов-на-Дону             ultra\n",
       "4        5       Адель   28            Омск             ultra"
      ],
      "text/html": [
       "<div>\n",
       "<style scoped>\n",
       "    .dataframe tbody tr th:only-of-type {\n",
       "        vertical-align: middle;\n",
       "    }\n",
       "\n",
       "    .dataframe tbody tr th {\n",
       "        vertical-align: top;\n",
       "    }\n",
       "\n",
       "    .dataframe thead th {\n",
       "        text-align: right;\n",
       "    }\n",
       "</style>\n",
       "<table border=\"1\" class=\"dataframe\">\n",
       "  <thead>\n",
       "    <tr style=\"text-align: right;\">\n",
       "      <th></th>\n",
       "      <th>user_id</th>\n",
       "      <th>name</th>\n",
       "      <th>age</th>\n",
       "      <th>city</th>\n",
       "      <th>subscription_type</th>\n",
       "    </tr>\n",
       "  </thead>\n",
       "  <tbody>\n",
       "    <tr>\n",
       "      <th>0</th>\n",
       "      <td>1</td>\n",
       "      <td>Кира</td>\n",
       "      <td>22</td>\n",
       "      <td>Тюмень</td>\n",
       "      <td>ultra</td>\n",
       "    </tr>\n",
       "    <tr>\n",
       "      <th>1</th>\n",
       "      <td>2</td>\n",
       "      <td>Станислав</td>\n",
       "      <td>31</td>\n",
       "      <td>Омск</td>\n",
       "      <td>ultra</td>\n",
       "    </tr>\n",
       "    <tr>\n",
       "      <th>2</th>\n",
       "      <td>3</td>\n",
       "      <td>Алексей</td>\n",
       "      <td>20</td>\n",
       "      <td>Москва</td>\n",
       "      <td>ultra</td>\n",
       "    </tr>\n",
       "    <tr>\n",
       "      <th>3</th>\n",
       "      <td>4</td>\n",
       "      <td>Константин</td>\n",
       "      <td>26</td>\n",
       "      <td>Ростов-на-Дону</td>\n",
       "      <td>ultra</td>\n",
       "    </tr>\n",
       "    <tr>\n",
       "      <th>4</th>\n",
       "      <td>5</td>\n",
       "      <td>Адель</td>\n",
       "      <td>28</td>\n",
       "      <td>Омск</td>\n",
       "      <td>ultra</td>\n",
       "    </tr>\n",
       "  </tbody>\n",
       "</table>\n",
       "</div>"
      ]
     },
     "execution_count": 14,
     "metadata": {},
     "output_type": "execute_result"
    }
   ],
   "execution_count": 14
  },
  {
   "cell_type": "markdown",
   "id": "9cc02440ffbe6b9e",
   "metadata": {},
   "source": [
    "##### Вывод:\n",
    "- В датафрейме `rides_df` мы привели столбец `date` к корректному типу данных.\n",
    "- В датафрейме `users_df` мы удалили 31 неявный дубликат"
   ]
  },
  {
   "cell_type": "code",
   "id": "f71e862f",
   "metadata": {
    "ExecuteTime": {
     "end_time": "2025-01-24T16:13:58.669655Z",
     "start_time": "2025-01-24T16:13:58.666075Z"
    }
   },
   "source": [
    "temp = rides_df.copy() # Создаем копию, что бы не изменять текущий датасет\n",
    "display(temp['distance'].head(3))\n",
    "\n",
    "# Округление расстояния\n",
    "temp['distance'] = temp['distance'].round(2)\n",
    "temp['distance'].head(3)"
   ],
   "outputs": [
    {
     "data": {
      "text/plain": [
       "0    4409.919140\n",
       "1    2617.592153\n",
       "2     754.159807\n",
       "Name: distance, dtype: float64"
      ]
     },
     "metadata": {},
     "output_type": "display_data"
    },
    {
     "data": {
      "text/plain": [
       "0    4409.92\n",
       "1    2617.59\n",
       "2     754.16\n",
       "Name: distance, dtype: float64"
      ]
     },
     "execution_count": 15,
     "metadata": {},
     "output_type": "execute_result"
    }
   ],
   "execution_count": 15
  },
  {
   "cell_type": "markdown",
   "id": "212593c7",
   "metadata": {},
   "source": [
    "#### Шаг 3. Исследовательский анализ данных"
   ]
  },
  {
   "cell_type": "markdown",
   "id": "7a24cc5a",
   "metadata": {},
   "source": [
    "Проведем исследовательский анализ данных. Изучим следующие параметры:\n",
    "1. Насколько часто встречаются города \n",
    "2. Соотношение пользователя с подпиской и без нее\n",
    "3. Возраст пользователей\n",
    "4. Расстояние, которое пользователь преодолел за одну поездку\n",
    "5. Продолжительность поездок"
   ]
  },
  {
   "cell_type": "markdown",
   "id": "d47e6ef3",
   "metadata": {},
   "source": [
    "##### Частота городов\n",
    "\n",
    "Посмотрим, сколько пользователей в каждом из городов"
   ]
  },
  {
   "cell_type": "code",
   "id": "e3a4274c",
   "metadata": {
    "ExecuteTime": {
     "end_time": "2025-01-24T16:13:58.742741Z",
     "start_time": "2025-01-24T16:13:58.739499Z"
    }
   },
   "source": [
    "users_df"
   ],
   "outputs": [
    {
     "data": {
      "text/plain": [
       "      user_id        name  age            city subscription_type\n",
       "0           1        Кира   22          Тюмень             ultra\n",
       "1           2   Станислав   31            Омск             ultra\n",
       "2           3     Алексей   20          Москва             ultra\n",
       "3           4  Константин   26  Ростов-на-Дону             ultra\n",
       "4           5       Адель   28            Омск             ultra\n",
       "...       ...         ...  ...             ...               ...\n",
       "1529     1530   Ростислав   29            Сочи              free\n",
       "1530     1531      Никита   25       Пятигорск              free\n",
       "1531     1532     Алексей   26          Тюмень              free\n",
       "1532     1533      Степан   22       Краснодар              free\n",
       "1533     1534     Альберт   25       Краснодар              free\n",
       "\n",
       "[1534 rows x 5 columns]"
      ],
      "text/html": [
       "<div>\n",
       "<style scoped>\n",
       "    .dataframe tbody tr th:only-of-type {\n",
       "        vertical-align: middle;\n",
       "    }\n",
       "\n",
       "    .dataframe tbody tr th {\n",
       "        vertical-align: top;\n",
       "    }\n",
       "\n",
       "    .dataframe thead th {\n",
       "        text-align: right;\n",
       "    }\n",
       "</style>\n",
       "<table border=\"1\" class=\"dataframe\">\n",
       "  <thead>\n",
       "    <tr style=\"text-align: right;\">\n",
       "      <th></th>\n",
       "      <th>user_id</th>\n",
       "      <th>name</th>\n",
       "      <th>age</th>\n",
       "      <th>city</th>\n",
       "      <th>subscription_type</th>\n",
       "    </tr>\n",
       "  </thead>\n",
       "  <tbody>\n",
       "    <tr>\n",
       "      <th>0</th>\n",
       "      <td>1</td>\n",
       "      <td>Кира</td>\n",
       "      <td>22</td>\n",
       "      <td>Тюмень</td>\n",
       "      <td>ultra</td>\n",
       "    </tr>\n",
       "    <tr>\n",
       "      <th>1</th>\n",
       "      <td>2</td>\n",
       "      <td>Станислав</td>\n",
       "      <td>31</td>\n",
       "      <td>Омск</td>\n",
       "      <td>ultra</td>\n",
       "    </tr>\n",
       "    <tr>\n",
       "      <th>2</th>\n",
       "      <td>3</td>\n",
       "      <td>Алексей</td>\n",
       "      <td>20</td>\n",
       "      <td>Москва</td>\n",
       "      <td>ultra</td>\n",
       "    </tr>\n",
       "    <tr>\n",
       "      <th>3</th>\n",
       "      <td>4</td>\n",
       "      <td>Константин</td>\n",
       "      <td>26</td>\n",
       "      <td>Ростов-на-Дону</td>\n",
       "      <td>ultra</td>\n",
       "    </tr>\n",
       "    <tr>\n",
       "      <th>4</th>\n",
       "      <td>5</td>\n",
       "      <td>Адель</td>\n",
       "      <td>28</td>\n",
       "      <td>Омск</td>\n",
       "      <td>ultra</td>\n",
       "    </tr>\n",
       "    <tr>\n",
       "      <th>...</th>\n",
       "      <td>...</td>\n",
       "      <td>...</td>\n",
       "      <td>...</td>\n",
       "      <td>...</td>\n",
       "      <td>...</td>\n",
       "    </tr>\n",
       "    <tr>\n",
       "      <th>1529</th>\n",
       "      <td>1530</td>\n",
       "      <td>Ростислав</td>\n",
       "      <td>29</td>\n",
       "      <td>Сочи</td>\n",
       "      <td>free</td>\n",
       "    </tr>\n",
       "    <tr>\n",
       "      <th>1530</th>\n",
       "      <td>1531</td>\n",
       "      <td>Никита</td>\n",
       "      <td>25</td>\n",
       "      <td>Пятигорск</td>\n",
       "      <td>free</td>\n",
       "    </tr>\n",
       "    <tr>\n",
       "      <th>1531</th>\n",
       "      <td>1532</td>\n",
       "      <td>Алексей</td>\n",
       "      <td>26</td>\n",
       "      <td>Тюмень</td>\n",
       "      <td>free</td>\n",
       "    </tr>\n",
       "    <tr>\n",
       "      <th>1532</th>\n",
       "      <td>1533</td>\n",
       "      <td>Степан</td>\n",
       "      <td>22</td>\n",
       "      <td>Краснодар</td>\n",
       "      <td>free</td>\n",
       "    </tr>\n",
       "    <tr>\n",
       "      <th>1533</th>\n",
       "      <td>1534</td>\n",
       "      <td>Альберт</td>\n",
       "      <td>25</td>\n",
       "      <td>Краснодар</td>\n",
       "      <td>free</td>\n",
       "    </tr>\n",
       "  </tbody>\n",
       "</table>\n",
       "<p>1534 rows × 5 columns</p>\n",
       "</div>"
      ]
     },
     "execution_count": 16,
     "metadata": {},
     "output_type": "execute_result"
    }
   ],
   "execution_count": 16
  },
  {
   "cell_type": "code",
   "id": "9b0e923af2cc72af",
   "metadata": {
    "ExecuteTime": {
     "end_time": "2025-01-24T16:13:58.953333Z",
     "start_time": "2025-01-24T16:13:58.905617Z"
    }
   },
   "source": [
    "# Создадим сводную таблицу для пользователей\n",
    "pivot_table_df = (users_df.pivot_table(index='city', values='age',\n",
    "                                      aggfunc=('median', 'mean', 'count', 'min', 'max'))\n",
    "                                      .sort_values('count', ascending=False))\n",
    "\n",
    "plt.figure(figsize=(12, 6))\n",
    "plt.barh(pivot_table_df.index, pivot_table_df['count'])\n",
    "plt.xlabel('Город')\n",
    "plt.ylabel('Количество пользователей')\n",
    "plt.title('Частота встречаемости городов')\n",
    "\n",
    "plt.show()"
   ],
   "outputs": [
    {
     "data": {
      "text/plain": [
       "<Figure size 1200x600 with 1 Axes>"
      ],
      "image/png": "[encoded data removed]"
     },
     "metadata": {},
     "output_type": "display_data"
    }
   ],
   "execution_count": 17
  },
  {
   "cell_type": "code",
   "id": "5a4fcfed",
   "metadata": {
    "ExecuteTime": {
     "end_time": "2025-01-24T16:13:59.026008Z",
     "start_time": "2025-01-24T16:13:59.023911Z"
    }
   },
   "source": [
    "pivot_table_df['count']"
   ],
   "outputs": [
    {
     "data": {
      "text/plain": [
       "city\n",
       "Пятигорск         219\n",
       "Екатеринбург      204\n",
       "Ростов-на-Дону    198\n",
       "Краснодар         193\n",
       "Сочи              189\n",
       "Омск              183\n",
       "Тюмень            180\n",
       "Москва            168\n",
       "Name: count, dtype: int64"
      ]
     },
     "execution_count": 18,
     "metadata": {},
     "output_type": "execute_result"
    }
   ],
   "execution_count": 18
  },
  {
   "cell_type": "markdown",
   "id": "9742b0d838bb9b3c",
   "metadata": {},
   "source": [
    "Мы можем наблюдать, что меньше всего пользователей сервиса приходится в Москве, в то время как больше всего в Пятигорске. Однако количество пользователей распределено примерно одинаково по всем городам. В Пятигорске примерно на 60 пользователей больше, чем в Москве"
   ]
  },
  {
   "cell_type": "markdown",
   "id": "d07ba4d2",
   "metadata": {},
   "source": [
    "##### Соотношение пользователей\n",
    "\n",
    "Посмотрим на то, какое у нас соотношение пользоватей с подпиской и без нее"
   ]
  },
  {
   "cell_type": "code",
   "id": "3dbf3ed87bc67e9",
   "metadata": {
    "ExecuteTime": {
     "end_time": "2025-01-24T16:13:59.085676Z",
     "start_time": "2025-01-24T16:13:59.063535Z"
    }
   },
   "source": [
    "# Нарисуем круговую диаграмму соотношения пользователей\n",
    "plt.figure(figsize=(7, 7))\n",
    "plt.pie(\n",
    "    (users_df.loc[users_df['subscription_type'] == 'free', 'subscription_type'].count(),\n",
    "     users_df.loc[users_df['subscription_type'] == 'ultra', 'subscription_type'].count()),\n",
    "    labels=('Пользователи с бесплатной подпиской', 'Пользователи с платной подпиской'),\n",
    "    autopct='%1.0f%%'\n",
    ")\n",
    "\n",
    "plt.title('Соотношение пользователей')\n",
    "plt.show()\n",
    "\n",
    "print(f\"Всего у нас\\\n",
    "{users_df.loc[users_df['subscription_type'] == 'free', 'subscription_type'].count()}\\\n",
    "пользователей с бесплатной подпиской и\\\n",
    "{users_df.loc[users_df['subscription_type'] == 'ultra', 'subscription_type'].count()}\\\n",
    "пользователей с платной подпиской \\n \")\n",
    "\n",
    "print(f\"На одного пользователя с платной подпиской приходится\\\n",
    "{users_df.loc[users_df['subscription_type'] == 'free', 'subscription_type'].count() / users_df.loc[users_df['subscription_type'] == 'ultra', 'subscription_type'].count():.2f}\\\n",
    "пользователей с бесплатной подпиской\")"
   ],
   "outputs": [
    {
     "data": {
      "text/plain": [
       "<Figure size 700x700 with 1 Axes>"
      ],
      "image/png": "[encoded data removed]"
     },
     "metadata": {},
     "output_type": "display_data"
    },
    {
     "name": "stdout",
     "output_type": "stream",
     "text": [
      "Всего у нас835пользователей с бесплатной подпиской и699пользователей с платной подпиской \n",
      " \n",
      "На одного пользователя с платной подпиской приходится1.19пользователей с бесплатной подпиской\n"
     ]
    }
   ],
   "execution_count": 19
  },
  {
   "cell_type": "markdown",
   "id": "b65b202c",
   "metadata": {},
   "source": [
    "##### Анализ возраста пользователей\n",
    "\n",
    "Посмотрим на то, как распределен возраст пользователей. Ранее мы созадавали сводную таблицу с возрастом, выведем ее"
   ]
  },
  {
   "cell_type": "code",
   "id": "724f5aeeab8a2098",
   "metadata": {
    "ExecuteTime": {
     "end_time": "2025-01-24T16:13:59.115340Z",
     "start_time": "2025-01-24T16:13:59.112273Z"
    }
   },
   "source": [
    "# Проанализируем возраст пользователей сервиса\n",
    "pivot_table_df"
   ],
   "outputs": [
    {
     "data": {
      "text/plain": [
       "                count  max       mean  median  min\n",
       "city                                              \n",
       "Пятигорск         219   36  24.716895    25.0   12\n",
       "Екатеринбург      204   35  24.955882    25.0   13\n",
       "Ростов-на-Дону    198   37  24.545455    25.0   12\n",
       "Краснодар         193   38  25.290155    25.0   13\n",
       "Сочи              189   36  24.507937    25.0   12\n",
       "Омск              183   38  25.382514    26.0   13\n",
       "Тюмень            180   38  24.638889    25.0   13\n",
       "Москва            168   43  25.267857    25.0   13"
      ],
      "text/html": [
       "<div>\n",
       "<style scoped>\n",
       "    .dataframe tbody tr th:only-of-type {\n",
       "        vertical-align: middle;\n",
       "    }\n",
       "\n",
       "    .dataframe tbody tr th {\n",
       "        vertical-align: top;\n",
       "    }\n",
       "\n",
       "    .dataframe thead th {\n",
       "        text-align: right;\n",
       "    }\n",
       "</style>\n",
       "<table border=\"1\" class=\"dataframe\">\n",
       "  <thead>\n",
       "    <tr style=\"text-align: right;\">\n",
       "      <th></th>\n",
       "      <th>count</th>\n",
       "      <th>max</th>\n",
       "      <th>mean</th>\n",
       "      <th>median</th>\n",
       "      <th>min</th>\n",
       "    </tr>\n",
       "    <tr>\n",
       "      <th>city</th>\n",
       "      <th></th>\n",
       "      <th></th>\n",
       "      <th></th>\n",
       "      <th></th>\n",
       "      <th></th>\n",
       "    </tr>\n",
       "  </thead>\n",
       "  <tbody>\n",
       "    <tr>\n",
       "      <th>Пятигорск</th>\n",
       "      <td>219</td>\n",
       "      <td>36</td>\n",
       "      <td>24.716895</td>\n",
       "      <td>25.0</td>\n",
       "      <td>12</td>\n",
       "    </tr>\n",
       "    <tr>\n",
       "      <th>Екатеринбург</th>\n",
       "      <td>204</td>\n",
       "      <td>35</td>\n",
       "      <td>24.955882</td>\n",
       "      <td>25.0</td>\n",
       "      <td>13</td>\n",
       "    </tr>\n",
       "    <tr>\n",
       "      <th>Ростов-на-Дону</th>\n",
       "      <td>198</td>\n",
       "      <td>37</td>\n",
       "      <td>24.545455</td>\n",
       "      <td>25.0</td>\n",
       "      <td>12</td>\n",
       "    </tr>\n",
       "    <tr>\n",
       "      <th>Краснодар</th>\n",
       "      <td>193</td>\n",
       "      <td>38</td>\n",
       "      <td>25.290155</td>\n",
       "      <td>25.0</td>\n",
       "      <td>13</td>\n",
       "    </tr>\n",
       "    <tr>\n",
       "      <th>Сочи</th>\n",
       "      <td>189</td>\n",
       "      <td>36</td>\n",
       "      <td>24.507937</td>\n",
       "      <td>25.0</td>\n",
       "      <td>12</td>\n",
       "    </tr>\n",
       "    <tr>\n",
       "      <th>Омск</th>\n",
       "      <td>183</td>\n",
       "      <td>38</td>\n",
       "      <td>25.382514</td>\n",
       "      <td>26.0</td>\n",
       "      <td>13</td>\n",
       "    </tr>\n",
       "    <tr>\n",
       "      <th>Тюмень</th>\n",
       "      <td>180</td>\n",
       "      <td>38</td>\n",
       "      <td>24.638889</td>\n",
       "      <td>25.0</td>\n",
       "      <td>13</td>\n",
       "    </tr>\n",
       "    <tr>\n",
       "      <th>Москва</th>\n",
       "      <td>168</td>\n",
       "      <td>43</td>\n",
       "      <td>25.267857</td>\n",
       "      <td>25.0</td>\n",
       "      <td>13</td>\n",
       "    </tr>\n",
       "  </tbody>\n",
       "</table>\n",
       "</div>"
      ]
     },
     "execution_count": 20,
     "metadata": {},
     "output_type": "execute_result"
    }
   ],
   "execution_count": 20
  },
  {
   "cell_type": "code",
   "id": "62f8e4e04b03ea7",
   "metadata": {
    "ExecuteTime": {
     "end_time": "2025-01-24T16:13:59.214879Z",
     "start_time": "2025-01-24T16:13:59.169224Z"
    }
   },
   "source": [
    "\n",
    "pivot_table_df[['min', 'median', 'max']].plot(kind='bar', stacked=False, figsize=(12, 6))\n",
    "plt.xticks(rotation=45)\n",
    "plt.xlabel('Город')\n",
    "plt.ylabel('Возраст')\n",
    "\n",
    "plt.grid(axis='y')\n",
    "plt.show()"
   ],
   "outputs": [
    {
     "data": {
      "text/plain": [
       "<Figure size 1200x600 with 1 Axes>"
      ],
      "image/png": "[encoded data removed]"
     },
     "metadata": {},
     "output_type": "display_data"
    }
   ],
   "execution_count": 21
  },
  {
   "cell_type": "markdown",
   "id": "613746d0f2156b8c",
   "metadata": {},
   "source": [
    "Мы можем наблюдать, что минимальный, медианный, и максимальный возраст пользователей не сильно отличается в зависимости от города. Однако мы можем отметить Москву, как город, в котором максимальный возраст значительно отличается в сравнении с остальными городами. В Москве максимальный возраст составляет аж 43 года."
   ]
  },
  {
   "cell_type": "code",
   "id": "65ab575b",
   "metadata": {
    "ExecuteTime": {
     "end_time": "2025-01-24T16:13:59.291425Z",
     "start_time": "2025-01-24T16:13:59.241481Z"
    }
   },
   "source": [
    "# Потроим гистограмму возраста пользователей\n",
    "plt.figure(figsize=(12, 6))\n",
    "\n",
    "plt.hist(users_df['age'], bins=30)\n",
    "plt.xlabel('Возраст')\n",
    "plt.xticks(range(10,45,2))\n",
    "plt.ylabel('Количество')\n",
    "plt.title('Возраст пользователей')\n",
    "\n",
    "plt.grid()\n",
    "plt.show()"
   ],
   "outputs": [
    {
     "data": {
      "text/plain": [
       "<Figure size 1200x600 with 1 Axes>"
      ],
      "image/png": "[encoded data removed]"
     },
     "metadata": {},
     "output_type": "display_data"
    }
   ],
   "execution_count": 22
  },
  {
   "cell_type": "markdown",
   "id": "bed400a5",
   "metadata": {},
   "source": [
    "Мы можем видеть, что расределение возраста похоже на нормальное, с медианным значением, равным примерно  25."
   ]
  },
  {
   "cell_type": "markdown",
   "id": "8da98768",
   "metadata": {},
   "source": [
    "##### Расстояние, преодоленное за одну поездку\n",
    "\n",
    "Посмотрим, как распределено расстояние, сорвешненое за одну поездку, а так же как это расстояние меняется в зависиммости от месяца и дня недели"
   ]
  },
  {
   "cell_type": "code",
   "id": "f2010bb138909991",
   "metadata": {
    "ExecuteTime": {
     "end_time": "2025-01-24T16:13:59.306247Z",
     "start_time": "2025-01-24T16:13:59.303337Z"
    }
   },
   "source": [
    "rides_df.head()"
   ],
   "outputs": [
    {
     "data": {
      "text/plain": [
       "   user_id     distance   duration       date  month  weekday\n",
       "0        1  4409.919140  25.599769 2021-01-01      1        4\n",
       "1        1  2617.592153  15.816871 2021-01-18      1        0\n",
       "2        1   754.159807   6.232113 2021-04-20      4        1\n",
       "3        1  2694.783254  18.511000 2021-08-11      8        2\n",
       "4        1  4028.687306  26.265803 2021-08-28      8        5"
      ],
      "text/html": [
       "<div>\n",
       "<style scoped>\n",
       "    .dataframe tbody tr th:only-of-type {\n",
       "        vertical-align: middle;\n",
       "    }\n",
       "\n",
       "    .dataframe tbody tr th {\n",
       "        vertical-align: top;\n",
       "    }\n",
       "\n",
       "    .dataframe thead th {\n",
       "        text-align: right;\n",
       "    }\n",
       "</style>\n",
       "<table border=\"1\" class=\"dataframe\">\n",
       "  <thead>\n",
       "    <tr style=\"text-align: right;\">\n",
       "      <th></th>\n",
       "      <th>user_id</th>\n",
       "      <th>distance</th>\n",
       "      <th>duration</th>\n",
       "      <th>date</th>\n",
       "      <th>month</th>\n",
       "      <th>weekday</th>\n",
       "    </tr>\n",
       "  </thead>\n",
       "  <tbody>\n",
       "    <tr>\n",
       "      <th>0</th>\n",
       "      <td>1</td>\n",
       "      <td>4409.919140</td>\n",
       "      <td>25.599769</td>\n",
       "      <td>2021-01-01</td>\n",
       "      <td>1</td>\n",
       "      <td>4</td>\n",
       "    </tr>\n",
       "    <tr>\n",
       "      <th>1</th>\n",
       "      <td>1</td>\n",
       "      <td>2617.592153</td>\n",
       "      <td>15.816871</td>\n",
       "      <td>2021-01-18</td>\n",
       "      <td>1</td>\n",
       "      <td>0</td>\n",
       "    </tr>\n",
       "    <tr>\n",
       "      <th>2</th>\n",
       "      <td>1</td>\n",
       "      <td>754.159807</td>\n",
       "      <td>6.232113</td>\n",
       "      <td>2021-04-20</td>\n",
       "      <td>4</td>\n",
       "      <td>1</td>\n",
       "    </tr>\n",
       "    <tr>\n",
       "      <th>3</th>\n",
       "      <td>1</td>\n",
       "      <td>2694.783254</td>\n",
       "      <td>18.511000</td>\n",
       "      <td>2021-08-11</td>\n",
       "      <td>8</td>\n",
       "      <td>2</td>\n",
       "    </tr>\n",
       "    <tr>\n",
       "      <th>4</th>\n",
       "      <td>1</td>\n",
       "      <td>4028.687306</td>\n",
       "      <td>26.265803</td>\n",
       "      <td>2021-08-28</td>\n",
       "      <td>8</td>\n",
       "      <td>5</td>\n",
       "    </tr>\n",
       "  </tbody>\n",
       "</table>\n",
       "</div>"
      ]
     },
     "execution_count": 23,
     "metadata": {},
     "output_type": "execute_result"
    }
   ],
   "execution_count": 23
  },
  {
   "cell_type": "code",
   "id": "60a47631",
   "metadata": {
    "ExecuteTime": {
     "end_time": "2025-01-24T16:13:59.385882Z",
     "start_time": "2025-01-24T16:13:59.342024Z"
    }
   },
   "source": [
    "# Потроим гистограмму расстояния, которое преодолели пользователи\n",
    "plt.figure(figsize=(12, 6))\n",
    "\n",
    "plt.hist(rides_df['distance'], bins=30)\n",
    "plt.xlabel('Расстояние, м.')\n",
    "# plt.xticks(range(10,45,2))\n",
    "plt.ylabel('Количество')\n",
    "plt.title('Расстояние, которое преодолели пользователи')\n",
    "\n",
    "plt.grid()\n",
    "plt.show()"
   ],
   "outputs": [
    {
     "data": {
      "text/plain": [
       "<Figure size 1200x600 with 1 Axes>"
      ],
      "image/png": "[encoded data removed]"
     },
     "metadata": {},
     "output_type": "display_data"
    }
   ],
   "execution_count": 24
  },
  {
   "cell_type": "markdown",
   "id": "57a4a317",
   "metadata": {},
   "source": [
    "Мы видим, что есть определенный \"пласт\" пользователей, которые арендуют самокат на небольшие расстояния. Скорее всего, такие пользователи арендуют его для того, чтобы добраться до ближайшего метро. Далее мы видим \"всплеск\" пользователей, которые арендуют самокаты на более продолжительное расстояние. Скорее всего, такие пользователи арендуют их для прогулки, либо для того, чтобы добраться куда-то, не дожидаясь общественного транспорта"
   ]
  },
  {
   "cell_type": "code",
   "id": "49ccf86b4f24c73d",
   "metadata": {
    "ExecuteTime": {
     "end_time": "2025-01-24T16:13:59.462595Z",
     "start_time": "2025-01-24T16:13:59.412628Z"
    }
   },
   "source": [
    "# Посмотрим на то, как месяц влияет на дистанцию поездки\n",
    "pivot_table_df = rides_df.pivot_table(index='month', values='distance',\n",
    "                                      aggfunc=('mean', 'median', 'min', 'max', 'count')).sort_values('month')\n",
    "\n",
    "pivot_table_df = pivot_table_df.rename(index={\n",
    "    1: 'Январь',\n",
    "    2: 'Февраль',\n",
    "    3: 'Март',\n",
    "    4: 'Апрель',\n",
    "    5: 'Май',\n",
    "    6: 'Июнь',\n",
    "    7: 'Июль',\n",
    "    8: 'Август',\n",
    "    9: 'Сентябрь',\n",
    "    10: 'Октябрь',\n",
    "    11: 'Ноябрь',\n",
    "    12: 'Декабрь'\n",
    "}).reset_index()\n",
    "\n",
    "plt.figure(figsize=(12, 6))\n",
    "plt.plot(pivot_table_df['month'], pivot_table_df[['mean', 'median']], marker='o')\n",
    "plt.xlabel('Месяц')\n",
    "plt.ylabel('Расстояние, м.')\n",
    "plt.title('Расстояние, которое пользователь преодолел за одну поездку')\n",
    "plt.legend(('Среднее расстояние', 'Медианное расстояние'))\n",
    "\n",
    "plt.grid(True)\n",
    "plt.show()"
   ],
   "outputs": [
    {
     "data": {
      "text/plain": [
       "<Figure size 1200x600 with 1 Axes>"
      ],
      "image/png": "[encoded data removed]"
     },
     "metadata": {},
     "output_type": "display_data"
    }
   ],
   "execution_count": 25
  },
  {
   "cell_type": "markdown",
   "id": "76ee4a5bc72f9ea2",
   "metadata": {},
   "source": [
    "Мы видим, что в расстояние, которое преодолевает на самокате больше всего в теплые месяцы, однако стоит отметить \"выброс\" в декабре и январе. "
   ]
  },
  {
   "cell_type": "code",
   "id": "8c38eca5ded9c95f",
   "metadata": {
    "ExecuteTime": {
     "end_time": "2025-01-24T16:13:59.508942Z",
     "start_time": "2025-01-24T16:13:59.466693Z"
    }
   },
   "source": [
    "# Посмотрим на то, как день недели влияет на дистанцию поездки\n",
    "pivot_table_df = rides_df.pivot_table(index='weekday', values='distance',\n",
    "                                      aggfunc=('mean', 'median', 'min', 'max')).sort_values('weekday')\n",
    "\n",
    "pivot_table_df = pivot_table_df.rename(index={\n",
    "    0: 'Понедельник',\n",
    "    1: 'Вторник',\n",
    "    2: 'Среда',\n",
    "    3: 'Четверг',\n",
    "    4: 'Пятница',\n",
    "    5: 'Суббота',\n",
    "    6: 'Воскресенье'}).reset_index()\n",
    "\n",
    "# Рисуем график\n",
    "plt.figure(figsize=(12, 6))\n",
    "plt.plot(pivot_table_df['weekday'], pivot_table_df[['mean', 'median']], marker='o')\n",
    "plt.xlabel('День недели')\n",
    "plt.ylabel('Расстояние, м.')\n",
    "plt.title('Расстояние, которое пользователь преодолел за одну поездку')\n",
    "plt.legend(('Среднее расстояние', 'Медианное расстояние'))\n",
    "\n",
    "plt.grid(True)\n",
    "plt.show()"
   ],
   "outputs": [
    {
     "data": {
      "text/plain": [
       "<Figure size 1200x600 with 1 Axes>"
      ],
      "image/png": "[encoded data removed]"
     },
     "metadata": {},
     "output_type": "display_data"
    }
   ],
   "execution_count": 26
  },
  {
   "cell_type": "markdown",
   "id": "b736508520e1248",
   "metadata": {},
   "source": [
    "Мы видим, что наибольшее медианное расстояние пользователи проезжают по понедельникам, и вторникам, далее тенденция идет на спад. Меньше всего пользователи сервиса проезжают в пятницу."
   ]
  },
  {
   "cell_type": "markdown",
   "id": "bf7f847c",
   "metadata": {},
   "source": [
    "##### Анализ продолжительности поездок\n",
    "\n",
    "Посмотрим на то, как распределена продолжительность поездок, а так же как на продолжительность влияет месяц и день недели"
   ]
  },
  {
   "cell_type": "code",
   "id": "1f9459e3",
   "metadata": {
    "ExecuteTime": {
     "end_time": "2025-01-24T16:13:59.559683Z",
     "start_time": "2025-01-24T16:13:59.514811Z"
    }
   },
   "source": [
    "# Потроим гистограмму продолжительнотсти поездок\n",
    "plt.figure(figsize=(12, 6))\n",
    "\n",
    "plt.hist(rides_df['duration'], bins=30)\n",
    "plt.xlabel('Время, м.')\n",
    "# plt.xticks(range(10,45,2))\n",
    "plt.ylabel('Количество')\n",
    "plt.title('Время, потраченное пользователями')\n",
    "\n",
    "plt.grid()\n",
    "plt.show()"
   ],
   "outputs": [
    {
     "data": {
      "text/plain": [
       "<Figure size 1200x600 with 1 Axes>"
      ],
      "image/png": "[encoded data removed]"
     },
     "metadata": {},
     "output_type": "display_data"
    }
   ],
   "execution_count": 27
  },
  {
   "cell_type": "markdown",
   "id": "a2baba00",
   "metadata": {},
   "source": [
    "Мы видим, что время распределено тоже близко к нормально со средним примерно в 17 минут. Так же стоит отметить маленький выброс около нуля. Как мы видели ранее по гистограмме с дистанцией, у нас есть небольшой пласт пользователей, которые арендую самокаты на расстояние до 1км. На данной гистограмме это так же отражается"
   ]
  },
  {
   "cell_type": "code",
   "id": "c7e23c7e24ffa4f7",
   "metadata": {
    "ExecuteTime": {
     "end_time": "2025-01-24T16:13:59.609713Z",
     "start_time": "2025-01-24T16:13:59.565330Z"
    }
   },
   "source": [
    "# Посмотрим на время поездок, которые совершают пользователи в зависимости от месяца\n",
    "pivot_table_df = rides_df.pivot_table(index='month', values='duration',\n",
    "                                      aggfunc=('mean', 'median', 'min', 'max', 'count')).sort_values('month')\n",
    "\n",
    "pivot_table_df = pivot_table_df.rename(index={\n",
    "    1: 'Январь',\n",
    "    2: 'Февраль',\n",
    "    3: 'Март',\n",
    "    4: 'Апрель',\n",
    "    5: 'Май',\n",
    "    6: 'Июнь',\n",
    "    7: 'Июль',\n",
    "    8: 'Август',\n",
    "    9: 'Сентябрь',\n",
    "    10: 'Октябрь',\n",
    "    11: 'Ноябрь',\n",
    "    12: 'Декабрь'\n",
    "}).reset_index()\n",
    "\n",
    "plt.figure(figsize=(12, 6))\n",
    "plt.plot(pivot_table_df['month'], pivot_table_df[['mean', 'median']], marker='o')\n",
    "plt.xlabel('Месяц')\n",
    "plt.ylabel('Время, м.')\n",
    "plt.title('Время, которое потратил пользователь')\n",
    "plt.legend(('Среднее время', 'Медианное время'))\n",
    "\n",
    "plt.grid(True)\n",
    "plt.show()"
   ],
   "outputs": [
    {
     "data": {
      "text/plain": [
       "<Figure size 1200x600 with 1 Axes>"
      ],
      "image/png": "[encoded data removed]"
     },
     "metadata": {},
     "output_type": "display_data"
    }
   ],
   "execution_count": 28
  },
  {
   "cell_type": "markdown",
   "id": "70712d0f5d665714",
   "metadata": {},
   "source": [
    "Мы можем наблюдать то, что в теплые месяцы время поездки закономерно выше, чем в холодные, однако опять же декабрь и январь являются аномальными месяцами, которые не подчиняются данной логике. Так же стоит отметить, что хоть время и растет, однако глобально оно не сильно различается, ибо в феврале медианное время поездки составляет ~17.5 минут, а в апреле оно составляет ~17.8 минут. Можно утверждать, что медианное время составляет примерно `17.7 минут` "
   ]
  },
  {
   "cell_type": "code",
   "id": "63ec0329535de388",
   "metadata": {
    "ExecuteTime": {
     "end_time": "2025-01-24T16:13:59.661235Z",
     "start_time": "2025-01-24T16:13:59.620188Z"
    }
   },
   "source": [
    "plt.figure(figsize=(12, 6))\n",
    "plt.bar(pivot_table_df['month'], pivot_table_df['count'], width=0.6)\n",
    "plt.xlabel('Месяц')\n",
    "plt.ylabel('Количество')\n",
    "plt.title('Количество поездок по месяцам')\n",
    "\n",
    "plt.show()"
   ],
   "outputs": [
    {
     "data": {
      "text/plain": [
       "<Figure size 1200x600 with 1 Axes>"
      ],
      "image/png": "[encoded data removed]"
     },
     "metadata": {},
     "output_type": "display_data"
    }
   ],
   "execution_count": 29
  },
  {
   "cell_type": "markdown",
   "id": "805d270609728d0d",
   "metadata": {},
   "source": [
    "Мы видим, что количество поездок примерно одинаковое вне зависимости от месяца. Слегка просаживается февраль, однако это может быть объяснено тем, что в этом месяце меньше дней, нежели в остальных"
   ]
  },
  {
   "cell_type": "code",
   "id": "bfab8b8eb0d5c63e",
   "metadata": {
    "ExecuteTime": {
     "end_time": "2025-01-24T16:13:59.707206Z",
     "start_time": "2025-01-24T16:13:59.664016Z"
    }
   },
   "source": [
    "# Посмотрим на то, как день недели влияет на дистанцию поездки\n",
    "pivot_table_df = rides_df.pivot_table(index='weekday', values='duration',\n",
    "                                      aggfunc=('mean', 'median', 'min', 'max', 'count')).sort_values('weekday')\n",
    "\n",
    "pivot_table_df = pivot_table_df.rename(index={\n",
    "    0: 'Понедельник',\n",
    "    1: 'Вторник',\n",
    "    2: 'Среда',\n",
    "    3: 'Четверг',\n",
    "    4: 'Пятница',\n",
    "    5: 'Суббота',\n",
    "    6: 'Воскресенье'}).reset_index()\n",
    "\n",
    "# Рисуем график\n",
    "plt.figure(figsize=(12, 6))\n",
    "plt.plot(pivot_table_df['weekday'], pivot_table_df[['mean', 'median']], marker='o')\n",
    "plt.xlabel('День недели')\n",
    "plt.ylabel('Время, м.')\n",
    "plt.title('Время, которое потратил пользователь')\n",
    "plt.legend(('Среднее время', 'Медианное время'))\n",
    "\n",
    "plt.grid(True)\n",
    "plt.show()"
   ],
   "outputs": [
    {
     "data": {
      "text/plain": [
       "<Figure size 1200x600 with 1 Axes>"
      ],
      "image/png": "[encoded data removed]"
     },
     "metadata": {},
     "output_type": "display_data"
    }
   ],
   "execution_count": 30
  },
  {
   "cell_type": "markdown",
   "id": "a7b8046ddedf17e6",
   "metadata": {},
   "source": [
    "Мы видим, что время, потраченное на поездку в будние дни в основном больше, чем в выходные. Можно предположить, что пользователи пользуются сервисом для того, чтобы добраться до работы, нежели для прогулок. Посмотрим, сколько поездок совершается в зависимости от дня недели"
   ]
  },
  {
   "cell_type": "code",
   "id": "1a6469be24716b92",
   "metadata": {
    "ExecuteTime": {
     "end_time": "2025-01-24T16:13:59.747016Z",
     "start_time": "2025-01-24T16:13:59.713037Z"
    }
   },
   "source": [
    "plt.figure(figsize=(12, 6))\n",
    "plt.bar(pivot_table_df['weekday'], pivot_table_df['count'], width=0.6)\n",
    "plt.xlabel('День недели')\n",
    "plt.ylabel('Количество')\n",
    "plt.title('Количество поездок по дням недели')\n",
    "\n",
    "plt.show()"
   ],
   "outputs": [
    {
     "data": {
      "text/plain": [
       "<Figure size 1200x600 with 1 Axes>"
      ],
      "image/png": "[encoded data removed]"
     },
     "metadata": {},
     "output_type": "display_data"
    }
   ],
   "execution_count": 31
  },
  {
   "cell_type": "markdown",
   "id": "d68d4204300294f8",
   "metadata": {},
   "source": [
    "Количество поездок не сильно зависит от дня недели, так что гипотеза о том, что в будние дни время поездки выше, чем в выходные по той причине, что пользователи добираются на работу звучит все более правдоподобно."
   ]
  },
  {
   "cell_type": "markdown",
   "id": "97d9d397dacbcbcb",
   "metadata": {},
   "source": [
    "##### Вывод:\n",
    "\n",
    "- Во всех 8 городах примерно одинаковое количество пользователй. Меньше всего пользователей в `Москве`, в то время как больше всего пользователей в Пятигорске, однако разница между этими городами составляет всего `~50` пользователей \n",
    "- Всего у нас `835` пользователей с бесплатной подпиской и `699` пользователей с платной подпиской, что составляет `54% и 46%` от общего числа пользователей соответственно. На одного пользователя с платной подпиской приходится 1.19 пользователей с бесплатной подпиской\n",
    "- Расстояние, которое преодолевает на самокате больше всего в теплые месяцы, однако стоит отметить \"выброс\" в декабре и январе. Так же интересно отметить, что наибольшее медианное расстояние пользователи проезжают по понедельникам, и вторникам, далее тенденция идет на спад. Меньше всего пользователи сервиса проезжают в пятницу.\n",
    "- Минимальный, медианный, и максимальный возраст пользователей не сильно отличается в зависимости от города. Однако мы можем отметить Москву, как город, в котором максимальный возраст значительно отличается в сравнении с остальными городами. В Москве максимальный возраст составляет аж 43 года. \n",
    "- В теплые месяцы время поездки закономерно выше, чем в холодные, однако опять же декабрь и январь являются аномальными месяцами, которые не подчиняются данной логике. Так же стоит отметить, что хоть время и растет, однако глобально оно не сильно различается, ибо в феврале медианное время поездки составляет ~17.5 минут, а в апреле оно составляет ~17.8 минут. Можно утверждать, что медианное время составляет примерно `17.7 минут` "
   ]
  },
  {
   "cell_type": "markdown",
   "id": "4ef51331",
   "metadata": {},
   "source": [
    "#### Шаг 4. Объединение данных"
   ]
  },
  {
   "cell_type": "markdown",
   "id": "d85214f6",
   "metadata": {},
   "source": [
    "##### Объединение всех данных\n",
    "\n",
    "Объединим все 3 датафрейма в один"
   ]
  },
  {
   "cell_type": "code",
   "id": "22b4ce4fa8cf8491",
   "metadata": {
    "ExecuteTime": {
     "end_time": "2025-01-24T16:13:59.758642Z",
     "start_time": "2025-01-24T16:13:59.753246Z"
    }
   },
   "source": [
    "# Объединим 2 таблицы в одну по столбцу user_id\n",
    "df = pd.merge(users_df, rides_df, on='user_id', how='left')\n",
    "df.head()"
   ],
   "outputs": [
    {
     "data": {
      "text/plain": [
       "   user_id  name  age    city subscription_type     distance   duration  \\\n",
       "0        1  Кира   22  Тюмень             ultra  4409.919140  25.599769   \n",
       "1        1  Кира   22  Тюмень             ultra  2617.592153  15.816871   \n",
       "2        1  Кира   22  Тюмень             ultra   754.159807   6.232113   \n",
       "3        1  Кира   22  Тюмень             ultra  2694.783254  18.511000   \n",
       "4        1  Кира   22  Тюмень             ultra  4028.687306  26.265803   \n",
       "\n",
       "        date  month  weekday  \n",
       "0 2021-01-01      1        4  \n",
       "1 2021-01-18      1        0  \n",
       "2 2021-04-20      4        1  \n",
       "3 2021-08-11      8        2  \n",
       "4 2021-08-28      8        5  "
      ],
      "text/html": [
       "<div>\n",
       "<style scoped>\n",
       "    .dataframe tbody tr th:only-of-type {\n",
       "        vertical-align: middle;\n",
       "    }\n",
       "\n",
       "    .dataframe tbody tr th {\n",
       "        vertical-align: top;\n",
       "    }\n",
       "\n",
       "    .dataframe thead th {\n",
       "        text-align: right;\n",
       "    }\n",
       "</style>\n",
       "<table border=\"1\" class=\"dataframe\">\n",
       "  <thead>\n",
       "    <tr style=\"text-align: right;\">\n",
       "      <th></th>\n",
       "      <th>user_id</th>\n",
       "      <th>name</th>\n",
       "      <th>age</th>\n",
       "      <th>city</th>\n",
       "      <th>subscription_type</th>\n",
       "      <th>distance</th>\n",
       "      <th>duration</th>\n",
       "      <th>date</th>\n",
       "      <th>month</th>\n",
       "      <th>weekday</th>\n",
       "    </tr>\n",
       "  </thead>\n",
       "  <tbody>\n",
       "    <tr>\n",
       "      <th>0</th>\n",
       "      <td>1</td>\n",
       "      <td>Кира</td>\n",
       "      <td>22</td>\n",
       "      <td>Тюмень</td>\n",
       "      <td>ultra</td>\n",
       "      <td>4409.919140</td>\n",
       "      <td>25.599769</td>\n",
       "      <td>2021-01-01</td>\n",
       "      <td>1</td>\n",
       "      <td>4</td>\n",
       "    </tr>\n",
       "    <tr>\n",
       "      <th>1</th>\n",
       "      <td>1</td>\n",
       "      <td>Кира</td>\n",
       "      <td>22</td>\n",
       "      <td>Тюмень</td>\n",
       "      <td>ultra</td>\n",
       "      <td>2617.592153</td>\n",
       "      <td>15.816871</td>\n",
       "      <td>2021-01-18</td>\n",
       "      <td>1</td>\n",
       "      <td>0</td>\n",
       "    </tr>\n",
       "    <tr>\n",
       "      <th>2</th>\n",
       "      <td>1</td>\n",
       "      <td>Кира</td>\n",
       "      <td>22</td>\n",
       "      <td>Тюмень</td>\n",
       "      <td>ultra</td>\n",
       "      <td>754.159807</td>\n",
       "      <td>6.232113</td>\n",
       "      <td>2021-04-20</td>\n",
       "      <td>4</td>\n",
       "      <td>1</td>\n",
       "    </tr>\n",
       "    <tr>\n",
       "      <th>3</th>\n",
       "      <td>1</td>\n",
       "      <td>Кира</td>\n",
       "      <td>22</td>\n",
       "      <td>Тюмень</td>\n",
       "      <td>ultra</td>\n",
       "      <td>2694.783254</td>\n",
       "      <td>18.511000</td>\n",
       "      <td>2021-08-11</td>\n",
       "      <td>8</td>\n",
       "      <td>2</td>\n",
       "    </tr>\n",
       "    <tr>\n",
       "      <th>4</th>\n",
       "      <td>1</td>\n",
       "      <td>Кира</td>\n",
       "      <td>22</td>\n",
       "      <td>Тюмень</td>\n",
       "      <td>ultra</td>\n",
       "      <td>4028.687306</td>\n",
       "      <td>26.265803</td>\n",
       "      <td>2021-08-28</td>\n",
       "      <td>8</td>\n",
       "      <td>5</td>\n",
       "    </tr>\n",
       "  </tbody>\n",
       "</table>\n",
       "</div>"
      ]
     },
     "execution_count": 32,
     "metadata": {},
     "output_type": "execute_result"
    }
   ],
   "execution_count": 32
  },
  {
   "cell_type": "code",
   "id": "b71060ac",
   "metadata": {
    "ExecuteTime": {
     "end_time": "2025-01-24T16:13:59.807521Z",
     "start_time": "2025-01-24T16:13:59.802456Z"
    }
   },
   "source": [
    "# Объединим полученную таблицу с таблицей с информацией о цене\n",
    "df = pd.merge(df, subscriptions_df, on='subscription_type', how='left')\n",
    "df.head()"
   ],
   "outputs": [
    {
     "data": {
      "text/plain": [
       "   user_id  name  age    city subscription_type     distance   duration  \\\n",
       "0        1  Кира   22  Тюмень             ultra  4409.919140  25.599769   \n",
       "1        1  Кира   22  Тюмень             ultra  2617.592153  15.816871   \n",
       "2        1  Кира   22  Тюмень             ultra   754.159807   6.232113   \n",
       "3        1  Кира   22  Тюмень             ultra  2694.783254  18.511000   \n",
       "4        1  Кира   22  Тюмень             ultra  4028.687306  26.265803   \n",
       "\n",
       "        date  month  weekday  minute_price  start_ride_price  subscription_fee  \n",
       "0 2021-01-01      1        4             6                 0               199  \n",
       "1 2021-01-18      1        0             6                 0               199  \n",
       "2 2021-04-20      4        1             6                 0               199  \n",
       "3 2021-08-11      8        2             6                 0               199  \n",
       "4 2021-08-28      8        5             6                 0               199  "
      ],
      "text/html": [
       "<div>\n",
       "<style scoped>\n",
       "    .dataframe tbody tr th:only-of-type {\n",
       "        vertical-align: middle;\n",
       "    }\n",
       "\n",
       "    .dataframe tbody tr th {\n",
       "        vertical-align: top;\n",
       "    }\n",
       "\n",
       "    .dataframe thead th {\n",
       "        text-align: right;\n",
       "    }\n",
       "</style>\n",
       "<table border=\"1\" class=\"dataframe\">\n",
       "  <thead>\n",
       "    <tr style=\"text-align: right;\">\n",
       "      <th></th>\n",
       "      <th>user_id</th>\n",
       "      <th>name</th>\n",
       "      <th>age</th>\n",
       "      <th>city</th>\n",
       "      <th>subscription_type</th>\n",
       "      <th>distance</th>\n",
       "      <th>duration</th>\n",
       "      <th>date</th>\n",
       "      <th>month</th>\n",
       "      <th>weekday</th>\n",
       "      <th>minute_price</th>\n",
       "      <th>start_ride_price</th>\n",
       "      <th>subscription_fee</th>\n",
       "    </tr>\n",
       "  </thead>\n",
       "  <tbody>\n",
       "    <tr>\n",
       "      <th>0</th>\n",
       "      <td>1</td>\n",
       "      <td>Кира</td>\n",
       "      <td>22</td>\n",
       "      <td>Тюмень</td>\n",
       "      <td>ultra</td>\n",
       "      <td>4409.919140</td>\n",
       "      <td>25.599769</td>\n",
       "      <td>2021-01-01</td>\n",
       "      <td>1</td>\n",
       "      <td>4</td>\n",
       "      <td>6</td>\n",
       "      <td>0</td>\n",
       "      <td>199</td>\n",
       "    </tr>\n",
       "    <tr>\n",
       "      <th>1</th>\n",
       "      <td>1</td>\n",
       "      <td>Кира</td>\n",
       "      <td>22</td>\n",
       "      <td>Тюмень</td>\n",
       "      <td>ultra</td>\n",
       "      <td>2617.592153</td>\n",
       "      <td>15.816871</td>\n",
       "      <td>2021-01-18</td>\n",
       "      <td>1</td>\n",
       "      <td>0</td>\n",
       "      <td>6</td>\n",
       "      <td>0</td>\n",
       "      <td>199</td>\n",
       "    </tr>\n",
       "    <tr>\n",
       "      <th>2</th>\n",
       "      <td>1</td>\n",
       "      <td>Кира</td>\n",
       "      <td>22</td>\n",
       "      <td>Тюмень</td>\n",
       "      <td>ultra</td>\n",
       "      <td>754.159807</td>\n",
       "      <td>6.232113</td>\n",
       "      <td>2021-04-20</td>\n",
       "      <td>4</td>\n",
       "      <td>1</td>\n",
       "      <td>6</td>\n",
       "      <td>0</td>\n",
       "      <td>199</td>\n",
       "    </tr>\n",
       "    <tr>\n",
       "      <th>3</th>\n",
       "      <td>1</td>\n",
       "      <td>Кира</td>\n",
       "      <td>22</td>\n",
       "      <td>Тюмень</td>\n",
       "      <td>ultra</td>\n",
       "      <td>2694.783254</td>\n",
       "      <td>18.511000</td>\n",
       "      <td>2021-08-11</td>\n",
       "      <td>8</td>\n",
       "      <td>2</td>\n",
       "      <td>6</td>\n",
       "      <td>0</td>\n",
       "      <td>199</td>\n",
       "    </tr>\n",
       "    <tr>\n",
       "      <th>4</th>\n",
       "      <td>1</td>\n",
       "      <td>Кира</td>\n",
       "      <td>22</td>\n",
       "      <td>Тюмень</td>\n",
       "      <td>ultra</td>\n",
       "      <td>4028.687306</td>\n",
       "      <td>26.265803</td>\n",
       "      <td>2021-08-28</td>\n",
       "      <td>8</td>\n",
       "      <td>5</td>\n",
       "      <td>6</td>\n",
       "      <td>0</td>\n",
       "      <td>199</td>\n",
       "    </tr>\n",
       "  </tbody>\n",
       "</table>\n",
       "</div>"
      ]
     },
     "execution_count": 33,
     "metadata": {},
     "output_type": "execute_result"
    }
   ],
   "execution_count": 33
  },
  {
   "cell_type": "code",
   "id": "79e34f9e",
   "metadata": {
    "ExecuteTime": {
     "end_time": "2025-01-24T16:13:59.837931Z",
     "start_time": "2025-01-24T16:13:59.834621Z"
    }
   },
   "source": [
    "# Посмотрим на размер получившегося датафрейма\n",
    "print('df size:', df.shape[0])\n",
    "\n",
    "# Посмотри на наличие пропусков после объединения\n",
    "df.isna().sum()"
   ],
   "outputs": [
    {
     "name": "stdout",
     "output_type": "stream",
     "text": [
      "df size: 18068\n"
     ]
    },
    {
     "data": {
      "text/plain": [
       "user_id              0\n",
       "name                 0\n",
       "age                  0\n",
       "city                 0\n",
       "subscription_type    0\n",
       "distance             0\n",
       "duration             0\n",
       "date                 0\n",
       "month                0\n",
       "weekday              0\n",
       "minute_price         0\n",
       "start_ride_price     0\n",
       "subscription_fee     0\n",
       "dtype: int64"
      ]
     },
     "execution_count": 34,
     "metadata": {},
     "output_type": "execute_result"
    }
   ],
   "execution_count": 34
  },
  {
   "cell_type": "markdown",
   "id": "12b98c41",
   "metadata": {},
   "source": [
    "##### Разделение пользователей\n",
    "\n",
    "Создадим 2 отдельных датафрейма. В одном будут находится пользователи, у которых есть подписка, а в другой — пользователи без подписки"
   ]
  },
  {
   "cell_type": "code",
   "id": "6bf288b5",
   "metadata": {
    "ExecuteTime": {
     "end_time": "2025-01-24T16:13:59.948504Z",
     "start_time": "2025-01-24T16:13:59.942758Z"
    }
   },
   "source": [
    "# Создадим 2 таблицы. В одну из них выделим пользователей с подпиской, в другую же без подписки\n",
    "free_subscription_df = df[df['subscription_type'] == 'free']\n",
    "ultra_subscription_df = df[df['subscription_type'] == 'ultra']\n",
    "\n",
    "free_subscription_df.head()"
   ],
   "outputs": [
    {
     "data": {
      "text/plain": [
       "      user_id   name  age  city subscription_type     distance   duration  \\\n",
       "6500      700  Айдар   22  Омск              free  2515.690719  14.944286   \n",
       "6501      700  Айдар   22  Омск              free   846.932642  16.234663   \n",
       "6502      700  Айдар   22  Омск              free  4004.434142  20.016628   \n",
       "6503      700  Айдар   22  Омск              free  1205.911290   9.782872   \n",
       "6504      700  Айдар   22  Омск              free  3047.379435  17.427673   \n",
       "\n",
       "           date  month  weekday  minute_price  start_ride_price  \\\n",
       "6500 2021-01-02      1        5             8                50   \n",
       "6501 2021-02-01      2        0             8                50   \n",
       "6502 2021-02-04      2        3             8                50   \n",
       "6503 2021-02-10      2        2             8                50   \n",
       "6504 2021-02-14      2        6             8                50   \n",
       "\n",
       "      subscription_fee  \n",
       "6500                 0  \n",
       "6501                 0  \n",
       "6502                 0  \n",
       "6503                 0  \n",
       "6504                 0  "
      ],
      "text/html": [
       "<div>\n",
       "<style scoped>\n",
       "    .dataframe tbody tr th:only-of-type {\n",
       "        vertical-align: middle;\n",
       "    }\n",
       "\n",
       "    .dataframe tbody tr th {\n",
       "        vertical-align: top;\n",
       "    }\n",
       "\n",
       "    .dataframe thead th {\n",
       "        text-align: right;\n",
       "    }\n",
       "</style>\n",
       "<table border=\"1\" class=\"dataframe\">\n",
       "  <thead>\n",
       "    <tr style=\"text-align: right;\">\n",
       "      <th></th>\n",
       "      <th>user_id</th>\n",
       "      <th>name</th>\n",
       "      <th>age</th>\n",
       "      <th>city</th>\n",
       "      <th>subscription_type</th>\n",
       "      <th>distance</th>\n",
       "      <th>duration</th>\n",
       "      <th>date</th>\n",
       "      <th>month</th>\n",
       "      <th>weekday</th>\n",
       "      <th>minute_price</th>\n",
       "      <th>start_ride_price</th>\n",
       "      <th>subscription_fee</th>\n",
       "    </tr>\n",
       "  </thead>\n",
       "  <tbody>\n",
       "    <tr>\n",
       "      <th>6500</th>\n",
       "      <td>700</td>\n",
       "      <td>Айдар</td>\n",
       "      <td>22</td>\n",
       "      <td>Омск</td>\n",
       "      <td>free</td>\n",
       "      <td>2515.690719</td>\n",
       "      <td>14.944286</td>\n",
       "      <td>2021-01-02</td>\n",
       "      <td>1</td>\n",
       "      <td>5</td>\n",
       "      <td>8</td>\n",
       "      <td>50</td>\n",
       "      <td>0</td>\n",
       "    </tr>\n",
       "    <tr>\n",
       "      <th>6501</th>\n",
       "      <td>700</td>\n",
       "      <td>Айдар</td>\n",
       "      <td>22</td>\n",
       "      <td>Омск</td>\n",
       "      <td>free</td>\n",
       "      <td>846.932642</td>\n",
       "      <td>16.234663</td>\n",
       "      <td>2021-02-01</td>\n",
       "      <td>2</td>\n",
       "      <td>0</td>\n",
       "      <td>8</td>\n",
       "      <td>50</td>\n",
       "      <td>0</td>\n",
       "    </tr>\n",
       "    <tr>\n",
       "      <th>6502</th>\n",
       "      <td>700</td>\n",
       "      <td>Айдар</td>\n",
       "      <td>22</td>\n",
       "      <td>Омск</td>\n",
       "      <td>free</td>\n",
       "      <td>4004.434142</td>\n",
       "      <td>20.016628</td>\n",
       "      <td>2021-02-04</td>\n",
       "      <td>2</td>\n",
       "      <td>3</td>\n",
       "      <td>8</td>\n",
       "      <td>50</td>\n",
       "      <td>0</td>\n",
       "    </tr>\n",
       "    <tr>\n",
       "      <th>6503</th>\n",
       "      <td>700</td>\n",
       "      <td>Айдар</td>\n",
       "      <td>22</td>\n",
       "      <td>Омск</td>\n",
       "      <td>free</td>\n",
       "      <td>1205.911290</td>\n",
       "      <td>9.782872</td>\n",
       "      <td>2021-02-10</td>\n",
       "      <td>2</td>\n",
       "      <td>2</td>\n",
       "      <td>8</td>\n",
       "      <td>50</td>\n",
       "      <td>0</td>\n",
       "    </tr>\n",
       "    <tr>\n",
       "      <th>6504</th>\n",
       "      <td>700</td>\n",
       "      <td>Айдар</td>\n",
       "      <td>22</td>\n",
       "      <td>Омск</td>\n",
       "      <td>free</td>\n",
       "      <td>3047.379435</td>\n",
       "      <td>17.427673</td>\n",
       "      <td>2021-02-14</td>\n",
       "      <td>2</td>\n",
       "      <td>6</td>\n",
       "      <td>8</td>\n",
       "      <td>50</td>\n",
       "      <td>0</td>\n",
       "    </tr>\n",
       "  </tbody>\n",
       "</table>\n",
       "</div>"
      ]
     },
     "execution_count": 35,
     "metadata": {},
     "output_type": "execute_result"
    }
   ],
   "execution_count": 35
  },
  {
   "cell_type": "code",
   "id": "fc7cc4e7431f263e",
   "metadata": {
    "ExecuteTime": {
     "end_time": "2025-01-24T16:14:00.008169Z",
     "start_time": "2025-01-24T16:14:00.004591Z"
    }
   },
   "source": [
    "ultra_subscription_df.head()"
   ],
   "outputs": [
    {
     "data": {
      "text/plain": [
       "   user_id  name  age    city subscription_type     distance   duration  \\\n",
       "0        1  Кира   22  Тюмень             ultra  4409.919140  25.599769   \n",
       "1        1  Кира   22  Тюмень             ultra  2617.592153  15.816871   \n",
       "2        1  Кира   22  Тюмень             ultra   754.159807   6.232113   \n",
       "3        1  Кира   22  Тюмень             ultra  2694.783254  18.511000   \n",
       "4        1  Кира   22  Тюмень             ultra  4028.687306  26.265803   \n",
       "\n",
       "        date  month  weekday  minute_price  start_ride_price  subscription_fee  \n",
       "0 2021-01-01      1        4             6                 0               199  \n",
       "1 2021-01-18      1        0             6                 0               199  \n",
       "2 2021-04-20      4        1             6                 0               199  \n",
       "3 2021-08-11      8        2             6                 0               199  \n",
       "4 2021-08-28      8        5             6                 0               199  "
      ],
      "text/html": [
       "<div>\n",
       "<style scoped>\n",
       "    .dataframe tbody tr th:only-of-type {\n",
       "        vertical-align: middle;\n",
       "    }\n",
       "\n",
       "    .dataframe tbody tr th {\n",
       "        vertical-align: top;\n",
       "    }\n",
       "\n",
       "    .dataframe thead th {\n",
       "        text-align: right;\n",
       "    }\n",
       "</style>\n",
       "<table border=\"1\" class=\"dataframe\">\n",
       "  <thead>\n",
       "    <tr style=\"text-align: right;\">\n",
       "      <th></th>\n",
       "      <th>user_id</th>\n",
       "      <th>name</th>\n",
       "      <th>age</th>\n",
       "      <th>city</th>\n",
       "      <th>subscription_type</th>\n",
       "      <th>distance</th>\n",
       "      <th>duration</th>\n",
       "      <th>date</th>\n",
       "      <th>month</th>\n",
       "      <th>weekday</th>\n",
       "      <th>minute_price</th>\n",
       "      <th>start_ride_price</th>\n",
       "      <th>subscription_fee</th>\n",
       "    </tr>\n",
       "  </thead>\n",
       "  <tbody>\n",
       "    <tr>\n",
       "      <th>0</th>\n",
       "      <td>1</td>\n",
       "      <td>Кира</td>\n",
       "      <td>22</td>\n",
       "      <td>Тюмень</td>\n",
       "      <td>ultra</td>\n",
       "      <td>4409.919140</td>\n",
       "      <td>25.599769</td>\n",
       "      <td>2021-01-01</td>\n",
       "      <td>1</td>\n",
       "      <td>4</td>\n",
       "      <td>6</td>\n",
       "      <td>0</td>\n",
       "      <td>199</td>\n",
       "    </tr>\n",
       "    <tr>\n",
       "      <th>1</th>\n",
       "      <td>1</td>\n",
       "      <td>Кира</td>\n",
       "      <td>22</td>\n",
       "      <td>Тюмень</td>\n",
       "      <td>ultra</td>\n",
       "      <td>2617.592153</td>\n",
       "      <td>15.816871</td>\n",
       "      <td>2021-01-18</td>\n",
       "      <td>1</td>\n",
       "      <td>0</td>\n",
       "      <td>6</td>\n",
       "      <td>0</td>\n",
       "      <td>199</td>\n",
       "    </tr>\n",
       "    <tr>\n",
       "      <th>2</th>\n",
       "      <td>1</td>\n",
       "      <td>Кира</td>\n",
       "      <td>22</td>\n",
       "      <td>Тюмень</td>\n",
       "      <td>ultra</td>\n",
       "      <td>754.159807</td>\n",
       "      <td>6.232113</td>\n",
       "      <td>2021-04-20</td>\n",
       "      <td>4</td>\n",
       "      <td>1</td>\n",
       "      <td>6</td>\n",
       "      <td>0</td>\n",
       "      <td>199</td>\n",
       "    </tr>\n",
       "    <tr>\n",
       "      <th>3</th>\n",
       "      <td>1</td>\n",
       "      <td>Кира</td>\n",
       "      <td>22</td>\n",
       "      <td>Тюмень</td>\n",
       "      <td>ultra</td>\n",
       "      <td>2694.783254</td>\n",
       "      <td>18.511000</td>\n",
       "      <td>2021-08-11</td>\n",
       "      <td>8</td>\n",
       "      <td>2</td>\n",
       "      <td>6</td>\n",
       "      <td>0</td>\n",
       "      <td>199</td>\n",
       "    </tr>\n",
       "    <tr>\n",
       "      <th>4</th>\n",
       "      <td>1</td>\n",
       "      <td>Кира</td>\n",
       "      <td>22</td>\n",
       "      <td>Тюмень</td>\n",
       "      <td>ultra</td>\n",
       "      <td>4028.687306</td>\n",
       "      <td>26.265803</td>\n",
       "      <td>2021-08-28</td>\n",
       "      <td>8</td>\n",
       "      <td>5</td>\n",
       "      <td>6</td>\n",
       "      <td>0</td>\n",
       "      <td>199</td>\n",
       "    </tr>\n",
       "  </tbody>\n",
       "</table>\n",
       "</div>"
      ]
     },
     "execution_count": 36,
     "metadata": {},
     "output_type": "execute_result"
    }
   ],
   "execution_count": 36
  },
  {
   "cell_type": "code",
   "id": "64f67159",
   "metadata": {
    "ExecuteTime": {
     "end_time": "2025-01-24T16:14:00.133664Z",
     "start_time": "2025-01-24T16:14:00.132034Z"
    }
   },
   "source": [
    "print('Общее количество строчек в исходном датафрейме:',df.shape[0])\n",
    "print('Количество пользователей без подписки:',free_subscription_df.shape[0])\n",
    "print('Количество пользователей с подпиской:',ultra_subscription_df.shape[0])"
   ],
   "outputs": [
    {
     "name": "stdout",
     "output_type": "stream",
     "text": [
      "Общее количество строчек в исходном датафрейме: 18068\n",
      "Количество пользователей без подписки: 11568\n",
      "Количество пользователей с подпиской: 6500\n"
     ]
    }
   ],
   "execution_count": 37
  },
  {
   "cell_type": "markdown",
   "id": "7006f79d",
   "metadata": {},
   "source": [
    "##### Визуализация данных для пользователей\n",
    "\n",
    "Посмотрим, как различаются данные в зависимости от того, есть ли у пользователя подписка"
   ]
  },
  {
   "cell_type": "code",
   "id": "c6c6d02b7ae71a5f",
   "metadata": {
    "ExecuteTime": {
     "end_time": "2025-01-24T16:14:00.208989Z",
     "start_time": "2025-01-24T16:14:00.205994Z"
    }
   },
   "source": [
    "print(f\"Медианное значение дистанции для пользователей без подписки:\\\n",
    "{free_subscription_df['distance'].median():.2f} м\")\n",
    "print(f\"Медианное значение дистанции для пользователей c подпиской:\\\n",
    "{ultra_subscription_df['distance'].median():.2f} м\")\n",
    "print()\n",
    "print(f\"Медианное значение времени для пользователей без подписки:\\\n",
    "{free_subscription_df['duration'].median():.2f} минут\")\n",
    "print(f\"Медианное значение времени для пользователей c подпиской:\\\n",
    "{ultra_subscription_df['duration'].median():.2f} минут\")"
   ],
   "outputs": [
    {
     "name": "stdout",
     "output_type": "stream",
     "text": [
      "Медианное значение дистанции для пользователей без подписки:3114.65 м\n",
      "Медианное значение дистанции для пользователей c подпиской:3148.64 м\n",
      "\n",
      "Медианное значение времени для пользователей без подписки:17.33 минут\n",
      "Медианное значение времени для пользователей c подпиской:18.18 минут\n"
     ]
    }
   ],
   "execution_count": 38
  },
  {
   "cell_type": "code",
   "id": "24a2f531d1cd9dc8",
   "metadata": {
    "ExecuteTime": {
     "end_time": "2025-01-24T16:14:00.338070Z",
     "start_time": "2025-01-24T16:14:00.246425Z"
    }
   },
   "source": [
    "plt.figure(figsize=(16, 6))\n",
    "\n",
    "plt.subplot(1, 2, 1)\n",
    "plt.hist(free_subscription_df['distance'], bins=20, label='Без подписки')\n",
    "plt.hist(ultra_subscription_df['distance'], bins=20, label='С подпиской')\n",
    "plt.legend()\n",
    "plt.xlabel('Дистанция, м.')\n",
    "plt.ylabel('Количество поездок')\n",
    "plt.title('Расстояние поездки пользователей')\n",
    "\n",
    "plt.subplot(1, 2, 2)\n",
    "plt.hist(free_subscription_df['duration'], bins=20, label='Без подписки')\n",
    "plt.hist(ultra_subscription_df['duration'], bins=20, label='С подпиской')\n",
    "plt.legend()\n",
    "plt.xlabel('Время, минуты')\n",
    "plt.ylabel('Количество поездок')\n",
    "plt.title('Время поездок пользователей')\n",
    "\n",
    "plt.show()"
   ],
   "outputs": [
    {
     "data": {
      "text/plain": [
       "<Figure size 1600x600 with 2 Axes>"
      ],
      "image/png": "[encoded data removed]"
     },
     "metadata": {},
     "output_type": "display_data"
    }
   ],
   "execution_count": 39
  },
  {
   "cell_type": "markdown",
   "id": "e7959d4669507db9",
   "metadata": {},
   "source": [
    "##### Вывод:\n",
    "\n",
    "- Медианное расстояние для пользователей без подписки составляет `3114 метров`\n",
    "- Медианное время для пользователей без подписки составляет `17.5 минут`\n",
    "- Медианное расстояние для пользователей с подпиской составляет `3150 метров`\n",
    "- Медианное время для пользователей с подпиской составляет `18 минут`\n",
    "\n",
    "\n",
    "Мы можем наблюдать, что время поездки для пользователей с подпиской и без нее практически не различается. Единственное отличие, которое можно заметить — это высота столбцов гистограммы, однако это объясняется тем, что количество пользователей с подпиской меньше, нежели без нее. В случае с расстоянием, все немного сложнее: гистограммы не похожи друг на друга. Пользователи без подписки чаще проезжают расстояние меньше 1км. Пользователи без подписки так же равномерно проезжают расстояния от ~2200м до ~3800, в то время как пользователи с подпиской проезжают в основном расстояние равное ~3000м. У пользователей с подпиской и без, медианные значения примерно одинаковые и составляют около `3150 метров`, однако дисперсия у пользователей с подпиской меньше. Так же стоит отметить, что пользователи без подписки чаще проезжают большее расстояние: 5000м для пользователей с подпиской, против почти 7000м для пользователей без подписки"
   ]
  },
  {
   "cell_type": "markdown",
   "id": "402d620f",
   "metadata": {},
   "source": [
    "#### Шаг 5. Подсчёт выручки\n",
    "\n",
    "Создайм датафрейм с агрегированными данными о поездках на основе датафрейма с объединёнными данными из предыдущего шага. Найдем суммарное расстояние, количество поездок и суммарное время для каждого пользователя за каждый месяц.\n",
    "<br>\n",
    "<br>\n",
    "Добавим в эту таблицу столбец с помесячной выручкой для каждого пользователя"
   ]
  },
  {
   "cell_type": "code",
   "id": "fb306be2d913221e",
   "metadata": {
    "ExecuteTime": {
     "end_time": "2025-01-24T16:14:00.351821Z",
     "start_time": "2025-01-24T16:14:00.345726Z"
    }
   },
   "source": [
    "# Объединяем данные\n",
    "aggregated_df = pd.concat([free_subscription_df, ultra_subscription_df], ignore_index=True)\n",
    "# Удаляем более не нужный нам столбец\n",
    "aggregated_df = aggregated_df.drop(columns='weekday')\n",
    "# Округляем продолжительность поездки\n",
    "aggregated_df['duration'] = np.ceil(aggregated_df['duration'])\n",
    "\n",
    "aggregated_df.head(10)"
   ],
   "outputs": [
    {
     "data": {
      "text/plain": [
       "   user_id   name  age  city subscription_type     distance  duration  \\\n",
       "0      700  Айдар   22  Омск              free  2515.690719      15.0   \n",
       "1      700  Айдар   22  Омск              free   846.932642      17.0   \n",
       "2      700  Айдар   22  Омск              free  4004.434142      21.0   \n",
       "3      700  Айдар   22  Омск              free  1205.911290      10.0   \n",
       "4      700  Айдар   22  Омск              free  3047.379435      18.0   \n",
       "5      700  Айдар   22  Омск              free  4342.002254      23.0   \n",
       "6      700  Айдар   22  Омск              free  3798.334905      19.0   \n",
       "7      700  Айдар   22  Омск              free  2984.551206      16.0   \n",
       "8      700  Айдар   22  Омск              free  3360.107141      17.0   \n",
       "9      700  Айдар   22  Омск              free  2567.543847      12.0   \n",
       "\n",
       "        date  month  minute_price  start_ride_price  subscription_fee  \n",
       "0 2021-01-02      1             8                50                 0  \n",
       "1 2021-02-01      2             8                50                 0  \n",
       "2 2021-02-04      2             8                50                 0  \n",
       "3 2021-02-10      2             8                50                 0  \n",
       "4 2021-02-14      2             8                50                 0  \n",
       "5 2021-02-23      2             8                50                 0  \n",
       "6 2021-03-03      3             8                50                 0  \n",
       "7 2021-04-09      4             8                50                 0  \n",
       "8 2021-06-12      6             8                50                 0  \n",
       "9 2021-06-23      6             8                50                 0  "
      ],
      "text/html": [
       "<div>\n",
       "<style scoped>\n",
       "    .dataframe tbody tr th:only-of-type {\n",
       "        vertical-align: middle;\n",
       "    }\n",
       "\n",
       "    .dataframe tbody tr th {\n",
       "        vertical-align: top;\n",
       "    }\n",
       "\n",
       "    .dataframe thead th {\n",
       "        text-align: right;\n",
       "    }\n",
       "</style>\n",
       "<table border=\"1\" class=\"dataframe\">\n",
       "  <thead>\n",
       "    <tr style=\"text-align: right;\">\n",
       "      <th></th>\n",
       "      <th>user_id</th>\n",
       "      <th>name</th>\n",
       "      <th>age</th>\n",
       "      <th>city</th>\n",
       "      <th>subscription_type</th>\n",
       "      <th>distance</th>\n",
       "      <th>duration</th>\n",
       "      <th>date</th>\n",
       "      <th>month</th>\n",
       "      <th>minute_price</th>\n",
       "      <th>start_ride_price</th>\n",
       "      <th>subscription_fee</th>\n",
       "    </tr>\n",
       "  </thead>\n",
       "  <tbody>\n",
       "    <tr>\n",
       "      <th>0</th>\n",
       "      <td>700</td>\n",
       "      <td>Айдар</td>\n",
       "      <td>22</td>\n",
       "      <td>Омск</td>\n",
       "      <td>free</td>\n",
       "      <td>2515.690719</td>\n",
       "      <td>15.0</td>\n",
       "      <td>2021-01-02</td>\n",
       "      <td>1</td>\n",
       "      <td>8</td>\n",
       "      <td>50</td>\n",
       "      <td>0</td>\n",
       "    </tr>\n",
       "    <tr>\n",
       "      <th>1</th>\n",
       "      <td>700</td>\n",
       "      <td>Айдар</td>\n",
       "      <td>22</td>\n",
       "      <td>Омск</td>\n",
       "      <td>free</td>\n",
       "      <td>846.932642</td>\n",
       "      <td>17.0</td>\n",
       "      <td>2021-02-01</td>\n",
       "      <td>2</td>\n",
       "      <td>8</td>\n",
       "      <td>50</td>\n",
       "      <td>0</td>\n",
       "    </tr>\n",
       "    <tr>\n",
       "      <th>2</th>\n",
       "      <td>700</td>\n",
       "      <td>Айдар</td>\n",
       "      <td>22</td>\n",
       "      <td>Омск</td>\n",
       "      <td>free</td>\n",
       "      <td>4004.434142</td>\n",
       "      <td>21.0</td>\n",
       "      <td>2021-02-04</td>\n",
       "      <td>2</td>\n",
       "      <td>8</td>\n",
       "      <td>50</td>\n",
       "      <td>0</td>\n",
       "    </tr>\n",
       "    <tr>\n",
       "      <th>3</th>\n",
       "      <td>700</td>\n",
       "      <td>Айдар</td>\n",
       "      <td>22</td>\n",
       "      <td>Омск</td>\n",
       "      <td>free</td>\n",
       "      <td>1205.911290</td>\n",
       "      <td>10.0</td>\n",
       "      <td>2021-02-10</td>\n",
       "      <td>2</td>\n",
       "      <td>8</td>\n",
       "      <td>50</td>\n",
       "      <td>0</td>\n",
       "    </tr>\n",
       "    <tr>\n",
       "      <th>4</th>\n",
       "      <td>700</td>\n",
       "      <td>Айдар</td>\n",
       "      <td>22</td>\n",
       "      <td>Омск</td>\n",
       "      <td>free</td>\n",
       "      <td>3047.379435</td>\n",
       "      <td>18.0</td>\n",
       "      <td>2021-02-14</td>\n",
       "      <td>2</td>\n",
       "      <td>8</td>\n",
       "      <td>50</td>\n",
       "      <td>0</td>\n",
       "    </tr>\n",
       "    <tr>\n",
       "      <th>5</th>\n",
       "      <td>700</td>\n",
       "      <td>Айдар</td>\n",
       "      <td>22</td>\n",
       "      <td>Омск</td>\n",
       "      <td>free</td>\n",
       "      <td>4342.002254</td>\n",
       "      <td>23.0</td>\n",
       "      <td>2021-02-23</td>\n",
       "      <td>2</td>\n",
       "      <td>8</td>\n",
       "      <td>50</td>\n",
       "      <td>0</td>\n",
       "    </tr>\n",
       "    <tr>\n",
       "      <th>6</th>\n",
       "      <td>700</td>\n",
       "      <td>Айдар</td>\n",
       "      <td>22</td>\n",
       "      <td>Омск</td>\n",
       "      <td>free</td>\n",
       "      <td>3798.334905</td>\n",
       "      <td>19.0</td>\n",
       "      <td>2021-03-03</td>\n",
       "      <td>3</td>\n",
       "      <td>8</td>\n",
       "      <td>50</td>\n",
       "      <td>0</td>\n",
       "    </tr>\n",
       "    <tr>\n",
       "      <th>7</th>\n",
       "      <td>700</td>\n",
       "      <td>Айдар</td>\n",
       "      <td>22</td>\n",
       "      <td>Омск</td>\n",
       "      <td>free</td>\n",
       "      <td>2984.551206</td>\n",
       "      <td>16.0</td>\n",
       "      <td>2021-04-09</td>\n",
       "      <td>4</td>\n",
       "      <td>8</td>\n",
       "      <td>50</td>\n",
       "      <td>0</td>\n",
       "    </tr>\n",
       "    <tr>\n",
       "      <th>8</th>\n",
       "      <td>700</td>\n",
       "      <td>Айдар</td>\n",
       "      <td>22</td>\n",
       "      <td>Омск</td>\n",
       "      <td>free</td>\n",
       "      <td>3360.107141</td>\n",
       "      <td>17.0</td>\n",
       "      <td>2021-06-12</td>\n",
       "      <td>6</td>\n",
       "      <td>8</td>\n",
       "      <td>50</td>\n",
       "      <td>0</td>\n",
       "    </tr>\n",
       "    <tr>\n",
       "      <th>9</th>\n",
       "      <td>700</td>\n",
       "      <td>Айдар</td>\n",
       "      <td>22</td>\n",
       "      <td>Омск</td>\n",
       "      <td>free</td>\n",
       "      <td>2567.543847</td>\n",
       "      <td>12.0</td>\n",
       "      <td>2021-06-23</td>\n",
       "      <td>6</td>\n",
       "      <td>8</td>\n",
       "      <td>50</td>\n",
       "      <td>0</td>\n",
       "    </tr>\n",
       "  </tbody>\n",
       "</table>\n",
       "</div>"
      ]
     },
     "execution_count": 40,
     "metadata": {},
     "output_type": "execute_result"
    }
   ],
   "execution_count": 40
  },
  {
   "cell_type": "code",
   "id": "862d0fc08b4f201f",
   "metadata": {
    "ExecuteTime": {
     "end_time": "2025-01-24T16:14:00.386849Z",
     "start_time": "2025-01-24T16:14:00.384756Z"
    }
   },
   "source": [
    "aggregated_df['subscription_type'].head()"
   ],
   "outputs": [
    {
     "data": {
      "text/plain": [
       "0    free\n",
       "1    free\n",
       "2    free\n",
       "3    free\n",
       "4    free\n",
       "Name: subscription_type, dtype: object"
      ]
     },
     "execution_count": 41,
     "metadata": {},
     "output_type": "execute_result"
    }
   ],
   "execution_count": 41
  },
  {
   "cell_type": "code",
   "id": "b3af3c1423e30752",
   "metadata": {
    "ExecuteTime": {
     "end_time": "2025-01-24T16:14:00.431823Z",
     "start_time": "2025-01-24T16:14:00.424031Z"
    }
   },
   "source": [
    "aggregated_pivot_table = (aggregated_df.pivot_table(index=('user_id', 'month'),\n",
    "                                                    values=('distance', 'duration', 'date',\n",
    "                                                            'subscription_fee', 'minute_price',\n",
    "                                                            'start_ride_price'),\n",
    "                                                    aggfunc={\n",
    "                                                        'distance': 'sum',\n",
    "                                                        'duration': 'sum',\n",
    "                                                        'date': 'count',\n",
    "                                                        'minute_price': 'first',\n",
    "                                                        'start_ride_price': 'first',\n",
    "                                                        'subscription_fee': 'first'\n",
    "                                                    }, fill_value=0)\n",
    "                          .rename(columns={'date': 'ride_count',\n",
    "                                           'distance': 'distance_sum',\n",
    "                                           'duration': 'duration_sum', }))\n",
    "aggregated_pivot_table.head()"
   ],
   "outputs": [
    {
     "data": {
      "text/plain": [
       "               ride_count  distance_sum  duration_sum  minute_price  \\\n",
       "user_id month                                                         \n",
       "1       1               2   7027.511294          42.0             6   \n",
       "        4               1    754.159807           7.0             6   \n",
       "        8               2   6723.470560          46.0             6   \n",
       "        10              2   5809.911100          32.0             6   \n",
       "        11              3   7003.499363          56.0             6   \n",
       "\n",
       "               start_ride_price  subscription_fee  \n",
       "user_id month                                      \n",
       "1       1                     0               199  \n",
       "        4                     0               199  \n",
       "        8                     0               199  \n",
       "        10                    0               199  \n",
       "        11                    0               199  "
      ],
      "text/html": [
       "<div>\n",
       "<style scoped>\n",
       "    .dataframe tbody tr th:only-of-type {\n",
       "        vertical-align: middle;\n",
       "    }\n",
       "\n",
       "    .dataframe tbody tr th {\n",
       "        vertical-align: top;\n",
       "    }\n",
       "\n",
       "    .dataframe thead th {\n",
       "        text-align: right;\n",
       "    }\n",
       "</style>\n",
       "<table border=\"1\" class=\"dataframe\">\n",
       "  <thead>\n",
       "    <tr style=\"text-align: right;\">\n",
       "      <th></th>\n",
       "      <th></th>\n",
       "      <th>ride_count</th>\n",
       "      <th>distance_sum</th>\n",
       "      <th>duration_sum</th>\n",
       "      <th>minute_price</th>\n",
       "      <th>start_ride_price</th>\n",
       "      <th>subscription_fee</th>\n",
       "    </tr>\n",
       "    <tr>\n",
       "      <th>user_id</th>\n",
       "      <th>month</th>\n",
       "      <th></th>\n",
       "      <th></th>\n",
       "      <th></th>\n",
       "      <th></th>\n",
       "      <th></th>\n",
       "      <th></th>\n",
       "    </tr>\n",
       "  </thead>\n",
       "  <tbody>\n",
       "    <tr>\n",
       "      <th rowspan=\"5\" valign=\"top\">1</th>\n",
       "      <th>1</th>\n",
       "      <td>2</td>\n",
       "      <td>7027.511294</td>\n",
       "      <td>42.0</td>\n",
       "      <td>6</td>\n",
       "      <td>0</td>\n",
       "      <td>199</td>\n",
       "    </tr>\n",
       "    <tr>\n",
       "      <th>4</th>\n",
       "      <td>1</td>\n",
       "      <td>754.159807</td>\n",
       "      <td>7.0</td>\n",
       "      <td>6</td>\n",
       "      <td>0</td>\n",
       "      <td>199</td>\n",
       "    </tr>\n",
       "    <tr>\n",
       "      <th>8</th>\n",
       "      <td>2</td>\n",
       "      <td>6723.470560</td>\n",
       "      <td>46.0</td>\n",
       "      <td>6</td>\n",
       "      <td>0</td>\n",
       "      <td>199</td>\n",
       "    </tr>\n",
       "    <tr>\n",
       "      <th>10</th>\n",
       "      <td>2</td>\n",
       "      <td>5809.911100</td>\n",
       "      <td>32.0</td>\n",
       "      <td>6</td>\n",
       "      <td>0</td>\n",
       "      <td>199</td>\n",
       "    </tr>\n",
       "    <tr>\n",
       "      <th>11</th>\n",
       "      <td>3</td>\n",
       "      <td>7003.499363</td>\n",
       "      <td>56.0</td>\n",
       "      <td>6</td>\n",
       "      <td>0</td>\n",
       "      <td>199</td>\n",
       "    </tr>\n",
       "  </tbody>\n",
       "</table>\n",
       "</div>"
      ]
     },
     "execution_count": 42,
     "metadata": {},
     "output_type": "execute_result"
    }
   ],
   "execution_count": 42
  },
  {
   "cell_type": "code",
   "id": "8c4bd23d",
   "metadata": {
    "ExecuteTime": {
     "end_time": "2025-01-24T16:14:00.538979Z",
     "start_time": "2025-01-24T16:14:00.536286Z"
    }
   },
   "source": [
    "# Посмотрим, есть ли у нас пропуски в новой таблице\n",
    "aggregated_pivot_table.isna().sum()"
   ],
   "outputs": [
    {
     "data": {
      "text/plain": [
       "ride_count          0\n",
       "distance_sum        0\n",
       "duration_sum        0\n",
       "minute_price        0\n",
       "start_ride_price    0\n",
       "subscription_fee    0\n",
       "dtype: int64"
      ]
     },
     "execution_count": 43,
     "metadata": {},
     "output_type": "execute_result"
    }
   ],
   "execution_count": 43
  },
  {
   "cell_type": "code",
   "id": "b64b67e8898d4474",
   "metadata": {
    "ExecuteTime": {
     "end_time": "2025-01-24T16:14:00.636390Z",
     "start_time": "2025-01-24T16:14:00.586999Z"
    }
   },
   "source": [
    "def calculate_income(row):\n",
    "    result = row['start_ride_price'] * row['ride_count'] +\\\n",
    "    row['minute_price'] * row['duration_sum'] + row['subscription_fee']\n",
    "    \n",
    "    return result\n",
    "\n",
    "aggregated_pivot_table['month_income'] = aggregated_pivot_table.apply(calculate_income, axis=1)\n",
    "\n",
    "aggregated_pivot_table.head(10)"
   ],
   "outputs": [
    {
     "data": {
      "text/plain": [
       "               ride_count  distance_sum  duration_sum  minute_price  \\\n",
       "user_id month                                                         \n",
       "1       1               2   7027.511294          42.0             6   \n",
       "        4               1    754.159807           7.0             6   \n",
       "        8               2   6723.470560          46.0             6   \n",
       "        10              2   5809.911100          32.0             6   \n",
       "        11              3   7003.499363          56.0             6   \n",
       "        12              2   6751.629942          28.0             6   \n",
       "2       3               3  10187.723006          63.0             6   \n",
       "        4               2   6164.381824          40.0             6   \n",
       "        6               1   3255.338202          14.0             6   \n",
       "        7               2   6780.722964          48.0             6   \n",
       "\n",
       "               start_ride_price  subscription_fee  month_income  \n",
       "user_id month                                                    \n",
       "1       1                     0               199         451.0  \n",
       "        4                     0               199         241.0  \n",
       "        8                     0               199         475.0  \n",
       "        10                    0               199         391.0  \n",
       "        11                    0               199         535.0  \n",
       "        12                    0               199         367.0  \n",
       "2       3                     0               199         577.0  \n",
       "        4                     0               199         439.0  \n",
       "        6                     0               199         283.0  \n",
       "        7                     0               199         487.0  "
      ],
      "text/html": [
       "<div>\n",
       "<style scoped>\n",
       "    .dataframe tbody tr th:only-of-type {\n",
       "        vertical-align: middle;\n",
       "    }\n",
       "\n",
       "    .dataframe tbody tr th {\n",
       "        vertical-align: top;\n",
       "    }\n",
       "\n",
       "    .dataframe thead th {\n",
       "        text-align: right;\n",
       "    }\n",
       "</style>\n",
       "<table border=\"1\" class=\"dataframe\">\n",
       "  <thead>\n",
       "    <tr style=\"text-align: right;\">\n",
       "      <th></th>\n",
       "      <th></th>\n",
       "      <th>ride_count</th>\n",
       "      <th>distance_sum</th>\n",
       "      <th>duration_sum</th>\n",
       "      <th>minute_price</th>\n",
       "      <th>start_ride_price</th>\n",
       "      <th>subscription_fee</th>\n",
       "      <th>month_income</th>\n",
       "    </tr>\n",
       "    <tr>\n",
       "      <th>user_id</th>\n",
       "      <th>month</th>\n",
       "      <th></th>\n",
       "      <th></th>\n",
       "      <th></th>\n",
       "      <th></th>\n",
       "      <th></th>\n",
       "      <th></th>\n",
       "      <th></th>\n",
       "    </tr>\n",
       "  </thead>\n",
       "  <tbody>\n",
       "    <tr>\n",
       "      <th rowspan=\"6\" valign=\"top\">1</th>\n",
       "      <th>1</th>\n",
       "      <td>2</td>\n",
       "      <td>7027.511294</td>\n",
       "      <td>42.0</td>\n",
       "      <td>6</td>\n",
       "      <td>0</td>\n",
       "      <td>199</td>\n",
       "      <td>451.0</td>\n",
       "    </tr>\n",
       "    <tr>\n",
       "      <th>4</th>\n",
       "      <td>1</td>\n",
       "      <td>754.159807</td>\n",
       "      <td>7.0</td>\n",
       "      <td>6</td>\n",
       "      <td>0</td>\n",
       "      <td>199</td>\n",
       "      <td>241.0</td>\n",
       "    </tr>\n",
       "    <tr>\n",
       "      <th>8</th>\n",
       "      <td>2</td>\n",
       "      <td>6723.470560</td>\n",
       "      <td>46.0</td>\n",
       "      <td>6</td>\n",
       "      <td>0</td>\n",
       "      <td>199</td>\n",
       "      <td>475.0</td>\n",
       "    </tr>\n",
       "    <tr>\n",
       "      <th>10</th>\n",
       "      <td>2</td>\n",
       "      <td>5809.911100</td>\n",
       "      <td>32.0</td>\n",
       "      <td>6</td>\n",
       "      <td>0</td>\n",
       "      <td>199</td>\n",
       "      <td>391.0</td>\n",
       "    </tr>\n",
       "    <tr>\n",
       "      <th>11</th>\n",
       "      <td>3</td>\n",
       "      <td>7003.499363</td>\n",
       "      <td>56.0</td>\n",
       "      <td>6</td>\n",
       "      <td>0</td>\n",
       "      <td>199</td>\n",
       "      <td>535.0</td>\n",
       "    </tr>\n",
       "    <tr>\n",
       "      <th>12</th>\n",
       "      <td>2</td>\n",
       "      <td>6751.629942</td>\n",
       "      <td>28.0</td>\n",
       "      <td>6</td>\n",
       "      <td>0</td>\n",
       "      <td>199</td>\n",
       "      <td>367.0</td>\n",
       "    </tr>\n",
       "    <tr>\n",
       "      <th rowspan=\"4\" valign=\"top\">2</th>\n",
       "      <th>3</th>\n",
       "      <td>3</td>\n",
       "      <td>10187.723006</td>\n",
       "      <td>63.0</td>\n",
       "      <td>6</td>\n",
       "      <td>0</td>\n",
       "      <td>199</td>\n",
       "      <td>577.0</td>\n",
       "    </tr>\n",
       "    <tr>\n",
       "      <th>4</th>\n",
       "      <td>2</td>\n",
       "      <td>6164.381824</td>\n",
       "      <td>40.0</td>\n",
       "      <td>6</td>\n",
       "      <td>0</td>\n",
       "      <td>199</td>\n",
       "      <td>439.0</td>\n",
       "    </tr>\n",
       "    <tr>\n",
       "      <th>6</th>\n",
       "      <td>1</td>\n",
       "      <td>3255.338202</td>\n",
       "      <td>14.0</td>\n",
       "      <td>6</td>\n",
       "      <td>0</td>\n",
       "      <td>199</td>\n",
       "      <td>283.0</td>\n",
       "    </tr>\n",
       "    <tr>\n",
       "      <th>7</th>\n",
       "      <td>2</td>\n",
       "      <td>6780.722964</td>\n",
       "      <td>48.0</td>\n",
       "      <td>6</td>\n",
       "      <td>0</td>\n",
       "      <td>199</td>\n",
       "      <td>487.0</td>\n",
       "    </tr>\n",
       "  </tbody>\n",
       "</table>\n",
       "</div>"
      ]
     },
     "execution_count": 44,
     "metadata": {},
     "output_type": "execute_result"
    }
   ],
   "execution_count": 44
  },
  {
   "cell_type": "markdown",
   "id": "80d87e29ded6cbce",
   "metadata": {},
   "source": [
    "##### Вывод:\n",
    "\n",
    "Для подсчета выручки, мы создали сводную таблицу, в которой были как пользователи с подпиской, так и без нее, после чего сгруппировали данные по `user_id` и месяцу, тем самым посчитав, какую выручку принес каждый пользователь за каждый месяц"
   ]
  },
  {
   "cell_type": "markdown",
   "id": "41545ac0",
   "metadata": {},
   "source": [
    "#### Шаг 6. Проверка гипотез\n",
    "\n",
    "Продакт-менеджеры сервиса хотят увеличить количество пользователей с подпиской. Для этого они будут проводить различные акции, но сначала нужно выяснить несколько важных моментов"
   ]
  },
  {
   "cell_type": "code",
   "id": "23ea867b",
   "metadata": {
    "ExecuteTime": {
     "end_time": "2025-01-24T16:14:00.706956Z",
     "start_time": "2025-01-24T16:14:00.705176Z"
    }
   },
   "source": [
    "# Проверим, сколько всего у нас пользователей с подпиской и без нее\n",
    "print('Количество пользователей без подписки:',free_subscription_df.shape[0])\n",
    "print('Количество пользователей с подпиской:',ultra_subscription_df.shape[0])"
   ],
   "outputs": [
    {
     "name": "stdout",
     "output_type": "stream",
     "text": [
      "Количество пользователей без подписки: 11568\n",
      "Количество пользователей с подпиской: 6500\n"
     ]
    }
   ],
   "execution_count": 45
  },
  {
   "cell_type": "markdown",
   "id": "827a5d22",
   "metadata": {},
   "source": [
    "##### Гипотеза №1\n",
    "\n",
    "Важно понять, тратят ли пользователи с подпиской больше времени на поездки? Если да, то пользователи с подпиской могут быть «выгоднее» для компании. Проверьте гипотезу. Используйте исходные данные о продолжительности каждой сессии — отдельно для подписчиков и тех, у кого нет подписки.\n",
    "<br>\n",
    "<br>\n",
    "**h0** — Среднее время поездки пользователей с подпиской равно среднему времени пользователей без подписки\n",
    "<br>\n",
    "**h1** — Среднее время поездки пользователей с подпиской больше среднего времени пользователей без подписки"
   ]
  },
  {
   "cell_type": "code",
   "id": "a14daaaf4df4db64",
   "metadata": {
    "ExecuteTime": {
     "end_time": "2025-01-24T16:14:00.764393Z",
     "start_time": "2025-01-24T16:14:00.761436Z"
    }
   },
   "source": [
    "free_sample = free_subscription_df['duration']#.sample(frac=0.5)\n",
    "ultra_sample = ultra_subscription_df['duration']#.sample(frac=0.5)\n",
    "\n",
    "result = stats.ttest_ind(ultra_sample, free_sample, alternative='greater')\n",
    "# result = stats.ttest_ind(free_sample, ultra_sample, alternative='greater')\n",
    "alpha = 0.05\n",
    "\n",
    "print('p-value:', result.pvalue)\n",
    "if result.pvalue < alpha:\n",
    "    print('Отвергаем нулевую гипотезу в пользу альтернативной')\n",
    "else:\n",
    "    print('Не получилось отвергнуть нулевую гипотезу')"
   ],
   "outputs": [
    {
     "name": "stdout",
     "output_type": "stream",
     "text": [
      "p-value: 1.2804098316645618e-34\n",
      "Отвергаем нулевую гипотезу в пользу альтернативной\n"
     ]
    }
   ],
   "execution_count": 46
  },
  {
   "cell_type": "markdown",
   "id": "69b9a6e6",
   "metadata": {},
   "source": [
    "Так как мы отвергли нулевую гипотезу в пользу альтернативной, то мы можем утверждать, что пользователи с подпиской проводят больше времени за одну поездку"
   ]
  },
  {
   "cell_type": "markdown",
   "id": "9b733631",
   "metadata": {},
   "source": [
    "##### Гипотеза №2\n",
    "\n",
    "Расстояние одной поездки в 3130 метров — оптимальное с точки зрения износа самоката. Можно ли сказать, что среднее расстояние, которое проезжают пользователи с подпиской за одну поездку, не превышает 3130 метров?\n",
    "<br>\n",
    "<br>\n",
    "**h0** — Среднее расстояние, которое проезжает пользователей с подпиской составляет 3130 метров\n",
    "<br>\n",
    "**h1** — Среднее расстояние, которое проезжает пользователей с подпиской составляет больше 3130 метров"
   ]
  },
  {
   "cell_type": "code",
   "id": "a033cd4615043cfd",
   "metadata": {
    "ExecuteTime": {
     "end_time": "2025-01-24T16:14:00.813450Z",
     "start_time": "2025-01-24T16:14:00.810818Z"
    }
   },
   "source": [
    "interested_value = 3130\n",
    "sample = ultra_subscription_df['distance']#.sample(frac=0.5)\n",
    "\n",
    "result = stats.ttest_1samp(sample, interested_value, alternative='greater')\n",
    "alpha = 0.05\n",
    "\n",
    "print('p-value:', result.pvalue)\n",
    "if result.pvalue < alpha:\n",
    "    print('Отвергаем нулевую гипотезу в пользу альтернативной')\n",
    "else:\n",
    "    print('Не получилось отвергнуть нулевую гипотезу')"
   ],
   "outputs": [
    {
     "name": "stdout",
     "output_type": "stream",
     "text": [
      "p-value: 0.9195368847849785\n",
      "Не получилось отвергнуть нулевую гипотезу\n"
     ]
    }
   ],
   "execution_count": 47
  },
  {
   "cell_type": "markdown",
   "id": "530ce465",
   "metadata": {},
   "source": [
    "Нам не удалось отвергнуть нулевую гипотезу. В качестве альтернативной гипотезы мы выбрали гипотезу, при которой расстояние будет больше 3130 метров. Так как мы не смогли отвергнуть нулевую гипотезу в пользу альтернативной, то это означает, что среднее расстояние равно, или же меньше (не превышает) 3130 метров."
   ]
  },
  {
   "cell_type": "code",
   "id": "14dcb57b",
   "metadata": {
    "ExecuteTime": {
     "end_time": "2025-01-24T16:14:00.837053Z",
     "start_time": "2025-01-24T16:14:00.834873Z"
    }
   },
   "source": [
    "sample.mean()"
   ],
   "outputs": [
    {
     "data": {
      "text/plain": [
       "np.float64(3115.4453880370247)"
      ]
     },
     "execution_count": 48,
     "metadata": {},
     "output_type": "execute_result"
    }
   ],
   "execution_count": 48
  },
  {
   "cell_type": "code",
   "id": "82f7eccc",
   "metadata": {
    "ExecuteTime": {
     "end_time": "2025-01-24T16:14:00.863841Z",
     "start_time": "2025-01-24T16:14:00.860493Z"
    }
   },
   "source": [
    "# Проверяю, как выглядит столбец, из которого я беру выборку\n",
    "aggregated_pivot_table.loc[aggregated_pivot_table['subscription_fee'] == 0, 'month_income'].head(10)"
   ],
   "outputs": [
    {
     "data": {
      "text/plain": [
       "user_id  month\n",
       "700      1        170.0\n",
       "         2        962.0\n",
       "         3        202.0\n",
       "         4        178.0\n",
       "         6        332.0\n",
       "         7        268.0\n",
       "         8        186.0\n",
       "         10       452.0\n",
       "         11       406.0\n",
       "701      1        194.0\n",
       "Name: month_income, dtype: float64"
      ]
     },
     "execution_count": 49,
     "metadata": {},
     "output_type": "execute_result"
    }
   ],
   "execution_count": 49
  },
  {
   "cell_type": "markdown",
   "id": "fbda2453",
   "metadata": {},
   "source": [
    "##### Гипотеза №3\n",
    "\n",
    "Проверим гипотезу о том, будет ли помесячная выручка от пользователей с подпиской по месяцам выше, чем выручка от пользователей без подписки.\n",
    "<br>\n",
    "<br>\n",
    "**h0** — Помесячная выручка от пользователей с подпиской равна помесячной выручке от пользователей без подписки.\n",
    "<br>\n",
    "**h1** — Помесячная выручка от пользователей с подпиской больше помесячной выручке от пользователей без подписки."
   ]
  },
  {
   "cell_type": "code",
   "id": "16e11ce8eb6856c4",
   "metadata": {
    "ExecuteTime": {
     "end_time": "2025-01-24T16:14:00.951397Z",
     "start_time": "2025-01-24T16:14:00.947988Z"
    }
   },
   "source": [
    "free_sample = aggregated_pivot_table.loc[aggregated_pivot_table['subscription_fee'] == 0, 'month_income']#.sample(frac=0.5)\n",
    "ultra_sample = aggregated_pivot_table.loc[aggregated_pivot_table['subscription_fee'] == 199, 'month_income']#.sample(frac=0.5)\n",
    "\n",
    "result = stats.ttest_ind(ultra_sample, free_sample, alternative='greater')\n",
    "alpha = 0.05\n",
    "\n",
    "print('p-value:', result.pvalue)\n",
    "if result.pvalue < alpha:\n",
    "    print('Отвергаем нулевую гипотезу в пользу альтернативной')\n",
    "else:\n",
    "    print('Не получилось отвергнуть нулевую гипотезу')"
   ],
   "outputs": [
    {
     "name": "stdout",
     "output_type": "stream",
     "text": [
      "p-value: 1.8850394384715216e-31\n",
      "Отвергаем нулевую гипотезу в пользу альтернативной\n"
     ]
    }
   ],
   "execution_count": 51
  },
  {
   "cell_type": "code",
   "id": "877510de",
   "metadata": {
    "ExecuteTime": {
     "end_time": "2025-01-24T16:14:00.985279Z",
     "start_time": "2025-01-24T16:14:00.983512Z"
    }
   },
   "source": [
    "# Проверка\n",
    "print(free_sample.mean())\n",
    "print(ultra_sample.mean())"
   ],
   "outputs": [
    {
     "name": "stdout",
     "output_type": "stream",
     "text": [
      "328.6413651073845\n",
      "362.7921906022502\n"
     ]
    }
   ],
   "execution_count": 52
  },
  {
   "cell_type": "markdown",
   "id": "05a2e879",
   "metadata": {},
   "source": [
    "Так как мы отвергаем нулевую гипотезу в пользу альтернативной, то можем сказать, что в среднем, пользователи с подпиской приносят большую помесячную выручку, чем пользователи без нее"
   ]
  },
  {
   "cell_type": "markdown",
   "id": "75943dc905c3cefa",
   "metadata": {},
   "source": [
    "<b>Вопрос: Представьте такую ситуацию: техническая команда сервиса обновила сервера, с которыми взаимодействует мобильное приложение. Она надеется, что из-за этого количество обращений в техподдержку значимо снизилось. Некоторый файл содержит для каждого пользователя данные о количестве обращений до обновления и после него. Какой тест вам понадобился бы для проверки этой гипотезы?</b>\n",
    "\n",
    "<br>\n",
    "<br>\n",
    "\n",
    "Ответ: В данном случае нам бы подошел <code>ttest_rel(sample_before, sample_after, alternative='greater')</code>, потому что данный тест проверяет гипотезу о равенстве среднего до и после изменений, при условии, что каждое значение значение находится \"на своем месте\". Так как нам интересно узнать, снизилось ли количество обращений, то мы указываем параметр <code>alternative='greater'</code>, потому что при указании <code>alternative='less'</code>, будет проверяться левостороняя альтернативная гипотеза о том, что истинное среднее генеральной совокупности до изменения меньше, чем после. При указании же <code>alternative='greater'</code> проверяется правосторонняя. То, насколько сильно снизилось количество обращений, указывается в параметр alpha, который является важностью статистической значимости."
   ]
  },
  {
   "cell_type": "markdown",
   "id": "acbd290dd4288d38",
   "metadata": {},
   "source": [
    "##### Вывод:\n",
    "\n",
    "Всего нам надо было проверить 3 гипотезы:\n",
    "1. Тратят ли пользователи с подпиской больше времени на поездки?\n",
    "2. Проезжают ли пользователи меньше, чем 3130 метров за одну поездку?\n",
    "3. Приносят ли пользователи с подпиской в месяц больше выручки, чем пользователи без нее?\n",
    "\n",
    "Результаты проверок гипотез:\n",
    "1. Первую гипотезу мы подтвердили, так что можно сказать, что пользователи с подпиской тратят больше времени на поездки, нежели пользователи без нее \n",
    "2. Вторую гипотезу мы подтвердили, пользователи с подпиской проезжают расстояние, не превышающее 3130 метров\n",
    "3. Третью гипотезу мы так же подтвердили. Пользователи с подпиской в среднем приносят больше прибиль в месяц, чем пользователи без подписки"
   ]
  },
  {
   "cell_type": "markdown",
   "id": "61213c5e",
   "metadata": {},
   "source": [
    "#### Шаг 7. Распределения"
   ]
  },
  {
   "cell_type": "markdown",
   "id": "9ff3660de2e132fa",
   "metadata": {},
   "source": [
    "Отделу маркетинга GoFast поставили задачу: нужно провести акцию с\n",
    "раздачей промокодов на один бесплатный месяц подписки, в рамках которой как\n",
    "минимум 100 существующих клиентов должны продлить эту подписку. То есть по завершении периода действия подписки пользователь может либо отказаться от неё, либо продлить, совершив соответствующий платёж.\n",
    "Эта акция уже проводилась ранее и по итогу выяснилось, что после бесплатного пробного периода подписку продлевают 10 % пользователей. Выясните, какое минимальное количество промокодов нужно разослать, чтобы вероятность не выполнить план была примерно 5 %. Подберите параметры распределения, описывающего эту ситуацию, постройте график распределения и сформулируйте\n",
    "ответ на вопрос о количестве промокодов."
   ]
  },
  {
   "cell_type": "code",
   "id": "b0e66718",
   "metadata": {
    "ExecuteTime": {
     "end_time": "2025-01-24T16:14:01.009638Z",
     "start_time": "2025-01-24T16:14:00.996429Z"
    }
   },
   "source": [
    "from scipy.stats import binom\n",
    "import numpy as np\n",
    "\n",
    "p = 0.1\n",
    "n = 800\n",
    "\n",
    "# Начать можно с ~900.\n",
    "for n in range(800, 1800):\n",
    "    if binom.cdf(99, n, p) <= 0.05:\n",
    "      print(\"Минимальное количество промокодов: \", n)\n",
    "      break\n"
   ],
   "outputs": [
    {
     "name": "stdout",
     "output_type": "stream",
     "text": [
      "Минимальное количество промокодов:  1161\n"
     ]
    }
   ],
   "execution_count": 53
  },
  {
   "cell_type": "code",
   "id": "57ddc3d3",
   "metadata": {
    "ExecuteTime": {
     "end_time": "2025-01-24T16:14:01.052484Z",
     "start_time": "2025-01-24T16:14:01.020491Z"
    }
   },
   "source": [
    "# Параметры биномиального распределения\n",
    "import warnings\n",
    "warnings.filterwarnings(\"ignore\")\n",
    "\n",
    "n = 1161  # Количество промокодов\n",
    "p = 0.05  # Вероятность успеха\n",
    "\n",
    "# Значения для оси x (количество успехов)\n",
    "x = range(n + 1)\n",
    "\n",
    "# Значения для оси y (вероятность)\n",
    "y = binom.pmf(x, n, p)\n",
    "\n",
    "# Построение графика\n",
    "plt.plot(x, y)\n",
    "plt.xlabel(\"Количество успехов\")\n",
    "plt.ylabel(\"Вероятность\")\n",
    "plt.title(\"Биномиальное распределение\")\n",
    "plt.show()"
   ],
   "outputs": [
    {
     "data": {
      "text/plain": [
       "<Figure size 640x480 with 1 Axes>"
      ],
      "image/png": "[encoded data removed]"
     },
     "metadata": {},
     "output_type": "display_data"
    }
   ],
   "execution_count": 54
  },
  {
   "cell_type": "code",
   "id": "56a21eea",
   "metadata": {
    "ExecuteTime": {
     "end_time": "2025-01-24T16:14:01.091643Z",
     "start_time": "2025-01-24T16:14:01.062069Z"
    }
   },
   "source": [
    "from scipy.stats import binom\n",
    "import numpy as np\n",
    "\n",
    "p = 0.1\n",
    "n = 100\n",
    "\n",
    "for n in range(100, 1800):\n",
    "    if binom.cdf(99, n, p) <= 0.05:\n",
    "      print(\"Минимальное количество промокодов: \", n)\n",
    "      break\n"
   ],
   "outputs": [
    {
     "name": "stdout",
     "output_type": "stream",
     "text": [
      "Минимальное количество промокодов:  1161\n"
     ]
    }
   ],
   "execution_count": 55
  },
  {
   "cell_type": "markdown",
   "id": "c634c1420f2f1f8",
   "metadata": {},
   "source": [
    "**Задача:**\n",
    "Отдел маркетинга рассылает клиентам push-уведомления в мобильном приложении. Клиенты могут открыть его или не открывать. Известно, что уведомления открывают около 40 % получивших клиентов. Отдел планирует разослать 1 млн уведомлений. С помощью аппроксимации постройте примерный график распределения и оцените вероятность того, что уведомление откроют не более 399,5 тыс. пользователей."
   ]
  },
  {
   "cell_type": "code",
   "id": "e96fa16014b5ef4",
   "metadata": {
    "ExecuteTime": {
     "end_time": "2025-01-24T16:14:01.103814Z",
     "start_time": "2025-01-24T16:14:01.101573Z"
    }
   },
   "source": [
    "p = 0.4\n",
    "n = 10**6\n",
    "x = 399500\n",
    "\n",
    "mu = n * p\n",
    "sigma = math.sqrt(n * p * (1 - p))\n",
    "distr = stats.norm(mu, sigma)\n",
    "\n",
    "print(f'Вероятность, что письмо откроют меньше {x} пользователей составляет {distr.cdf(x) * 100:.1f}%')"
   ],
   "outputs": [
    {
     "name": "stdout",
     "output_type": "stream",
     "text": [
      "Вероятность, что письмо откроют меньше 399500 пользователей составляет 15.4%\n"
     ]
    }
   ],
   "execution_count": 56
  },
  {
   "cell_type": "markdown",
   "id": "38c92a04dceb9694",
   "metadata": {},
   "source": [
    "##### Вывод:\n",
    "\n",
    "Если отдел маркетинга отправит письмо миллиону пользователей, то вероятность того, что его откроет меньше `399500 человек` составляет `15.4%`"
   ]
  },
  {
   "cell_type": "markdown",
   "id": "883a75370df8561",
   "metadata": {},
   "source": [
    "#### Общий вывод:\n",
    "\n",
    "Пользователи \n",
    "\n",
    "Данные о пользователях:\n",
    "- Во всех 8 городах примерно одинаковое количество пользователй. Меньше всего пользователей в `Москве`, в то время как больше всего пользователей в Пятигорске\n",
    "- Всего у нас `835` пользователей с бесплатной подпиской и `699` пользователей с платной подпиской, что составляет `54% и 46%` от общего числа пользователей соответственно. На одного пользователя с платной подпиской приходится 1.19 пользователей с бесплатной подпиской\n",
    "- Расстояние, которое преодолевает на самокате больше всего в теплые месяцы, \n",
    "- Минимальный, медианный, и максимальный возраст пользователей не сильно отличается в зависимости от города. Медианный возраст составляет `25` лет\n",
    "- В теплые месяцы время поездки закономерно выше, чем в холодные, медианное время составляет примерно `17.7 минут` \n",
    "\n",
    "<br>\n",
    "<br>\n",
    "\n",
    "Данные о поездках:\n",
    "- Медианное расстояние для пользователей без подписки составляет `3114 метров`\n",
    "- Медианное время для пользователей без подписки составляет `17.5 минут`\n",
    "- Медианное расстояние для пользователей с подпиской составляет `3150 метров`\n",
    "- Медианное время для пользователей с подпиской составляет `18 минут`\n",
    "\n",
    "\n",
    "Мы можем наблюдать, что время поездки для пользователей с подпиской и без нее практически не различается. Пользователи без подписки чаще проезжают расстояние меньше 1км. Пользователи без подписки так же равномерно проезжают расстояния от ~2200м до ~3800, в то время как пользователи с подпиской проезжают в основном расстояние равное ~3000м. У пользователей с подпиской и без, медианные значения примерно одинаковые и составляют около `3150 метров`, однако дисперсия у пользователей с подпиской меньше. Так же стоит отметить, что пользователи без подписки чаще проезжают большее расстояние: 5000м для пользователей с подпиской, против почти 7000м для пользователей без подписки\n",
    "\n",
    "<br>\n",
    "<br>\n",
    "\n",
    "Результаты проверок гипотез:\n",
    "1. Первую гипотезу мы подтвердили, так что можно сказать, что пользователи с подпиской тратят больше времени на поездки, нежели пользователи без нее \n",
    "2. Вторую гипотезу мы подтвердили, пользователи с подпиской проезжают расстояние, не превышающее 3130 метров\n",
    "3. Третью гипотезу мы так же подтвердили. Пользователи с подпиской в среднем приносят больше прибиль в месяц, чем пользователи без подписки\n",
    "\n",
    "Так же стоит отметить, что при вероятности открытия письма, равной `0.4`, то если отдел маркетинга отправит письмо миллиону пользователей, то вероятность того, что его откроет меньше `399500 человек` составляет `15.4%`\n",
    "\n",
    "<br>\n",
    "<br>\n",
    "\n",
    "Проделанная работа:\n",
    "- Столбце `date` приведен к необходимому формату\n",
    "- Все датафреймы объеденины в один\n",
    "- Созданая сводная таблица\n",
    "- Созданы отдельные датафреймы для пользователей с подпиской и без\n",
    "- Добавлен столбец с помесячной выручкой для каждого пользователя\n",
    "- Был удален 31 явный дубликат в таблице с пользователями"
   ]
  }
 ],
 "metadata": {
  "ExecuteTimeLog": [
   {
    "duration": 1243,
    "start_time": "2024-11-20T19:47:04.495Z"
   },
   {
    "duration": 380,
    "start_time": "2024-11-20T19:47:05.741Z"
   },
   {
    "duration": 12,
    "start_time": "2024-11-20T19:47:06.123Z"
   },
   {
    "duration": 21,
    "start_time": "2024-11-20T19:47:06.138Z"
   },
   {
    "duration": 12,
    "start_time": "2024-11-20T19:47:06.160Z"
   },
   {
    "duration": 11,
    "start_time": "2024-11-20T19:47:06.174Z"
   },
   {
    "duration": 7,
    "start_time": "2024-11-20T19:47:06.187Z"
   },
   {
    "duration": 24,
    "start_time": "2024-11-20T19:47:06.196Z"
   },
   {
    "duration": 14,
    "start_time": "2024-11-20T19:47:06.222Z"
   },
   {
    "duration": 10,
    "start_time": "2024-11-20T19:47:06.272Z"
   },
   {
    "duration": 20,
    "start_time": "2024-11-20T19:47:06.283Z"
   },
   {
    "duration": 11,
    "start_time": "2024-11-20T19:47:06.304Z"
   },
   {
    "duration": 35,
    "start_time": "2024-11-20T19:47:06.317Z"
   },
   {
    "duration": 23,
    "start_time": "2024-11-20T19:47:06.354Z"
   },
   {
    "duration": 12,
    "start_time": "2024-11-20T19:47:06.379Z"
   },
   {
    "duration": 245,
    "start_time": "2024-11-20T19:47:06.392Z"
   },
   {
    "duration": 57,
    "start_time": "2024-11-20T19:47:06.638Z"
   },
   {
    "duration": 0,
    "start_time": "2024-11-20T19:47:06.697Z"
   },
   {
    "duration": 0,
    "start_time": "2024-11-20T19:47:06.698Z"
   },
   {
    "duration": 0,
    "start_time": "2024-11-20T19:47:06.700Z"
   },
   {
    "duration": 0,
    "start_time": "2024-11-20T19:47:06.700Z"
   },
   {
    "duration": 0,
    "start_time": "2024-11-20T19:47:06.701Z"
   },
   {
    "duration": 0,
    "start_time": "2024-11-20T19:47:06.702Z"
   },
   {
    "duration": 0,
    "start_time": "2024-11-20T19:47:06.703Z"
   },
   {
    "duration": 0,
    "start_time": "2024-11-20T19:47:06.705Z"
   },
   {
    "duration": 0,
    "start_time": "2024-11-20T19:47:06.705Z"
   },
   {
    "duration": 0,
    "start_time": "2024-11-20T19:47:06.707Z"
   },
   {
    "duration": 0,
    "start_time": "2024-11-20T19:47:06.707Z"
   },
   {
    "duration": 0,
    "start_time": "2024-11-20T19:47:06.708Z"
   },
   {
    "duration": 0,
    "start_time": "2024-11-20T19:47:06.709Z"
   },
   {
    "duration": 0,
    "start_time": "2024-11-20T19:47:06.711Z"
   },
   {
    "duration": 0,
    "start_time": "2024-11-20T19:47:06.712Z"
   },
   {
    "duration": 0,
    "start_time": "2024-11-20T19:47:06.713Z"
   },
   {
    "duration": 0,
    "start_time": "2024-11-20T19:47:06.714Z"
   },
   {
    "duration": 0,
    "start_time": "2024-11-20T19:47:06.715Z"
   },
   {
    "duration": 0,
    "start_time": "2024-11-20T19:47:06.716Z"
   },
   {
    "duration": 0,
    "start_time": "2024-11-20T19:47:06.717Z"
   },
   {
    "duration": 0,
    "start_time": "2024-11-20T19:47:06.718Z"
   },
   {
    "duration": 0,
    "start_time": "2024-11-20T19:47:06.719Z"
   },
   {
    "duration": 0,
    "start_time": "2024-11-20T19:47:06.720Z"
   },
   {
    "duration": 0,
    "start_time": "2024-11-20T19:47:06.721Z"
   },
   {
    "duration": 0,
    "start_time": "2024-11-20T19:47:06.722Z"
   },
   {
    "duration": 0,
    "start_time": "2024-11-20T19:47:06.723Z"
   },
   {
    "duration": 58,
    "start_time": "2024-11-20T19:48:10.670Z"
   },
   {
    "duration": 53,
    "start_time": "2024-11-20T19:49:27.439Z"
   },
   {
    "duration": 249,
    "start_time": "2024-11-20T19:49:52.182Z"
   },
   {
    "duration": 50,
    "start_time": "2024-11-20T19:49:56.555Z"
   },
   {
    "duration": 98,
    "start_time": "2024-11-20T19:51:13.782Z"
   },
   {
    "duration": 97,
    "start_time": "2024-11-20T19:52:47.979Z"
   },
   {
    "duration": 53,
    "start_time": "2024-11-20T19:53:16.322Z"
   },
   {
    "duration": 51,
    "start_time": "2024-11-20T19:53:32.238Z"
   },
   {
    "duration": 202,
    "start_time": "2024-11-20T19:53:36.197Z"
   },
   {
    "duration": 98,
    "start_time": "2024-11-20T19:53:43.857Z"
   },
   {
    "duration": 52,
    "start_time": "2024-11-20T19:53:57.880Z"
   },
   {
    "duration": 1037,
    "start_time": "2024-11-20T19:55:13.764Z"
   },
   {
    "duration": 141,
    "start_time": "2024-11-20T19:55:14.802Z"
   },
   {
    "duration": 12,
    "start_time": "2024-11-20T19:55:14.945Z"
   },
   {
    "duration": 11,
    "start_time": "2024-11-20T19:55:14.959Z"
   },
   {
    "duration": 32,
    "start_time": "2024-11-20T19:55:14.973Z"
   },
   {
    "duration": 26,
    "start_time": "2024-11-20T19:55:15.007Z"
   },
   {
    "duration": 9,
    "start_time": "2024-11-20T19:55:15.035Z"
   },
   {
    "duration": 24,
    "start_time": "2024-11-20T19:55:15.045Z"
   },
   {
    "duration": 14,
    "start_time": "2024-11-20T19:55:15.070Z"
   },
   {
    "duration": 11,
    "start_time": "2024-11-20T19:55:15.086Z"
   },
   {
    "duration": 13,
    "start_time": "2024-11-20T19:55:15.099Z"
   },
   {
    "duration": 20,
    "start_time": "2024-11-20T19:55:15.114Z"
   },
   {
    "duration": 41,
    "start_time": "2024-11-20T19:55:15.136Z"
   },
   {
    "duration": 13,
    "start_time": "2024-11-20T19:55:15.180Z"
   },
   {
    "duration": 15,
    "start_time": "2024-11-20T19:55:15.194Z"
   },
   {
    "duration": 266,
    "start_time": "2024-11-20T19:55:15.211Z"
   },
   {
    "duration": 106,
    "start_time": "2024-11-20T19:55:15.479Z"
   },
   {
    "duration": 10,
    "start_time": "2024-11-20T19:55:15.586Z"
   },
   {
    "duration": 238,
    "start_time": "2024-11-20T19:55:15.597Z"
   },
   {
    "duration": 11,
    "start_time": "2024-11-20T19:55:15.837Z"
   },
   {
    "duration": 251,
    "start_time": "2024-11-20T19:55:15.849Z"
   },
   {
    "duration": 212,
    "start_time": "2024-11-20T19:55:16.102Z"
   },
   {
    "duration": 228,
    "start_time": "2024-11-20T19:55:16.316Z"
   },
   {
    "duration": 190,
    "start_time": "2024-11-20T19:55:16.545Z"
   },
   {
    "duration": 203,
    "start_time": "2024-11-20T19:55:16.737Z"
   },
   {
    "duration": 160,
    "start_time": "2024-11-20T19:55:16.942Z"
   },
   {
    "duration": 3,
    "start_time": "2024-11-20T19:55:17.103Z"
   },
   {
    "duration": 19,
    "start_time": "2024-11-20T19:55:17.107Z"
   },
   {
    "duration": 17,
    "start_time": "2024-11-20T19:55:17.128Z"
   },
   {
    "duration": 10,
    "start_time": "2024-11-20T19:55:17.171Z"
   },
   {
    "duration": 49,
    "start_time": "2024-11-20T19:55:17.183Z"
   },
   {
    "duration": 0,
    "start_time": "2024-11-20T19:55:17.233Z"
   },
   {
    "duration": 0,
    "start_time": "2024-11-20T19:55:17.234Z"
   },
   {
    "duration": 1,
    "start_time": "2024-11-20T19:55:17.235Z"
   },
   {
    "duration": 0,
    "start_time": "2024-11-20T19:55:17.236Z"
   },
   {
    "duration": 0,
    "start_time": "2024-11-20T19:55:17.238Z"
   },
   {
    "duration": 0,
    "start_time": "2024-11-20T19:55:17.239Z"
   },
   {
    "duration": 0,
    "start_time": "2024-11-20T19:55:17.240Z"
   },
   {
    "duration": 1,
    "start_time": "2024-11-20T19:55:17.241Z"
   },
   {
    "duration": 0,
    "start_time": "2024-11-20T19:55:17.243Z"
   },
   {
    "duration": 0,
    "start_time": "2024-11-20T19:55:17.244Z"
   },
   {
    "duration": 0,
    "start_time": "2024-11-20T19:55:17.245Z"
   },
   {
    "duration": 0,
    "start_time": "2024-11-20T19:55:17.246Z"
   },
   {
    "duration": 193,
    "start_time": "2024-11-20T19:57:30.167Z"
   },
   {
    "duration": 283,
    "start_time": "2024-11-20T20:01:40.509Z"
   },
   {
    "duration": 204,
    "start_time": "2024-11-20T20:01:45.432Z"
   },
   {
    "duration": 98,
    "start_time": "2024-11-20T20:02:09.776Z"
   },
   {
    "duration": 7,
    "start_time": "2024-11-20T20:03:06.676Z"
   },
   {
    "duration": 7,
    "start_time": "2024-11-20T20:03:37.581Z"
   },
   {
    "duration": 1094,
    "start_time": "2024-11-20T20:03:57.020Z"
   },
   {
    "duration": 155,
    "start_time": "2024-11-20T20:03:58.116Z"
   },
   {
    "duration": 13,
    "start_time": "2024-11-20T20:03:58.273Z"
   },
   {
    "duration": 14,
    "start_time": "2024-11-20T20:03:58.288Z"
   },
   {
    "duration": 9,
    "start_time": "2024-11-20T20:03:58.304Z"
   },
   {
    "duration": 16,
    "start_time": "2024-11-20T20:03:58.314Z"
   },
   {
    "duration": 6,
    "start_time": "2024-11-20T20:03:58.331Z"
   },
   {
    "duration": 44,
    "start_time": "2024-11-20T20:03:58.339Z"
   },
   {
    "duration": 10,
    "start_time": "2024-11-20T20:03:58.385Z"
   },
   {
    "duration": 9,
    "start_time": "2024-11-20T20:03:58.398Z"
   },
   {
    "duration": 23,
    "start_time": "2024-11-20T20:03:58.408Z"
   },
   {
    "duration": 42,
    "start_time": "2024-11-20T20:03:58.433Z"
   },
   {
    "duration": 8,
    "start_time": "2024-11-20T20:03:58.477Z"
   },
   {
    "duration": 12,
    "start_time": "2024-11-20T20:03:58.487Z"
   },
   {
    "duration": 11,
    "start_time": "2024-11-20T20:03:58.500Z"
   },
   {
    "duration": 241,
    "start_time": "2024-11-20T20:03:58.512Z"
   },
   {
    "duration": 104,
    "start_time": "2024-11-20T20:03:58.755Z"
   },
   {
    "duration": 10,
    "start_time": "2024-11-20T20:03:58.871Z"
   },
   {
    "duration": 229,
    "start_time": "2024-11-20T20:03:58.883Z"
   },
   {
    "duration": 9,
    "start_time": "2024-11-20T20:03:59.114Z"
   },
   {
    "duration": 240,
    "start_time": "2024-11-20T20:03:59.125Z"
   },
   {
    "duration": 203,
    "start_time": "2024-11-20T20:03:59.369Z"
   },
   {
    "duration": 222,
    "start_time": "2024-11-20T20:03:59.574Z"
   },
   {
    "duration": 195,
    "start_time": "2024-11-20T20:03:59.798Z"
   },
   {
    "duration": 209,
    "start_time": "2024-11-20T20:03:59.994Z"
   },
   {
    "duration": 165,
    "start_time": "2024-11-20T20:04:00.205Z"
   },
   {
    "duration": 2,
    "start_time": "2024-11-20T20:04:00.372Z"
   },
   {
    "duration": 27,
    "start_time": "2024-11-20T20:04:00.377Z"
   },
   {
    "duration": 19,
    "start_time": "2024-11-20T20:04:00.406Z"
   },
   {
    "duration": 12,
    "start_time": "2024-11-20T20:04:00.426Z"
   },
   {
    "duration": 32,
    "start_time": "2024-11-20T20:04:00.440Z"
   },
   {
    "duration": 552,
    "start_time": "2024-11-20T20:04:00.474Z"
   },
   {
    "duration": 6,
    "start_time": "2024-11-20T20:04:01.028Z"
   },
   {
    "duration": 75,
    "start_time": "2024-11-20T20:04:01.036Z"
   },
   {
    "duration": 5,
    "start_time": "2024-11-20T20:04:01.112Z"
   },
   {
    "duration": 39,
    "start_time": "2024-11-20T20:04:01.118Z"
   },
   {
    "duration": 22,
    "start_time": "2024-11-20T20:04:01.159Z"
   },
   {
    "duration": 3,
    "start_time": "2024-11-20T20:04:01.182Z"
   },
   {
    "duration": 10,
    "start_time": "2024-11-20T20:04:01.187Z"
   },
   {
    "duration": 11,
    "start_time": "2024-11-20T20:04:01.198Z"
   },
   {
    "duration": 14,
    "start_time": "2024-11-20T20:04:01.210Z"
   },
   {
    "duration": 11,
    "start_time": "2024-11-20T20:04:01.225Z"
   },
   {
    "duration": 87,
    "start_time": "2024-11-20T20:04:01.238Z"
   },
   {
    "duration": 1048,
    "start_time": "2024-11-20T20:04:27.964Z"
   },
   {
    "duration": 145,
    "start_time": "2024-11-20T20:04:29.014Z"
   },
   {
    "duration": 13,
    "start_time": "2024-11-20T20:04:29.162Z"
   },
   {
    "duration": 12,
    "start_time": "2024-11-20T20:04:29.176Z"
   },
   {
    "duration": 10,
    "start_time": "2024-11-20T20:04:29.190Z"
   },
   {
    "duration": 13,
    "start_time": "2024-11-20T20:04:29.202Z"
   },
   {
    "duration": 54,
    "start_time": "2024-11-20T20:04:29.217Z"
   },
   {
    "duration": 20,
    "start_time": "2024-11-20T20:04:29.273Z"
   },
   {
    "duration": 25,
    "start_time": "2024-11-20T20:04:29.295Z"
   },
   {
    "duration": 9,
    "start_time": "2024-11-20T20:04:29.322Z"
   },
   {
    "duration": 11,
    "start_time": "2024-11-20T20:04:29.333Z"
   },
   {
    "duration": 33,
    "start_time": "2024-11-20T20:04:29.345Z"
   },
   {
    "duration": 9,
    "start_time": "2024-11-20T20:04:29.380Z"
   },
   {
    "duration": 12,
    "start_time": "2024-11-20T20:04:29.394Z"
   },
   {
    "duration": 15,
    "start_time": "2024-11-20T20:04:29.408Z"
   },
   {
    "duration": 240,
    "start_time": "2024-11-20T20:04:29.424Z"
   },
   {
    "duration": 107,
    "start_time": "2024-11-20T20:04:29.666Z"
   },
   {
    "duration": 11,
    "start_time": "2024-11-20T20:04:29.775Z"
   },
   {
    "duration": 231,
    "start_time": "2024-11-20T20:04:29.787Z"
   },
   {
    "duration": 10,
    "start_time": "2024-11-20T20:04:30.020Z"
   },
   {
    "duration": 281,
    "start_time": "2024-11-20T20:04:30.032Z"
   },
   {
    "duration": 212,
    "start_time": "2024-11-20T20:04:30.314Z"
   },
   {
    "duration": 248,
    "start_time": "2024-11-20T20:04:30.527Z"
   },
   {
    "duration": 197,
    "start_time": "2024-11-20T20:04:30.777Z"
   },
   {
    "duration": 205,
    "start_time": "2024-11-20T20:04:30.976Z"
   },
   {
    "duration": 159,
    "start_time": "2024-11-20T20:04:31.182Z"
   },
   {
    "duration": 29,
    "start_time": "2024-11-20T20:04:31.342Z"
   },
   {
    "duration": 18,
    "start_time": "2024-11-20T20:04:31.372Z"
   },
   {
    "duration": 30,
    "start_time": "2024-11-20T20:04:31.392Z"
   },
   {
    "duration": 18,
    "start_time": "2024-11-20T20:04:31.424Z"
   },
   {
    "duration": 503,
    "start_time": "2024-11-20T20:04:31.443Z"
   },
   {
    "duration": 8,
    "start_time": "2024-11-20T20:04:31.948Z"
   },
   {
    "duration": 30,
    "start_time": "2024-11-20T20:04:31.969Z"
   },
   {
    "duration": 50,
    "start_time": "2024-11-20T20:04:32.001Z"
   },
   {
    "duration": 34,
    "start_time": "2024-11-20T20:04:32.052Z"
   },
   {
    "duration": 13,
    "start_time": "2024-11-20T20:04:32.088Z"
   },
   {
    "duration": 4,
    "start_time": "2024-11-20T20:04:32.103Z"
   },
   {
    "duration": 8,
    "start_time": "2024-11-20T20:04:32.109Z"
   },
   {
    "duration": 15,
    "start_time": "2024-11-20T20:04:32.119Z"
   },
   {
    "duration": 10,
    "start_time": "2024-11-20T20:04:32.170Z"
   },
   {
    "duration": 2,
    "start_time": "2024-11-20T20:04:32.185Z"
   },
   {
    "duration": 19,
    "start_time": "2024-11-20T20:04:32.189Z"
   },
   {
    "duration": 1040,
    "start_time": "2024-11-20T20:08:09.874Z"
   },
   {
    "duration": 139,
    "start_time": "2024-11-20T20:08:10.916Z"
   },
   {
    "duration": 11,
    "start_time": "2024-11-20T20:08:11.057Z"
   },
   {
    "duration": 18,
    "start_time": "2024-11-20T20:08:11.070Z"
   },
   {
    "duration": 9,
    "start_time": "2024-11-20T20:08:11.089Z"
   },
   {
    "duration": 10,
    "start_time": "2024-11-20T20:08:11.100Z"
   },
   {
    "duration": 6,
    "start_time": "2024-11-20T20:08:11.111Z"
   },
   {
    "duration": 18,
    "start_time": "2024-11-20T20:08:11.118Z"
   },
   {
    "duration": 35,
    "start_time": "2024-11-20T20:08:11.138Z"
   },
   {
    "duration": 8,
    "start_time": "2024-11-20T20:08:11.176Z"
   },
   {
    "duration": 10,
    "start_time": "2024-11-20T20:08:11.186Z"
   },
   {
    "duration": 9,
    "start_time": "2024-11-20T20:08:11.197Z"
   },
   {
    "duration": 9,
    "start_time": "2024-11-20T20:08:11.208Z"
   },
   {
    "duration": 12,
    "start_time": "2024-11-20T20:08:11.218Z"
   },
   {
    "duration": 50,
    "start_time": "2024-11-20T20:08:11.231Z"
   },
   {
    "duration": 236,
    "start_time": "2024-11-20T20:08:11.282Z"
   },
   {
    "duration": 111,
    "start_time": "2024-11-20T20:08:11.519Z"
   },
   {
    "duration": 11,
    "start_time": "2024-11-20T20:08:11.631Z"
   },
   {
    "duration": 219,
    "start_time": "2024-11-20T20:08:11.644Z"
   },
   {
    "duration": 12,
    "start_time": "2024-11-20T20:08:11.864Z"
   },
   {
    "duration": 229,
    "start_time": "2024-11-20T20:08:11.878Z"
   },
   {
    "duration": 206,
    "start_time": "2024-11-20T20:08:12.109Z"
   },
   {
    "duration": 220,
    "start_time": "2024-11-20T20:08:12.317Z"
   },
   {
    "duration": 185,
    "start_time": "2024-11-20T20:08:12.539Z"
   },
   {
    "duration": 202,
    "start_time": "2024-11-20T20:08:12.725Z"
   },
   {
    "duration": 152,
    "start_time": "2024-11-20T20:08:12.929Z"
   },
   {
    "duration": 17,
    "start_time": "2024-11-20T20:08:13.082Z"
   },
   {
    "duration": 17,
    "start_time": "2024-11-20T20:08:13.102Z"
   },
   {
    "duration": 10,
    "start_time": "2024-11-20T20:08:13.120Z"
   },
   {
    "duration": 6,
    "start_time": "2024-11-20T20:08:13.132Z"
   },
   {
    "duration": 530,
    "start_time": "2024-11-20T20:08:13.140Z"
   },
   {
    "duration": 6,
    "start_time": "2024-11-20T20:08:13.672Z"
   },
   {
    "duration": 25,
    "start_time": "2024-11-20T20:08:13.680Z"
   },
   {
    "duration": 4,
    "start_time": "2024-11-20T20:08:13.707Z"
   },
   {
    "duration": 31,
    "start_time": "2024-11-20T20:08:13.712Z"
   },
   {
    "duration": 38,
    "start_time": "2024-11-20T20:08:13.744Z"
   },
   {
    "duration": 3,
    "start_time": "2024-11-20T20:08:13.784Z"
   },
   {
    "duration": 7,
    "start_time": "2024-11-20T20:08:13.788Z"
   },
   {
    "duration": 6,
    "start_time": "2024-11-20T20:08:13.796Z"
   },
   {
    "duration": 9,
    "start_time": "2024-11-20T20:08:13.803Z"
   },
   {
    "duration": 2,
    "start_time": "2024-11-20T20:08:13.813Z"
   },
   {
    "duration": 6,
    "start_time": "2024-11-20T20:08:13.817Z"
   },
   {
    "duration": 1079,
    "start_time": "2024-11-20T20:38:25.129Z"
   },
   {
    "duration": 141,
    "start_time": "2024-11-20T20:38:26.210Z"
   },
   {
    "duration": 12,
    "start_time": "2024-11-20T20:38:26.352Z"
   },
   {
    "duration": 11,
    "start_time": "2024-11-20T20:38:26.366Z"
   },
   {
    "duration": 8,
    "start_time": "2024-11-20T20:38:26.378Z"
   },
   {
    "duration": 11,
    "start_time": "2024-11-20T20:38:26.388Z"
   },
   {
    "duration": 6,
    "start_time": "2024-11-20T20:38:26.400Z"
   },
   {
    "duration": 19,
    "start_time": "2024-11-20T20:38:26.408Z"
   },
   {
    "duration": 44,
    "start_time": "2024-11-20T20:38:26.429Z"
   },
   {
    "duration": 11,
    "start_time": "2024-11-20T20:38:26.476Z"
   },
   {
    "duration": 12,
    "start_time": "2024-11-20T20:38:26.488Z"
   },
   {
    "duration": 10,
    "start_time": "2024-11-20T20:38:26.501Z"
   },
   {
    "duration": 9,
    "start_time": "2024-11-20T20:38:26.513Z"
   },
   {
    "duration": 53,
    "start_time": "2024-11-20T20:38:26.523Z"
   },
   {
    "duration": 12,
    "start_time": "2024-11-20T20:38:26.578Z"
   },
   {
    "duration": 219,
    "start_time": "2024-11-20T20:38:26.592Z"
   },
   {
    "duration": 105,
    "start_time": "2024-11-20T20:38:26.813Z"
   },
   {
    "duration": 11,
    "start_time": "2024-11-20T20:38:26.919Z"
   },
   {
    "duration": 239,
    "start_time": "2024-11-20T20:38:26.931Z"
   },
   {
    "duration": 9,
    "start_time": "2024-11-20T20:38:27.171Z"
   },
   {
    "duration": 231,
    "start_time": "2024-11-20T20:38:27.181Z"
   },
   {
    "duration": 198,
    "start_time": "2024-11-20T20:38:27.414Z"
   },
   {
    "duration": 218,
    "start_time": "2024-11-20T20:38:27.613Z"
   },
   {
    "duration": 185,
    "start_time": "2024-11-20T20:38:27.832Z"
   },
   {
    "duration": 218,
    "start_time": "2024-11-20T20:38:28.019Z"
   },
   {
    "duration": 152,
    "start_time": "2024-11-20T20:38:28.239Z"
   },
   {
    "duration": 18,
    "start_time": "2024-11-20T20:38:28.393Z"
   },
   {
    "duration": 17,
    "start_time": "2024-11-20T20:38:28.414Z"
   },
   {
    "duration": 11,
    "start_time": "2024-11-20T20:38:28.432Z"
   },
   {
    "duration": 26,
    "start_time": "2024-11-20T20:38:28.445Z"
   },
   {
    "duration": 497,
    "start_time": "2024-11-20T20:38:28.473Z"
   },
   {
    "duration": 7,
    "start_time": "2024-11-20T20:38:28.971Z"
   },
   {
    "duration": 25,
    "start_time": "2024-11-20T20:38:28.979Z"
   },
   {
    "duration": 4,
    "start_time": "2024-11-20T20:38:29.006Z"
   },
   {
    "duration": 30,
    "start_time": "2024-11-20T20:38:29.012Z"
   },
   {
    "duration": 44,
    "start_time": "2024-11-20T20:38:29.044Z"
   },
   {
    "duration": 4,
    "start_time": "2024-11-20T20:38:29.090Z"
   },
   {
    "duration": 7,
    "start_time": "2024-11-20T20:38:29.096Z"
   },
   {
    "duration": 6,
    "start_time": "2024-11-20T20:38:29.104Z"
   },
   {
    "duration": 8,
    "start_time": "2024-11-20T20:38:29.111Z"
   },
   {
    "duration": 3,
    "start_time": "2024-11-20T20:38:29.120Z"
   },
   {
    "duration": 64,
    "start_time": "2024-11-20T20:38:29.125Z"
   },
   {
    "duration": 1058,
    "start_time": "2024-11-20T21:42:01.443Z"
   },
   {
    "duration": 162,
    "start_time": "2024-11-20T21:42:02.503Z"
   },
   {
    "duration": 11,
    "start_time": "2024-11-20T21:42:02.667Z"
   },
   {
    "duration": 27,
    "start_time": "2024-11-20T21:42:02.680Z"
   },
   {
    "duration": 30,
    "start_time": "2024-11-20T21:42:02.709Z"
   },
   {
    "duration": 25,
    "start_time": "2024-11-20T21:42:02.741Z"
   },
   {
    "duration": 9,
    "start_time": "2024-11-20T21:42:02.769Z"
   },
   {
    "duration": 31,
    "start_time": "2024-11-20T21:42:02.780Z"
   },
   {
    "duration": 57,
    "start_time": "2024-11-20T21:42:02.813Z"
   },
   {
    "duration": 33,
    "start_time": "2024-11-20T21:42:02.872Z"
   },
   {
    "duration": 23,
    "start_time": "2024-11-20T21:42:02.907Z"
   },
   {
    "duration": 40,
    "start_time": "2024-11-20T21:42:02.931Z"
   },
   {
    "duration": 42,
    "start_time": "2024-11-20T21:42:02.973Z"
   },
   {
    "duration": 27,
    "start_time": "2024-11-20T21:42:03.016Z"
   },
   {
    "duration": 14,
    "start_time": "2024-11-20T21:42:03.045Z"
   },
   {
    "duration": 227,
    "start_time": "2024-11-20T21:42:03.061Z"
   },
   {
    "duration": 94,
    "start_time": "2024-11-20T21:42:03.290Z"
   },
   {
    "duration": 10,
    "start_time": "2024-11-20T21:42:03.386Z"
   },
   {
    "duration": 251,
    "start_time": "2024-11-20T21:42:03.397Z"
   },
   {
    "duration": 9,
    "start_time": "2024-11-20T21:42:03.650Z"
   },
   {
    "duration": 281,
    "start_time": "2024-11-20T21:42:03.660Z"
   },
   {
    "duration": 201,
    "start_time": "2024-11-20T21:42:03.942Z"
   },
   {
    "duration": 224,
    "start_time": "2024-11-20T21:42:04.145Z"
   },
   {
    "duration": 199,
    "start_time": "2024-11-20T21:42:04.371Z"
   },
   {
    "duration": 221,
    "start_time": "2024-11-20T21:42:04.571Z"
   },
   {
    "duration": 164,
    "start_time": "2024-11-20T21:42:04.794Z"
   },
   {
    "duration": 17,
    "start_time": "2024-11-20T21:42:04.960Z"
   },
   {
    "duration": 17,
    "start_time": "2024-11-20T21:42:04.980Z"
   },
   {
    "duration": 10,
    "start_time": "2024-11-20T21:42:04.998Z"
   },
   {
    "duration": 35,
    "start_time": "2024-11-20T21:42:05.010Z"
   },
   {
    "duration": 509,
    "start_time": "2024-11-20T21:42:05.047Z"
   },
   {
    "duration": 7,
    "start_time": "2024-11-20T21:42:05.558Z"
   },
   {
    "duration": 51,
    "start_time": "2024-11-20T21:42:05.566Z"
   },
   {
    "duration": 5,
    "start_time": "2024-11-20T21:42:05.619Z"
   },
   {
    "duration": 98,
    "start_time": "2024-11-20T21:42:05.626Z"
   },
   {
    "duration": 13,
    "start_time": "2024-11-20T21:42:05.725Z"
   },
   {
    "duration": 27,
    "start_time": "2024-11-20T21:42:05.739Z"
   },
   {
    "duration": 15,
    "start_time": "2024-11-20T21:42:05.768Z"
   },
   {
    "duration": 30,
    "start_time": "2024-11-20T21:42:05.784Z"
   },
   {
    "duration": 13,
    "start_time": "2024-11-20T21:42:05.816Z"
   },
   {
    "duration": 19,
    "start_time": "2024-11-20T21:42:05.831Z"
   },
   {
    "duration": 18,
    "start_time": "2024-11-20T21:42:05.852Z"
   },
   {
    "duration": 1033,
    "start_time": "2024-11-20T23:32:52.672Z"
   },
   {
    "duration": 158,
    "start_time": "2024-11-20T23:32:53.707Z"
   },
   {
    "duration": 11,
    "start_time": "2024-11-20T23:32:53.867Z"
   },
   {
    "duration": 11,
    "start_time": "2024-11-20T23:32:53.879Z"
   },
   {
    "duration": 8,
    "start_time": "2024-11-20T23:32:53.892Z"
   },
   {
    "duration": 11,
    "start_time": "2024-11-20T23:32:53.902Z"
   },
   {
    "duration": 6,
    "start_time": "2024-11-20T23:32:53.915Z"
   },
   {
    "duration": 32,
    "start_time": "2024-11-20T23:32:53.923Z"
   },
   {
    "duration": 11,
    "start_time": "2024-11-20T23:32:53.957Z"
   },
   {
    "duration": 9,
    "start_time": "2024-11-20T23:32:53.969Z"
   },
   {
    "duration": 11,
    "start_time": "2024-11-20T23:32:53.980Z"
   },
   {
    "duration": 16,
    "start_time": "2024-11-20T23:32:53.992Z"
   },
   {
    "duration": 74,
    "start_time": "2024-11-20T23:32:54.010Z"
   },
   {
    "duration": 13,
    "start_time": "2024-11-20T23:32:54.088Z"
   },
   {
    "duration": 11,
    "start_time": "2024-11-20T23:32:54.102Z"
   },
   {
    "duration": 200,
    "start_time": "2024-11-20T23:32:54.114Z"
   },
   {
    "duration": 102,
    "start_time": "2024-11-20T23:32:54.315Z"
   },
   {
    "duration": 10,
    "start_time": "2024-11-20T23:32:54.419Z"
   },
   {
    "duration": 217,
    "start_time": "2024-11-20T23:32:54.443Z"
   },
   {
    "duration": 9,
    "start_time": "2024-11-20T23:32:54.661Z"
   },
   {
    "duration": 343,
    "start_time": "2024-11-20T23:32:54.672Z"
   },
   {
    "duration": 201,
    "start_time": "2024-11-20T23:32:55.016Z"
   },
   {
    "duration": 230,
    "start_time": "2024-11-20T23:32:55.219Z"
   },
   {
    "duration": 216,
    "start_time": "2024-11-20T23:32:55.450Z"
   },
   {
    "duration": 192,
    "start_time": "2024-11-20T23:32:55.668Z"
   },
   {
    "duration": 152,
    "start_time": "2024-11-20T23:32:55.861Z"
   },
   {
    "duration": 16,
    "start_time": "2024-11-20T23:32:56.015Z"
   },
   {
    "duration": 59,
    "start_time": "2024-11-20T23:32:56.044Z"
   },
   {
    "duration": 10,
    "start_time": "2024-11-20T23:32:56.105Z"
   },
   {
    "duration": 10,
    "start_time": "2024-11-20T23:32:56.117Z"
   },
   {
    "duration": 477,
    "start_time": "2024-11-20T23:32:56.129Z"
   },
   {
    "duration": 7,
    "start_time": "2024-11-20T23:32:56.607Z"
   },
   {
    "duration": 127,
    "start_time": "2024-11-20T23:32:56.615Z"
   },
   {
    "duration": 44,
    "start_time": "2024-11-20T23:32:56.744Z"
   },
   {
    "duration": 33,
    "start_time": "2024-11-20T23:32:56.790Z"
   },
   {
    "duration": 12,
    "start_time": "2024-11-20T23:32:56.824Z"
   },
   {
    "duration": 4,
    "start_time": "2024-11-20T23:32:56.838Z"
   },
   {
    "duration": 13,
    "start_time": "2024-11-20T23:32:56.843Z"
   },
   {
    "duration": 34,
    "start_time": "2024-11-20T23:32:56.858Z"
   },
   {
    "duration": 8,
    "start_time": "2024-11-20T23:32:56.894Z"
   },
   {
    "duration": 3,
    "start_time": "2024-11-20T23:32:56.905Z"
   },
   {
    "duration": 6,
    "start_time": "2024-11-20T23:32:56.909Z"
   },
   {
    "duration": 10,
    "start_time": "2024-11-20T23:53:26.450Z"
   },
   {
    "duration": 17,
    "start_time": "2024-11-21T00:32:20.694Z"
   },
   {
    "duration": 120,
    "start_time": "2024-11-21T00:33:40.682Z"
   },
   {
    "duration": 10,
    "start_time": "2024-11-21T00:34:06.542Z"
   },
   {
    "duration": 6,
    "start_time": "2024-11-21T00:34:23.854Z"
   },
   {
    "duration": 54,
    "start_time": "2024-11-21T01:15:38.553Z"
   },
   {
    "duration": 143,
    "start_time": "2024-11-21T01:16:16.335Z"
   },
   {
    "duration": 132,
    "start_time": "2024-11-21T01:17:33.038Z"
   },
   {
    "duration": 49,
    "start_time": "2024-11-21T13:33:33.969Z"
   },
   {
    "duration": 1200,
    "start_time": "2024-11-21T13:33:44.940Z"
   },
   {
    "duration": 379,
    "start_time": "2024-11-21T13:33:46.142Z"
   },
   {
    "duration": 11,
    "start_time": "2024-11-21T13:33:46.522Z"
   },
   {
    "duration": 10,
    "start_time": "2024-11-21T13:33:46.535Z"
   },
   {
    "duration": 9,
    "start_time": "2024-11-21T13:33:46.546Z"
   },
   {
    "duration": 20,
    "start_time": "2024-11-21T13:33:46.556Z"
   },
   {
    "duration": 6,
    "start_time": "2024-11-21T13:33:46.578Z"
   },
   {
    "duration": 25,
    "start_time": "2024-11-21T13:33:46.585Z"
   },
   {
    "duration": 8,
    "start_time": "2024-11-21T13:33:46.612Z"
   },
   {
    "duration": 7,
    "start_time": "2024-11-21T13:33:46.623Z"
   },
   {
    "duration": 9,
    "start_time": "2024-11-21T13:33:46.631Z"
   },
   {
    "duration": 28,
    "start_time": "2024-11-21T13:33:46.641Z"
   },
   {
    "duration": 8,
    "start_time": "2024-11-21T13:33:46.670Z"
   },
   {
    "duration": 11,
    "start_time": "2024-11-21T13:33:46.679Z"
   },
   {
    "duration": 10,
    "start_time": "2024-11-21T13:33:46.691Z"
   },
   {
    "duration": 21,
    "start_time": "2024-11-21T13:33:46.702Z"
   },
   {
    "duration": 131,
    "start_time": "2024-11-21T13:33:46.724Z"
   },
   {
    "duration": 0,
    "start_time": "2024-11-21T13:33:46.857Z"
   },
   {
    "duration": 0,
    "start_time": "2024-11-21T13:33:46.871Z"
   },
   {
    "duration": 0,
    "start_time": "2024-11-21T13:33:46.873Z"
   },
   {
    "duration": 0,
    "start_time": "2024-11-21T13:33:46.874Z"
   },
   {
    "duration": 0,
    "start_time": "2024-11-21T13:33:46.875Z"
   },
   {
    "duration": 0,
    "start_time": "2024-11-21T13:33:46.877Z"
   },
   {
    "duration": 0,
    "start_time": "2024-11-21T13:33:46.878Z"
   },
   {
    "duration": 0,
    "start_time": "2024-11-21T13:33:46.880Z"
   },
   {
    "duration": 0,
    "start_time": "2024-11-21T13:33:46.881Z"
   },
   {
    "duration": 0,
    "start_time": "2024-11-21T13:33:46.882Z"
   },
   {
    "duration": 0,
    "start_time": "2024-11-21T13:33:46.883Z"
   },
   {
    "duration": 0,
    "start_time": "2024-11-21T13:33:46.884Z"
   },
   {
    "duration": 0,
    "start_time": "2024-11-21T13:33:46.885Z"
   },
   {
    "duration": 0,
    "start_time": "2024-11-21T13:33:46.886Z"
   },
   {
    "duration": 0,
    "start_time": "2024-11-21T13:33:46.886Z"
   },
   {
    "duration": 0,
    "start_time": "2024-11-21T13:33:46.887Z"
   },
   {
    "duration": 0,
    "start_time": "2024-11-21T13:33:46.888Z"
   },
   {
    "duration": 0,
    "start_time": "2024-11-21T13:33:46.889Z"
   },
   {
    "duration": 0,
    "start_time": "2024-11-21T13:33:46.890Z"
   },
   {
    "duration": 0,
    "start_time": "2024-11-21T13:33:46.891Z"
   },
   {
    "duration": 0,
    "start_time": "2024-11-21T13:33:46.892Z"
   },
   {
    "duration": 0,
    "start_time": "2024-11-21T13:33:46.893Z"
   },
   {
    "duration": 0,
    "start_time": "2024-11-21T13:33:46.894Z"
   },
   {
    "duration": 0,
    "start_time": "2024-11-21T13:33:46.895Z"
   },
   {
    "duration": 0,
    "start_time": "2024-11-21T13:33:46.895Z"
   },
   {
    "duration": 0,
    "start_time": "2024-11-21T13:33:46.896Z"
   },
   {
    "duration": 0,
    "start_time": "2024-11-21T13:33:46.897Z"
   },
   {
    "duration": 0,
    "start_time": "2024-11-21T13:33:46.898Z"
   },
   {
    "duration": 189,
    "start_time": "2024-11-21T13:34:11.322Z"
   },
   {
    "duration": 22,
    "start_time": "2024-11-21T13:35:11.817Z"
   },
   {
    "duration": 154,
    "start_time": "2024-11-21T18:13:40.950Z"
   },
   {
    "duration": 166,
    "start_time": "2024-11-21T18:14:05.622Z"
   },
   {
    "duration": 159,
    "start_time": "2024-11-21T18:15:39.132Z"
   },
   {
    "duration": 75,
    "start_time": "2024-11-21T18:16:19.890Z"
   },
   {
    "duration": 85,
    "start_time": "2024-11-21T18:16:27.159Z"
   },
   {
    "duration": 158,
    "start_time": "2024-11-21T18:16:40.554Z"
   },
   {
    "duration": 22,
    "start_time": "2024-11-21T18:17:03.031Z"
   },
   {
    "duration": 158,
    "start_time": "2024-11-21T18:17:11.655Z"
   },
   {
    "duration": 141,
    "start_time": "2024-11-21T18:18:55.411Z"
   },
   {
    "duration": 129,
    "start_time": "2024-11-21T18:19:48.211Z"
   },
   {
    "duration": 146,
    "start_time": "2024-11-21T18:19:56.124Z"
   },
   {
    "duration": 187,
    "start_time": "2024-11-21T18:20:54.762Z"
   },
   {
    "duration": 151,
    "start_time": "2024-11-21T18:21:08.376Z"
   },
   {
    "duration": 127,
    "start_time": "2024-11-21T18:21:50.003Z"
   },
   {
    "duration": 127,
    "start_time": "2024-11-21T18:21:57.825Z"
   },
   {
    "duration": 139,
    "start_time": "2024-11-21T18:25:57.868Z"
   },
   {
    "duration": 168,
    "start_time": "2024-11-21T18:26:10.415Z"
   },
   {
    "duration": 131,
    "start_time": "2024-11-21T19:14:57.170Z"
   },
   {
    "duration": 148,
    "start_time": "2024-11-21T19:15:16.993Z"
   },
   {
    "duration": 9,
    "start_time": "2024-11-21T20:21:03.833Z"
   },
   {
    "duration": 937,
    "start_time": "2024-11-21T20:21:52.805Z"
   },
   {
    "duration": 129,
    "start_time": "2024-11-21T20:21:53.743Z"
   },
   {
    "duration": 11,
    "start_time": "2024-11-21T20:21:53.873Z"
   },
   {
    "duration": 10,
    "start_time": "2024-11-21T20:21:53.885Z"
   },
   {
    "duration": 10,
    "start_time": "2024-11-21T20:21:53.896Z"
   },
   {
    "duration": 9,
    "start_time": "2024-11-21T20:21:53.907Z"
   },
   {
    "duration": 5,
    "start_time": "2024-11-21T20:21:53.918Z"
   },
   {
    "duration": 18,
    "start_time": "2024-11-21T20:21:53.925Z"
   },
   {
    "duration": 19,
    "start_time": "2024-11-21T20:21:53.945Z"
   },
   {
    "duration": 9,
    "start_time": "2024-11-21T20:21:53.967Z"
   },
   {
    "duration": 9,
    "start_time": "2024-11-21T20:21:53.977Z"
   },
   {
    "duration": 8,
    "start_time": "2024-11-21T20:21:53.987Z"
   },
   {
    "duration": 9,
    "start_time": "2024-11-21T20:21:53.996Z"
   },
   {
    "duration": 12,
    "start_time": "2024-11-21T20:21:54.006Z"
   },
   {
    "duration": 38,
    "start_time": "2024-11-21T20:21:54.020Z"
   },
   {
    "duration": 13,
    "start_time": "2024-11-21T20:21:54.059Z"
   },
   {
    "duration": 160,
    "start_time": "2024-11-21T20:21:54.074Z"
   },
   {
    "duration": 9,
    "start_time": "2024-11-21T20:21:54.235Z"
   },
   {
    "duration": 98,
    "start_time": "2024-11-21T20:21:54.245Z"
   },
   {
    "duration": 14,
    "start_time": "2024-11-21T20:21:54.344Z"
   },
   {
    "duration": 208,
    "start_time": "2024-11-21T20:21:54.360Z"
   },
   {
    "duration": 8,
    "start_time": "2024-11-21T20:21:54.570Z"
   },
   {
    "duration": 220,
    "start_time": "2024-11-21T20:21:54.580Z"
   },
   {
    "duration": 180,
    "start_time": "2024-11-21T20:21:54.801Z"
   },
   {
    "duration": 199,
    "start_time": "2024-11-21T20:21:54.983Z"
   },
   {
    "duration": 162,
    "start_time": "2024-11-21T20:21:55.183Z"
   },
   {
    "duration": 171,
    "start_time": "2024-11-21T20:21:55.346Z"
   },
   {
    "duration": 146,
    "start_time": "2024-11-21T20:21:55.521Z"
   },
   {
    "duration": 16,
    "start_time": "2024-11-21T20:21:55.668Z"
   },
   {
    "duration": 19,
    "start_time": "2024-11-21T20:21:55.685Z"
   },
   {
    "duration": 9,
    "start_time": "2024-11-21T20:21:55.706Z"
   },
   {
    "duration": 21,
    "start_time": "2024-11-21T20:21:55.716Z"
   },
   {
    "duration": 430,
    "start_time": "2024-11-21T20:21:55.738Z"
   },
   {
    "duration": 5,
    "start_time": "2024-11-21T20:21:56.170Z"
   },
   {
    "duration": 32,
    "start_time": "2024-11-21T20:21:56.176Z"
   },
   {
    "duration": 4,
    "start_time": "2024-11-21T20:21:56.209Z"
   },
   {
    "duration": 25,
    "start_time": "2024-11-21T20:21:56.214Z"
   },
   {
    "duration": 23,
    "start_time": "2024-11-21T20:21:56.240Z"
   },
   {
    "duration": 2,
    "start_time": "2024-11-21T20:21:56.265Z"
   },
   {
    "duration": 9,
    "start_time": "2024-11-21T20:21:56.269Z"
   },
   {
    "duration": 5,
    "start_time": "2024-11-21T20:21:56.280Z"
   },
   {
    "duration": 11,
    "start_time": "2024-11-21T20:21:56.286Z"
   },
   {
    "duration": 3,
    "start_time": "2024-11-21T20:21:56.298Z"
   },
   {
    "duration": 60,
    "start_time": "2024-11-21T20:21:56.302Z"
   },
   {
    "duration": 112,
    "start_time": "2024-11-21T20:21:56.364Z"
   },
   {
    "duration": 5,
    "start_time": "2024-11-21T20:21:56.477Z"
   },
   {
    "duration": 4,
    "start_time": "2024-11-21T20:28:14.406Z"
   },
   {
    "duration": 956,
    "start_time": "2024-11-21T20:28:24.183Z"
   },
   {
    "duration": 127,
    "start_time": "2024-11-21T20:28:25.141Z"
   },
   {
    "duration": 10,
    "start_time": "2024-11-21T20:28:25.270Z"
   },
   {
    "duration": 26,
    "start_time": "2024-11-21T20:28:25.281Z"
   },
   {
    "duration": 11,
    "start_time": "2024-11-21T20:28:25.308Z"
   },
   {
    "duration": 10,
    "start_time": "2024-11-21T20:28:25.321Z"
   },
   {
    "duration": 5,
    "start_time": "2024-11-21T20:28:25.332Z"
   },
   {
    "duration": 15,
    "start_time": "2024-11-21T20:28:25.338Z"
   },
   {
    "duration": 9,
    "start_time": "2024-11-21T20:28:25.354Z"
   },
   {
    "duration": 7,
    "start_time": "2024-11-21T20:28:25.365Z"
   },
   {
    "duration": 13,
    "start_time": "2024-11-21T20:28:25.373Z"
   },
   {
    "duration": 8,
    "start_time": "2024-11-21T20:28:25.387Z"
   },
   {
    "duration": 13,
    "start_time": "2024-11-21T20:28:25.396Z"
   },
   {
    "duration": 20,
    "start_time": "2024-11-21T20:28:25.410Z"
   },
   {
    "duration": 15,
    "start_time": "2024-11-21T20:28:25.431Z"
   },
   {
    "duration": 17,
    "start_time": "2024-11-21T20:28:25.447Z"
   },
   {
    "duration": 167,
    "start_time": "2024-11-21T20:28:25.465Z"
   },
   {
    "duration": 6,
    "start_time": "2024-11-21T20:28:25.640Z"
   },
   {
    "duration": 100,
    "start_time": "2024-11-21T20:28:25.648Z"
   },
   {
    "duration": 9,
    "start_time": "2024-11-21T20:28:25.749Z"
   },
   {
    "duration": 185,
    "start_time": "2024-11-21T20:28:25.759Z"
   },
   {
    "duration": 14,
    "start_time": "2024-11-21T20:28:25.945Z"
   },
   {
    "duration": 203,
    "start_time": "2024-11-21T20:28:25.960Z"
   },
   {
    "duration": 185,
    "start_time": "2024-11-21T20:28:26.164Z"
   },
   {
    "duration": 191,
    "start_time": "2024-11-21T20:28:26.350Z"
   },
   {
    "duration": 158,
    "start_time": "2024-11-21T20:28:26.543Z"
   },
   {
    "duration": 188,
    "start_time": "2024-11-21T20:28:26.703Z"
   },
   {
    "duration": 135,
    "start_time": "2024-11-21T20:28:26.894Z"
   },
   {
    "duration": 14,
    "start_time": "2024-11-21T20:28:27.031Z"
   },
   {
    "duration": 24,
    "start_time": "2024-11-21T20:28:27.046Z"
   },
   {
    "duration": 9,
    "start_time": "2024-11-21T20:28:27.071Z"
   },
   {
    "duration": 24,
    "start_time": "2024-11-21T20:28:27.081Z"
   },
   {
    "duration": 396,
    "start_time": "2024-11-21T20:28:27.107Z"
   },
   {
    "duration": 6,
    "start_time": "2024-11-21T20:28:27.504Z"
   },
   {
    "duration": 25,
    "start_time": "2024-11-21T20:28:27.511Z"
   },
   {
    "duration": 4,
    "start_time": "2024-11-21T20:28:27.537Z"
   },
   {
    "duration": 38,
    "start_time": "2024-11-21T20:28:27.542Z"
   },
   {
    "duration": 75,
    "start_time": "2024-11-21T20:28:27.582Z"
   },
   {
    "duration": 6,
    "start_time": "2024-11-21T20:28:27.658Z"
   },
   {
    "duration": 27,
    "start_time": "2024-11-21T20:28:27.665Z"
   },
   {
    "duration": 7,
    "start_time": "2024-11-21T20:28:27.693Z"
   },
   {
    "duration": 9,
    "start_time": "2024-11-21T20:28:27.701Z"
   },
   {
    "duration": 25,
    "start_time": "2024-11-21T20:28:27.711Z"
   },
   {
    "duration": 46,
    "start_time": "2024-11-21T20:28:27.737Z"
   },
   {
    "duration": 109,
    "start_time": "2024-11-21T20:28:27.785Z"
   },
   {
    "duration": 5,
    "start_time": "2024-11-21T20:28:27.895Z"
   },
   {
    "duration": 11,
    "start_time": "2024-11-21T20:52:21.458Z"
   },
   {
    "duration": 146,
    "start_time": "2024-11-21T20:52:46.385Z"
   },
   {
    "duration": 142,
    "start_time": "2024-11-21T20:52:53.576Z"
   },
   {
    "duration": 148,
    "start_time": "2024-11-21T21:21:25.699Z"
   },
   {
    "duration": 143,
    "start_time": "2024-11-21T21:21:29.920Z"
   },
   {
    "duration": 155,
    "start_time": "2024-11-21T21:28:06.585Z"
   },
   {
    "duration": 164,
    "start_time": "2024-11-21T21:28:16.106Z"
   },
   {
    "duration": 206,
    "start_time": "2024-11-21T21:28:44.886Z"
   },
   {
    "duration": 186,
    "start_time": "2024-11-21T21:28:51.458Z"
   },
   {
    "duration": 256,
    "start_time": "2024-11-21T21:28:57.408Z"
   },
   {
    "duration": 60,
    "start_time": "2024-11-22T14:57:40.362Z"
   },
   {
    "duration": 1231,
    "start_time": "2024-11-22T14:57:44.686Z"
   },
   {
    "duration": 493,
    "start_time": "2024-11-22T14:57:45.919Z"
   },
   {
    "duration": 11,
    "start_time": "2024-11-22T14:57:46.413Z"
   },
   {
    "duration": 26,
    "start_time": "2024-11-22T14:57:46.425Z"
   },
   {
    "duration": 20,
    "start_time": "2024-11-22T14:57:46.452Z"
   },
   {
    "duration": 24,
    "start_time": "2024-11-22T14:57:46.473Z"
   },
   {
    "duration": 10,
    "start_time": "2024-11-22T14:57:46.498Z"
   },
   {
    "duration": 39,
    "start_time": "2024-11-22T14:57:46.509Z"
   },
   {
    "duration": 24,
    "start_time": "2024-11-22T14:57:46.549Z"
   },
   {
    "duration": 37,
    "start_time": "2024-11-22T14:57:46.576Z"
   },
   {
    "duration": 21,
    "start_time": "2024-11-22T14:57:46.615Z"
   },
   {
    "duration": 10,
    "start_time": "2024-11-22T14:57:46.637Z"
   },
   {
    "duration": 8,
    "start_time": "2024-11-22T14:57:46.648Z"
   },
   {
    "duration": 11,
    "start_time": "2024-11-22T14:57:46.657Z"
   },
   {
    "duration": 8,
    "start_time": "2024-11-22T14:57:46.669Z"
   },
   {
    "duration": 10,
    "start_time": "2024-11-22T14:57:46.678Z"
   },
   {
    "duration": 191,
    "start_time": "2024-11-22T14:57:46.689Z"
   },
   {
    "duration": 4,
    "start_time": "2024-11-22T14:57:46.882Z"
   },
   {
    "duration": 111,
    "start_time": "2024-11-22T14:57:46.887Z"
   },
   {
    "duration": 11,
    "start_time": "2024-11-22T14:57:46.999Z"
   },
   {
    "duration": 216,
    "start_time": "2024-11-22T14:57:47.012Z"
   },
   {
    "duration": 241,
    "start_time": "2024-11-22T14:57:47.229Z"
   },
   {
    "duration": 9,
    "start_time": "2024-11-22T14:57:47.471Z"
   },
   {
    "duration": 242,
    "start_time": "2024-11-22T14:57:47.482Z"
   },
   {
    "duration": 203,
    "start_time": "2024-11-22T14:57:47.725Z"
   },
   {
    "duration": 236,
    "start_time": "2024-11-22T14:57:47.930Z"
   },
   {
    "duration": 210,
    "start_time": "2024-11-22T14:57:48.167Z"
   },
   {
    "duration": 194,
    "start_time": "2024-11-22T14:57:48.380Z"
   },
   {
    "duration": 218,
    "start_time": "2024-11-22T14:57:48.576Z"
   },
   {
    "duration": 26,
    "start_time": "2024-11-22T14:57:48.796Z"
   },
   {
    "duration": 16,
    "start_time": "2024-11-22T14:57:48.824Z"
   },
   {
    "duration": 10,
    "start_time": "2024-11-22T14:57:48.841Z"
   },
   {
    "duration": 18,
    "start_time": "2024-11-22T14:57:48.853Z"
   },
   {
    "duration": 421,
    "start_time": "2024-11-22T14:57:48.873Z"
   },
   {
    "duration": 6,
    "start_time": "2024-11-22T14:57:49.296Z"
   },
   {
    "duration": 73,
    "start_time": "2024-11-22T14:57:49.303Z"
   },
   {
    "duration": 61,
    "start_time": "2024-11-22T14:57:49.377Z"
   },
   {
    "duration": 33,
    "start_time": "2024-11-22T14:57:49.439Z"
   },
   {
    "duration": 12,
    "start_time": "2024-11-22T14:57:49.474Z"
   },
   {
    "duration": 3,
    "start_time": "2024-11-22T14:57:49.487Z"
   },
   {
    "duration": 6,
    "start_time": "2024-11-22T14:57:49.492Z"
   },
   {
    "duration": 22,
    "start_time": "2024-11-22T14:57:49.499Z"
   },
   {
    "duration": 8,
    "start_time": "2024-11-22T14:57:49.522Z"
   },
   {
    "duration": 2,
    "start_time": "2024-11-22T14:57:49.532Z"
   },
   {
    "duration": 45,
    "start_time": "2024-11-22T14:57:49.535Z"
   },
   {
    "duration": 139,
    "start_time": "2024-11-22T14:57:49.582Z"
   },
   {
    "duration": 5,
    "start_time": "2024-11-22T14:57:49.722Z"
   },
   {
    "duration": 53,
    "start_time": "2024-11-22T15:29:47.024Z"
   },
   {
    "duration": 1063,
    "start_time": "2024-11-22T15:34:58.894Z"
   },
   {
    "duration": 171,
    "start_time": "2024-11-22T15:34:59.959Z"
   },
   {
    "duration": 11,
    "start_time": "2024-11-22T15:35:00.132Z"
   },
   {
    "duration": 37,
    "start_time": "2024-11-22T15:35:00.144Z"
   },
   {
    "duration": 9,
    "start_time": "2024-11-22T15:35:00.183Z"
   },
   {
    "duration": 40,
    "start_time": "2024-11-22T15:35:00.193Z"
   },
   {
    "duration": 26,
    "start_time": "2024-11-22T15:35:00.234Z"
   },
   {
    "duration": 56,
    "start_time": "2024-11-22T15:35:00.261Z"
   },
   {
    "duration": 53,
    "start_time": "2024-11-22T15:35:00.318Z"
   },
   {
    "duration": 20,
    "start_time": "2024-11-22T15:35:00.374Z"
   },
   {
    "duration": 21,
    "start_time": "2024-11-22T15:35:00.396Z"
   },
   {
    "duration": 9,
    "start_time": "2024-11-22T15:35:00.418Z"
   },
   {
    "duration": 21,
    "start_time": "2024-11-22T15:35:00.428Z"
   },
   {
    "duration": 34,
    "start_time": "2024-11-22T15:35:00.451Z"
   },
   {
    "duration": 16,
    "start_time": "2024-11-22T15:35:00.486Z"
   },
   {
    "duration": 11,
    "start_time": "2024-11-22T15:35:00.503Z"
   },
   {
    "duration": 185,
    "start_time": "2024-11-22T15:35:00.515Z"
   },
   {
    "duration": 5,
    "start_time": "2024-11-22T15:35:00.701Z"
   },
   {
    "duration": 149,
    "start_time": "2024-11-22T15:35:00.708Z"
   },
   {
    "duration": 10,
    "start_time": "2024-11-22T15:35:00.860Z"
   },
   {
    "duration": 280,
    "start_time": "2024-11-22T15:35:00.871Z"
   },
   {
    "duration": 225,
    "start_time": "2024-11-22T15:35:01.153Z"
   },
   {
    "duration": 9,
    "start_time": "2024-11-22T15:35:01.379Z"
   },
   {
    "duration": 326,
    "start_time": "2024-11-22T15:35:01.390Z"
   },
   {
    "duration": 187,
    "start_time": "2024-11-22T15:35:01.720Z"
   },
   {
    "duration": 202,
    "start_time": "2024-11-22T15:35:01.908Z"
   },
   {
    "duration": 187,
    "start_time": "2024-11-22T15:35:02.112Z"
   },
   {
    "duration": 207,
    "start_time": "2024-11-22T15:35:02.303Z"
   },
   {
    "duration": 217,
    "start_time": "2024-11-22T15:35:02.511Z"
   },
   {
    "duration": 16,
    "start_time": "2024-11-22T15:35:02.730Z"
   },
   {
    "duration": 30,
    "start_time": "2024-11-22T15:35:02.747Z"
   },
   {
    "duration": 22,
    "start_time": "2024-11-22T15:35:02.779Z"
   },
   {
    "duration": 10,
    "start_time": "2024-11-22T15:35:02.802Z"
   },
   {
    "duration": 497,
    "start_time": "2024-11-22T15:35:02.814Z"
   },
   {
    "duration": 7,
    "start_time": "2024-11-22T15:35:03.321Z"
   },
   {
    "duration": 46,
    "start_time": "2024-11-22T15:35:03.329Z"
   },
   {
    "duration": 5,
    "start_time": "2024-11-22T15:35:03.377Z"
   },
   {
    "duration": 96,
    "start_time": "2024-11-22T15:35:03.383Z"
   },
   {
    "duration": 26,
    "start_time": "2024-11-22T15:35:03.481Z"
   },
   {
    "duration": 3,
    "start_time": "2024-11-22T15:35:03.509Z"
   },
   {
    "duration": 10,
    "start_time": "2024-11-22T15:35:03.514Z"
   },
   {
    "duration": 95,
    "start_time": "2024-11-22T15:35:03.526Z"
   },
   {
    "duration": 35,
    "start_time": "2024-11-22T15:35:03.623Z"
   },
   {
    "duration": 15,
    "start_time": "2024-11-22T15:35:03.660Z"
   },
   {
    "duration": 57,
    "start_time": "2024-11-22T15:35:03.677Z"
   },
   {
    "duration": 123,
    "start_time": "2024-11-22T15:35:03.735Z"
   },
   {
    "duration": 4,
    "start_time": "2024-11-22T15:35:03.860Z"
   },
   {
    "duration": 193,
    "start_time": "2024-11-22T15:53:29.684Z"
   },
   {
    "duration": 183,
    "start_time": "2024-11-22T15:54:00.065Z"
   },
   {
    "duration": 194,
    "start_time": "2024-11-22T16:18:43.563Z"
   },
   {
    "duration": 22,
    "start_time": "2024-11-22T16:55:02.814Z"
   },
   {
    "duration": 20,
    "start_time": "2024-11-22T16:55:36.507Z"
   },
   {
    "duration": 55,
    "start_time": "2024-11-22T16:56:33.349Z"
   },
   {
    "duration": 9,
    "start_time": "2024-11-22T16:56:47.805Z"
   },
   {
    "duration": 23,
    "start_time": "2024-11-22T16:58:12.874Z"
   },
   {
    "duration": 90,
    "start_time": "2024-11-22T16:58:18.402Z"
   },
   {
    "duration": 8,
    "start_time": "2024-11-22T16:58:23.252Z"
   },
   {
    "duration": 27,
    "start_time": "2024-11-22T16:58:27.756Z"
   },
   {
    "duration": 35,
    "start_time": "2024-11-22T16:58:45.194Z"
   },
   {
    "duration": 34,
    "start_time": "2024-11-22T16:58:55.437Z"
   },
   {
    "duration": 983,
    "start_time": "2024-11-22T16:59:01.672Z"
   },
   {
    "duration": 149,
    "start_time": "2024-11-22T16:59:02.657Z"
   },
   {
    "duration": 11,
    "start_time": "2024-11-22T16:59:02.807Z"
   },
   {
    "duration": 27,
    "start_time": "2024-11-22T16:59:02.820Z"
   },
   {
    "duration": 15,
    "start_time": "2024-11-22T16:59:02.848Z"
   },
   {
    "duration": 20,
    "start_time": "2024-11-22T16:59:02.864Z"
   },
   {
    "duration": 6,
    "start_time": "2024-11-22T16:59:02.886Z"
   },
   {
    "duration": 28,
    "start_time": "2024-11-22T16:59:02.894Z"
   },
   {
    "duration": 12,
    "start_time": "2024-11-22T16:59:02.925Z"
   },
   {
    "duration": 30,
    "start_time": "2024-11-22T16:59:02.940Z"
   },
   {
    "duration": 11,
    "start_time": "2024-11-22T16:59:02.972Z"
   },
   {
    "duration": 9,
    "start_time": "2024-11-22T16:59:02.985Z"
   },
   {
    "duration": 9,
    "start_time": "2024-11-22T16:59:02.996Z"
   },
   {
    "duration": 23,
    "start_time": "2024-11-22T16:59:03.006Z"
   },
   {
    "duration": 34,
    "start_time": "2024-11-22T16:59:03.031Z"
   },
   {
    "duration": 25,
    "start_time": "2024-11-22T16:59:03.066Z"
   },
   {
    "duration": 167,
    "start_time": "2024-11-22T16:59:03.093Z"
   },
   {
    "duration": 5,
    "start_time": "2024-11-22T16:59:03.262Z"
   },
   {
    "duration": 106,
    "start_time": "2024-11-22T16:59:03.269Z"
   },
   {
    "duration": 11,
    "start_time": "2024-11-22T16:59:03.377Z"
   },
   {
    "duration": 219,
    "start_time": "2024-11-22T16:59:03.390Z"
   },
   {
    "duration": 239,
    "start_time": "2024-11-22T16:59:03.611Z"
   },
   {
    "duration": 8,
    "start_time": "2024-11-22T16:59:03.852Z"
   },
   {
    "duration": 246,
    "start_time": "2024-11-22T16:59:03.862Z"
   },
   {
    "duration": 222,
    "start_time": "2024-11-22T16:59:04.110Z"
   },
   {
    "duration": 192,
    "start_time": "2024-11-22T16:59:04.333Z"
   },
   {
    "duration": 194,
    "start_time": "2024-11-22T16:59:04.527Z"
   },
   {
    "duration": 206,
    "start_time": "2024-11-22T16:59:04.724Z"
   },
   {
    "duration": 248,
    "start_time": "2024-11-22T16:59:04.931Z"
   },
   {
    "duration": 179,
    "start_time": "2024-11-22T16:59:05.181Z"
   },
   {
    "duration": 139,
    "start_time": "2024-11-22T16:59:05.362Z"
   },
   {
    "duration": 25,
    "start_time": "2024-11-22T16:59:05.502Z"
   },
   {
    "duration": 16,
    "start_time": "2024-11-22T16:59:05.528Z"
   },
   {
    "duration": 26,
    "start_time": "2024-11-22T16:59:05.545Z"
   },
   {
    "duration": 95,
    "start_time": "2024-11-22T16:59:05.572Z"
   },
   {
    "duration": 18,
    "start_time": "2024-11-22T16:59:05.668Z"
   },
   {
    "duration": 58,
    "start_time": "2024-11-22T16:59:05.688Z"
   },
   {
    "duration": 381,
    "start_time": "2024-11-22T16:59:05.747Z"
   },
   {
    "duration": 7,
    "start_time": "2024-11-22T16:59:06.129Z"
   },
   {
    "duration": 55,
    "start_time": "2024-11-22T16:59:06.137Z"
   },
   {
    "duration": 9,
    "start_time": "2024-11-22T16:59:06.193Z"
   },
   {
    "duration": 97,
    "start_time": "2024-11-22T16:59:06.203Z"
   },
   {
    "duration": 0,
    "start_time": "2024-11-22T16:59:06.301Z"
   },
   {
    "duration": 0,
    "start_time": "2024-11-22T16:59:06.302Z"
   },
   {
    "duration": 0,
    "start_time": "2024-11-22T16:59:06.303Z"
   },
   {
    "duration": 0,
    "start_time": "2024-11-22T16:59:06.304Z"
   },
   {
    "duration": 0,
    "start_time": "2024-11-22T16:59:06.320Z"
   },
   {
    "duration": 0,
    "start_time": "2024-11-22T16:59:06.321Z"
   },
   {
    "duration": 0,
    "start_time": "2024-11-22T16:59:06.323Z"
   },
   {
    "duration": 0,
    "start_time": "2024-11-22T16:59:06.324Z"
   },
   {
    "duration": 0,
    "start_time": "2024-11-22T16:59:06.325Z"
   },
   {
    "duration": 3,
    "start_time": "2024-11-22T17:10:19.635Z"
   },
   {
    "duration": 3,
    "start_time": "2024-11-22T17:10:36.158Z"
   },
   {
    "duration": 10,
    "start_time": "2024-11-22T18:12:11.553Z"
   },
   {
    "duration": 62,
    "start_time": "2024-11-22T18:12:42.956Z"
   },
   {
    "duration": 9,
    "start_time": "2024-11-22T18:12:46.401Z"
   },
   {
    "duration": 9,
    "start_time": "2024-11-22T18:13:13.605Z"
   },
   {
    "duration": 24,
    "start_time": "2024-11-22T20:03:51.520Z"
   },
   {
    "duration": 30,
    "start_time": "2024-11-22T20:15:21.275Z"
   },
   {
    "duration": 1011,
    "start_time": "2024-11-22T20:15:26.928Z"
   },
   {
    "duration": 149,
    "start_time": "2024-11-22T20:15:27.941Z"
   },
   {
    "duration": 11,
    "start_time": "2024-11-22T20:15:28.091Z"
   },
   {
    "duration": 51,
    "start_time": "2024-11-22T20:15:28.104Z"
   },
   {
    "duration": 14,
    "start_time": "2024-11-22T20:15:28.157Z"
   },
   {
    "duration": 12,
    "start_time": "2024-11-22T20:15:28.172Z"
   },
   {
    "duration": 5,
    "start_time": "2024-11-22T20:15:28.186Z"
   },
   {
    "duration": 17,
    "start_time": "2024-11-22T20:15:28.192Z"
   },
   {
    "duration": 8,
    "start_time": "2024-11-22T20:15:28.210Z"
   },
   {
    "duration": 8,
    "start_time": "2024-11-22T20:15:28.220Z"
   },
   {
    "duration": 9,
    "start_time": "2024-11-22T20:15:28.229Z"
   },
   {
    "duration": 10,
    "start_time": "2024-11-22T20:15:28.240Z"
   },
   {
    "duration": 16,
    "start_time": "2024-11-22T20:15:28.251Z"
   },
   {
    "duration": 12,
    "start_time": "2024-11-22T20:15:28.269Z"
   },
   {
    "duration": 39,
    "start_time": "2024-11-22T20:15:28.283Z"
   },
   {
    "duration": 13,
    "start_time": "2024-11-22T20:15:28.323Z"
   },
   {
    "duration": 168,
    "start_time": "2024-11-22T20:15:28.337Z"
   },
   {
    "duration": 4,
    "start_time": "2024-11-22T20:15:28.507Z"
   },
   {
    "duration": 93,
    "start_time": "2024-11-22T20:15:28.512Z"
   },
   {
    "duration": 22,
    "start_time": "2024-11-22T20:15:28.606Z"
   },
   {
    "duration": 200,
    "start_time": "2024-11-22T20:15:28.629Z"
   },
   {
    "duration": 216,
    "start_time": "2024-11-22T20:15:28.830Z"
   },
   {
    "duration": 8,
    "start_time": "2024-11-22T20:15:29.047Z"
   },
   {
    "duration": 190,
    "start_time": "2024-11-22T20:15:29.057Z"
   },
   {
    "duration": 211,
    "start_time": "2024-11-22T20:15:29.248Z"
   },
   {
    "duration": 177,
    "start_time": "2024-11-22T20:15:29.460Z"
   },
   {
    "duration": 183,
    "start_time": "2024-11-22T20:15:29.638Z"
   },
   {
    "duration": 191,
    "start_time": "2024-11-22T20:15:29.824Z"
   },
   {
    "duration": 238,
    "start_time": "2024-11-22T20:15:30.016Z"
   },
   {
    "duration": 173,
    "start_time": "2024-11-22T20:15:30.255Z"
   },
   {
    "duration": 133,
    "start_time": "2024-11-22T20:15:30.429Z"
   },
   {
    "duration": 15,
    "start_time": "2024-11-22T20:15:30.563Z"
   },
   {
    "duration": 77,
    "start_time": "2024-11-22T20:15:30.580Z"
   },
   {
    "duration": 89,
    "start_time": "2024-11-22T20:15:30.658Z"
   },
   {
    "duration": 40,
    "start_time": "2024-11-22T20:15:30.748Z"
   },
   {
    "duration": 11,
    "start_time": "2024-11-22T20:15:30.789Z"
   },
   {
    "duration": 13,
    "start_time": "2024-11-22T20:15:30.801Z"
   },
   {
    "duration": 379,
    "start_time": "2024-11-22T20:15:30.815Z"
   },
   {
    "duration": 26,
    "start_time": "2024-11-22T20:15:31.195Z"
   },
   {
    "duration": 7,
    "start_time": "2024-11-22T20:15:31.222Z"
   },
   {
    "duration": 44,
    "start_time": "2024-11-22T20:15:31.230Z"
   },
   {
    "duration": 16,
    "start_time": "2024-11-22T20:15:31.275Z"
   },
   {
    "duration": 7,
    "start_time": "2024-11-22T20:15:31.293Z"
   },
   {
    "duration": 6,
    "start_time": "2024-11-22T20:15:31.302Z"
   },
   {
    "duration": 14,
    "start_time": "2024-11-22T20:15:31.309Z"
   },
   {
    "duration": 43,
    "start_time": "2024-11-22T20:15:31.325Z"
   },
   {
    "duration": 3,
    "start_time": "2024-11-22T20:15:31.370Z"
   },
   {
    "duration": 47,
    "start_time": "2024-11-22T20:15:31.374Z"
   },
   {
    "duration": 112,
    "start_time": "2024-11-22T20:15:31.422Z"
   },
   {
    "duration": 6,
    "start_time": "2024-11-22T20:15:31.536Z"
   },
   {
    "duration": 6,
    "start_time": "2024-11-22T20:16:09.579Z"
   },
   {
    "duration": 205,
    "start_time": "2024-11-22T20:23:47.362Z"
   },
   {
    "duration": 933,
    "start_time": "2024-11-22T20:23:57.788Z"
   },
   {
    "duration": 138,
    "start_time": "2024-11-22T20:23:58.723Z"
   },
   {
    "duration": 10,
    "start_time": "2024-11-22T20:23:58.862Z"
   },
   {
    "duration": 10,
    "start_time": "2024-11-22T20:23:58.874Z"
   },
   {
    "duration": 7,
    "start_time": "2024-11-22T20:23:58.885Z"
   },
   {
    "duration": 10,
    "start_time": "2024-11-22T20:23:58.893Z"
   },
   {
    "duration": 6,
    "start_time": "2024-11-22T20:23:58.904Z"
   },
   {
    "duration": 21,
    "start_time": "2024-11-22T20:23:58.911Z"
   },
   {
    "duration": 9,
    "start_time": "2024-11-22T20:23:58.933Z"
   },
   {
    "duration": 8,
    "start_time": "2024-11-22T20:23:58.944Z"
   },
   {
    "duration": 10,
    "start_time": "2024-11-22T20:23:58.953Z"
   },
   {
    "duration": 8,
    "start_time": "2024-11-22T20:23:58.964Z"
   },
   {
    "duration": 12,
    "start_time": "2024-11-22T20:23:58.973Z"
   },
   {
    "duration": 36,
    "start_time": "2024-11-22T20:23:58.987Z"
   },
   {
    "duration": 7,
    "start_time": "2024-11-22T20:23:59.024Z"
   },
   {
    "duration": 12,
    "start_time": "2024-11-22T20:23:59.033Z"
   },
   {
    "duration": 175,
    "start_time": "2024-11-22T20:23:59.046Z"
   },
   {
    "duration": 5,
    "start_time": "2024-11-22T20:23:59.222Z"
   },
   {
    "duration": 99,
    "start_time": "2024-11-22T20:23:59.229Z"
   },
   {
    "duration": 11,
    "start_time": "2024-11-22T20:23:59.330Z"
   },
   {
    "duration": 201,
    "start_time": "2024-11-22T20:23:59.342Z"
   },
   {
    "duration": 207,
    "start_time": "2024-11-22T20:23:59.545Z"
   },
   {
    "duration": 8,
    "start_time": "2024-11-22T20:23:59.754Z"
   },
   {
    "duration": 189,
    "start_time": "2024-11-22T20:23:59.763Z"
   },
   {
    "duration": 204,
    "start_time": "2024-11-22T20:23:59.953Z"
   },
   {
    "duration": 187,
    "start_time": "2024-11-22T20:24:00.159Z"
   },
   {
    "duration": 186,
    "start_time": "2024-11-22T20:24:00.347Z"
   },
   {
    "duration": 204,
    "start_time": "2024-11-22T20:24:00.536Z"
   },
   {
    "duration": 231,
    "start_time": "2024-11-22T20:24:00.741Z"
   },
   {
    "duration": 186,
    "start_time": "2024-11-22T20:24:00.973Z"
   },
   {
    "duration": 140,
    "start_time": "2024-11-22T20:24:01.160Z"
   },
   {
    "duration": 25,
    "start_time": "2024-11-22T20:24:01.301Z"
   },
   {
    "duration": 16,
    "start_time": "2024-11-22T20:24:01.327Z"
   },
   {
    "duration": 17,
    "start_time": "2024-11-22T20:24:01.344Z"
   },
   {
    "duration": 47,
    "start_time": "2024-11-22T20:24:01.363Z"
   },
   {
    "duration": 40,
    "start_time": "2024-11-22T20:24:01.411Z"
   },
   {
    "duration": 25,
    "start_time": "2024-11-22T20:24:01.452Z"
   },
   {
    "duration": 392,
    "start_time": "2024-11-22T20:24:01.479Z"
   },
   {
    "duration": 21,
    "start_time": "2024-11-22T20:24:01.873Z"
   },
   {
    "duration": 49,
    "start_time": "2024-11-22T20:24:01.895Z"
   },
   {
    "duration": 68,
    "start_time": "2024-11-22T20:24:01.946Z"
   },
   {
    "duration": 12,
    "start_time": "2024-11-22T20:24:02.015Z"
   },
   {
    "duration": 225,
    "start_time": "2024-11-22T20:24:02.028Z"
   },
   {
    "duration": 3,
    "start_time": "2024-11-22T20:24:02.255Z"
   },
   {
    "duration": 21,
    "start_time": "2024-11-22T20:24:02.259Z"
   },
   {
    "duration": 15,
    "start_time": "2024-11-22T20:24:02.281Z"
   },
   {
    "duration": 62,
    "start_time": "2024-11-22T20:24:02.297Z"
   },
   {
    "duration": 24,
    "start_time": "2024-11-22T20:24:02.361Z"
   },
   {
    "duration": 90,
    "start_time": "2024-11-22T20:24:02.387Z"
   },
   {
    "duration": 125,
    "start_time": "2024-11-22T20:24:02.479Z"
   },
   {
    "duration": 4,
    "start_time": "2024-11-22T20:24:02.605Z"
   },
   {
    "duration": 181,
    "start_time": "2024-11-22T20:25:02.945Z"
   },
   {
    "duration": 5,
    "start_time": "2024-11-22T20:55:22.905Z"
   },
   {
    "duration": 7,
    "start_time": "2024-11-22T21:18:07.153Z"
   },
   {
    "duration": 6,
    "start_time": "2024-11-22T22:09:57.926Z"
   },
   {
    "duration": 5,
    "start_time": "2024-11-22T22:10:13.482Z"
   },
   {
    "duration": 6,
    "start_time": "2024-11-22T22:10:18.960Z"
   },
   {
    "duration": 6,
    "start_time": "2024-11-22T22:10:22.415Z"
   },
   {
    "duration": 6,
    "start_time": "2024-11-22T22:10:25.343Z"
   },
   {
    "duration": 6,
    "start_time": "2024-11-22T22:10:29.537Z"
   },
   {
    "duration": 6,
    "start_time": "2024-11-22T22:20:33.693Z"
   },
   {
    "duration": 6,
    "start_time": "2024-11-22T22:20:35.307Z"
   },
   {
    "duration": 6,
    "start_time": "2024-11-22T22:20:36.183Z"
   },
   {
    "duration": 6,
    "start_time": "2024-11-22T22:20:37.039Z"
   },
   {
    "duration": 6,
    "start_time": "2024-11-22T22:20:37.861Z"
   },
   {
    "duration": 5,
    "start_time": "2024-11-22T22:20:38.654Z"
   },
   {
    "duration": 5,
    "start_time": "2024-11-22T22:20:39.489Z"
   },
   {
    "duration": 4,
    "start_time": "2024-11-22T22:20:44.733Z"
   },
   {
    "duration": 6,
    "start_time": "2024-11-22T22:20:46.908Z"
   },
   {
    "duration": 5,
    "start_time": "2024-11-22T22:20:48.805Z"
   },
   {
    "duration": 6,
    "start_time": "2024-11-22T22:20:50.477Z"
   },
   {
    "duration": 6,
    "start_time": "2024-11-22T22:20:57.789Z"
   },
   {
    "duration": 9,
    "start_time": "2024-11-22T22:21:02.930Z"
   },
   {
    "duration": 5,
    "start_time": "2024-11-22T22:21:05.488Z"
   },
   {
    "duration": 5,
    "start_time": "2024-11-22T22:21:07.973Z"
   },
   {
    "duration": 5,
    "start_time": "2024-11-22T22:21:10.353Z"
   },
   {
    "duration": 6,
    "start_time": "2024-11-22T22:21:50.857Z"
   },
   {
    "duration": 89,
    "start_time": "2024-11-22T22:32:40.277Z"
   },
   {
    "duration": 18,
    "start_time": "2024-11-22T22:32:48.278Z"
   },
   {
    "duration": 15,
    "start_time": "2024-11-22T22:33:32.427Z"
   },
   {
    "duration": 8,
    "start_time": "2024-11-22T22:33:43.644Z"
   },
   {
    "duration": 5,
    "start_time": "2024-11-22T22:34:32.697Z"
   },
   {
    "duration": 8,
    "start_time": "2024-11-22T22:34:37.383Z"
   },
   {
    "duration": 7,
    "start_time": "2024-11-22T22:34:57.989Z"
   },
   {
    "duration": 6,
    "start_time": "2024-11-22T22:35:41.254Z"
   },
   {
    "duration": 6,
    "start_time": "2024-11-22T22:35:45.609Z"
   },
   {
    "duration": 8,
    "start_time": "2024-11-22T22:35:50.149Z"
   },
   {
    "duration": 9,
    "start_time": "2024-11-22T22:35:56.135Z"
   },
   {
    "duration": 9,
    "start_time": "2024-11-22T22:36:27.829Z"
   },
   {
    "duration": 1026,
    "start_time": "2024-11-22T23:17:36.196Z"
   },
   {
    "duration": 146,
    "start_time": "2024-11-22T23:17:37.223Z"
   },
   {
    "duration": 9,
    "start_time": "2024-11-22T23:17:37.370Z"
   },
   {
    "duration": 32,
    "start_time": "2024-11-22T23:17:37.381Z"
   },
   {
    "duration": 49,
    "start_time": "2024-11-22T23:17:37.414Z"
   },
   {
    "duration": 11,
    "start_time": "2024-11-22T23:17:37.464Z"
   },
   {
    "duration": 5,
    "start_time": "2024-11-22T23:17:37.476Z"
   },
   {
    "duration": 18,
    "start_time": "2024-11-22T23:17:37.482Z"
   },
   {
    "duration": 8,
    "start_time": "2024-11-22T23:17:37.501Z"
   },
   {
    "duration": 7,
    "start_time": "2024-11-22T23:17:37.512Z"
   },
   {
    "duration": 13,
    "start_time": "2024-11-22T23:17:37.520Z"
   },
   {
    "duration": 12,
    "start_time": "2024-11-22T23:17:37.535Z"
   },
   {
    "duration": 8,
    "start_time": "2024-11-22T23:17:37.548Z"
   },
   {
    "duration": 30,
    "start_time": "2024-11-22T23:17:37.557Z"
   },
   {
    "duration": 8,
    "start_time": "2024-11-22T23:17:37.588Z"
   },
   {
    "duration": 10,
    "start_time": "2024-11-22T23:17:37.597Z"
   },
   {
    "duration": 161,
    "start_time": "2024-11-22T23:17:37.608Z"
   },
   {
    "duration": 5,
    "start_time": "2024-11-22T23:17:37.771Z"
   },
   {
    "duration": 111,
    "start_time": "2024-11-22T23:17:37.778Z"
   },
   {
    "duration": 9,
    "start_time": "2024-11-22T23:17:37.891Z"
   },
   {
    "duration": 206,
    "start_time": "2024-11-22T23:17:37.901Z"
   },
   {
    "duration": 204,
    "start_time": "2024-11-22T23:17:38.108Z"
   },
   {
    "duration": 14,
    "start_time": "2024-11-22T23:17:38.313Z"
   },
   {
    "duration": 178,
    "start_time": "2024-11-22T23:17:38.328Z"
   },
   {
    "duration": 210,
    "start_time": "2024-11-22T23:17:38.507Z"
   },
   {
    "duration": 179,
    "start_time": "2024-11-22T23:17:38.718Z"
   },
   {
    "duration": 179,
    "start_time": "2024-11-22T23:17:38.899Z"
   },
   {
    "duration": 190,
    "start_time": "2024-11-22T23:17:39.081Z"
   },
   {
    "duration": 225,
    "start_time": "2024-11-22T23:17:39.273Z"
   },
   {
    "duration": 173,
    "start_time": "2024-11-22T23:17:39.499Z"
   },
   {
    "duration": 130,
    "start_time": "2024-11-22T23:17:39.673Z"
   },
   {
    "duration": 20,
    "start_time": "2024-11-22T23:17:39.805Z"
   },
   {
    "duration": 16,
    "start_time": "2024-11-22T23:17:39.826Z"
   },
   {
    "duration": 8,
    "start_time": "2024-11-22T23:17:39.843Z"
   },
   {
    "duration": 22,
    "start_time": "2024-11-22T23:17:39.852Z"
   },
   {
    "duration": 9,
    "start_time": "2024-11-22T23:17:39.876Z"
   },
   {
    "duration": 3,
    "start_time": "2024-11-22T23:17:39.887Z"
   },
   {
    "duration": 35,
    "start_time": "2024-11-22T23:17:39.891Z"
   },
   {
    "duration": 369,
    "start_time": "2024-11-22T23:17:39.927Z"
   },
   {
    "duration": 29,
    "start_time": "2024-11-22T23:17:40.297Z"
   },
   {
    "duration": 4,
    "start_time": "2024-11-22T23:17:40.328Z"
   },
   {
    "duration": 27,
    "start_time": "2024-11-22T23:17:40.333Z"
   },
   {
    "duration": 5,
    "start_time": "2024-11-22T23:17:40.362Z"
   },
   {
    "duration": 199,
    "start_time": "2024-11-22T23:17:40.368Z"
   },
   {
    "duration": 3,
    "start_time": "2024-11-22T23:17:40.569Z"
   },
   {
    "duration": 27,
    "start_time": "2024-11-22T23:17:40.574Z"
   },
   {
    "duration": 5,
    "start_time": "2024-11-22T23:17:40.603Z"
   },
   {
    "duration": 12,
    "start_time": "2024-11-22T23:17:40.609Z"
   },
   {
    "duration": 12,
    "start_time": "2024-11-22T23:17:40.623Z"
   },
   {
    "duration": 7,
    "start_time": "2024-11-22T23:17:40.637Z"
   },
   {
    "duration": 11,
    "start_time": "2024-11-22T23:17:40.645Z"
   },
   {
    "duration": 141,
    "start_time": "2024-11-22T23:17:40.657Z"
   },
   {
    "duration": 107,
    "start_time": "2024-11-22T23:17:40.800Z"
   },
   {
    "duration": 4,
    "start_time": "2024-11-22T23:17:40.909Z"
   },
   {
    "duration": 1013,
    "start_time": "2024-11-22T23:17:50.900Z"
   },
   {
    "duration": 139,
    "start_time": "2024-11-22T23:17:51.915Z"
   },
   {
    "duration": 11,
    "start_time": "2024-11-22T23:17:52.056Z"
   },
   {
    "duration": 10,
    "start_time": "2024-11-22T23:17:52.068Z"
   },
   {
    "duration": 15,
    "start_time": "2024-11-22T23:17:52.080Z"
   },
   {
    "duration": 13,
    "start_time": "2024-11-22T23:17:52.096Z"
   },
   {
    "duration": 5,
    "start_time": "2024-11-22T23:17:52.110Z"
   },
   {
    "duration": 15,
    "start_time": "2024-11-22T23:17:52.116Z"
   },
   {
    "duration": 8,
    "start_time": "2024-11-22T23:17:52.133Z"
   },
   {
    "duration": 8,
    "start_time": "2024-11-22T23:17:52.143Z"
   },
   {
    "duration": 26,
    "start_time": "2024-11-22T23:17:52.153Z"
   },
   {
    "duration": 8,
    "start_time": "2024-11-22T23:17:52.181Z"
   },
   {
    "duration": 8,
    "start_time": "2024-11-22T23:17:52.190Z"
   },
   {
    "duration": 22,
    "start_time": "2024-11-22T23:17:52.199Z"
   },
   {
    "duration": 7,
    "start_time": "2024-11-22T23:17:52.223Z"
   },
   {
    "duration": 10,
    "start_time": "2024-11-22T23:17:52.231Z"
   },
   {
    "duration": 172,
    "start_time": "2024-11-22T23:17:52.243Z"
   },
   {
    "duration": 5,
    "start_time": "2024-11-22T23:17:52.420Z"
   },
   {
    "duration": 95,
    "start_time": "2024-11-22T23:17:52.426Z"
   },
   {
    "duration": 10,
    "start_time": "2024-11-22T23:17:52.523Z"
   },
   {
    "duration": 263,
    "start_time": "2024-11-22T23:17:52.534Z"
   },
   {
    "duration": 236,
    "start_time": "2024-11-22T23:17:52.799Z"
   },
   {
    "duration": 9,
    "start_time": "2024-11-22T23:17:53.037Z"
   },
   {
    "duration": 188,
    "start_time": "2024-11-22T23:17:53.047Z"
   },
   {
    "duration": 201,
    "start_time": "2024-11-22T23:17:53.237Z"
   },
   {
    "duration": 179,
    "start_time": "2024-11-22T23:17:53.440Z"
   },
   {
    "duration": 178,
    "start_time": "2024-11-22T23:17:53.620Z"
   },
   {
    "duration": 193,
    "start_time": "2024-11-22T23:17:53.801Z"
   },
   {
    "duration": 227,
    "start_time": "2024-11-22T23:17:53.995Z"
   },
   {
    "duration": 168,
    "start_time": "2024-11-22T23:17:54.223Z"
   },
   {
    "duration": 135,
    "start_time": "2024-11-22T23:17:54.392Z"
   },
   {
    "duration": 16,
    "start_time": "2024-11-22T23:17:54.528Z"
   },
   {
    "duration": 62,
    "start_time": "2024-11-22T23:17:54.545Z"
   },
   {
    "duration": 9,
    "start_time": "2024-11-22T23:17:54.608Z"
   },
   {
    "duration": 18,
    "start_time": "2024-11-22T23:17:54.618Z"
   },
   {
    "duration": 10,
    "start_time": "2024-11-22T23:17:54.637Z"
   },
   {
    "duration": 4,
    "start_time": "2024-11-22T23:17:54.649Z"
   },
   {
    "duration": 9,
    "start_time": "2024-11-22T23:17:54.654Z"
   },
   {
    "duration": 381,
    "start_time": "2024-11-22T23:17:54.665Z"
   },
   {
    "duration": 20,
    "start_time": "2024-11-22T23:17:55.048Z"
   },
   {
    "duration": 10,
    "start_time": "2024-11-22T23:17:55.069Z"
   },
   {
    "duration": 40,
    "start_time": "2024-11-22T23:17:55.081Z"
   },
   {
    "duration": 4,
    "start_time": "2024-11-22T23:17:55.123Z"
   },
   {
    "duration": 191,
    "start_time": "2024-11-22T23:17:55.128Z"
   },
   {
    "duration": 3,
    "start_time": "2024-11-22T23:17:55.320Z"
   },
   {
    "duration": 5,
    "start_time": "2024-11-22T23:17:55.325Z"
   },
   {
    "duration": 5,
    "start_time": "2024-11-22T23:17:55.331Z"
   },
   {
    "duration": 7,
    "start_time": "2024-11-22T23:17:55.337Z"
   },
   {
    "duration": 14,
    "start_time": "2024-11-22T23:17:55.346Z"
   },
   {
    "duration": 86,
    "start_time": "2024-11-22T23:17:55.362Z"
   },
   {
    "duration": 14,
    "start_time": "2024-11-22T23:17:55.450Z"
   },
   {
    "duration": 83,
    "start_time": "2024-11-22T23:17:55.466Z"
   },
   {
    "duration": 116,
    "start_time": "2024-11-22T23:17:55.551Z"
   },
   {
    "duration": 4,
    "start_time": "2024-11-22T23:17:55.669Z"
   },
   {
    "duration": 6,
    "start_time": "2024-11-22T23:17:59.052Z"
   },
   {
    "duration": 5,
    "start_time": "2024-11-22T23:18:00.797Z"
   },
   {
    "duration": 6,
    "start_time": "2024-11-22T23:18:01.583Z"
   },
   {
    "duration": 5,
    "start_time": "2024-11-22T23:18:02.292Z"
   },
   {
    "duration": 5,
    "start_time": "2024-11-22T23:18:03.062Z"
   },
   {
    "duration": 5,
    "start_time": "2024-11-22T23:18:03.741Z"
   },
   {
    "duration": 964,
    "start_time": "2024-11-22T23:18:07.752Z"
   },
   {
    "duration": 145,
    "start_time": "2024-11-22T23:18:08.718Z"
   },
   {
    "duration": 11,
    "start_time": "2024-11-22T23:18:08.864Z"
   },
   {
    "duration": 10,
    "start_time": "2024-11-22T23:18:08.876Z"
   },
   {
    "duration": 10,
    "start_time": "2024-11-22T23:18:08.887Z"
   },
   {
    "duration": 9,
    "start_time": "2024-11-22T23:18:08.899Z"
   },
   {
    "duration": 6,
    "start_time": "2024-11-22T23:18:08.910Z"
   },
   {
    "duration": 16,
    "start_time": "2024-11-22T23:18:08.917Z"
   },
   {
    "duration": 9,
    "start_time": "2024-11-22T23:18:08.934Z"
   },
   {
    "duration": 8,
    "start_time": "2024-11-22T23:18:08.945Z"
   },
   {
    "duration": 10,
    "start_time": "2024-11-22T23:18:08.954Z"
   },
   {
    "duration": 8,
    "start_time": "2024-11-22T23:18:08.965Z"
   },
   {
    "duration": 8,
    "start_time": "2024-11-22T23:18:08.974Z"
   },
   {
    "duration": 43,
    "start_time": "2024-11-22T23:18:08.983Z"
   },
   {
    "duration": 7,
    "start_time": "2024-11-22T23:18:09.028Z"
   },
   {
    "duration": 10,
    "start_time": "2024-11-22T23:18:09.036Z"
   },
   {
    "duration": 175,
    "start_time": "2024-11-22T23:18:09.047Z"
   },
   {
    "duration": 5,
    "start_time": "2024-11-22T23:18:09.223Z"
   },
   {
    "duration": 127,
    "start_time": "2024-11-22T23:18:09.229Z"
   },
   {
    "duration": 9,
    "start_time": "2024-11-22T23:18:09.357Z"
   },
   {
    "duration": 255,
    "start_time": "2024-11-22T23:18:09.367Z"
   },
   {
    "duration": 208,
    "start_time": "2024-11-22T23:18:09.623Z"
   },
   {
    "duration": 9,
    "start_time": "2024-11-22T23:18:09.832Z"
   },
   {
    "duration": 188,
    "start_time": "2024-11-22T23:18:09.842Z"
   },
   {
    "duration": 204,
    "start_time": "2024-11-22T23:18:10.031Z"
   },
   {
    "duration": 180,
    "start_time": "2024-11-22T23:18:10.237Z"
   },
   {
    "duration": 184,
    "start_time": "2024-11-22T23:18:10.421Z"
   },
   {
    "duration": 191,
    "start_time": "2024-11-22T23:18:10.608Z"
   },
   {
    "duration": 238,
    "start_time": "2024-11-22T23:18:10.801Z"
   },
   {
    "duration": 172,
    "start_time": "2024-11-22T23:18:11.041Z"
   },
   {
    "duration": 131,
    "start_time": "2024-11-22T23:18:11.215Z"
   },
   {
    "duration": 16,
    "start_time": "2024-11-22T23:18:11.348Z"
   },
   {
    "duration": 17,
    "start_time": "2024-11-22T23:18:11.366Z"
   },
   {
    "duration": 69,
    "start_time": "2024-11-22T23:18:11.384Z"
   },
   {
    "duration": 18,
    "start_time": "2024-11-22T23:18:11.454Z"
   },
   {
    "duration": 9,
    "start_time": "2024-11-22T23:18:11.474Z"
   },
   {
    "duration": 16,
    "start_time": "2024-11-22T23:18:11.485Z"
   },
   {
    "duration": 10,
    "start_time": "2024-11-22T23:18:11.503Z"
   },
   {
    "duration": 382,
    "start_time": "2024-11-22T23:18:11.514Z"
   },
   {
    "duration": 24,
    "start_time": "2024-11-22T23:18:11.897Z"
   },
   {
    "duration": 3,
    "start_time": "2024-11-22T23:18:11.923Z"
   },
   {
    "duration": 28,
    "start_time": "2024-11-22T23:18:11.928Z"
   },
   {
    "duration": 4,
    "start_time": "2024-11-22T23:18:11.958Z"
   },
   {
    "duration": 198,
    "start_time": "2024-11-22T23:18:11.963Z"
   },
   {
    "duration": 3,
    "start_time": "2024-11-22T23:18:12.163Z"
   },
   {
    "duration": 6,
    "start_time": "2024-11-22T23:18:12.167Z"
   },
   {
    "duration": 4,
    "start_time": "2024-11-22T23:18:12.174Z"
   },
   {
    "duration": 6,
    "start_time": "2024-11-22T23:18:12.179Z"
   },
   {
    "duration": 6,
    "start_time": "2024-11-22T23:18:12.186Z"
   },
   {
    "duration": 7,
    "start_time": "2024-11-22T23:18:12.220Z"
   },
   {
    "duration": 5,
    "start_time": "2024-11-22T23:18:12.228Z"
   },
   {
    "duration": 52,
    "start_time": "2024-11-22T23:18:12.234Z"
   },
   {
    "duration": 118,
    "start_time": "2024-11-22T23:18:12.288Z"
   },
   {
    "duration": 13,
    "start_time": "2024-11-22T23:18:12.408Z"
   },
   {
    "duration": 1007,
    "start_time": "2024-11-22T23:18:18.091Z"
   },
   {
    "duration": 139,
    "start_time": "2024-11-22T23:18:19.100Z"
   },
   {
    "duration": 10,
    "start_time": "2024-11-22T23:18:19.241Z"
   },
   {
    "duration": 42,
    "start_time": "2024-11-22T23:18:19.253Z"
   },
   {
    "duration": 28,
    "start_time": "2024-11-22T23:18:19.297Z"
   },
   {
    "duration": 10,
    "start_time": "2024-11-22T23:18:19.327Z"
   },
   {
    "duration": 5,
    "start_time": "2024-11-22T23:18:19.339Z"
   },
   {
    "duration": 25,
    "start_time": "2024-11-22T23:18:19.345Z"
   },
   {
    "duration": 71,
    "start_time": "2024-11-22T23:18:19.372Z"
   },
   {
    "duration": 9,
    "start_time": "2024-11-22T23:18:19.445Z"
   },
   {
    "duration": 11,
    "start_time": "2024-11-22T23:18:19.455Z"
   },
   {
    "duration": 9,
    "start_time": "2024-11-22T23:18:19.467Z"
   },
   {
    "duration": 10,
    "start_time": "2024-11-22T23:18:19.477Z"
   },
   {
    "duration": 14,
    "start_time": "2024-11-22T23:18:19.488Z"
   },
   {
    "duration": 20,
    "start_time": "2024-11-22T23:18:19.504Z"
   },
   {
    "duration": 11,
    "start_time": "2024-11-22T23:18:19.525Z"
   },
   {
    "duration": 164,
    "start_time": "2024-11-22T23:18:19.538Z"
   },
   {
    "duration": 5,
    "start_time": "2024-11-22T23:18:19.703Z"
   },
   {
    "duration": 85,
    "start_time": "2024-11-22T23:18:19.721Z"
   },
   {
    "duration": 14,
    "start_time": "2024-11-22T23:18:19.808Z"
   },
   {
    "duration": 203,
    "start_time": "2024-11-22T23:18:19.824Z"
   },
   {
    "duration": 218,
    "start_time": "2024-11-22T23:18:20.029Z"
   },
   {
    "duration": 8,
    "start_time": "2024-11-22T23:18:20.249Z"
   },
   {
    "duration": 208,
    "start_time": "2024-11-22T23:18:20.259Z"
   },
   {
    "duration": 206,
    "start_time": "2024-11-22T23:18:20.468Z"
   },
   {
    "duration": 181,
    "start_time": "2024-11-22T23:18:20.675Z"
   },
   {
    "duration": 189,
    "start_time": "2024-11-22T23:18:20.857Z"
   },
   {
    "duration": 193,
    "start_time": "2024-11-22T23:18:21.049Z"
   },
   {
    "duration": 232,
    "start_time": "2024-11-22T23:18:21.243Z"
   },
   {
    "duration": 176,
    "start_time": "2024-11-22T23:18:21.477Z"
   },
   {
    "duration": 132,
    "start_time": "2024-11-22T23:18:21.654Z"
   },
   {
    "duration": 17,
    "start_time": "2024-11-22T23:18:21.787Z"
   },
   {
    "duration": 29,
    "start_time": "2024-11-22T23:18:21.805Z"
   },
   {
    "duration": 9,
    "start_time": "2024-11-22T23:18:21.835Z"
   },
   {
    "duration": 25,
    "start_time": "2024-11-22T23:18:21.845Z"
   },
   {
    "duration": 11,
    "start_time": "2024-11-22T23:18:21.871Z"
   },
   {
    "duration": 6,
    "start_time": "2024-11-22T23:18:21.883Z"
   },
   {
    "duration": 8,
    "start_time": "2024-11-22T23:18:21.890Z"
   },
   {
    "duration": 393,
    "start_time": "2024-11-22T23:18:21.921Z"
   },
   {
    "duration": 21,
    "start_time": "2024-11-22T23:18:22.320Z"
   },
   {
    "duration": 4,
    "start_time": "2024-11-22T23:18:22.342Z"
   },
   {
    "duration": 30,
    "start_time": "2024-11-22T23:18:22.347Z"
   },
   {
    "duration": 5,
    "start_time": "2024-11-22T23:18:22.378Z"
   },
   {
    "duration": 236,
    "start_time": "2024-11-22T23:18:22.384Z"
   },
   {
    "duration": 3,
    "start_time": "2024-11-22T23:18:22.622Z"
   },
   {
    "duration": 6,
    "start_time": "2024-11-22T23:18:22.626Z"
   },
   {
    "duration": 4,
    "start_time": "2024-11-22T23:18:22.634Z"
   },
   {
    "duration": 12,
    "start_time": "2024-11-22T23:18:22.640Z"
   },
   {
    "duration": 7,
    "start_time": "2024-11-22T23:18:22.653Z"
   },
   {
    "duration": 7,
    "start_time": "2024-11-22T23:18:22.662Z"
   },
   {
    "duration": 4,
    "start_time": "2024-11-22T23:18:22.670Z"
   },
   {
    "duration": 69,
    "start_time": "2024-11-22T23:18:22.675Z"
   },
   {
    "duration": 125,
    "start_time": "2024-11-22T23:18:22.746Z"
   },
   {
    "duration": 5,
    "start_time": "2024-11-22T23:18:22.872Z"
   },
   {
    "duration": 966,
    "start_time": "2024-11-22T23:18:28.486Z"
   },
   {
    "duration": 139,
    "start_time": "2024-11-22T23:18:29.454Z"
   },
   {
    "duration": 10,
    "start_time": "2024-11-22T23:18:29.594Z"
   },
   {
    "duration": 16,
    "start_time": "2024-11-22T23:18:29.606Z"
   },
   {
    "duration": 10,
    "start_time": "2024-11-22T23:18:29.623Z"
   },
   {
    "duration": 20,
    "start_time": "2024-11-22T23:18:29.634Z"
   },
   {
    "duration": 6,
    "start_time": "2024-11-22T23:18:29.655Z"
   },
   {
    "duration": 15,
    "start_time": "2024-11-22T23:18:29.662Z"
   },
   {
    "duration": 9,
    "start_time": "2024-11-22T23:18:29.678Z"
   },
   {
    "duration": 8,
    "start_time": "2024-11-22T23:18:29.689Z"
   },
   {
    "duration": 25,
    "start_time": "2024-11-22T23:18:29.698Z"
   },
   {
    "duration": 8,
    "start_time": "2024-11-22T23:18:29.724Z"
   },
   {
    "duration": 7,
    "start_time": "2024-11-22T23:18:29.734Z"
   },
   {
    "duration": 11,
    "start_time": "2024-11-22T23:18:29.742Z"
   },
   {
    "duration": 7,
    "start_time": "2024-11-22T23:18:29.754Z"
   },
   {
    "duration": 11,
    "start_time": "2024-11-22T23:18:29.762Z"
   },
   {
    "duration": 190,
    "start_time": "2024-11-22T23:18:29.774Z"
   },
   {
    "duration": 5,
    "start_time": "2024-11-22T23:18:29.965Z"
   },
   {
    "duration": 100,
    "start_time": "2024-11-22T23:18:29.971Z"
   },
   {
    "duration": 9,
    "start_time": "2024-11-22T23:18:30.073Z"
   },
   {
    "duration": 228,
    "start_time": "2024-11-22T23:18:30.084Z"
   },
   {
    "duration": 212,
    "start_time": "2024-11-22T23:18:30.314Z"
   },
   {
    "duration": 9,
    "start_time": "2024-11-22T23:18:30.528Z"
   },
   {
    "duration": 235,
    "start_time": "2024-11-22T23:18:30.538Z"
   },
   {
    "duration": 205,
    "start_time": "2024-11-22T23:18:30.775Z"
   },
   {
    "duration": 178,
    "start_time": "2024-11-22T23:18:30.982Z"
   },
   {
    "duration": 183,
    "start_time": "2024-11-22T23:18:31.162Z"
   },
   {
    "duration": 199,
    "start_time": "2024-11-22T23:18:31.348Z"
   },
   {
    "duration": 233,
    "start_time": "2024-11-22T23:18:31.548Z"
   },
   {
    "duration": 178,
    "start_time": "2024-11-22T23:18:31.783Z"
   },
   {
    "duration": 132,
    "start_time": "2024-11-22T23:18:31.963Z"
   },
   {
    "duration": 26,
    "start_time": "2024-11-22T23:18:32.097Z"
   },
   {
    "duration": 27,
    "start_time": "2024-11-22T23:18:32.125Z"
   },
   {
    "duration": 15,
    "start_time": "2024-11-22T23:18:32.153Z"
   },
   {
    "duration": 18,
    "start_time": "2024-11-22T23:18:32.169Z"
   },
   {
    "duration": 12,
    "start_time": "2024-11-22T23:18:32.188Z"
   },
   {
    "duration": 16,
    "start_time": "2024-11-22T23:18:32.201Z"
   },
   {
    "duration": 21,
    "start_time": "2024-11-22T23:18:32.218Z"
   },
   {
    "duration": 405,
    "start_time": "2024-11-22T23:18:32.240Z"
   },
   {
    "duration": 19,
    "start_time": "2024-11-22T23:18:32.646Z"
   },
   {
    "duration": 4,
    "start_time": "2024-11-22T23:18:32.667Z"
   },
   {
    "duration": 49,
    "start_time": "2024-11-22T23:18:32.672Z"
   },
   {
    "duration": 9,
    "start_time": "2024-11-22T23:18:32.723Z"
   },
   {
    "duration": 215,
    "start_time": "2024-11-22T23:18:32.734Z"
   },
   {
    "duration": 3,
    "start_time": "2024-11-22T23:18:32.951Z"
   },
   {
    "duration": 23,
    "start_time": "2024-11-22T23:18:32.956Z"
   },
   {
    "duration": 22,
    "start_time": "2024-11-22T23:18:32.980Z"
   },
   {
    "duration": 23,
    "start_time": "2024-11-22T23:18:33.003Z"
   },
   {
    "duration": 27,
    "start_time": "2024-11-22T23:18:33.027Z"
   },
   {
    "duration": 20,
    "start_time": "2024-11-22T23:18:33.055Z"
   },
   {
    "duration": 14,
    "start_time": "2024-11-22T23:18:33.077Z"
   },
   {
    "duration": 56,
    "start_time": "2024-11-22T23:18:33.092Z"
   },
   {
    "duration": 119,
    "start_time": "2024-11-22T23:18:33.149Z"
   },
   {
    "duration": 5,
    "start_time": "2024-11-22T23:18:33.269Z"
   },
   {
    "duration": 5,
    "start_time": "2024-11-22T23:19:00.363Z"
   },
   {
    "duration": 5,
    "start_time": "2024-11-22T23:19:02.109Z"
   },
   {
    "duration": 8,
    "start_time": "2024-11-22T23:19:02.927Z"
   },
   {
    "duration": 6,
    "start_time": "2024-11-22T23:19:03.585Z"
   },
   {
    "duration": 6,
    "start_time": "2024-11-22T23:19:04.231Z"
   },
   {
    "duration": 6,
    "start_time": "2024-11-22T23:19:04.855Z"
   },
   {
    "duration": 6,
    "start_time": "2024-11-22T23:19:05.463Z"
   },
   {
    "duration": 5,
    "start_time": "2024-11-22T23:19:06.084Z"
   },
   {
    "duration": 5,
    "start_time": "2024-11-22T23:19:06.716Z"
   },
   {
    "duration": 5,
    "start_time": "2024-11-22T23:19:07.341Z"
   },
   {
    "duration": 5,
    "start_time": "2024-11-22T23:19:07.986Z"
   },
   {
    "duration": 6,
    "start_time": "2024-11-22T23:19:08.746Z"
   },
   {
    "duration": 5,
    "start_time": "2024-11-22T23:19:09.587Z"
   },
   {
    "duration": 994,
    "start_time": "2024-11-22T23:49:43.022Z"
   },
   {
    "duration": 145,
    "start_time": "2024-11-22T23:49:44.018Z"
   },
   {
    "duration": 10,
    "start_time": "2024-11-22T23:49:44.165Z"
   },
   {
    "duration": 25,
    "start_time": "2024-11-22T23:49:44.176Z"
   },
   {
    "duration": 23,
    "start_time": "2024-11-22T23:49:44.203Z"
   },
   {
    "duration": 40,
    "start_time": "2024-11-22T23:49:44.228Z"
   },
   {
    "duration": 9,
    "start_time": "2024-11-22T23:49:44.270Z"
   },
   {
    "duration": 33,
    "start_time": "2024-11-22T23:49:44.281Z"
   },
   {
    "duration": 28,
    "start_time": "2024-11-22T23:49:44.315Z"
   },
   {
    "duration": 11,
    "start_time": "2024-11-22T23:49:44.345Z"
   },
   {
    "duration": 19,
    "start_time": "2024-11-22T23:49:44.357Z"
   },
   {
    "duration": 25,
    "start_time": "2024-11-22T23:49:44.378Z"
   },
   {
    "duration": 11,
    "start_time": "2024-11-22T23:49:44.404Z"
   },
   {
    "duration": 18,
    "start_time": "2024-11-22T23:49:44.416Z"
   },
   {
    "duration": 20,
    "start_time": "2024-11-22T23:49:44.435Z"
   },
   {
    "duration": 25,
    "start_time": "2024-11-22T23:49:44.456Z"
   },
   {
    "duration": 170,
    "start_time": "2024-11-22T23:49:44.483Z"
   },
   {
    "duration": 4,
    "start_time": "2024-11-22T23:49:44.654Z"
   },
   {
    "duration": 105,
    "start_time": "2024-11-22T23:49:44.659Z"
   },
   {
    "duration": 9,
    "start_time": "2024-11-22T23:49:44.765Z"
   },
   {
    "duration": 204,
    "start_time": "2024-11-22T23:49:44.775Z"
   },
   {
    "duration": 208,
    "start_time": "2024-11-22T23:49:44.980Z"
   },
   {
    "duration": 7,
    "start_time": "2024-11-22T23:49:45.190Z"
   },
   {
    "duration": 199,
    "start_time": "2024-11-22T23:49:45.198Z"
   },
   {
    "duration": 194,
    "start_time": "2024-11-22T23:49:45.399Z"
   },
   {
    "duration": 175,
    "start_time": "2024-11-22T23:49:45.595Z"
   },
   {
    "duration": 185,
    "start_time": "2024-11-22T23:49:45.771Z"
   },
   {
    "duration": 188,
    "start_time": "2024-11-22T23:49:45.959Z"
   },
   {
    "duration": 233,
    "start_time": "2024-11-22T23:49:46.149Z"
   },
   {
    "duration": 189,
    "start_time": "2024-11-22T23:49:46.384Z"
   },
   {
    "duration": 140,
    "start_time": "2024-11-22T23:49:46.575Z"
   },
   {
    "duration": 17,
    "start_time": "2024-11-22T23:49:46.717Z"
   },
   {
    "duration": 14,
    "start_time": "2024-11-22T23:49:46.736Z"
   },
   {
    "duration": 9,
    "start_time": "2024-11-22T23:49:46.751Z"
   },
   {
    "duration": 15,
    "start_time": "2024-11-22T23:49:46.761Z"
   },
   {
    "duration": 9,
    "start_time": "2024-11-22T23:49:46.777Z"
   },
   {
    "duration": 4,
    "start_time": "2024-11-22T23:49:46.788Z"
   },
   {
    "duration": 33,
    "start_time": "2024-11-22T23:49:46.793Z"
   },
   {
    "duration": 377,
    "start_time": "2024-11-22T23:49:46.827Z"
   },
   {
    "duration": 26,
    "start_time": "2024-11-22T23:49:47.206Z"
   },
   {
    "duration": 5,
    "start_time": "2024-11-22T23:49:47.233Z"
   },
   {
    "duration": 27,
    "start_time": "2024-11-22T23:49:47.239Z"
   },
   {
    "duration": 5,
    "start_time": "2024-11-22T23:49:47.268Z"
   },
   {
    "duration": 212,
    "start_time": "2024-11-22T23:49:47.274Z"
   },
   {
    "duration": 4,
    "start_time": "2024-11-22T23:49:47.487Z"
   },
   {
    "duration": 69,
    "start_time": "2024-11-22T23:49:47.492Z"
   },
   {
    "duration": 9,
    "start_time": "2024-11-22T23:49:47.562Z"
   },
   {
    "duration": 15,
    "start_time": "2024-11-22T23:49:47.572Z"
   },
   {
    "duration": 10,
    "start_time": "2024-11-22T23:49:47.588Z"
   },
   {
    "duration": 8,
    "start_time": "2024-11-22T23:49:47.599Z"
   },
   {
    "duration": 14,
    "start_time": "2024-11-22T23:49:47.608Z"
   },
   {
    "duration": 54,
    "start_time": "2024-11-22T23:49:47.624Z"
   },
   {
    "duration": 111,
    "start_time": "2024-11-22T23:49:47.679Z"
   },
   {
    "duration": 4,
    "start_time": "2024-11-22T23:49:47.792Z"
   },
   {
    "duration": 949,
    "start_time": "2024-11-22T23:50:54.445Z"
   },
   {
    "duration": 151,
    "start_time": "2024-11-22T23:50:55.396Z"
   },
   {
    "duration": 12,
    "start_time": "2024-11-22T23:50:55.548Z"
   },
   {
    "duration": 9,
    "start_time": "2024-11-22T23:50:55.562Z"
   },
   {
    "duration": 10,
    "start_time": "2024-11-22T23:50:55.573Z"
   },
   {
    "duration": 10,
    "start_time": "2024-11-22T23:50:55.584Z"
   },
   {
    "duration": 5,
    "start_time": "2024-11-22T23:50:55.595Z"
   },
   {
    "duration": 29,
    "start_time": "2024-11-22T23:50:55.601Z"
   },
   {
    "duration": 9,
    "start_time": "2024-11-22T23:50:55.631Z"
   },
   {
    "duration": 8,
    "start_time": "2024-11-22T23:50:55.642Z"
   },
   {
    "duration": 14,
    "start_time": "2024-11-22T23:50:55.651Z"
   },
   {
    "duration": 8,
    "start_time": "2024-11-22T23:50:55.667Z"
   },
   {
    "duration": 7,
    "start_time": "2024-11-22T23:50:55.676Z"
   },
   {
    "duration": 43,
    "start_time": "2024-11-22T23:50:55.685Z"
   },
   {
    "duration": 7,
    "start_time": "2024-11-22T23:50:55.729Z"
   },
   {
    "duration": 10,
    "start_time": "2024-11-22T23:50:55.738Z"
   },
   {
    "duration": 170,
    "start_time": "2024-11-22T23:50:55.749Z"
   },
   {
    "duration": 5,
    "start_time": "2024-11-22T23:50:55.921Z"
   },
   {
    "duration": 96,
    "start_time": "2024-11-22T23:50:55.928Z"
   },
   {
    "duration": 9,
    "start_time": "2024-11-22T23:50:56.025Z"
   },
   {
    "duration": 191,
    "start_time": "2024-11-22T23:50:56.035Z"
   },
   {
    "duration": 204,
    "start_time": "2024-11-22T23:50:56.228Z"
   },
   {
    "duration": 9,
    "start_time": "2024-11-22T23:50:56.433Z"
   },
   {
    "duration": 178,
    "start_time": "2024-11-22T23:50:56.443Z"
   },
   {
    "duration": 195,
    "start_time": "2024-11-22T23:50:56.623Z"
   },
   {
    "duration": 173,
    "start_time": "2024-11-22T23:50:56.819Z"
   },
   {
    "duration": 177,
    "start_time": "2024-11-22T23:50:56.993Z"
   },
   {
    "duration": 215,
    "start_time": "2024-11-22T23:50:57.173Z"
   },
   {
    "duration": 241,
    "start_time": "2024-11-22T23:50:57.389Z"
   },
   {
    "duration": 188,
    "start_time": "2024-11-22T23:50:57.632Z"
   },
   {
    "duration": 134,
    "start_time": "2024-11-22T23:50:57.821Z"
   },
   {
    "duration": 17,
    "start_time": "2024-11-22T23:50:57.956Z"
   },
   {
    "duration": 15,
    "start_time": "2024-11-22T23:50:57.974Z"
   },
   {
    "duration": 9,
    "start_time": "2024-11-22T23:50:57.990Z"
   },
   {
    "duration": 17,
    "start_time": "2024-11-22T23:50:58.021Z"
   },
   {
    "duration": 11,
    "start_time": "2024-11-22T23:50:58.039Z"
   },
   {
    "duration": 5,
    "start_time": "2024-11-22T23:50:58.051Z"
   },
   {
    "duration": 19,
    "start_time": "2024-11-22T23:50:58.057Z"
   },
   {
    "duration": 374,
    "start_time": "2024-11-22T23:50:58.077Z"
   },
   {
    "duration": 20,
    "start_time": "2024-11-22T23:50:58.453Z"
   },
   {
    "duration": 4,
    "start_time": "2024-11-22T23:50:58.474Z"
   },
   {
    "duration": 46,
    "start_time": "2024-11-22T23:50:58.479Z"
   },
   {
    "duration": 4,
    "start_time": "2024-11-22T23:50:58.526Z"
   },
   {
    "duration": 191,
    "start_time": "2024-11-22T23:50:58.531Z"
   },
   {
    "duration": 3,
    "start_time": "2024-11-22T23:50:58.723Z"
   },
   {
    "duration": 18,
    "start_time": "2024-11-22T23:50:58.727Z"
   },
   {
    "duration": 4,
    "start_time": "2024-11-22T23:50:58.746Z"
   },
   {
    "duration": 7,
    "start_time": "2024-11-22T23:50:58.752Z"
   },
   {
    "duration": 6,
    "start_time": "2024-11-22T23:50:58.760Z"
   },
   {
    "duration": 7,
    "start_time": "2024-11-22T23:50:58.767Z"
   },
   {
    "duration": 2,
    "start_time": "2024-11-22T23:50:58.775Z"
   },
   {
    "duration": 68,
    "start_time": "2024-11-22T23:50:58.778Z"
   },
   {
    "duration": 114,
    "start_time": "2024-11-22T23:50:58.848Z"
   },
   {
    "duration": 4,
    "start_time": "2024-11-22T23:50:58.964Z"
   },
   {
    "duration": 1298,
    "start_time": "2024-11-23T11:13:42.827Z"
   },
   {
    "duration": 428,
    "start_time": "2024-11-23T11:13:44.128Z"
   },
   {
    "duration": 21,
    "start_time": "2024-11-23T11:13:44.558Z"
   },
   {
    "duration": 11,
    "start_time": "2024-11-23T11:13:44.583Z"
   },
   {
    "duration": 8,
    "start_time": "2024-11-23T11:13:44.596Z"
   },
   {
    "duration": 11,
    "start_time": "2024-11-23T11:13:44.606Z"
   },
   {
    "duration": 7,
    "start_time": "2024-11-23T11:13:44.618Z"
   },
   {
    "duration": 61,
    "start_time": "2024-11-23T11:13:44.626Z"
   },
   {
    "duration": 11,
    "start_time": "2024-11-23T11:13:44.688Z"
   },
   {
    "duration": 9,
    "start_time": "2024-11-23T11:13:44.700Z"
   },
   {
    "duration": 12,
    "start_time": "2024-11-23T11:13:44.711Z"
   },
   {
    "duration": 44,
    "start_time": "2024-11-23T11:13:44.724Z"
   },
   {
    "duration": 23,
    "start_time": "2024-11-23T11:13:44.770Z"
   },
   {
    "duration": 18,
    "start_time": "2024-11-23T11:13:44.798Z"
   },
   {
    "duration": 12,
    "start_time": "2024-11-23T11:13:44.818Z"
   },
   {
    "duration": 50,
    "start_time": "2024-11-23T11:13:44.831Z"
   },
   {
    "duration": 205,
    "start_time": "2024-11-23T11:13:44.883Z"
   },
   {
    "duration": 6,
    "start_time": "2024-11-23T11:13:45.090Z"
   },
   {
    "duration": 124,
    "start_time": "2024-11-23T11:13:45.097Z"
   },
   {
    "duration": 20,
    "start_time": "2024-11-23T11:13:45.223Z"
   },
   {
    "duration": 295,
    "start_time": "2024-11-23T11:13:45.245Z"
   },
   {
    "duration": 285,
    "start_time": "2024-11-23T11:13:45.542Z"
   },
   {
    "duration": 12,
    "start_time": "2024-11-23T11:13:45.829Z"
   },
   {
    "duration": 244,
    "start_time": "2024-11-23T11:13:45.843Z"
   },
   {
    "duration": 246,
    "start_time": "2024-11-23T11:13:46.089Z"
   },
   {
    "duration": 225,
    "start_time": "2024-11-23T11:13:46.336Z"
   },
   {
    "duration": 237,
    "start_time": "2024-11-23T11:13:46.563Z"
   },
   {
    "duration": 231,
    "start_time": "2024-11-23T11:13:46.802Z"
   },
   {
    "duration": 295,
    "start_time": "2024-11-23T11:13:47.035Z"
   },
   {
    "duration": 225,
    "start_time": "2024-11-23T11:13:47.332Z"
   },
   {
    "duration": 150,
    "start_time": "2024-11-23T11:13:47.564Z"
   },
   {
    "duration": 17,
    "start_time": "2024-11-23T11:13:47.716Z"
   },
   {
    "duration": 44,
    "start_time": "2024-11-23T11:13:47.734Z"
   },
   {
    "duration": 12,
    "start_time": "2024-11-23T11:13:47.780Z"
   },
   {
    "duration": 20,
    "start_time": "2024-11-23T11:13:47.794Z"
   },
   {
    "duration": 12,
    "start_time": "2024-11-23T11:13:47.817Z"
   },
   {
    "duration": 45,
    "start_time": "2024-11-23T11:13:47.831Z"
   },
   {
    "duration": 9,
    "start_time": "2024-11-23T11:13:47.878Z"
   },
   {
    "duration": 447,
    "start_time": "2024-11-23T11:13:47.889Z"
   },
   {
    "duration": 37,
    "start_time": "2024-11-23T11:13:48.337Z"
   },
   {
    "duration": 68,
    "start_time": "2024-11-23T11:13:48.383Z"
   },
   {
    "duration": 36,
    "start_time": "2024-11-23T11:13:48.453Z"
   },
   {
    "duration": 6,
    "start_time": "2024-11-23T11:13:48.491Z"
   },
   {
    "duration": 254,
    "start_time": "2024-11-23T11:13:48.501Z"
   },
   {
    "duration": 18,
    "start_time": "2024-11-23T11:13:48.757Z"
   },
   {
    "duration": 9,
    "start_time": "2024-11-23T11:13:48.777Z"
   },
   {
    "duration": 6,
    "start_time": "2024-11-23T11:13:48.788Z"
   },
   {
    "duration": 9,
    "start_time": "2024-11-23T11:13:48.796Z"
   },
   {
    "duration": 9,
    "start_time": "2024-11-23T11:13:48.807Z"
   },
   {
    "duration": 12,
    "start_time": "2024-11-23T11:13:48.817Z"
   },
   {
    "duration": 3,
    "start_time": "2024-11-23T11:13:48.831Z"
   },
   {
    "duration": 87,
    "start_time": "2024-11-23T11:13:48.835Z"
   },
   {
    "duration": 165,
    "start_time": "2024-11-23T11:13:48.924Z"
   },
   {
    "duration": 5,
    "start_time": "2024-11-23T11:13:49.091Z"
   },
   {
    "duration": 17,
    "start_time": "2024-11-23T11:48:06.808Z"
   },
   {
    "duration": 62,
    "start_time": "2024-11-23T12:10:00.112Z"
   },
   {
    "duration": 148,
    "start_time": "2024-11-23T12:10:04.491Z"
   },
   {
    "duration": 47,
    "start_time": "2024-11-23T12:53:36.394Z"
   },
   {
    "duration": 1171,
    "start_time": "2024-11-23T12:53:42.038Z"
   },
   {
    "duration": 347,
    "start_time": "2024-11-23T12:53:43.211Z"
   },
   {
    "duration": 12,
    "start_time": "2024-11-23T12:53:43.560Z"
   },
   {
    "duration": 17,
    "start_time": "2024-11-23T12:53:43.574Z"
   },
   {
    "duration": 55,
    "start_time": "2024-11-23T12:53:43.593Z"
   },
   {
    "duration": 10,
    "start_time": "2024-11-23T12:53:43.650Z"
   },
   {
    "duration": 6,
    "start_time": "2024-11-23T12:53:43.662Z"
   },
   {
    "duration": 33,
    "start_time": "2024-11-23T12:53:43.670Z"
   },
   {
    "duration": 10,
    "start_time": "2024-11-23T12:53:43.705Z"
   },
   {
    "duration": 9,
    "start_time": "2024-11-23T12:53:43.718Z"
   },
   {
    "duration": 14,
    "start_time": "2024-11-23T12:53:43.729Z"
   },
   {
    "duration": 21,
    "start_time": "2024-11-23T12:53:43.745Z"
   },
   {
    "duration": 13,
    "start_time": "2024-11-23T12:53:43.768Z"
   },
   {
    "duration": 14,
    "start_time": "2024-11-23T12:53:43.782Z"
   },
   {
    "duration": 9,
    "start_time": "2024-11-23T12:53:43.808Z"
   },
   {
    "duration": 26,
    "start_time": "2024-11-23T12:53:43.819Z"
   },
   {
    "duration": 168,
    "start_time": "2024-11-23T12:53:43.847Z"
   },
   {
    "duration": 5,
    "start_time": "2024-11-23T12:53:44.017Z"
   },
   {
    "duration": 98,
    "start_time": "2024-11-23T12:53:44.023Z"
   },
   {
    "duration": 10,
    "start_time": "2024-11-23T12:53:44.122Z"
   },
   {
    "duration": 217,
    "start_time": "2024-11-23T12:53:44.133Z"
   },
   {
    "duration": 213,
    "start_time": "2024-11-23T12:53:44.351Z"
   },
   {
    "duration": 9,
    "start_time": "2024-11-23T12:53:44.566Z"
   },
   {
    "duration": 212,
    "start_time": "2024-11-23T12:53:44.577Z"
   },
   {
    "duration": 225,
    "start_time": "2024-11-23T12:53:44.791Z"
   },
   {
    "duration": 183,
    "start_time": "2024-11-23T12:53:45.018Z"
   },
   {
    "duration": 186,
    "start_time": "2024-11-23T12:53:45.203Z"
   },
   {
    "duration": 258,
    "start_time": "2024-11-23T12:53:45.393Z"
   },
   {
    "duration": 230,
    "start_time": "2024-11-23T12:53:45.653Z"
   },
   {
    "duration": 180,
    "start_time": "2024-11-23T12:53:45.885Z"
   },
   {
    "duration": 141,
    "start_time": "2024-11-23T12:53:46.067Z"
   },
   {
    "duration": 17,
    "start_time": "2024-11-23T12:53:46.210Z"
   },
   {
    "duration": 19,
    "start_time": "2024-11-23T12:53:46.228Z"
   },
   {
    "duration": 19,
    "start_time": "2024-11-23T12:53:46.249Z"
   },
   {
    "duration": 23,
    "start_time": "2024-11-23T12:53:46.270Z"
   },
   {
    "duration": 21,
    "start_time": "2024-11-23T12:53:46.295Z"
   },
   {
    "duration": 21,
    "start_time": "2024-11-23T12:53:46.317Z"
   },
   {
    "duration": 11,
    "start_time": "2024-11-23T12:53:46.340Z"
   },
   {
    "duration": 377,
    "start_time": "2024-11-23T12:53:46.353Z"
   },
   {
    "duration": 22,
    "start_time": "2024-11-23T12:53:46.732Z"
   },
   {
    "duration": 10,
    "start_time": "2024-11-23T12:53:46.755Z"
   },
   {
    "duration": 45,
    "start_time": "2024-11-23T12:53:46.766Z"
   },
   {
    "duration": 5,
    "start_time": "2024-11-23T12:53:46.813Z"
   },
   {
    "duration": 197,
    "start_time": "2024-11-23T12:53:46.820Z"
   },
   {
    "duration": 3,
    "start_time": "2024-11-23T12:53:47.019Z"
   },
   {
    "duration": 22,
    "start_time": "2024-11-23T12:53:47.023Z"
   },
   {
    "duration": 20,
    "start_time": "2024-11-23T12:53:47.046Z"
   },
   {
    "duration": 16,
    "start_time": "2024-11-23T12:53:47.067Z"
   },
   {
    "duration": 8,
    "start_time": "2024-11-23T12:53:47.085Z"
   },
   {
    "duration": 12,
    "start_time": "2024-11-23T12:53:47.094Z"
   },
   {
    "duration": 15,
    "start_time": "2024-11-23T12:53:47.107Z"
   },
   {
    "duration": 57,
    "start_time": "2024-11-23T12:53:47.123Z"
   },
   {
    "duration": 109,
    "start_time": "2024-11-23T12:53:47.182Z"
   },
   {
    "duration": 118,
    "start_time": "2024-11-23T12:53:47.293Z"
   },
   {
    "duration": 4,
    "start_time": "2024-11-23T12:53:47.413Z"
   },
   {
    "duration": 6,
    "start_time": "2024-11-23T12:58:34.822Z"
   },
   {
    "duration": 6,
    "start_time": "2024-11-23T12:58:40.353Z"
   },
   {
    "duration": 6,
    "start_time": "2024-11-23T12:58:43.295Z"
   },
   {
    "duration": 6,
    "start_time": "2024-11-23T13:15:57.109Z"
   },
   {
    "duration": 6,
    "start_time": "2024-11-23T13:16:00.178Z"
   },
   {
    "duration": 5,
    "start_time": "2024-11-23T13:16:02.295Z"
   },
   {
    "duration": 7,
    "start_time": "2024-11-23T13:44:12.137Z"
   },
   {
    "duration": 11,
    "start_time": "2024-11-23T13:44:14.604Z"
   },
   {
    "duration": 108,
    "start_time": "2024-11-23T13:44:39.878Z"
   },
   {
    "duration": 7,
    "start_time": "2024-11-23T13:44:52.528Z"
   },
   {
    "duration": 4,
    "start_time": "2024-11-23T13:49:32.715Z"
   },
   {
    "duration": 5,
    "start_time": "2024-11-23T15:50:36.232Z"
   },
   {
    "duration": 5,
    "start_time": "2024-11-23T15:50:38.370Z"
   },
   {
    "duration": 4,
    "start_time": "2024-11-23T15:50:39.778Z"
   },
   {
    "duration": 3,
    "start_time": "2024-11-23T15:51:00.933Z"
   },
   {
    "duration": 5,
    "start_time": "2024-11-23T15:51:09.559Z"
   },
   {
    "duration": 5,
    "start_time": "2024-11-23T15:52:10.353Z"
   },
   {
    "duration": 5,
    "start_time": "2024-11-23T15:56:45.506Z"
   },
   {
    "duration": 5,
    "start_time": "2024-11-23T15:56:50.481Z"
   },
   {
    "duration": 5,
    "start_time": "2024-11-23T15:57:56.401Z"
   },
   {
    "duration": 4,
    "start_time": "2024-11-23T15:57:58.736Z"
   },
   {
    "duration": 4,
    "start_time": "2024-11-23T15:58:05.042Z"
   },
   {
    "duration": 5,
    "start_time": "2024-11-23T15:58:08.088Z"
   },
   {
    "duration": 5,
    "start_time": "2024-11-23T15:58:09.278Z"
   },
   {
    "duration": 5,
    "start_time": "2024-11-23T15:58:10.502Z"
   },
   {
    "duration": 5,
    "start_time": "2024-11-23T16:00:28.907Z"
   },
   {
    "duration": 5,
    "start_time": "2024-11-23T16:00:33.998Z"
   },
   {
    "duration": 5,
    "start_time": "2024-11-23T16:00:38.166Z"
   },
   {
    "duration": 5,
    "start_time": "2024-11-23T16:00:53.480Z"
   },
   {
    "duration": 4,
    "start_time": "2024-11-23T17:37:38.816Z"
   },
   {
    "duration": 1034,
    "start_time": "2024-11-23T18:25:25.509Z"
   },
   {
    "duration": 145,
    "start_time": "2024-11-23T18:25:26.545Z"
   },
   {
    "duration": 11,
    "start_time": "2024-11-23T18:25:26.692Z"
   },
   {
    "duration": 10,
    "start_time": "2024-11-23T18:25:26.705Z"
   },
   {
    "duration": 8,
    "start_time": "2024-11-23T18:25:26.716Z"
   },
   {
    "duration": 10,
    "start_time": "2024-11-23T18:25:26.725Z"
   },
   {
    "duration": 6,
    "start_time": "2024-11-23T18:25:26.736Z"
   },
   {
    "duration": 17,
    "start_time": "2024-11-23T18:25:26.744Z"
   },
   {
    "duration": 8,
    "start_time": "2024-11-23T18:25:26.763Z"
   },
   {
    "duration": 36,
    "start_time": "2024-11-23T18:25:26.775Z"
   },
   {
    "duration": 10,
    "start_time": "2024-11-23T18:25:26.812Z"
   },
   {
    "duration": 9,
    "start_time": "2024-11-23T18:25:26.823Z"
   },
   {
    "duration": 15,
    "start_time": "2024-11-23T18:25:26.833Z"
   },
   {
    "duration": 29,
    "start_time": "2024-11-23T18:25:26.849Z"
   },
   {
    "duration": 9,
    "start_time": "2024-11-23T18:25:26.879Z"
   },
   {
    "duration": 25,
    "start_time": "2024-11-23T18:25:26.890Z"
   },
   {
    "duration": 173,
    "start_time": "2024-11-23T18:25:26.916Z"
   },
   {
    "duration": 5,
    "start_time": "2024-11-23T18:25:27.090Z"
   },
   {
    "duration": 142,
    "start_time": "2024-11-23T18:25:27.096Z"
   },
   {
    "duration": 9,
    "start_time": "2024-11-23T18:25:27.240Z"
   },
   {
    "duration": 206,
    "start_time": "2024-11-23T18:25:27.250Z"
   },
   {
    "duration": 206,
    "start_time": "2024-11-23T18:25:27.457Z"
   },
   {
    "duration": 9,
    "start_time": "2024-11-23T18:25:27.665Z"
   },
   {
    "duration": 196,
    "start_time": "2024-11-23T18:25:27.675Z"
   },
   {
    "duration": 211,
    "start_time": "2024-11-23T18:25:27.873Z"
   },
   {
    "duration": 181,
    "start_time": "2024-11-23T18:25:28.085Z"
   },
   {
    "duration": 179,
    "start_time": "2024-11-23T18:25:28.268Z"
   },
   {
    "duration": 202,
    "start_time": "2024-11-23T18:25:28.451Z"
   },
   {
    "duration": 227,
    "start_time": "2024-11-23T18:25:28.654Z"
   },
   {
    "duration": 180,
    "start_time": "2024-11-23T18:25:28.883Z"
   },
   {
    "duration": 134,
    "start_time": "2024-11-23T18:25:29.064Z"
   },
   {
    "duration": 23,
    "start_time": "2024-11-23T18:25:29.199Z"
   },
   {
    "duration": 17,
    "start_time": "2024-11-23T18:25:29.223Z"
   },
   {
    "duration": 9,
    "start_time": "2024-11-23T18:25:29.241Z"
   },
   {
    "duration": 29,
    "start_time": "2024-11-23T18:25:29.251Z"
   },
   {
    "duration": 33,
    "start_time": "2024-11-23T18:25:29.281Z"
   },
   {
    "duration": 19,
    "start_time": "2024-11-23T18:25:29.315Z"
   },
   {
    "duration": 40,
    "start_time": "2024-11-23T18:25:29.335Z"
   },
   {
    "duration": 398,
    "start_time": "2024-11-23T18:25:29.376Z"
   },
   {
    "duration": 21,
    "start_time": "2024-11-23T18:25:29.775Z"
   },
   {
    "duration": 5,
    "start_time": "2024-11-23T18:25:29.807Z"
   },
   {
    "duration": 32,
    "start_time": "2024-11-23T18:25:29.813Z"
   },
   {
    "duration": 6,
    "start_time": "2024-11-23T18:25:29.846Z"
   },
   {
    "duration": 198,
    "start_time": "2024-11-23T18:25:29.853Z"
   },
   {
    "duration": 4,
    "start_time": "2024-11-23T18:25:30.052Z"
   },
   {
    "duration": 61,
    "start_time": "2024-11-23T18:25:30.057Z"
   },
   {
    "duration": 39,
    "start_time": "2024-11-23T18:25:30.119Z"
   },
   {
    "duration": 35,
    "start_time": "2024-11-23T18:25:30.159Z"
   },
   {
    "duration": 35,
    "start_time": "2024-11-23T18:25:30.195Z"
   },
   {
    "duration": 36,
    "start_time": "2024-11-23T18:25:30.231Z"
   },
   {
    "duration": 44,
    "start_time": "2024-11-23T18:25:30.269Z"
   },
   {
    "duration": 13,
    "start_time": "2024-11-23T18:25:30.315Z"
   },
   {
    "duration": 11,
    "start_time": "2024-11-23T18:25:30.330Z"
   },
   {
    "duration": 92,
    "start_time": "2024-11-23T18:25:30.343Z"
   },
   {
    "duration": 116,
    "start_time": "2024-11-23T18:25:30.437Z"
   },
   {
    "duration": 118,
    "start_time": "2024-11-23T18:25:30.554Z"
   },
   {
    "duration": 5,
    "start_time": "2024-11-23T18:25:30.673Z"
   },
   {
    "duration": 1097,
    "start_time": "2024-11-23T23:58:18.590Z"
   },
   {
    "duration": 163,
    "start_time": "2024-11-23T23:58:19.689Z"
   },
   {
    "duration": 12,
    "start_time": "2024-11-23T23:58:19.853Z"
   },
   {
    "duration": 11,
    "start_time": "2024-11-23T23:58:19.867Z"
   },
   {
    "duration": 20,
    "start_time": "2024-11-23T23:58:19.880Z"
   },
   {
    "duration": 19,
    "start_time": "2024-11-23T23:58:19.901Z"
   },
   {
    "duration": 7,
    "start_time": "2024-11-23T23:58:19.922Z"
   },
   {
    "duration": 62,
    "start_time": "2024-11-23T23:58:19.930Z"
   },
   {
    "duration": 28,
    "start_time": "2024-11-23T23:58:19.994Z"
   },
   {
    "duration": 12,
    "start_time": "2024-11-23T23:58:20.023Z"
   },
   {
    "duration": 12,
    "start_time": "2024-11-23T23:58:20.036Z"
   },
   {
    "duration": 11,
    "start_time": "2024-11-23T23:58:20.050Z"
   },
   {
    "duration": 14,
    "start_time": "2024-11-23T23:58:20.063Z"
   },
   {
    "duration": 14,
    "start_time": "2024-11-23T23:58:20.080Z"
   },
   {
    "duration": 9,
    "start_time": "2024-11-23T23:58:20.096Z"
   },
   {
    "duration": 13,
    "start_time": "2024-11-23T23:58:20.106Z"
   },
   {
    "duration": 208,
    "start_time": "2024-11-23T23:58:20.121Z"
   },
   {
    "duration": 5,
    "start_time": "2024-11-23T23:58:20.330Z"
   },
   {
    "duration": 116,
    "start_time": "2024-11-23T23:58:20.336Z"
   },
   {
    "duration": 11,
    "start_time": "2024-11-23T23:58:20.453Z"
   },
   {
    "duration": 227,
    "start_time": "2024-11-23T23:58:20.465Z"
   },
   {
    "duration": 249,
    "start_time": "2024-11-23T23:58:20.694Z"
   },
   {
    "duration": 9,
    "start_time": "2024-11-23T23:58:20.951Z"
   },
   {
    "duration": 213,
    "start_time": "2024-11-23T23:58:20.962Z"
   },
   {
    "duration": 233,
    "start_time": "2024-11-23T23:58:21.177Z"
   },
   {
    "duration": 206,
    "start_time": "2024-11-23T23:58:21.412Z"
   },
   {
    "duration": 216,
    "start_time": "2024-11-23T23:58:21.620Z"
   },
   {
    "duration": 231,
    "start_time": "2024-11-23T23:58:21.838Z"
   },
   {
    "duration": 276,
    "start_time": "2024-11-23T23:58:22.071Z"
   },
   {
    "duration": 201,
    "start_time": "2024-11-23T23:58:22.351Z"
   },
   {
    "duration": 153,
    "start_time": "2024-11-23T23:58:22.553Z"
   },
   {
    "duration": 18,
    "start_time": "2024-11-23T23:58:22.708Z"
   },
   {
    "duration": 35,
    "start_time": "2024-11-23T23:58:22.727Z"
   },
   {
    "duration": 10,
    "start_time": "2024-11-23T23:58:22.763Z"
   },
   {
    "duration": 20,
    "start_time": "2024-11-23T23:58:22.775Z"
   },
   {
    "duration": 12,
    "start_time": "2024-11-23T23:58:22.797Z"
   },
   {
    "duration": 5,
    "start_time": "2024-11-23T23:58:22.811Z"
   },
   {
    "duration": 40,
    "start_time": "2024-11-23T23:58:22.818Z"
   },
   {
    "duration": 447,
    "start_time": "2024-11-23T23:58:22.859Z"
   },
   {
    "duration": 22,
    "start_time": "2024-11-23T23:58:23.308Z"
   },
   {
    "duration": 20,
    "start_time": "2024-11-23T23:58:23.334Z"
   },
   {
    "duration": 38,
    "start_time": "2024-11-23T23:58:23.356Z"
   },
   {
    "duration": 6,
    "start_time": "2024-11-23T23:58:23.396Z"
   },
   {
    "duration": 220,
    "start_time": "2024-11-23T23:58:23.403Z"
   },
   {
    "duration": 4,
    "start_time": "2024-11-23T23:58:23.625Z"
   },
   {
    "duration": 21,
    "start_time": "2024-11-23T23:58:23.631Z"
   },
   {
    "duration": 5,
    "start_time": "2024-11-23T23:58:23.654Z"
   },
   {
    "duration": 19,
    "start_time": "2024-11-23T23:58:23.660Z"
   },
   {
    "duration": 10,
    "start_time": "2024-11-23T23:58:23.680Z"
   },
   {
    "duration": 7,
    "start_time": "2024-11-23T23:58:23.692Z"
   },
   {
    "duration": 8,
    "start_time": "2024-11-23T23:58:23.700Z"
   },
   {
    "duration": 4,
    "start_time": "2024-11-23T23:58:23.710Z"
   },
   {
    "duration": 3,
    "start_time": "2024-11-23T23:58:23.715Z"
   },
   {
    "duration": 77,
    "start_time": "2024-11-23T23:58:23.720Z"
   },
   {
    "duration": 172,
    "start_time": "2024-11-23T23:58:23.798Z"
   },
   {
    "duration": 154,
    "start_time": "2024-11-23T23:58:23.973Z"
   },
   {
    "duration": 6,
    "start_time": "2024-11-23T23:58:24.128Z"
   },
   {
    "duration": 1933,
    "start_time": "2025-01-16T17:08:51.000Z"
   },
   {
    "duration": 258,
    "start_time": "2025-01-16T17:08:52.937Z"
   },
   {
    "duration": 18,
    "start_time": "2025-01-16T17:08:53.197Z"
   },
   {
    "duration": 14,
    "start_time": "2025-01-16T17:08:53.218Z"
   },
   {
    "duration": 12,
    "start_time": "2025-01-16T17:08:53.234Z"
   },
   {
    "duration": 34,
    "start_time": "2025-01-16T17:08:53.248Z"
   },
   {
    "duration": 13,
    "start_time": "2025-01-16T17:08:53.284Z"
   },
   {
    "duration": 21,
    "start_time": "2025-01-16T17:08:53.299Z"
   },
   {
    "duration": 9,
    "start_time": "2025-01-16T17:08:53.322Z"
   },
   {
    "duration": 9,
    "start_time": "2025-01-16T17:08:53.334Z"
   },
   {
    "duration": 11,
    "start_time": "2025-01-16T17:08:53.345Z"
   },
   {
    "duration": 12,
    "start_time": "2025-01-16T17:08:53.358Z"
   },
   {
    "duration": 10,
    "start_time": "2025-01-16T17:08:53.372Z"
   },
   {
    "duration": 23,
    "start_time": "2025-01-16T17:08:53.383Z"
   },
   {
    "duration": 38,
    "start_time": "2025-01-16T17:08:53.407Z"
   },
   {
    "duration": 14,
    "start_time": "2025-01-16T17:08:53.447Z"
   },
   {
    "duration": 311,
    "start_time": "2025-01-16T17:08:53.463Z"
   },
   {
    "duration": 4,
    "start_time": "2025-01-16T17:08:53.776Z"
   },
   {
    "duration": 159,
    "start_time": "2025-01-16T17:08:53.782Z"
   },
   {
    "duration": 14,
    "start_time": "2025-01-16T17:08:53.943Z"
   },
   {
    "duration": 381,
    "start_time": "2025-01-16T17:08:53.959Z"
   },
   {
    "duration": 298,
    "start_time": "2025-01-16T17:08:54.342Z"
   },
   {
    "duration": 10,
    "start_time": "2025-01-16T17:08:54.641Z"
   },
   {
    "duration": 375,
    "start_time": "2025-01-16T17:08:54.652Z"
   },
   {
    "duration": 278,
    "start_time": "2025-01-16T17:08:55.036Z"
   },
   {
    "duration": 274,
    "start_time": "2025-01-16T17:08:55.316Z"
   },
   {
    "duration": 316,
    "start_time": "2025-01-16T17:08:55.592Z"
   },
   {
    "duration": 299,
    "start_time": "2025-01-16T17:08:55.912Z"
   },
   {
    "duration": 296,
    "start_time": "2025-01-16T17:08:56.213Z"
   },
   {
    "duration": 301,
    "start_time": "2025-01-16T17:08:56.511Z"
   },
   {
    "duration": 261,
    "start_time": "2025-01-16T17:08:56.814Z"
   },
   {
    "duration": 16,
    "start_time": "2025-01-16T17:08:57.077Z"
   },
   {
    "duration": 43,
    "start_time": "2025-01-16T17:08:57.095Z"
   },
   {
    "duration": 11,
    "start_time": "2025-01-16T17:08:57.140Z"
   },
   {
    "duration": 19,
    "start_time": "2025-01-16T17:08:57.153Z"
   },
   {
    "duration": 11,
    "start_time": "2025-01-16T17:08:57.174Z"
   },
   {
    "duration": 8,
    "start_time": "2025-01-16T17:08:57.187Z"
   },
   {
    "duration": 44,
    "start_time": "2025-01-16T17:08:57.196Z"
   },
   {
    "duration": 530,
    "start_time": "2025-01-16T17:08:57.242Z"
   },
   {
    "duration": 17,
    "start_time": "2025-01-16T17:08:57.774Z"
   },
   {
    "duration": 8,
    "start_time": "2025-01-16T17:08:57.793Z"
   },
   {
    "duration": 44,
    "start_time": "2025-01-16T17:08:57.803Z"
   },
   {
    "duration": 14,
    "start_time": "2025-01-16T17:08:57.849Z"
   },
   {
    "duration": 282,
    "start_time": "2025-01-16T17:08:57.865Z"
   },
   {
    "duration": 5,
    "start_time": "2025-01-16T17:08:58.148Z"
   },
   {
    "duration": 23,
    "start_time": "2025-01-16T17:08:58.154Z"
   },
   {
    "duration": 11,
    "start_time": "2025-01-16T17:08:58.178Z"
   },
   {
    "duration": 6,
    "start_time": "2025-01-16T17:08:58.191Z"
   },
   {
    "duration": 28,
    "start_time": "2025-01-16T17:08:58.199Z"
   },
   {
    "duration": 27,
    "start_time": "2025-01-16T17:08:58.236Z"
   },
   {
    "duration": 13,
    "start_time": "2025-01-16T17:08:58.265Z"
   },
   {
    "duration": 4,
    "start_time": "2025-01-16T17:08:58.281Z"
   },
   {
    "duration": 3,
    "start_time": "2025-01-16T17:08:58.287Z"
   },
   {
    "duration": 57,
    "start_time": "2025-01-16T17:08:58.291Z"
   },
   {
    "duration": 230,
    "start_time": "2025-01-16T17:08:58.350Z"
   },
   {
    "duration": 121,
    "start_time": "2025-01-16T17:08:58.581Z"
   },
   {
    "duration": 6,
    "start_time": "2025-01-16T17:08:58.703Z"
   }
  ],
  "kernelspec": {
   "display_name": "Python 3 (ipykernel)",
   "language": "python",
   "name": "python3"
  },
  "language_info": {
   "codemirror_mode": {
    "name": "ipython",
    "version": 3
   },
   "file_extension": ".py",
   "mimetype": "text/x-python",
   "name": "python",
   "nbconvert_exporter": "python",
   "pygments_lexer": "ipython3",
   "version": "3.9.5"
  },
  "toc": {
   "base_numbering": 1,
   "nav_menu": {},
   "number_sections": true,
   "sideBar": true,
   "skip_h1_title": true,
   "title_cell": "Table of Contents",
   "title_sidebar": "Contents",
   "toc_cell": false,
   "toc_position": {
    "height": "calc(100% - 180px)",
    "left": "10px",
    "top": "150px",
    "width": "209.943px"
   },
   "toc_section_display": true,
   "toc_window_display": true
  }
 },
 "nbformat": 4,
 "nbformat_minor": 5
}
