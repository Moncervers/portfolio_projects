{
 "cells": [
  {
   "cell_type": "markdown",
   "id": "1a98af90",
   "metadata": {
    "deletable": false,
    "editable": false,
    "id": "c81daeeb"
   },
   "source": [
    "# Исследование надежности заемщиков\n"
   ]
  },
  {
   "cell_type": "markdown",
   "id": "2472b4c8",
   "metadata": {
    "deletable": false,
    "editable": false,
    "id": "e7a14c31"
   },
   "source": "Импортируем библиотеку pandas. Считаем данные из csv-файла в датафрейм и сохраните в переменную `data`**"
  },
  {
   "cell_type": "code",
   "id": "c8dc0ce3",
   "metadata": {
    "deletable": false,
    "id": "7bcf75c9",
    "ExecuteTime": {
     "end_time": "2025-01-24T15:27:04.099692Z",
     "start_time": "2025-01-24T15:27:04.070034Z"
    }
   },
   "source": [
    "import pandas as pd\n",
    "\n",
    "data = pd.read_csv('data')"
   ],
   "outputs": [],
   "execution_count": 42
  },
  {
   "cell_type": "markdown",
   "id": "46d92bcb",
   "metadata": {
    "deletable": false,
    "editable": false,
    "id": "b8038fe3"
   },
   "source": "**Выведем первые 20 строчек датафрейма `data` на экран.**"
  },
  {
   "cell_type": "code",
   "id": "431118f4",
   "metadata": {
    "deletable": false,
    "id": "2a7cab99",
    "outputId": "1a8f3ef2-d323-4ec2-ddf7-89670b5944c4",
    "scrolled": true,
    "ExecuteTime": {
     "end_time": "2025-01-24T15:27:04.111432Z",
     "start_time": "2025-01-24T15:27:04.105366Z"
    }
   },
   "source": [
    "data.head(20)"
   ],
   "outputs": [
    {
     "data": {
      "text/plain": [
       "    children  days_employed  dob_years            education  education_id  \\\n",
       "0          1   -8437.673028         42               высшее             0   \n",
       "1          1   -4024.803754         36              среднее             1   \n",
       "2          0   -5623.422610         33              Среднее             1   \n",
       "3          3   -4124.747207         32              среднее             1   \n",
       "4          0  340266.072047         53              среднее             1   \n",
       "5          0    -926.185831         27               высшее             0   \n",
       "6          0   -2879.202052         43               высшее             0   \n",
       "7          0    -152.779569         50              СРЕДНЕЕ             1   \n",
       "8          2   -6929.865299         35               ВЫСШЕЕ             0   \n",
       "9          0   -2188.756445         41              среднее             1   \n",
       "10         2   -4171.483647         36               высшее             0   \n",
       "11         0    -792.701887         40              среднее             1   \n",
       "12         0            NaN         65              среднее             1   \n",
       "13         0   -1846.641941         54  неоконченное высшее             2   \n",
       "14         0   -1844.956182         56               высшее             0   \n",
       "15         1    -972.364419         26              среднее             1   \n",
       "16         0   -1719.934226         35              среднее             1   \n",
       "17         0   -2369.999720         33               высшее             0   \n",
       "18         0  400281.136913         53              среднее             1   \n",
       "19         0  -10038.818549         48              СРЕДНЕЕ             1   \n",
       "\n",
       "       family_status  family_status_id gender income_type  debt  \\\n",
       "0    женат / замужем                 0      F   сотрудник     0   \n",
       "1    женат / замужем                 0      F   сотрудник     0   \n",
       "2    женат / замужем                 0      M   сотрудник     0   \n",
       "3    женат / замужем                 0      M   сотрудник     0   \n",
       "4   гражданский брак                 1      F   пенсионер     0   \n",
       "5   гражданский брак                 1      M   компаньон     0   \n",
       "6    женат / замужем                 0      F   компаньон     0   \n",
       "7    женат / замужем                 0      M   сотрудник     0   \n",
       "8   гражданский брак                 1      F   сотрудник     0   \n",
       "9    женат / замужем                 0      M   сотрудник     0   \n",
       "10   женат / замужем                 0      M   компаньон     0   \n",
       "11   женат / замужем                 0      F   сотрудник     0   \n",
       "12  гражданский брак                 1      M   пенсионер     0   \n",
       "13   женат / замужем                 0      F   сотрудник     0   \n",
       "14  гражданский брак                 1      F   компаньон     1   \n",
       "15   женат / замужем                 0      F   сотрудник     0   \n",
       "16   женат / замужем                 0      F   сотрудник     0   \n",
       "17  гражданский брак                 1      M   сотрудник     0   \n",
       "18    вдовец / вдова                 2      F   пенсионер     0   \n",
       "19         в разводе                 3      F   сотрудник     0   \n",
       "\n",
       "     total_income                                 purpose  \n",
       "0   253875.639453                           покупка жилья  \n",
       "1   112080.014102                 приобретение автомобиля  \n",
       "2   145885.952297                           покупка жилья  \n",
       "3   267628.550329              дополнительное образование  \n",
       "4   158616.077870                         сыграть свадьбу  \n",
       "5   255763.565419                           покупка жилья  \n",
       "6   240525.971920                       операции с жильем  \n",
       "7   135823.934197                             образование  \n",
       "8    95856.832424                   на проведение свадьбы  \n",
       "9   144425.938277                 покупка жилья для семьи  \n",
       "10  113943.491460                    покупка недвижимости  \n",
       "11   77069.234271       покупка коммерческой недвижимости  \n",
       "12            NaN                         сыграть свадьбу  \n",
       "13  130458.228857                 приобретение автомобиля  \n",
       "14  165127.911772              покупка жилой недвижимости  \n",
       "15  116820.904450  строительство собственной недвижимости  \n",
       "16  289202.704229                            недвижимость  \n",
       "17   90410.586745              строительство недвижимости  \n",
       "18   56823.777243      на покупку подержанного автомобиля  \n",
       "19  242831.107982            на покупку своего автомобиля  "
      ],
      "text/html": [
       "<div>\n",
       "<style scoped>\n",
       "    .dataframe tbody tr th:only-of-type {\n",
       "        vertical-align: middle;\n",
       "    }\n",
       "\n",
       "    .dataframe tbody tr th {\n",
       "        vertical-align: top;\n",
       "    }\n",
       "\n",
       "    .dataframe thead th {\n",
       "        text-align: right;\n",
       "    }\n",
       "</style>\n",
       "<table border=\"1\" class=\"dataframe\">\n",
       "  <thead>\n",
       "    <tr style=\"text-align: right;\">\n",
       "      <th></th>\n",
       "      <th>children</th>\n",
       "      <th>days_employed</th>\n",
       "      <th>dob_years</th>\n",
       "      <th>education</th>\n",
       "      <th>education_id</th>\n",
       "      <th>family_status</th>\n",
       "      <th>family_status_id</th>\n",
       "      <th>gender</th>\n",
       "      <th>income_type</th>\n",
       "      <th>debt</th>\n",
       "      <th>total_income</th>\n",
       "      <th>purpose</th>\n",
       "    </tr>\n",
       "  </thead>\n",
       "  <tbody>\n",
       "    <tr>\n",
       "      <th>0</th>\n",
       "      <td>1</td>\n",
       "      <td>-8437.673028</td>\n",
       "      <td>42</td>\n",
       "      <td>высшее</td>\n",
       "      <td>0</td>\n",
       "      <td>женат / замужем</td>\n",
       "      <td>0</td>\n",
       "      <td>F</td>\n",
       "      <td>сотрудник</td>\n",
       "      <td>0</td>\n",
       "      <td>253875.639453</td>\n",
       "      <td>покупка жилья</td>\n",
       "    </tr>\n",
       "    <tr>\n",
       "      <th>1</th>\n",
       "      <td>1</td>\n",
       "      <td>-4024.803754</td>\n",
       "      <td>36</td>\n",
       "      <td>среднее</td>\n",
       "      <td>1</td>\n",
       "      <td>женат / замужем</td>\n",
       "      <td>0</td>\n",
       "      <td>F</td>\n",
       "      <td>сотрудник</td>\n",
       "      <td>0</td>\n",
       "      <td>112080.014102</td>\n",
       "      <td>приобретение автомобиля</td>\n",
       "    </tr>\n",
       "    <tr>\n",
       "      <th>2</th>\n",
       "      <td>0</td>\n",
       "      <td>-5623.422610</td>\n",
       "      <td>33</td>\n",
       "      <td>Среднее</td>\n",
       "      <td>1</td>\n",
       "      <td>женат / замужем</td>\n",
       "      <td>0</td>\n",
       "      <td>M</td>\n",
       "      <td>сотрудник</td>\n",
       "      <td>0</td>\n",
       "      <td>145885.952297</td>\n",
       "      <td>покупка жилья</td>\n",
       "    </tr>\n",
       "    <tr>\n",
       "      <th>3</th>\n",
       "      <td>3</td>\n",
       "      <td>-4124.747207</td>\n",
       "      <td>32</td>\n",
       "      <td>среднее</td>\n",
       "      <td>1</td>\n",
       "      <td>женат / замужем</td>\n",
       "      <td>0</td>\n",
       "      <td>M</td>\n",
       "      <td>сотрудник</td>\n",
       "      <td>0</td>\n",
       "      <td>267628.550329</td>\n",
       "      <td>дополнительное образование</td>\n",
       "    </tr>\n",
       "    <tr>\n",
       "      <th>4</th>\n",
       "      <td>0</td>\n",
       "      <td>340266.072047</td>\n",
       "      <td>53</td>\n",
       "      <td>среднее</td>\n",
       "      <td>1</td>\n",
       "      <td>гражданский брак</td>\n",
       "      <td>1</td>\n",
       "      <td>F</td>\n",
       "      <td>пенсионер</td>\n",
       "      <td>0</td>\n",
       "      <td>158616.077870</td>\n",
       "      <td>сыграть свадьбу</td>\n",
       "    </tr>\n",
       "    <tr>\n",
       "      <th>5</th>\n",
       "      <td>0</td>\n",
       "      <td>-926.185831</td>\n",
       "      <td>27</td>\n",
       "      <td>высшее</td>\n",
       "      <td>0</td>\n",
       "      <td>гражданский брак</td>\n",
       "      <td>1</td>\n",
       "      <td>M</td>\n",
       "      <td>компаньон</td>\n",
       "      <td>0</td>\n",
       "      <td>255763.565419</td>\n",
       "      <td>покупка жилья</td>\n",
       "    </tr>\n",
       "    <tr>\n",
       "      <th>6</th>\n",
       "      <td>0</td>\n",
       "      <td>-2879.202052</td>\n",
       "      <td>43</td>\n",
       "      <td>высшее</td>\n",
       "      <td>0</td>\n",
       "      <td>женат / замужем</td>\n",
       "      <td>0</td>\n",
       "      <td>F</td>\n",
       "      <td>компаньон</td>\n",
       "      <td>0</td>\n",
       "      <td>240525.971920</td>\n",
       "      <td>операции с жильем</td>\n",
       "    </tr>\n",
       "    <tr>\n",
       "      <th>7</th>\n",
       "      <td>0</td>\n",
       "      <td>-152.779569</td>\n",
       "      <td>50</td>\n",
       "      <td>СРЕДНЕЕ</td>\n",
       "      <td>1</td>\n",
       "      <td>женат / замужем</td>\n",
       "      <td>0</td>\n",
       "      <td>M</td>\n",
       "      <td>сотрудник</td>\n",
       "      <td>0</td>\n",
       "      <td>135823.934197</td>\n",
       "      <td>образование</td>\n",
       "    </tr>\n",
       "    <tr>\n",
       "      <th>8</th>\n",
       "      <td>2</td>\n",
       "      <td>-6929.865299</td>\n",
       "      <td>35</td>\n",
       "      <td>ВЫСШЕЕ</td>\n",
       "      <td>0</td>\n",
       "      <td>гражданский брак</td>\n",
       "      <td>1</td>\n",
       "      <td>F</td>\n",
       "      <td>сотрудник</td>\n",
       "      <td>0</td>\n",
       "      <td>95856.832424</td>\n",
       "      <td>на проведение свадьбы</td>\n",
       "    </tr>\n",
       "    <tr>\n",
       "      <th>9</th>\n",
       "      <td>0</td>\n",
       "      <td>-2188.756445</td>\n",
       "      <td>41</td>\n",
       "      <td>среднее</td>\n",
       "      <td>1</td>\n",
       "      <td>женат / замужем</td>\n",
       "      <td>0</td>\n",
       "      <td>M</td>\n",
       "      <td>сотрудник</td>\n",
       "      <td>0</td>\n",
       "      <td>144425.938277</td>\n",
       "      <td>покупка жилья для семьи</td>\n",
       "    </tr>\n",
       "    <tr>\n",
       "      <th>10</th>\n",
       "      <td>2</td>\n",
       "      <td>-4171.483647</td>\n",
       "      <td>36</td>\n",
       "      <td>высшее</td>\n",
       "      <td>0</td>\n",
       "      <td>женат / замужем</td>\n",
       "      <td>0</td>\n",
       "      <td>M</td>\n",
       "      <td>компаньон</td>\n",
       "      <td>0</td>\n",
       "      <td>113943.491460</td>\n",
       "      <td>покупка недвижимости</td>\n",
       "    </tr>\n",
       "    <tr>\n",
       "      <th>11</th>\n",
       "      <td>0</td>\n",
       "      <td>-792.701887</td>\n",
       "      <td>40</td>\n",
       "      <td>среднее</td>\n",
       "      <td>1</td>\n",
       "      <td>женат / замужем</td>\n",
       "      <td>0</td>\n",
       "      <td>F</td>\n",
       "      <td>сотрудник</td>\n",
       "      <td>0</td>\n",
       "      <td>77069.234271</td>\n",
       "      <td>покупка коммерческой недвижимости</td>\n",
       "    </tr>\n",
       "    <tr>\n",
       "      <th>12</th>\n",
       "      <td>0</td>\n",
       "      <td>NaN</td>\n",
       "      <td>65</td>\n",
       "      <td>среднее</td>\n",
       "      <td>1</td>\n",
       "      <td>гражданский брак</td>\n",
       "      <td>1</td>\n",
       "      <td>M</td>\n",
       "      <td>пенсионер</td>\n",
       "      <td>0</td>\n",
       "      <td>NaN</td>\n",
       "      <td>сыграть свадьбу</td>\n",
       "    </tr>\n",
       "    <tr>\n",
       "      <th>13</th>\n",
       "      <td>0</td>\n",
       "      <td>-1846.641941</td>\n",
       "      <td>54</td>\n",
       "      <td>неоконченное высшее</td>\n",
       "      <td>2</td>\n",
       "      <td>женат / замужем</td>\n",
       "      <td>0</td>\n",
       "      <td>F</td>\n",
       "      <td>сотрудник</td>\n",
       "      <td>0</td>\n",
       "      <td>130458.228857</td>\n",
       "      <td>приобретение автомобиля</td>\n",
       "    </tr>\n",
       "    <tr>\n",
       "      <th>14</th>\n",
       "      <td>0</td>\n",
       "      <td>-1844.956182</td>\n",
       "      <td>56</td>\n",
       "      <td>высшее</td>\n",
       "      <td>0</td>\n",
       "      <td>гражданский брак</td>\n",
       "      <td>1</td>\n",
       "      <td>F</td>\n",
       "      <td>компаньон</td>\n",
       "      <td>1</td>\n",
       "      <td>165127.911772</td>\n",
       "      <td>покупка жилой недвижимости</td>\n",
       "    </tr>\n",
       "    <tr>\n",
       "      <th>15</th>\n",
       "      <td>1</td>\n",
       "      <td>-972.364419</td>\n",
       "      <td>26</td>\n",
       "      <td>среднее</td>\n",
       "      <td>1</td>\n",
       "      <td>женат / замужем</td>\n",
       "      <td>0</td>\n",
       "      <td>F</td>\n",
       "      <td>сотрудник</td>\n",
       "      <td>0</td>\n",
       "      <td>116820.904450</td>\n",
       "      <td>строительство собственной недвижимости</td>\n",
       "    </tr>\n",
       "    <tr>\n",
       "      <th>16</th>\n",
       "      <td>0</td>\n",
       "      <td>-1719.934226</td>\n",
       "      <td>35</td>\n",
       "      <td>среднее</td>\n",
       "      <td>1</td>\n",
       "      <td>женат / замужем</td>\n",
       "      <td>0</td>\n",
       "      <td>F</td>\n",
       "      <td>сотрудник</td>\n",
       "      <td>0</td>\n",
       "      <td>289202.704229</td>\n",
       "      <td>недвижимость</td>\n",
       "    </tr>\n",
       "    <tr>\n",
       "      <th>17</th>\n",
       "      <td>0</td>\n",
       "      <td>-2369.999720</td>\n",
       "      <td>33</td>\n",
       "      <td>высшее</td>\n",
       "      <td>0</td>\n",
       "      <td>гражданский брак</td>\n",
       "      <td>1</td>\n",
       "      <td>M</td>\n",
       "      <td>сотрудник</td>\n",
       "      <td>0</td>\n",
       "      <td>90410.586745</td>\n",
       "      <td>строительство недвижимости</td>\n",
       "    </tr>\n",
       "    <tr>\n",
       "      <th>18</th>\n",
       "      <td>0</td>\n",
       "      <td>400281.136913</td>\n",
       "      <td>53</td>\n",
       "      <td>среднее</td>\n",
       "      <td>1</td>\n",
       "      <td>вдовец / вдова</td>\n",
       "      <td>2</td>\n",
       "      <td>F</td>\n",
       "      <td>пенсионер</td>\n",
       "      <td>0</td>\n",
       "      <td>56823.777243</td>\n",
       "      <td>на покупку подержанного автомобиля</td>\n",
       "    </tr>\n",
       "    <tr>\n",
       "      <th>19</th>\n",
       "      <td>0</td>\n",
       "      <td>-10038.818549</td>\n",
       "      <td>48</td>\n",
       "      <td>СРЕДНЕЕ</td>\n",
       "      <td>1</td>\n",
       "      <td>в разводе</td>\n",
       "      <td>3</td>\n",
       "      <td>F</td>\n",
       "      <td>сотрудник</td>\n",
       "      <td>0</td>\n",
       "      <td>242831.107982</td>\n",
       "      <td>на покупку своего автомобиля</td>\n",
       "    </tr>\n",
       "  </tbody>\n",
       "</table>\n",
       "</div>"
      ]
     },
     "execution_count": 43,
     "metadata": {},
     "output_type": "execute_result"
    }
   ],
   "execution_count": 43
  },
  {
   "cell_type": "markdown",
   "id": "7c3e370d",
   "metadata": {
    "deletable": false,
    "editable": false,
    "id": "1c12e233"
   },
   "source": "**Выведем основную информацию о датафрейме с помощью метода `info()`.**"
  },
  {
   "cell_type": "code",
   "id": "751818ed",
   "metadata": {
    "deletable": false,
    "id": "2b757bca",
    "outputId": "15376089-8dad-46c9-b520-c05248d43158",
    "ExecuteTime": {
     "end_time": "2025-01-24T15:27:04.136534Z",
     "start_time": "2025-01-24T15:27:04.131426Z"
    }
   },
   "source": [
    "data.info()"
   ],
   "outputs": [
    {
     "name": "stdout",
     "output_type": "stream",
     "text": [
      "<class 'pandas.core.frame.DataFrame'>\n",
      "RangeIndex: 21525 entries, 0 to 21524\n",
      "Data columns (total 12 columns):\n",
      " #   Column            Non-Null Count  Dtype  \n",
      "---  ------            --------------  -----  \n",
      " 0   children          21525 non-null  int64  \n",
      " 1   days_employed     19351 non-null  float64\n",
      " 2   dob_years         21525 non-null  int64  \n",
      " 3   education         21525 non-null  object \n",
      " 4   education_id      21525 non-null  int64  \n",
      " 5   family_status     21525 non-null  object \n",
      " 6   family_status_id  21525 non-null  int64  \n",
      " 7   gender            21525 non-null  object \n",
      " 8   income_type       21525 non-null  object \n",
      " 9   debt              21525 non-null  int64  \n",
      " 10  total_income      19351 non-null  float64\n",
      " 11  purpose           21525 non-null  object \n",
      "dtypes: float64(2), int64(5), object(5)\n",
      "memory usage: 2.0+ MB\n"
     ]
    }
   ],
   "execution_count": 44
  },
  {
   "cell_type": "markdown",
   "id": "c8735d00",
   "metadata": {
    "deletable": false,
    "editable": false,
    "id": "333ec665"
   },
   "source": [
    "## Предобработка данных"
   ]
  },
  {
   "cell_type": "markdown",
   "id": "975113b2",
   "metadata": {
    "deletable": false,
    "editable": false,
    "id": "02d92d53"
   },
   "source": [
    "### Удаление пропусков"
   ]
  },
  {
   "cell_type": "markdown",
   "id": "ae4d8801",
   "metadata": {
    "deletable": false,
    "editable": false,
    "id": "cd84967c"
   },
   "source": "**Выведем количество пропущенных значений для каждого столбца.**"
  },
  {
   "cell_type": "code",
   "id": "cfaca9fc",
   "metadata": {
    "deletable": false,
    "id": "7f9b2309",
    "outputId": "81f4d817-781c-465c-ed15-91ce4446810d",
    "scrolled": true,
    "ExecuteTime": {
     "end_time": "2025-01-24T15:27:04.155346Z",
     "start_time": "2025-01-24T15:27:04.151192Z"
    }
   },
   "source": [
    "data.isna().sum()"
   ],
   "outputs": [
    {
     "data": {
      "text/plain": [
       "children               0\n",
       "days_employed       2174\n",
       "dob_years              0\n",
       "education              0\n",
       "education_id           0\n",
       "family_status          0\n",
       "family_status_id       0\n",
       "gender                 0\n",
       "income_type            0\n",
       "debt                   0\n",
       "total_income        2174\n",
       "purpose                0\n",
       "dtype: int64"
      ]
     },
     "execution_count": 45,
     "metadata": {},
     "output_type": "execute_result"
    }
   ],
   "execution_count": 45
  },
  {
   "cell_type": "markdown",
   "id": "893ccf46",
   "metadata": {
    "deletable": false,
    "editable": false,
    "id": "db86e27b"
   },
   "source": "**В двух столбцах есть пропущенные значения. Один из них — `days_employed`.Другой столбец с пропущенными значениями — `total_income` — хранит данные о доходах. На сумму дохода сильнее всего влияет тип занятости, поэтому заполнить пропуски в этом столбце нужно медианным значением по каждому типу из столбца `income_type`. Например, у человека с типом занятости `сотрудник` пропуск в столбце `total_income` должен быть заполнен медианным доходом среди всех записей с тем же типом.**"
  },
  {
   "cell_type": "code",
   "id": "8162fe46",
   "metadata": {
    "deletable": false,
    "id": "42006a93",
    "ExecuteTime": {
     "end_time": "2025-01-24T15:27:04.198259Z",
     "start_time": "2025-01-24T15:27:04.185910Z"
    }
   },
   "source": [
    "for t in data['income_type'].unique():\n",
    "    data.loc[(data['income_type'] == t) & (data['total_income'].isna()), 'total_income'] = \\\n",
    "        data.loc[(data['income_type'] == t), 'total_income'].median()"
   ],
   "outputs": [],
   "execution_count": 46
  },
  {
   "cell_type": "markdown",
   "id": "ccf74638",
   "metadata": {
    "deletable": false,
    "editable": false,
    "id": "89da5ece"
   },
   "source": [
    "### Обработка аномальных значений"
   ]
  },
  {
   "cell_type": "markdown",
   "id": "cf93e0f8",
   "metadata": {
    "deletable": false,
    "editable": false,
    "id": "57964554"
   },
   "source": "**В данных могут встречаться артефакты (аномалии) — значения, которые не отражают действительность и появились по какой-то ошибке. Таким артефактом будет отрицательное количество дней трудового стажа в столбце `days_employed`. Для реальных данных это нормально. Обработаем значения в этом столбце: заменим все отрицательные значения положительными с помощью метода `abs()`.**"
  },
  {
   "cell_type": "code",
   "id": "2186cf49",
   "metadata": {
    "deletable": false,
    "id": "f6f055bf",
    "ExecuteTime": {
     "end_time": "2025-01-24T15:27:04.211733Z",
     "start_time": "2025-01-24T15:27:04.210240Z"
    }
   },
   "source": [
    "data['days_employed'] = data['days_employed'].abs()"
   ],
   "outputs": [],
   "execution_count": 47
  },
  {
   "cell_type": "markdown",
   "id": "625adbdb",
   "metadata": {
    "deletable": false,
    "editable": false,
    "id": "6107dd2f"
   },
   "source": "**Для каждого типа занятости выведем медианное значение трудового стажа `days_employed` в днях.**"
  },
  {
   "cell_type": "code",
   "id": "20440313",
   "metadata": {
    "deletable": false,
    "id": "85a5faf6",
    "outputId": "801ef80e-522b-4668-f34e-565af7432bcf",
    "ExecuteTime": {
     "end_time": "2025-01-24T15:27:04.237344Z",
     "start_time": "2025-01-24T15:27:04.233669Z"
    }
   },
   "source": [
    "data.groupby('income_type')['days_employed'].agg('median')"
   ],
   "outputs": [
    {
     "data": {
      "text/plain": [
       "income_type\n",
       "безработный        366413.652744\n",
       "в декрете            3296.759962\n",
       "госслужащий          2689.368353\n",
       "компаньон            1547.382223\n",
       "пенсионер          365213.306266\n",
       "предприниматель       520.848083\n",
       "сотрудник            1574.202821\n",
       "студент               578.751554\n",
       "Name: days_employed, dtype: float64"
      ]
     },
     "execution_count": 48,
     "metadata": {},
     "output_type": "execute_result"
    }
   ],
   "execution_count": 48
  },
  {
   "cell_type": "markdown",
   "id": "f54d059e",
   "metadata": {
    "deletable": false,
    "editable": false,
    "id": "38d1a030"
   },
   "source": [
    "У двух типов (безработные и пенсионеры) получатся аномально большие значения. Исправить такие значения сложно, поэтому оставьте их как есть. Тем более этот столбец не понадобится вам для исследования."
   ]
  },
  {
   "cell_type": "markdown",
   "id": "d76b1fea",
   "metadata": {
    "deletable": false,
    "editable": false,
    "id": "d8a9f147"
   },
   "source": "**Выведите перечень уникальных значений столбца `children`.**"
  },
  {
   "cell_type": "code",
   "id": "b5224cdc",
   "metadata": {
    "deletable": false,
    "id": "ef5056eb",
    "outputId": "6975b15c-7f95-4697-d16d-a0c79b657b03",
    "ExecuteTime": {
     "end_time": "2025-01-24T15:27:04.258693Z",
     "start_time": "2025-01-24T15:27:04.256537Z"
    }
   },
   "source": [
    "data['children'].unique()"
   ],
   "outputs": [
    {
     "data": {
      "text/plain": [
       "array([ 1,  0,  3,  2, -1,  4, 20,  5])"
      ]
     },
     "execution_count": 49,
     "metadata": {},
     "output_type": "execute_result"
    }
   ],
   "execution_count": 49
  },
  {
   "cell_type": "markdown",
   "id": "c3d55862",
   "metadata": {
    "deletable": false,
    "editable": false,
    "id": "40b9ebf2"
   },
   "source": "**В столбце `children` есть два аномальных значения. Удалим строки, в которых встречаются такие аномальные значения из датафрейма `data`.**"
  },
  {
   "cell_type": "code",
   "id": "5d68ccef",
   "metadata": {
    "deletable": false,
    "id": "3ff9801d",
    "ExecuteTime": {
     "end_time": "2025-01-24T15:27:04.277960Z",
     "start_time": "2025-01-24T15:27:04.275496Z"
    }
   },
   "source": [
    "data = data[(data['children'] != -1) & (data['children'] != 20)]"
   ],
   "outputs": [],
   "execution_count": 50
  },
  {
   "cell_type": "markdown",
   "id": "4479c900",
   "metadata": {
    "deletable": false,
    "editable": false,
    "id": "bbc4d0ce"
   },
   "source": "**Ещё раз выведем перечень уникальных значений столбца `children`, чтобы убедиться, что артефакты удалены.**"
  },
  {
   "cell_type": "code",
   "id": "1bf30cad",
   "metadata": {
    "deletable": false,
    "id": "ad4fa8b7",
    "outputId": "b2097101-d49d-44d9-901b-32a65c9463d1",
    "ExecuteTime": {
     "end_time": "2025-01-24T15:27:04.299058Z",
     "start_time": "2025-01-24T15:27:04.297041Z"
    }
   },
   "source": [
    "data['children'].unique()"
   ],
   "outputs": [
    {
     "data": {
      "text/plain": [
       "array([1, 0, 3, 2, 4, 5])"
      ]
     },
     "execution_count": 51,
     "metadata": {},
     "output_type": "execute_result"
    }
   ],
   "execution_count": 51
  },
  {
   "cell_type": "markdown",
   "id": "8a73bc93",
   "metadata": {
    "deletable": false,
    "editable": false,
    "id": "75440b63"
   },
   "source": "### Удаление пропусков (продолжение)"
  },
  {
   "cell_type": "markdown",
   "id": "0c4ea22d",
   "metadata": {
    "deletable": false,
    "editable": false,
    "id": "f4ea573f"
   },
   "source": "**Заполним пропуски в столбце `days_employed` медианными значениями по каждого типа занятости `income_type`.**"
  },
  {
   "cell_type": "code",
   "id": "60c7add6",
   "metadata": {
    "deletable": false,
    "id": "af6b1a7e",
    "ExecuteTime": {
     "end_time": "2025-01-24T15:27:04.318455Z",
     "start_time": "2025-01-24T15:27:04.305396Z"
    }
   },
   "source": [
    "for t in data['income_type'].unique():\n",
    "    data.loc[(data['income_type'] == t) & (data['days_employed'].isna()), 'days_employed'] = \\\n",
    "        data.loc[(data['income_type'] == t), 'days_employed'].median()"
   ],
   "outputs": [],
   "execution_count": 52
  },
  {
   "cell_type": "markdown",
   "id": "8750caf7",
   "metadata": {
    "deletable": false,
    "editable": false,
    "id": "2753f40d"
   },
   "source": "**Убедимся, что все пропуски заполнены. Проверим и ещё раз выведите количество пропущенных значений для каждого столбца**"
  },
  {
   "cell_type": "code",
   "id": "3f2abcc3",
   "metadata": {
    "deletable": false,
    "id": "55f78bc2",
    "outputId": "8da1e4e1-358e-4e87-98c9-f261bce0a7b2",
    "ExecuteTime": {
     "end_time": "2025-01-24T15:27:04.331710Z",
     "start_time": "2025-01-24T15:27:04.325581Z"
    }
   },
   "source": [
    "data.isna().sum()"
   ],
   "outputs": [
    {
     "data": {
      "text/plain": [
       "children            0\n",
       "days_employed       0\n",
       "dob_years           0\n",
       "education           0\n",
       "education_id        0\n",
       "family_status       0\n",
       "family_status_id    0\n",
       "gender              0\n",
       "income_type         0\n",
       "debt                0\n",
       "total_income        0\n",
       "purpose             0\n",
       "dtype: int64"
      ]
     },
     "execution_count": 53,
     "metadata": {},
     "output_type": "execute_result"
    }
   ],
   "execution_count": 53
  },
  {
   "cell_type": "markdown",
   "id": "955ceab0",
   "metadata": {
    "deletable": false,
    "editable": false,
    "id": "ddc81e43"
   },
   "source": [
    "### Изменение типов данных"
   ]
  },
  {
   "cell_type": "markdown",
   "id": "f78a9709",
   "metadata": {
    "deletable": false,
    "editable": false,
    "id": "42d19d24"
   },
   "source": "**Заменим вещественный тип данных в столбце `total_income` на целочисленный.**"
  },
  {
   "cell_type": "code",
   "id": "f52f22e6",
   "metadata": {
    "deletable": false,
    "id": "920b65ad",
    "ExecuteTime": {
     "end_time": "2025-01-24T15:27:04.364789Z",
     "start_time": "2025-01-24T15:27:04.362723Z"
    }
   },
   "source": [
    "data['total_income'] = data['total_income'].astype(int)"
   ],
   "outputs": [],
   "execution_count": 54
  },
  {
   "cell_type": "markdown",
   "id": "5969fa06",
   "metadata": {
    "deletable": false,
    "editable": false,
    "id": "80c420ba"
   },
   "source": [
    "### Обработка дубликатов"
   ]
  },
  {
   "cell_type": "markdown",
   "id": "49f439ac",
   "metadata": {
    "deletable": false,
    "editable": false
   },
   "source": "**Обработаем неявные дубликаты в столбце `education`. В этом столбце есть одни и те же значения, но записанные по-разному: с использованием заглавных и строчных букв. Приведем их к нижнему регистру. Проверим остальные столбцы.**"
  },
  {
   "cell_type": "code",
   "id": "9097ce5b",
   "metadata": {
    "deletable": false,
    "ExecuteTime": {
     "end_time": "2025-01-24T15:27:04.398029Z",
     "start_time": "2025-01-24T15:27:04.394892Z"
    }
   },
   "source": [
    "data['education'] = data['education'].str.lower()"
   ],
   "outputs": [],
   "execution_count": 55
  },
  {
   "cell_type": "markdown",
   "id": "2076ee5d",
   "metadata": {
    "deletable": false,
    "editable": false,
    "id": "dc587695"
   },
   "source": "**Выведем на экран количество строк-дубликатов в данных. Если такие строки присутствуют, удалим их.**"
  },
  {
   "cell_type": "code",
   "id": "442086c7",
   "metadata": {
    "deletable": false,
    "id": "3ee445e4",
    "outputId": "9684deba-1934-42d1-99e1-cda61740f822",
    "ExecuteTime": {
     "end_time": "2025-01-24T15:27:04.431821Z",
     "start_time": "2025-01-24T15:27:04.424468Z"
    }
   },
   "source": [
    "data.duplicated().sum()"
   ],
   "outputs": [
    {
     "data": {
      "text/plain": [
       "np.int64(71)"
      ]
     },
     "execution_count": 56,
     "metadata": {},
     "output_type": "execute_result"
    }
   ],
   "execution_count": 56
  },
  {
   "cell_type": "code",
   "id": "570c75e9",
   "metadata": {
    "deletable": false,
    "id": "8575fe05",
    "ExecuteTime": {
     "end_time": "2025-01-24T15:27:04.447660Z",
     "start_time": "2025-01-24T15:27:04.440717Z"
    }
   },
   "source": [
    "data = data.drop_duplicates()"
   ],
   "outputs": [],
   "execution_count": 57
  },
  {
   "cell_type": "markdown",
   "id": "29a48d76",
   "metadata": {
    "deletable": false,
    "editable": false,
    "id": "9904cf55"
   },
   "source": [
    "### Категоризация данных"
   ]
  },
  {
   "cell_type": "markdown",
   "id": "d62388fe",
   "metadata": {
    "deletable": false,
    "editable": false,
    "id": "72fcc8a2"
   },
   "source": [
    "**На основании диапазонов, указанных ниже, создадим в датафрейме `data` столбец `total_income_category` с категориями:**\n",
    "\n",
    "- 0–30000 — `'E'`;\n",
    "- 30001–50000 — `'D'`;\n",
    "- 50001–200000 — `'C'`;\n",
    "- 200001–1000000 — `'B'`;\n",
    "- 1000001 и выше — `'A'`.\n",
    "\n",
    "\n",
    "**Например, кредитополучателю с доходом 25000 нужно назначить категорию `'E'`, а клиенту, получающему 235000, — `'B'`. Используем собственную функцию с именем `categorize_income()` и метод `apply()`.**"
   ]
  },
  {
   "cell_type": "code",
   "id": "80c4da40",
   "metadata": {
    "deletable": false,
    "id": "e1771346",
    "ExecuteTime": {
     "end_time": "2025-01-24T15:27:04.462703Z",
     "start_time": "2025-01-24T15:27:04.460891Z"
    }
   },
   "source": [
    "def categorize_income(income):\n",
    "    try:\n",
    "        if 0 <= income <= 30000:\n",
    "            return 'E'\n",
    "        elif 30001 <= income <= 50000:\n",
    "            return 'D'\n",
    "        elif 50001 <= income <= 200000:\n",
    "            return 'C'\n",
    "        elif 200001 <= income <= 1000000:\n",
    "            return 'B'\n",
    "        elif income >= 1000001:\n",
    "            return 'A'\n",
    "    except:\n",
    "        pass"
   ],
   "outputs": [],
   "execution_count": 58
  },
  {
   "cell_type": "code",
   "id": "3f928294",
   "metadata": {
    "deletable": false,
    "id": "d5f3586d",
    "ExecuteTime": {
     "end_time": "2025-01-24T15:27:04.477664Z",
     "start_time": "2025-01-24T15:27:04.472902Z"
    }
   },
   "source": [
    "data['total_income_category'] = data['total_income'].apply(categorize_income)"
   ],
   "outputs": [],
   "execution_count": 59
  },
  {
   "cell_type": "markdown",
   "id": "cfd10433",
   "metadata": {
    "deletable": false,
    "editable": false,
    "id": "dde49b5c"
   },
   "source": "**Выведим на экран перечень уникальных целей взятия кредита из столбца `purpose`.**"
  },
  {
   "cell_type": "code",
   "id": "e1368e5d",
   "metadata": {
    "deletable": false,
    "id": "f67ce9b3",
    "outputId": "673c12d9-7d7e-4ae0-9812-c622c89dd244",
    "ExecuteTime": {
     "end_time": "2025-01-24T15:27:04.492970Z",
     "start_time": "2025-01-24T15:27:04.489659Z"
    }
   },
   "source": [
    "data['purpose'].unique()"
   ],
   "outputs": [
    {
     "data": {
      "text/plain": [
       "array(['покупка жилья', 'приобретение автомобиля',\n",
       "       'дополнительное образование', 'сыграть свадьбу',\n",
       "       'операции с жильем', 'образование', 'на проведение свадьбы',\n",
       "       'покупка жилья для семьи', 'покупка недвижимости',\n",
       "       'покупка коммерческой недвижимости', 'покупка жилой недвижимости',\n",
       "       'строительство собственной недвижимости', 'недвижимость',\n",
       "       'строительство недвижимости', 'на покупку подержанного автомобиля',\n",
       "       'на покупку своего автомобиля',\n",
       "       'операции с коммерческой недвижимостью',\n",
       "       'строительство жилой недвижимости', 'жилье',\n",
       "       'операции со своей недвижимостью', 'автомобили',\n",
       "       'заняться образованием', 'сделка с подержанным автомобилем',\n",
       "       'получение образования', 'автомобиль', 'свадьба',\n",
       "       'получение дополнительного образования', 'покупка своего жилья',\n",
       "       'операции с недвижимостью', 'получение высшего образования',\n",
       "       'свой автомобиль', 'сделка с автомобилем',\n",
       "       'профильное образование', 'высшее образование',\n",
       "       'покупка жилья для сдачи', 'на покупку автомобиля', 'ремонт жилью',\n",
       "       'заняться высшим образованием'], dtype=object)"
      ]
     },
     "execution_count": 60,
     "metadata": {},
     "output_type": "execute_result"
    }
   ],
   "execution_count": 60
  },
  {
   "cell_type": "markdown",
   "id": "62f1de62",
   "metadata": {
    "deletable": false,
    "editable": false,
    "id": "85d0aef0"
   },
   "source": [
    "**Создадим функцию, которая на основании данных из столбца `purpose` сформирует новый столбец `purpose_category`, в который войдут следующие категории:**\n",
    "\n",
    "- `'операции с автомобилем'`,\n",
    "- `'операции с недвижимостью'`,\n",
    "- `'проведение свадьбы'`,\n",
    "- `'получение образования'`.\n",
    "\n",
    "**Например, если в столбце `purpose` находится подстрока `'на покупку автомобиля'`, то в столбце `purpose_category` должна появиться строка `'операции с автомобилем'`.**\n",
    "\n",
    "**Используем собственную функцию с именем `categorize_purpose()` и метод `apply()`. Изучим данные в столбце `purpose` и определим, какие подстроки помогут вам правильно определить категорию.**"
   ]
  },
  {
   "cell_type": "code",
   "id": "45c66be1",
   "metadata": {
    "deletable": false,
    "id": "e149fab4",
    "ExecuteTime": {
     "end_time": "2025-01-24T15:27:04.497224Z",
     "start_time": "2025-01-24T15:27:04.495457Z"
    }
   },
   "source": [
    "def categorize_purpose(row):\n",
    "    try:\n",
    "        if 'автом' in row:\n",
    "            return 'операции с автомобилем'\n",
    "        elif 'жил' in row or 'недвиж' in row:\n",
    "            return 'операции с недвижимостью'\n",
    "        elif 'свад' in row:\n",
    "            return 'проведение свадьбы'\n",
    "        elif 'образов' in row:\n",
    "            return 'получение образования'\n",
    "    except:\n",
    "        return 'нет категории'"
   ],
   "outputs": [],
   "execution_count": 61
  },
  {
   "cell_type": "code",
   "id": "50b28bdf",
   "metadata": {
    "deletable": false,
    "id": "bf36e69b",
    "ExecuteTime": {
     "end_time": "2025-01-24T15:27:04.514042Z",
     "start_time": "2025-01-24T15:27:04.509920Z"
    }
   },
   "source": [
    "data['purpose_category'] = data['purpose'].apply(categorize_purpose)"
   ],
   "outputs": [],
   "execution_count": 62
  },
  {
   "cell_type": "markdown",
   "id": "016ee453",
   "metadata": {
    "deletable": false,
    "editable": false,
    "id": "09b242bf"
   },
   "source": "### Шаг 3. Исследуем данные и ответьте на вопросы"
  },
  {
   "cell_type": "markdown",
   "id": "93aa552c",
   "metadata": {
    "deletable": false,
    "editable": false,
    "id": "c5d66278"
   },
   "source": [
    "#### 3.1 Есть ли зависимость между количеством детей и возвратом кредита в срок?"
   ]
  },
  {
   "cell_type": "markdown",
   "id": "f5a05af6",
   "metadata": {
    "deletable": false,
    "id": "2cacfc4a"
   },
   "source": [
    "Проверим зависимость дохода от наличия детей"
   ]
  },
  {
   "cell_type": "code",
   "id": "84922252",
   "metadata": {
    "scrolled": true,
    "ExecuteTime": {
     "end_time": "2025-01-24T15:27:04.523016Z",
     "start_time": "2025-01-24T15:27:04.520234Z"
    }
   },
   "source": [
    "data.groupby('children')['total_income'].median()"
   ],
   "outputs": [
    {
     "data": {
      "text/plain": [
       "children\n",
       "0    142594.0\n",
       "1    145531.0\n",
       "2    142594.0\n",
       "3    145220.0\n",
       "4    150447.0\n",
       "5    168460.0\n",
       "Name: total_income, dtype: float64"
      ]
     },
     "execution_count": 63,
     "metadata": {},
     "output_type": "execute_result"
    }
   ],
   "execution_count": 63
  },
  {
   "cell_type": "code",
   "id": "b794cf9c",
   "metadata": {
    "ExecuteTime": {
     "end_time": "2025-01-24T15:27:04.544433Z",
     "start_time": "2025-01-24T15:27:04.540832Z"
    }
   },
   "source": [
    "data.groupby('children')['total_income'].agg(['median', 'count'])"
   ],
   "outputs": [
    {
     "data": {
      "text/plain": [
       "            median  count\n",
       "children                 \n",
       "0         142594.0  14091\n",
       "1         145531.0   4808\n",
       "2         142594.0   2052\n",
       "3         145220.0    330\n",
       "4         150447.0     41\n",
       "5         168460.0      9"
      ],
      "text/html": [
       "<div>\n",
       "<style scoped>\n",
       "    .dataframe tbody tr th:only-of-type {\n",
       "        vertical-align: middle;\n",
       "    }\n",
       "\n",
       "    .dataframe tbody tr th {\n",
       "        vertical-align: top;\n",
       "    }\n",
       "\n",
       "    .dataframe thead th {\n",
       "        text-align: right;\n",
       "    }\n",
       "</style>\n",
       "<table border=\"1\" class=\"dataframe\">\n",
       "  <thead>\n",
       "    <tr style=\"text-align: right;\">\n",
       "      <th></th>\n",
       "      <th>median</th>\n",
       "      <th>count</th>\n",
       "    </tr>\n",
       "    <tr>\n",
       "      <th>children</th>\n",
       "      <th></th>\n",
       "      <th></th>\n",
       "    </tr>\n",
       "  </thead>\n",
       "  <tbody>\n",
       "    <tr>\n",
       "      <th>0</th>\n",
       "      <td>142594.0</td>\n",
       "      <td>14091</td>\n",
       "    </tr>\n",
       "    <tr>\n",
       "      <th>1</th>\n",
       "      <td>145531.0</td>\n",
       "      <td>4808</td>\n",
       "    </tr>\n",
       "    <tr>\n",
       "      <th>2</th>\n",
       "      <td>142594.0</td>\n",
       "      <td>2052</td>\n",
       "    </tr>\n",
       "    <tr>\n",
       "      <th>3</th>\n",
       "      <td>145220.0</td>\n",
       "      <td>330</td>\n",
       "    </tr>\n",
       "    <tr>\n",
       "      <th>4</th>\n",
       "      <td>150447.0</td>\n",
       "      <td>41</td>\n",
       "    </tr>\n",
       "    <tr>\n",
       "      <th>5</th>\n",
       "      <td>168460.0</td>\n",
       "      <td>9</td>\n",
       "    </tr>\n",
       "  </tbody>\n",
       "</table>\n",
       "</div>"
      ]
     },
     "execution_count": 64,
     "metadata": {},
     "output_type": "execute_result"
    }
   ],
   "execution_count": 64
  },
  {
   "cell_type": "markdown",
   "id": "bfec5dc8",
   "metadata": {},
   "source": [
    "Количество детей не сильно влияет на доход.\n",
    "Интересным наблюдением является, что медианная зарплата у людей с 5-ю детьми заметно отличается от остальных."
   ]
  },
  {
   "cell_type": "code",
   "id": "37ac95cf",
   "metadata": {
    "ExecuteTime": {
     "end_time": "2025-01-24T15:27:04.583670Z",
     "start_time": "2025-01-24T15:27:04.580651Z"
    }
   },
   "source": [
    "data_children_grouped = data.groupby('children')['total_income'].median()\n",
    "data_children_grouped[:3]"
   ],
   "outputs": [
    {
     "data": {
      "text/plain": [
       "children\n",
       "0    142594.0\n",
       "1    145531.0\n",
       "2    142594.0\n",
       "Name: total_income, dtype: float64"
      ]
     },
     "execution_count": 65,
     "metadata": {},
     "output_type": "execute_result"
    }
   ],
   "execution_count": 65
  },
  {
   "cell_type": "markdown",
   "id": "5ed8c831",
   "metadata": {},
   "source": [
    "Проверим взаимосвязь между количеством детей и наличием задолженности по кредиту"
   ]
  },
  {
   "cell_type": "markdown",
   "id": "d4abe214",
   "metadata": {},
   "source": [
    "Пока что мы видим взаимосвязь: чем больше детей, тем меньше вероятность, что у человека с детьми будет задолженность.\n",
    "Однако пока делать окночательные выводы рано, нужно проверить, какой процент людей с детьми имеел задолженность по кредиту"
   ]
  },
  {
   "cell_type": "code",
   "id": "4c93d72c",
   "metadata": {
    "scrolled": false,
    "ExecuteTime": {
     "end_time": "2025-01-24T15:27:04.633734Z",
     "start_time": "2025-01-24T15:27:04.627543Z"
    }
   },
   "source": [
    "# посмотрим, сколько из общего количества людей, имевших задолженность, имеют детей\n",
    "children_pivot_table = pd.pivot_table(data, index=['children'], values=['debt'], aggfunc=['sum', 'count', 'mean'])\n",
    "\n",
    "# добавим столбец соотношения людей с детьми к общему количеству людей\n",
    "children_pivot_table.sort_values(by=('mean', 'debt'), ascending=True)\n"
   ],
   "outputs": [
    {
     "data": {
      "text/plain": [
       "           sum  count      mean\n",
       "          debt   debt      debt\n",
       "children                       \n",
       "5            0      9  0.000000\n",
       "0         1063  14091  0.075438\n",
       "3           27    330  0.081818\n",
       "1          444   4808  0.092346\n",
       "2          194   2052  0.094542\n",
       "4            4     41  0.097561"
      ],
      "text/html": [
       "<div>\n",
       "<style scoped>\n",
       "    .dataframe tbody tr th:only-of-type {\n",
       "        vertical-align: middle;\n",
       "    }\n",
       "\n",
       "    .dataframe tbody tr th {\n",
       "        vertical-align: top;\n",
       "    }\n",
       "\n",
       "    .dataframe thead tr th {\n",
       "        text-align: left;\n",
       "    }\n",
       "\n",
       "    .dataframe thead tr:last-of-type th {\n",
       "        text-align: right;\n",
       "    }\n",
       "</style>\n",
       "<table border=\"1\" class=\"dataframe\">\n",
       "  <thead>\n",
       "    <tr>\n",
       "      <th></th>\n",
       "      <th>sum</th>\n",
       "      <th>count</th>\n",
       "      <th>mean</th>\n",
       "    </tr>\n",
       "    <tr>\n",
       "      <th></th>\n",
       "      <th>debt</th>\n",
       "      <th>debt</th>\n",
       "      <th>debt</th>\n",
       "    </tr>\n",
       "    <tr>\n",
       "      <th>children</th>\n",
       "      <th></th>\n",
       "      <th></th>\n",
       "      <th></th>\n",
       "    </tr>\n",
       "  </thead>\n",
       "  <tbody>\n",
       "    <tr>\n",
       "      <th>5</th>\n",
       "      <td>0</td>\n",
       "      <td>9</td>\n",
       "      <td>0.000000</td>\n",
       "    </tr>\n",
       "    <tr>\n",
       "      <th>0</th>\n",
       "      <td>1063</td>\n",
       "      <td>14091</td>\n",
       "      <td>0.075438</td>\n",
       "    </tr>\n",
       "    <tr>\n",
       "      <th>3</th>\n",
       "      <td>27</td>\n",
       "      <td>330</td>\n",
       "      <td>0.081818</td>\n",
       "    </tr>\n",
       "    <tr>\n",
       "      <th>1</th>\n",
       "      <td>444</td>\n",
       "      <td>4808</td>\n",
       "      <td>0.092346</td>\n",
       "    </tr>\n",
       "    <tr>\n",
       "      <th>2</th>\n",
       "      <td>194</td>\n",
       "      <td>2052</td>\n",
       "      <td>0.094542</td>\n",
       "    </tr>\n",
       "    <tr>\n",
       "      <th>4</th>\n",
       "      <td>4</td>\n",
       "      <td>41</td>\n",
       "      <td>0.097561</td>\n",
       "    </tr>\n",
       "  </tbody>\n",
       "</table>\n",
       "</div>"
      ]
     },
     "execution_count": 66,
     "metadata": {},
     "output_type": "execute_result"
    }
   ],
   "execution_count": 66
  },
  {
   "cell_type": "code",
   "id": "f36ef156",
   "metadata": {
    "scrolled": true,
    "ExecuteTime": {
     "end_time": "2025-01-24T15:27:04.678479Z",
     "start_time": "2025-01-24T15:27:04.675064Z"
    }
   },
   "source": [
    "#Удаляем нерепрезентативные данные\n",
    "children_pivot_table.drop([5, 3, 4])"
   ],
   "outputs": [
    {
     "data": {
      "text/plain": [
       "           sum  count      mean\n",
       "          debt   debt      debt\n",
       "children                       \n",
       "0         1063  14091  0.075438\n",
       "1          444   4808  0.092346\n",
       "2          194   2052  0.094542"
      ],
      "text/html": [
       "<div>\n",
       "<style scoped>\n",
       "    .dataframe tbody tr th:only-of-type {\n",
       "        vertical-align: middle;\n",
       "    }\n",
       "\n",
       "    .dataframe tbody tr th {\n",
       "        vertical-align: top;\n",
       "    }\n",
       "\n",
       "    .dataframe thead tr th {\n",
       "        text-align: left;\n",
       "    }\n",
       "\n",
       "    .dataframe thead tr:last-of-type th {\n",
       "        text-align: right;\n",
       "    }\n",
       "</style>\n",
       "<table border=\"1\" class=\"dataframe\">\n",
       "  <thead>\n",
       "    <tr>\n",
       "      <th></th>\n",
       "      <th>sum</th>\n",
       "      <th>count</th>\n",
       "      <th>mean</th>\n",
       "    </tr>\n",
       "    <tr>\n",
       "      <th></th>\n",
       "      <th>debt</th>\n",
       "      <th>debt</th>\n",
       "      <th>debt</th>\n",
       "    </tr>\n",
       "    <tr>\n",
       "      <th>children</th>\n",
       "      <th></th>\n",
       "      <th></th>\n",
       "      <th></th>\n",
       "    </tr>\n",
       "  </thead>\n",
       "  <tbody>\n",
       "    <tr>\n",
       "      <th>0</th>\n",
       "      <td>1063</td>\n",
       "      <td>14091</td>\n",
       "      <td>0.075438</td>\n",
       "    </tr>\n",
       "    <tr>\n",
       "      <th>1</th>\n",
       "      <td>444</td>\n",
       "      <td>4808</td>\n",
       "      <td>0.092346</td>\n",
       "    </tr>\n",
       "    <tr>\n",
       "      <th>2</th>\n",
       "      <td>194</td>\n",
       "      <td>2052</td>\n",
       "      <td>0.094542</td>\n",
       "    </tr>\n",
       "  </tbody>\n",
       "</table>\n",
       "</div>"
      ]
     },
     "execution_count": 67,
     "metadata": {},
     "output_type": "execute_result"
    }
   ],
   "execution_count": 67
  },
  {
   "cell_type": "code",
   "id": "2231de7d",
   "metadata": {
    "ExecuteTime": {
     "end_time": "2025-01-24T15:27:04.724214Z",
     "start_time": "2025-01-24T15:27:04.722035Z"
    }
   },
   "source": "children_pivot_table.loc[1:, ('mean', 'debt')].median()",
   "outputs": [
    {
     "data": {
      "text/plain": [
       "np.float64(0.09234608985024959)"
      ]
     },
     "execution_count": 68,
     "metadata": {},
     "output_type": "execute_result"
    }
   ],
   "execution_count": 68
  },
  {
   "cell_type": "markdown",
   "id": "203b0e88",
   "metadata": {},
   "source": [
    "Медианный процент людей, имевший задолженность:\n",
    "- `7.5%` — группа людей без детей\n",
    "- `9.2%` — группа людей с детьми\n",
    "\n",
    "Интересным наблюдением ялвяется то, что люди с 5-ю детьми совершенно не просрачивают кредит, однако количество значений слишком мало, чтобы делать подобные выводы насчет данной группы людей"
   ]
  },
  {
   "cell_type": "markdown",
   "id": "d0ddd132",
   "metadata": {},
   "source": [
    "##### 3.1 Вывод "
   ]
  },
  {
   "cell_type": "markdown",
   "id": "aff1b9da",
   "metadata": {
    "deletable": false,
    "id": "3a6b99ec"
   },
   "source": [
    "**Вывод:** Чем больше у человека детей, тем меньше вероятность, что он вернет кредит в срок. Исключением являются группы людей с  `3`, `4`, `5`, людьми, ибо количество данных недостаточно, чтобы делать выводы\n",
    "\n",
    "*Прошлый вывод:* Люди, у которых нет детей, с большей вероятностью верунт кредит в срок."
   ]
  },
  {
   "cell_type": "markdown",
   "id": "424c966b",
   "metadata": {
    "deletable": false,
    "editable": false,
    "id": "97be82ca"
   },
   "source": [
    "#### 3.2 Есть ли зависимость между семейным положением и возвратом кредита в срок?"
   ]
  },
  {
   "cell_type": "markdown",
   "id": "aadbaa0d",
   "metadata": {
    "deletable": false,
    "id": "dc3f7ee8"
   },
   "source": [
    "Создадим сводную таблицу с семейным статусом и наличием задолженности по кредиту"
   ]
  },
  {
   "cell_type": "code",
   "id": "4b804333",
   "metadata": {
    "ExecuteTime": {
     "end_time": "2025-01-24T15:27:04.774192Z",
     "start_time": "2025-01-24T15:27:04.764756Z"
    }
   },
   "source": [
    "family_status_pivot_table = pd.pivot_table(data,\n",
    "                                           index=['family_status_id', 'family_status'],\n",
    "                                           values=['debt'],\n",
    "                                           aggfunc=['sum', 'count', 'mean'])\n",
    "\n",
    "# добавим столбец соотношения людей с долгом к общему количеству людей в одной категории\n",
    "family_status_pivot_table.sort_values(by=('mean', 'debt'), ascending=True)"
   ],
   "outputs": [
    {
     "data": {
      "text/plain": [
       "                                        sum  count      mean\n",
       "                                       debt   debt      debt\n",
       "family_status_id family_status                              \n",
       "2                вдовец / вдова          63    951  0.066246\n",
       "3                в разводе               84   1189  0.070648\n",
       "0                женат / замужем        927  12261  0.075606\n",
       "1                гражданский брак       385   4134  0.093130\n",
       "4                Не женат / не замужем  273   2796  0.097639"
      ],
      "text/html": [
       "<div>\n",
       "<style scoped>\n",
       "    .dataframe tbody tr th:only-of-type {\n",
       "        vertical-align: middle;\n",
       "    }\n",
       "\n",
       "    .dataframe tbody tr th {\n",
       "        vertical-align: top;\n",
       "    }\n",
       "\n",
       "    .dataframe thead tr th {\n",
       "        text-align: left;\n",
       "    }\n",
       "\n",
       "    .dataframe thead tr:last-of-type th {\n",
       "        text-align: right;\n",
       "    }\n",
       "</style>\n",
       "<table border=\"1\" class=\"dataframe\">\n",
       "  <thead>\n",
       "    <tr>\n",
       "      <th></th>\n",
       "      <th></th>\n",
       "      <th>sum</th>\n",
       "      <th>count</th>\n",
       "      <th>mean</th>\n",
       "    </tr>\n",
       "    <tr>\n",
       "      <th></th>\n",
       "      <th></th>\n",
       "      <th>debt</th>\n",
       "      <th>debt</th>\n",
       "      <th>debt</th>\n",
       "    </tr>\n",
       "    <tr>\n",
       "      <th>family_status_id</th>\n",
       "      <th>family_status</th>\n",
       "      <th></th>\n",
       "      <th></th>\n",
       "      <th></th>\n",
       "    </tr>\n",
       "  </thead>\n",
       "  <tbody>\n",
       "    <tr>\n",
       "      <th>2</th>\n",
       "      <th>вдовец / вдова</th>\n",
       "      <td>63</td>\n",
       "      <td>951</td>\n",
       "      <td>0.066246</td>\n",
       "    </tr>\n",
       "    <tr>\n",
       "      <th>3</th>\n",
       "      <th>в разводе</th>\n",
       "      <td>84</td>\n",
       "      <td>1189</td>\n",
       "      <td>0.070648</td>\n",
       "    </tr>\n",
       "    <tr>\n",
       "      <th>0</th>\n",
       "      <th>женат / замужем</th>\n",
       "      <td>927</td>\n",
       "      <td>12261</td>\n",
       "      <td>0.075606</td>\n",
       "    </tr>\n",
       "    <tr>\n",
       "      <th>1</th>\n",
       "      <th>гражданский брак</th>\n",
       "      <td>385</td>\n",
       "      <td>4134</td>\n",
       "      <td>0.093130</td>\n",
       "    </tr>\n",
       "    <tr>\n",
       "      <th>4</th>\n",
       "      <th>Не женат / не замужем</th>\n",
       "      <td>273</td>\n",
       "      <td>2796</td>\n",
       "      <td>0.097639</td>\n",
       "    </tr>\n",
       "  </tbody>\n",
       "</table>\n",
       "</div>"
      ]
     },
     "execution_count": 69,
     "metadata": {},
     "output_type": "execute_result"
    }
   ],
   "execution_count": 69
  },
  {
   "cell_type": "markdown",
   "id": "0c552ad9",
   "metadata": {},
   "source": [
    "Глобально можно разделить людей на 2 группы:\n",
    "- `женат / замужем`\n",
    "- `не женат / не замужем`\n",
    "\n",
    "Причем необходимо подметить, что в глобальном ппонимании вторая группа включает в себя следующие категории: `гражданский брак`, `вдовец / вдова`, `в разводе`, `Не женат / не замужем`\n",
    "\n",
    "Проверим `медианный` и `средний` процент людей, имеющих задолженность в каждой глобальной группе"
   ]
  },
  {
   "cell_type": "code",
   "id": "dfc581e9",
   "metadata": {
    "ExecuteTime": {
     "end_time": "2025-01-24T15:27:04.807640Z",
     "start_time": "2025-01-24T15:27:04.805129Z"
    }
   },
   "source": "family_status_pivot_table.loc[1:, ('mean', 'debt')].median()",
   "outputs": [
    {
     "data": {
      "text/plain": [
       "np.float64(0.08188887166385302)"
      ]
     },
     "execution_count": 70,
     "metadata": {},
     "output_type": "execute_result"
    }
   ],
   "execution_count": 70
  },
  {
   "cell_type": "code",
   "id": "40f6925c",
   "metadata": {
    "ExecuteTime": {
     "end_time": "2025-01-24T15:27:04.833413Z",
     "start_time": "2025-01-24T15:27:04.831173Z"
    }
   },
   "source": "family_status_pivot_table.loc[1:, ('mean', 'debt')].mean()",
   "outputs": [
    {
     "data": {
      "text/plain": [
       "np.float64(0.0819158212721453)"
      ]
     },
     "execution_count": 71,
     "metadata": {},
     "output_type": "execute_result"
    }
   ],
   "execution_count": 71
  },
  {
   "cell_type": "markdown",
   "id": "91907163",
   "metadata": {},
   "source": [
    "Значения отличаются на сотую процента, следовательно можем взять любое. Если округлить до десятой, то получим одинаковый процент."
   ]
  },
  {
   "cell_type": "markdown",
   "id": "47294969",
   "metadata": {},
   "source": [
    "Процент людей, имевший задолженность:\n",
    "- `7.6%` для людей из категории `'женат / замужем'`\n",
    "- `8.2%` для людей из категории `'не женат / не замужем'`\n"
   ]
  },
  {
   "cell_type": "markdown",
   "id": "5fc67209",
   "metadata": {},
   "source": [
    "##### 3.2 Вывод"
   ]
  },
  {
   "cell_type": "markdown",
   "id": "b200248f",
   "metadata": {
    "deletable": false,
    "id": "1cef7837"
   },
   "source": [
    "**Вывод:** \n",
    "- С большей вероятностью кредит в срок вернут люди, которые ранее, или в данный момент находятся в браке. То есть люди из следующих категорий: `вдовец / вдова`, `в разводе`, `женат / замужем`\n",
    "- C меньшей вероятностью, кредит в срок вернут люди, которые не находятся в браке. То есть люди из следующих категорий: `гражданский брак`, `Не женат / не замужем`"
   ]
  },
  {
   "cell_type": "markdown",
   "id": "8f2ceb0a",
   "metadata": {
    "deletable": false,
    "editable": false,
    "id": "1e8b2fca"
   },
   "source": [
    "#### 3.3 Есть ли зависимость между уровнем дохода и возвратом кредита в срок?"
   ]
  },
  {
   "cell_type": "markdown",
   "id": "f301aaec",
   "metadata": {
    "deletable": false,
    "id": "cd7e3720"
   },
   "source": [
    "Ранее мы создавали функцию, чтобы разбить уровень дохода на категории\n",
    "\n",
    "- 0–30000 — `'E'`;\n",
    "- 30001–50000 — `'D'`;\n",
    "- 50001–200000 — `'C'`;\n",
    "- 200001–1000000 — `'B'`;\n",
    "- 1000001 и выше — `'A'`."
   ]
  },
  {
   "cell_type": "markdown",
   "id": "ec7f79ee",
   "metadata": {},
   "source": [
    "Создадим сводную таблицу с категорией дохода и наличием задолженности"
   ]
  },
  {
   "cell_type": "code",
   "id": "963b7c61",
   "metadata": {
    "ExecuteTime": {
     "end_time": "2025-01-24T15:27:04.871540Z",
     "start_time": "2025-01-24T15:27:04.864144Z"
    }
   },
   "source": [
    "total_income_pivot_table = pd.pivot_table(data,\n",
    "                                          index=['total_income_category'],\n",
    "                                          values=['debt'],\n",
    "                                          aggfunc=['sum', 'count', 'mean'])\n",
    "\n",
    "# добавим столбец соотношения людей с долгом к общему количеству людей в одной категории\n",
    "total_income_pivot_table.sort_values(by=('mean', 'debt'), ascending=True)"
   ],
   "outputs": [
    {
     "data": {
      "text/plain": [
       "                        sum  count      mean\n",
       "                       debt   debt      debt\n",
       "total_income_category                       \n",
       "D                        21    349  0.060172\n",
       "B                       354   5014  0.070602\n",
       "A                         2     25  0.080000\n",
       "C                      1353  15921  0.084982\n",
       "E                         2     22  0.090909"
      ],
      "text/html": [
       "<div>\n",
       "<style scoped>\n",
       "    .dataframe tbody tr th:only-of-type {\n",
       "        vertical-align: middle;\n",
       "    }\n",
       "\n",
       "    .dataframe tbody tr th {\n",
       "        vertical-align: top;\n",
       "    }\n",
       "\n",
       "    .dataframe thead tr th {\n",
       "        text-align: left;\n",
       "    }\n",
       "\n",
       "    .dataframe thead tr:last-of-type th {\n",
       "        text-align: right;\n",
       "    }\n",
       "</style>\n",
       "<table border=\"1\" class=\"dataframe\">\n",
       "  <thead>\n",
       "    <tr>\n",
       "      <th></th>\n",
       "      <th>sum</th>\n",
       "      <th>count</th>\n",
       "      <th>mean</th>\n",
       "    </tr>\n",
       "    <tr>\n",
       "      <th></th>\n",
       "      <th>debt</th>\n",
       "      <th>debt</th>\n",
       "      <th>debt</th>\n",
       "    </tr>\n",
       "    <tr>\n",
       "      <th>total_income_category</th>\n",
       "      <th></th>\n",
       "      <th></th>\n",
       "      <th></th>\n",
       "    </tr>\n",
       "  </thead>\n",
       "  <tbody>\n",
       "    <tr>\n",
       "      <th>D</th>\n",
       "      <td>21</td>\n",
       "      <td>349</td>\n",
       "      <td>0.060172</td>\n",
       "    </tr>\n",
       "    <tr>\n",
       "      <th>B</th>\n",
       "      <td>354</td>\n",
       "      <td>5014</td>\n",
       "      <td>0.070602</td>\n",
       "    </tr>\n",
       "    <tr>\n",
       "      <th>A</th>\n",
       "      <td>2</td>\n",
       "      <td>25</td>\n",
       "      <td>0.080000</td>\n",
       "    </tr>\n",
       "    <tr>\n",
       "      <th>C</th>\n",
       "      <td>1353</td>\n",
       "      <td>15921</td>\n",
       "      <td>0.084982</td>\n",
       "    </tr>\n",
       "    <tr>\n",
       "      <th>E</th>\n",
       "      <td>2</td>\n",
       "      <td>22</td>\n",
       "      <td>0.090909</td>\n",
       "    </tr>\n",
       "  </tbody>\n",
       "</table>\n",
       "</div>"
      ]
     },
     "execution_count": 72,
     "metadata": {},
     "output_type": "execute_result"
    }
   ],
   "execution_count": 72
  },
  {
   "cell_type": "code",
   "id": "86acea70",
   "metadata": {
    "ExecuteTime": {
     "end_time": "2025-01-24T15:27:04.897528Z",
     "start_time": "2025-01-24T15:27:04.894396Z"
    }
   },
   "source": [
    "#Удаляем нерепрезентативные показатели\n",
    "total_income_pivot_table.drop(['D', 'A', 'E'])"
   ],
   "outputs": [
    {
     "data": {
      "text/plain": [
       "                        sum  count      mean\n",
       "                       debt   debt      debt\n",
       "total_income_category                       \n",
       "B                       354   5014  0.070602\n",
       "C                      1353  15921  0.084982"
      ],
      "text/html": [
       "<div>\n",
       "<style scoped>\n",
       "    .dataframe tbody tr th:only-of-type {\n",
       "        vertical-align: middle;\n",
       "    }\n",
       "\n",
       "    .dataframe tbody tr th {\n",
       "        vertical-align: top;\n",
       "    }\n",
       "\n",
       "    .dataframe thead tr th {\n",
       "        text-align: left;\n",
       "    }\n",
       "\n",
       "    .dataframe thead tr:last-of-type th {\n",
       "        text-align: right;\n",
       "    }\n",
       "</style>\n",
       "<table border=\"1\" class=\"dataframe\">\n",
       "  <thead>\n",
       "    <tr>\n",
       "      <th></th>\n",
       "      <th>sum</th>\n",
       "      <th>count</th>\n",
       "      <th>mean</th>\n",
       "    </tr>\n",
       "    <tr>\n",
       "      <th></th>\n",
       "      <th>debt</th>\n",
       "      <th>debt</th>\n",
       "      <th>debt</th>\n",
       "    </tr>\n",
       "    <tr>\n",
       "      <th>total_income_category</th>\n",
       "      <th></th>\n",
       "      <th></th>\n",
       "      <th></th>\n",
       "    </tr>\n",
       "  </thead>\n",
       "  <tbody>\n",
       "    <tr>\n",
       "      <th>B</th>\n",
       "      <td>354</td>\n",
       "      <td>5014</td>\n",
       "      <td>0.070602</td>\n",
       "    </tr>\n",
       "    <tr>\n",
       "      <th>C</th>\n",
       "      <td>1353</td>\n",
       "      <td>15921</td>\n",
       "      <td>0.084982</td>\n",
       "    </tr>\n",
       "  </tbody>\n",
       "</table>\n",
       "</div>"
      ]
     },
     "execution_count": 73,
     "metadata": {},
     "output_type": "execute_result"
    }
   ],
   "execution_count": 73
  },
  {
   "cell_type": "markdown",
   "id": "0caa9ed9",
   "metadata": {},
   "source": [
    "##### 3.3 Вывод"
   ]
  },
  {
   "cell_type": "markdown",
   "id": "7a09fb48",
   "metadata": {
    "deletable": false,
    "id": "e8593def"
   },
   "source": [
    "**Вывод:** Чем выше доход человека, тем выше вероятность, что он вернет кредит в срок.\n",
    "- С наибольшей вероятностью кредит в срок вернут люди из категории `'B'`\n",
    "- С наименьшей вероятностью кредит в срок вернут люди из категории `'С'`, "
   ]
  },
  {
   "cell_type": "markdown",
   "id": "6e24eca6",
   "metadata": {
    "deletable": false,
    "editable": false,
    "id": "99ecbd1f"
   },
   "source": [
    "#### 3.4 Как разные цели кредита влияют на его возврат в срок?"
   ]
  },
  {
   "cell_type": "markdown",
   "id": "7157c8c8",
   "metadata": {
    "deletable": false,
    "id": "2b687290"
   },
   "source": [
    "Создадим сводную таблицу с целью кредита и наличием задолженности"
   ]
  },
  {
   "cell_type": "code",
   "id": "41e88ec9",
   "metadata": {
    "ExecuteTime": {
     "end_time": "2025-01-24T15:27:04.935435Z",
     "start_time": "2025-01-24T15:27:04.927185Z"
    }
   },
   "source": [
    "purpose_category_pivot_table = pd.pivot_table(data,\n",
    "                                              index=['purpose_category'],\n",
    "                                              values=['debt'],\n",
    "                                              aggfunc=['sum', 'count', 'mean'])\n",
    "\n",
    "# добавим столбец соотношения людей с долгом к общему количеству людей в одной категории\n",
    "purpose_category_pivot_table.sort_values(by=('mean', 'debt'), ascending=True)"
   ],
   "outputs": [
    {
     "data": {
      "text/plain": [
       "                          sum  count      mean\n",
       "                         debt   debt      debt\n",
       "purpose_category                              \n",
       "операции с недвижимостью  780  10751  0.072551\n",
       "проведение свадьбы        183   2313  0.079118\n",
       "получение образования     369   3988  0.092528\n",
       "операции с автомобилем    400   4279  0.093480"
      ],
      "text/html": [
       "<div>\n",
       "<style scoped>\n",
       "    .dataframe tbody tr th:only-of-type {\n",
       "        vertical-align: middle;\n",
       "    }\n",
       "\n",
       "    .dataframe tbody tr th {\n",
       "        vertical-align: top;\n",
       "    }\n",
       "\n",
       "    .dataframe thead tr th {\n",
       "        text-align: left;\n",
       "    }\n",
       "\n",
       "    .dataframe thead tr:last-of-type th {\n",
       "        text-align: right;\n",
       "    }\n",
       "</style>\n",
       "<table border=\"1\" class=\"dataframe\">\n",
       "  <thead>\n",
       "    <tr>\n",
       "      <th></th>\n",
       "      <th>sum</th>\n",
       "      <th>count</th>\n",
       "      <th>mean</th>\n",
       "    </tr>\n",
       "    <tr>\n",
       "      <th></th>\n",
       "      <th>debt</th>\n",
       "      <th>debt</th>\n",
       "      <th>debt</th>\n",
       "    </tr>\n",
       "    <tr>\n",
       "      <th>purpose_category</th>\n",
       "      <th></th>\n",
       "      <th></th>\n",
       "      <th></th>\n",
       "    </tr>\n",
       "  </thead>\n",
       "  <tbody>\n",
       "    <tr>\n",
       "      <th>операции с недвижимостью</th>\n",
       "      <td>780</td>\n",
       "      <td>10751</td>\n",
       "      <td>0.072551</td>\n",
       "    </tr>\n",
       "    <tr>\n",
       "      <th>проведение свадьбы</th>\n",
       "      <td>183</td>\n",
       "      <td>2313</td>\n",
       "      <td>0.079118</td>\n",
       "    </tr>\n",
       "    <tr>\n",
       "      <th>получение образования</th>\n",
       "      <td>369</td>\n",
       "      <td>3988</td>\n",
       "      <td>0.092528</td>\n",
       "    </tr>\n",
       "    <tr>\n",
       "      <th>операции с автомобилем</th>\n",
       "      <td>400</td>\n",
       "      <td>4279</td>\n",
       "      <td>0.093480</td>\n",
       "    </tr>\n",
       "  </tbody>\n",
       "</table>\n",
       "</div>"
      ]
     },
     "execution_count": 74,
     "metadata": {},
     "output_type": "execute_result"
    }
   ],
   "execution_count": 74
  },
  {
   "cell_type": "markdown",
   "id": "cbd3035f",
   "metadata": {},
   "source": [
    "Большой процент людей просрачивает возврат кредита по категории `получение образования`. Рождается гипотеза, что кредит берут студенты, и так как у них нет постоянного источника дохода, то они не могут вовремя погасить долг. Проверим данную гипотезу"
   ]
  },
  {
   "cell_type": "code",
   "id": "9dd88532",
   "metadata": {
    "ExecuteTime": {
     "end_time": "2025-01-24T15:27:04.980713Z",
     "start_time": "2025-01-24T15:27:04.977397Z"
    }
   },
   "source": [
    "data.loc[data['purpose_category'] == 'получение образования', 'income_type'].value_counts()"
   ],
   "outputs": [
    {
     "data": {
      "text/plain": [
       "income_type\n",
       "сотрудник      2066\n",
       "компаньон       947\n",
       "пенсионер       719\n",
       "госслужащий     256\n",
       "Name: count, dtype: int64"
      ]
     },
     "execution_count": 75,
     "metadata": {},
     "output_type": "execute_result"
    }
   ],
   "execution_count": 75
  },
  {
   "cell_type": "code",
   "id": "71a781d8",
   "metadata": {
    "ExecuteTime": {
     "end_time": "2025-01-24T15:27:05.039823Z",
     "start_time": "2025-01-24T15:27:05.035576Z"
    }
   },
   "source": [
    "# проверим, есть ли в исходном датафрейме строки, удовлетворяющие условию\n",
    "data[(data['purpose_category'] == 'получение образования') & (data['income_type'] == 'студент')]"
   ],
   "outputs": [
    {
     "data": {
      "text/plain": [
       "Empty DataFrame\n",
       "Columns: [children, days_employed, dob_years, education, education_id, family_status, family_status_id, gender, income_type, debt, total_income, purpose, total_income_category, purpose_category]\n",
       "Index: []"
      ],
      "text/html": [
       "<div>\n",
       "<style scoped>\n",
       "    .dataframe tbody tr th:only-of-type {\n",
       "        vertical-align: middle;\n",
       "    }\n",
       "\n",
       "    .dataframe tbody tr th {\n",
       "        vertical-align: top;\n",
       "    }\n",
       "\n",
       "    .dataframe thead th {\n",
       "        text-align: right;\n",
       "    }\n",
       "</style>\n",
       "<table border=\"1\" class=\"dataframe\">\n",
       "  <thead>\n",
       "    <tr style=\"text-align: right;\">\n",
       "      <th></th>\n",
       "      <th>children</th>\n",
       "      <th>days_employed</th>\n",
       "      <th>dob_years</th>\n",
       "      <th>education</th>\n",
       "      <th>education_id</th>\n",
       "      <th>family_status</th>\n",
       "      <th>family_status_id</th>\n",
       "      <th>gender</th>\n",
       "      <th>income_type</th>\n",
       "      <th>debt</th>\n",
       "      <th>total_income</th>\n",
       "      <th>purpose</th>\n",
       "      <th>total_income_category</th>\n",
       "      <th>purpose_category</th>\n",
       "    </tr>\n",
       "  </thead>\n",
       "  <tbody>\n",
       "  </tbody>\n",
       "</table>\n",
       "</div>"
      ]
     },
     "execution_count": 76,
     "metadata": {},
     "output_type": "execute_result"
    }
   ],
   "execution_count": 76
  },
  {
   "cell_type": "markdown",
   "id": "5acbec68",
   "metadata": {},
   "source": [
    "Таблица пуста, следовательно среди взявших кредит на получение образования действительно нет ни одного студента, следовательно мы можем отмести данную гипотезу"
   ]
  },
  {
   "cell_type": "markdown",
   "id": "0103883f",
   "metadata": {},
   "source": [
    "##### 3.4 Вывод"
   ]
  },
  {
   "cell_type": "markdown",
   "id": "ae586389",
   "metadata": {
    "deletable": false,
    "id": "b4bb2ce6"
   },
   "source": [
    "**Вывод:** \n",
    "- С наибольшей вероятностью кредит в срок вернут люди из категории `'операции с недвижимостью'`, `'проведение свадьбы'`\n",
    "- С наименьшей вероятностью кредит в срок вернут люди из категории `'операции с автомобилем'`, `'получение образования'`\n",
    "\n",
    "*Интересное наблюдениие: среди взявших кредит на образование нет ни одного студента*"
   ]
  },
  {
   "cell_type": "markdown",
   "id": "4d4dbbc2",
   "metadata": {
    "deletable": false,
    "editable": false,
    "id": "09c3ac4c"
   },
   "source": [
    "#### 3.5 Приведите возможные причины появления пропусков в исходных данных."
   ]
  },
  {
   "cell_type": "markdown",
   "id": "dd620ea0",
   "metadata": {
    "deletable": false,
    "id": "9da2ceda"
   },
   "source": [
    "*Ответ:* Так как у нас одинаковое количество пропусков в столбцах `'days_employed'` и `'total_income'`, то существует вероятность, что причиной пропусков может быть:\n",
    "- человек не трудоустраивался официально\n",
    "- человек не декларировал свой доход\n",
    "- человек может пользоваться разными банками: один зарплатный, который хранит информацию о зарплате, а другой — тот, в котором он хочет взять кредит, может иметь более выгодную процентную ставку\n",
    "- если не указан доход, то общий трудовой стаж в днях может автоматически не указываться\n",
    "- если не указан трудовой стаж, то может автоматически не указываться доход\n",
    "- ошибки в передаче данных\n",
    "- если данная таблица составлялась из другой таблицы, в которой были ошибки"
   ]
  },
  {
   "cell_type": "code",
   "id": "ad437a97",
   "metadata": {
    "ExecuteTime": {
     "end_time": "2025-01-24T15:27:05.121676Z",
     "start_time": "2025-01-24T15:27:05.097641Z"
    }
   },
   "source": [
    "# Посмотрим, какие категории граждан подвержены пропуску данных в days_employed\n",
    "# Так как выше мы уже обрабатывали таблицу, избавляясь от пропусков, то используем костыли, для быстрой проверки\n",
    "temp_data = pd.read_csv('data')\n",
    "\n",
    "temp_data = temp_data[['income_type', 'days_employed']].copy()\n",
    "temp_data = temp_data[temp_data['days_employed'].isna()]\n",
    "temp_data.drop_duplicates(inplace=True)\n",
    "temp_data"
   ],
   "outputs": [
    {
     "data": {
      "text/plain": [
       "          income_type  days_employed\n",
       "12          пенсионер            NaN\n",
       "26        госслужащий            NaN\n",
       "65          компаньон            NaN\n",
       "82          сотрудник            NaN\n",
       "5936  предприниматель            NaN"
      ],
      "text/html": [
       "<div>\n",
       "<style scoped>\n",
       "    .dataframe tbody tr th:only-of-type {\n",
       "        vertical-align: middle;\n",
       "    }\n",
       "\n",
       "    .dataframe tbody tr th {\n",
       "        vertical-align: top;\n",
       "    }\n",
       "\n",
       "    .dataframe thead th {\n",
       "        text-align: right;\n",
       "    }\n",
       "</style>\n",
       "<table border=\"1\" class=\"dataframe\">\n",
       "  <thead>\n",
       "    <tr style=\"text-align: right;\">\n",
       "      <th></th>\n",
       "      <th>income_type</th>\n",
       "      <th>days_employed</th>\n",
       "    </tr>\n",
       "  </thead>\n",
       "  <tbody>\n",
       "    <tr>\n",
       "      <th>12</th>\n",
       "      <td>пенсионер</td>\n",
       "      <td>NaN</td>\n",
       "    </tr>\n",
       "    <tr>\n",
       "      <th>26</th>\n",
       "      <td>госслужащий</td>\n",
       "      <td>NaN</td>\n",
       "    </tr>\n",
       "    <tr>\n",
       "      <th>65</th>\n",
       "      <td>компаньон</td>\n",
       "      <td>NaN</td>\n",
       "    </tr>\n",
       "    <tr>\n",
       "      <th>82</th>\n",
       "      <td>сотрудник</td>\n",
       "      <td>NaN</td>\n",
       "    </tr>\n",
       "    <tr>\n",
       "      <th>5936</th>\n",
       "      <td>предприниматель</td>\n",
       "      <td>NaN</td>\n",
       "    </tr>\n",
       "  </tbody>\n",
       "</table>\n",
       "</div>"
      ]
     },
     "execution_count": 77,
     "metadata": {},
     "output_type": "execute_result"
    }
   ],
   "execution_count": 77
  },
  {
   "cell_type": "markdown",
   "id": "842d392c",
   "metadata": {},
   "source": [
    "Среди категорий есть `госслужащий`, так что гипотеза, что человек не трудоустраивался официально — выглядит неправдоподобно"
   ]
  },
  {
   "cell_type": "markdown",
   "id": "6e45343a",
   "metadata": {
    "deletable": false,
    "editable": false,
    "id": "7b0487d6"
   },
   "source": "#### 3.6 Объясним, почему заполнить пропуски медианным значением — лучшее решение для количественных переменных."
  },
  {
   "cell_type": "code",
   "id": "39d9ffe7",
   "metadata": {
    "scrolled": true,
    "ExecuteTime": {
     "end_time": "2025-01-24T15:27:05.159471Z",
     "start_time": "2025-01-24T15:27:05.155970Z"
    }
   },
   "source": [
    "print(data['total_income'].min())\n",
    "print(data['total_income'].max())\n",
    "\n",
    "print(data['total_income'].mean())\n",
    "print(data['total_income'].median())\n",
    "\n",
    "data['total_income'].mean() - data['total_income'].median()"
   ],
   "outputs": [
    {
     "name": "stdout",
     "output_type": "stream",
     "text": [
      "20667\n",
      "2265604\n",
      "165342.74576906848\n",
      "142594.0\n"
     ]
    },
    {
     "data": {
      "text/plain": [
       "np.float64(22748.745769068482)"
      ]
     },
     "execution_count": 78,
     "metadata": {},
     "output_type": "execute_result"
    }
   ],
   "execution_count": 78
  },
  {
   "cell_type": "markdown",
   "id": "a9c18986",
   "metadata": {},
   "source": [
    "- `220667` — Минимальное значение\n",
    "- `2265604` — Максимальное значение\n",
    "- `165342` — Среднее значение\n",
    "- `142594` — Медианное значение\n",
    "\n",
    "Разница между медианным и средним значением составляет `22748`"
   ]
  },
  {
   "cell_type": "markdown",
   "id": "922bbe3c",
   "metadata": {
    "deletable": false,
    "id": "7ecf2b8e"
   },
   "source": [
    "*Ответ:* При использовании медианного значения, мы \"избегаем\" учет аномально больших значений, которые влияют на число. К примеру, в списке `[100, 100, 100, 100, 10000]` среднее значение будет соствлять `2080`. В то время, как медианное значение будет составлять `100`. Следовательно, если мы хотим заменить пропуски значениями, приближенными к среднему значению большинства (грубо говоря, \"исключая\" аномально большие значения), то мы заполняем их медианным значением"
   ]
  },
  {
   "cell_type": "markdown",
   "id": "fb7edab9",
   "metadata": {
    "deletable": false,
    "editable": false,
    "id": "6db5255a"
   },
   "source": [
    "### Шаг 4: общий вывод."
   ]
  },
  {
   "cell_type": "markdown",
   "id": "96dec20c",
   "metadata": {},
   "source": [
    "**С наибольшей вероятностью кредит в срок вернут следующие категории граждан:**\n",
    "- `'0 детей'`\n",
    "- `Были или находятся в браке`: `'женат / замужем'`, `в разводе`, `'вдова / вдовец'` \n",
    "- `'B'` — люди с доходом от 200001 до 1000000\n",
    "- `'операции с недвижимостью'`, `'проведение свадьбы'`\n",
    "\n",
    "**C Наименьшей же вероятность кредит в срок вернут следующие категории граждан:**\n",
    "- `'есть дети'`\n",
    "- `'не женат / не замужем'`, `'гражданский брак'`\n",
    "- `'С'` — люди с доходом от 50001 до 200000\n",
    "- `'операции с автомобилем'`, `'получение образования'`\n",
    "\n",
    "Чем меньше детей и выше доход, тем больше вероятность, что кредит будет возвращен в срок. Можно добавить, что люди, не состоящие в браке, имеющие детей, а так же с низким доходом являют собой ненадежных заемщиков. В целом, среди всех вышеописанных данных нельзя выделить особенно \"хорошие\" или \"плохие\" категории людей, которые брали кредит. Количество людей, которые не вернули кредит вовремя варьируется от `6%` до `10%`.\n",
    "\n",
    "<br>\n",
    "<br>\n",
    "\n",
    "Для получения выводов мы рассматривали такие данные, как: `тип занятости`, `трудовой стаж`, `уровень дохода`, `количество детей`,  `цель кредита`. Во время работы были не приняты во внимание такие нерепрезентативные данные, как `уровень дохода: E, D, А`, `количество детей: 3, 4, 5`, так как людей в данных группах было слишком мало, чтобы сделать выводы\n",
    "\n",
    "**Проделанная работа:**\n",
    "- Пропущенные значения из столбца `total_income` были заполнены медианным значением\n",
    "- Пропущенные значения из столбца `days_employed` были заполнены медианным значением по типу занятости `income_type`\n",
    "<br><br>\n",
    "- Аномальные значения из столбца столбца `days_employed` являли собой отрицательные числа. Исправлены на положительные значения\n",
    "- Аномальные значений столбца `children`: `-1`, `20`. Исправлены, путем удаления строк, содержащих данные значения\n",
    "<br><br>\n",
    "- В столбце `education` все значения были приведены к единому стилю, тем самым мы избавились от неявных дубликатов в данном столбце\n",
    "<br><br>\n",
    "- Уровень дохода был разделен на 5 категорий: `A`, `B`, `C`, `D`, `E`\n",
    "- Цели кредита были разделены на 4 категории: `'операции с автомобилем'`, `'операции с недвижимостью'`, `'проведение свадьбы'`, `'получение образования'`"
   ]
  }
 ],
 "metadata": {
  "ExecuteTimeLog": [
   {
    "duration": 463,
    "start_time": "2024-05-13T15:11:18.524Z"
   },
   {
    "duration": 22,
    "start_time": "2024-05-13T15:11:18.989Z"
   },
   {
    "duration": 15,
    "start_time": "2024-05-13T15:11:19.013Z"
   },
   {
    "duration": 11,
    "start_time": "2024-05-13T15:11:19.030Z"
   },
   {
    "duration": 63,
    "start_time": "2024-05-13T15:11:19.042Z"
   },
   {
    "duration": 3,
    "start_time": "2024-05-13T15:11:19.107Z"
   },
   {
    "duration": 22,
    "start_time": "2024-05-13T15:11:19.111Z"
   },
   {
    "duration": 17,
    "start_time": "2024-05-13T15:11:19.134Z"
   },
   {
    "duration": 34,
    "start_time": "2024-05-13T15:11:19.152Z"
   },
   {
    "duration": 4,
    "start_time": "2024-05-13T15:11:19.188Z"
   },
   {
    "duration": 53,
    "start_time": "2024-05-13T15:11:19.193Z"
   },
   {
    "duration": 10,
    "start_time": "2024-05-13T15:11:19.248Z"
   },
   {
    "duration": 7,
    "start_time": "2024-05-13T15:11:19.259Z"
   },
   {
    "duration": 25,
    "start_time": "2024-05-13T15:11:19.268Z"
   },
   {
    "duration": 28,
    "start_time": "2024-05-13T15:11:19.295Z"
   },
   {
    "duration": 17,
    "start_time": "2024-05-13T15:11:19.325Z"
   },
   {
    "duration": 3,
    "start_time": "2024-05-13T15:11:19.344Z"
   },
   {
    "duration": 16,
    "start_time": "2024-05-13T15:11:19.348Z"
   },
   {
    "duration": 6,
    "start_time": "2024-05-13T15:11:19.366Z"
   },
   {
    "duration": 4,
    "start_time": "2024-05-13T15:11:19.382Z"
   },
   {
    "duration": 15,
    "start_time": "2024-05-13T15:11:19.387Z"
   },
   {
    "duration": 7,
    "start_time": "2024-05-13T15:27:50.736Z"
   },
   {
    "duration": 7,
    "start_time": "2024-05-13T15:44:53.558Z"
   },
   {
    "duration": 23,
    "start_time": "2024-05-13T17:09:10.224Z"
   },
   {
    "duration": 16,
    "start_time": "2024-05-13T17:09:17.008Z"
   },
   {
    "duration": 24,
    "start_time": "2024-05-13T17:09:33.310Z"
   },
   {
    "duration": 9,
    "start_time": "2024-05-13T17:27:23.212Z"
   },
   {
    "duration": 73,
    "start_time": "2024-05-13T17:29:49.472Z"
   },
   {
    "duration": 8,
    "start_time": "2024-05-13T17:30:02.703Z"
   },
   {
    "duration": 19,
    "start_time": "2024-05-13T18:08:52.468Z"
   },
   {
    "duration": 16,
    "start_time": "2024-05-13T18:08:57.142Z"
   },
   {
    "duration": 22,
    "start_time": "2024-05-13T18:09:08.750Z"
   },
   {
    "duration": 21,
    "start_time": "2024-05-13T18:09:23.270Z"
   },
   {
    "duration": 22,
    "start_time": "2024-05-13T18:09:33.475Z"
   },
   {
    "duration": 42,
    "start_time": "2024-05-14T02:44:34.360Z"
   },
   {
    "duration": 5,
    "start_time": "2024-05-14T02:44:40.688Z"
   },
   {
    "duration": 6,
    "start_time": "2024-05-14T02:45:22.164Z"
   },
   {
    "duration": 6,
    "start_time": "2024-05-14T02:45:28.000Z"
   },
   {
    "duration": 567,
    "start_time": "2024-05-14T02:45:44.680Z"
   },
   {
    "duration": 20,
    "start_time": "2024-05-14T02:45:45.249Z"
   },
   {
    "duration": 24,
    "start_time": "2024-05-14T02:45:45.270Z"
   },
   {
    "duration": 37,
    "start_time": "2024-05-14T02:45:45.296Z"
   },
   {
    "duration": 39,
    "start_time": "2024-05-14T02:45:45.334Z"
   },
   {
    "duration": 2,
    "start_time": "2024-05-14T02:45:45.375Z"
   },
   {
    "duration": 24,
    "start_time": "2024-05-14T02:45:45.379Z"
   },
   {
    "duration": 9,
    "start_time": "2024-05-14T02:45:45.404Z"
   },
   {
    "duration": 8,
    "start_time": "2024-05-14T02:45:45.414Z"
   },
   {
    "duration": 19,
    "start_time": "2024-05-14T02:45:45.425Z"
   },
   {
    "duration": 46,
    "start_time": "2024-05-14T02:45:45.445Z"
   },
   {
    "duration": 9,
    "start_time": "2024-05-14T02:45:45.492Z"
   },
   {
    "duration": 19,
    "start_time": "2024-05-14T02:45:45.502Z"
   },
   {
    "duration": 16,
    "start_time": "2024-05-14T02:45:45.522Z"
   },
   {
    "duration": 48,
    "start_time": "2024-05-14T02:45:45.540Z"
   },
   {
    "duration": 16,
    "start_time": "2024-05-14T02:45:45.590Z"
   },
   {
    "duration": 4,
    "start_time": "2024-05-14T02:45:45.608Z"
   },
   {
    "duration": 11,
    "start_time": "2024-05-14T02:45:45.613Z"
   },
   {
    "duration": 21,
    "start_time": "2024-05-14T02:45:45.625Z"
   },
   {
    "duration": 6,
    "start_time": "2024-05-14T02:45:45.648Z"
   },
   {
    "duration": 10,
    "start_time": "2024-05-14T02:45:45.655Z"
   },
   {
    "duration": 4,
    "start_time": "2024-05-14T02:45:45.666Z"
   },
   {
    "duration": 12,
    "start_time": "2024-05-14T02:45:45.671Z"
   },
   {
    "duration": 16,
    "start_time": "2024-05-14T02:45:45.685Z"
   },
   {
    "duration": 710,
    "start_time": "2024-05-14T02:45:45.703Z"
   },
   {
    "duration": 0,
    "start_time": "2024-05-14T02:45:46.415Z"
   },
   {
    "duration": 0,
    "start_time": "2024-05-14T02:45:46.416Z"
   },
   {
    "duration": 0,
    "start_time": "2024-05-14T02:45:46.417Z"
   },
   {
    "duration": 0,
    "start_time": "2024-05-14T02:45:46.417Z"
   },
   {
    "duration": 18,
    "start_time": "2024-05-14T02:45:59.675Z"
   },
   {
    "duration": 6,
    "start_time": "2024-05-14T02:55:55.388Z"
   },
   {
    "duration": 1,
    "start_time": "2024-05-14T03:00:07.954Z"
   },
   {
    "duration": 5,
    "start_time": "2024-05-14T03:03:42.705Z"
   },
   {
    "duration": 6,
    "start_time": "2024-05-14T03:29:52.988Z"
   },
   {
    "duration": 6,
    "start_time": "2024-05-14T03:30:02.047Z"
   },
   {
    "duration": 6,
    "start_time": "2024-05-14T03:30:06.736Z"
   },
   {
    "duration": 5,
    "start_time": "2024-05-14T03:30:11.404Z"
   },
   {
    "duration": 5,
    "start_time": "2024-05-14T03:30:25.042Z"
   },
   {
    "duration": 5,
    "start_time": "2024-05-14T03:30:32.879Z"
   },
   {
    "duration": 6,
    "start_time": "2024-05-14T03:30:44.660Z"
   },
   {
    "duration": 6,
    "start_time": "2024-05-14T03:32:09.877Z"
   },
   {
    "duration": 7,
    "start_time": "2024-05-14T04:10:55.846Z"
   },
   {
    "duration": 7,
    "start_time": "2024-05-14T04:11:03.592Z"
   },
   {
    "duration": 9,
    "start_time": "2024-05-14T04:40:06.419Z"
   },
   {
    "duration": 8,
    "start_time": "2024-05-14T04:40:22.639Z"
   },
   {
    "duration": 10,
    "start_time": "2024-05-14T04:40:26.188Z"
   },
   {
    "duration": 23,
    "start_time": "2024-05-14T04:44:38.337Z"
   },
   {
    "duration": 29,
    "start_time": "2024-05-14T04:44:54.046Z"
   },
   {
    "duration": 20,
    "start_time": "2024-05-14T04:45:26.436Z"
   },
   {
    "duration": 25,
    "start_time": "2024-05-14T04:45:55.336Z"
   },
   {
    "duration": 23,
    "start_time": "2024-05-14T04:51:38.707Z"
   },
   {
    "duration": 24,
    "start_time": "2024-05-14T05:00:51.072Z"
   },
   {
    "duration": 24,
    "start_time": "2024-05-14T05:01:30.019Z"
   },
   {
    "duration": 6,
    "start_time": "2024-05-14T05:11:32.371Z"
   },
   {
    "duration": 5,
    "start_time": "2024-05-14T05:17:06.780Z"
   },
   {
    "duration": 6,
    "start_time": "2024-05-14T05:17:17.015Z"
   },
   {
    "duration": 5,
    "start_time": "2024-05-14T05:18:59.234Z"
   },
   {
    "duration": 44,
    "start_time": "2024-05-14T05:20:14.003Z"
   },
   {
    "duration": 7,
    "start_time": "2024-05-14T05:38:22.560Z"
   },
   {
    "duration": 15,
    "start_time": "2024-05-14T06:32:45.792Z"
   },
   {
    "duration": 26,
    "start_time": "2024-05-14T06:41:49.632Z"
   },
   {
    "duration": 31,
    "start_time": "2024-05-14T07:21:03.401Z"
   },
   {
    "duration": 6,
    "start_time": "2024-05-14T07:53:30.661Z"
   },
   {
    "duration": 2,
    "start_time": "2024-05-14T07:56:55.834Z"
   },
   {
    "duration": 10,
    "start_time": "2024-05-14T07:57:42.181Z"
   },
   {
    "duration": 8,
    "start_time": "2024-05-14T07:57:51.468Z"
   },
   {
    "duration": 8,
    "start_time": "2024-05-14T07:58:33.788Z"
   },
   {
    "duration": 406,
    "start_time": "2024-05-14T08:13:45.642Z"
   },
   {
    "duration": 18,
    "start_time": "2024-05-14T08:13:46.049Z"
   },
   {
    "duration": 15,
    "start_time": "2024-05-14T08:13:46.068Z"
   },
   {
    "duration": 17,
    "start_time": "2024-05-14T08:13:46.085Z"
   },
   {
    "duration": 34,
    "start_time": "2024-05-14T08:13:46.103Z"
   },
   {
    "duration": 3,
    "start_time": "2024-05-14T08:13:46.138Z"
   },
   {
    "duration": 19,
    "start_time": "2024-05-14T08:13:46.142Z"
   },
   {
    "duration": 5,
    "start_time": "2024-05-14T08:13:46.162Z"
   },
   {
    "duration": 10,
    "start_time": "2024-05-14T08:13:46.168Z"
   },
   {
    "duration": 14,
    "start_time": "2024-05-14T08:13:46.180Z"
   },
   {
    "duration": 36,
    "start_time": "2024-05-14T08:13:46.195Z"
   },
   {
    "duration": 8,
    "start_time": "2024-05-14T08:13:46.232Z"
   },
   {
    "duration": 18,
    "start_time": "2024-05-14T08:13:46.241Z"
   },
   {
    "duration": 18,
    "start_time": "2024-05-14T08:13:46.261Z"
   },
   {
    "duration": 19,
    "start_time": "2024-05-14T08:13:46.281Z"
   },
   {
    "duration": 15,
    "start_time": "2024-05-14T08:13:46.301Z"
   },
   {
    "duration": 12,
    "start_time": "2024-05-14T08:13:46.317Z"
   },
   {
    "duration": 15,
    "start_time": "2024-05-14T08:13:46.331Z"
   },
   {
    "duration": 37,
    "start_time": "2024-05-14T08:13:46.347Z"
   },
   {
    "duration": 5,
    "start_time": "2024-05-14T08:13:46.385Z"
   },
   {
    "duration": 25,
    "start_time": "2024-05-14T08:13:46.390Z"
   },
   {
    "duration": 13,
    "start_time": "2024-05-14T08:13:46.416Z"
   },
   {
    "duration": 5,
    "start_time": "2024-05-14T08:13:46.430Z"
   },
   {
    "duration": 27,
    "start_time": "2024-05-14T08:13:46.436Z"
   },
   {
    "duration": 5,
    "start_time": "2024-05-14T08:13:46.464Z"
   },
   {
    "duration": 29,
    "start_time": "2024-05-14T08:13:46.470Z"
   },
   {
    "duration": 5,
    "start_time": "2024-05-14T08:13:46.500Z"
   },
   {
    "duration": 8,
    "start_time": "2024-05-14T08:13:46.508Z"
   },
   {
    "duration": 25,
    "start_time": "2024-05-14T08:13:46.517Z"
   },
   {
    "duration": 20,
    "start_time": "2024-05-14T08:13:46.543Z"
   },
   {
    "duration": 5,
    "start_time": "2024-05-14T08:13:46.564Z"
   },
   {
    "duration": 19,
    "start_time": "2024-05-14T08:13:46.570Z"
   },
   {
    "duration": 16,
    "start_time": "2024-05-14T08:13:46.590Z"
   },
   {
    "duration": 7,
    "start_time": "2024-05-14T08:18:54.998Z"
   },
   {
    "duration": 9,
    "start_time": "2024-05-14T08:19:15.387Z"
   },
   {
    "duration": 8,
    "start_time": "2024-05-14T08:19:39.126Z"
   },
   {
    "duration": 6,
    "start_time": "2024-05-14T08:20:30.553Z"
   },
   {
    "duration": 7,
    "start_time": "2024-05-14T08:28:50.838Z"
   },
   {
    "duration": 66,
    "start_time": "2024-05-14T09:18:14.828Z"
   },
   {
    "duration": 80,
    "start_time": "2024-05-14T09:18:18.636Z"
   },
   {
    "duration": 69,
    "start_time": "2024-05-14T09:19:29.524Z"
   },
   {
    "duration": 98,
    "start_time": "2024-05-14T09:22:29.433Z"
   },
   {
    "duration": 70,
    "start_time": "2024-05-14T09:32:01.665Z"
   },
   {
    "duration": 419,
    "start_time": "2024-05-14T09:51:30.145Z"
   },
   {
    "duration": 18,
    "start_time": "2024-05-14T09:51:30.565Z"
   },
   {
    "duration": 116,
    "start_time": "2024-05-14T09:51:30.584Z"
   },
   {
    "duration": 121,
    "start_time": "2024-05-14T09:51:30.702Z"
   },
   {
    "duration": 63,
    "start_time": "2024-05-14T09:51:30.825Z"
   },
   {
    "duration": 39,
    "start_time": "2024-05-14T09:51:30.889Z"
   },
   {
    "duration": 62,
    "start_time": "2024-05-14T09:51:30.930Z"
   },
   {
    "duration": 57,
    "start_time": "2024-05-14T09:51:30.993Z"
   },
   {
    "duration": 50,
    "start_time": "2024-05-14T09:51:31.051Z"
   },
   {
    "duration": 60,
    "start_time": "2024-05-14T09:51:31.103Z"
   },
   {
    "duration": 143,
    "start_time": "2024-05-14T09:51:31.165Z"
   },
   {
    "duration": 27,
    "start_time": "2024-05-14T09:51:31.309Z"
   },
   {
    "duration": 43,
    "start_time": "2024-05-14T09:51:31.338Z"
   },
   {
    "duration": 65,
    "start_time": "2024-05-14T09:51:31.382Z"
   },
   {
    "duration": 112,
    "start_time": "2024-05-14T09:51:31.448Z"
   },
   {
    "duration": 238,
    "start_time": "2024-05-14T09:51:31.562Z"
   },
   {
    "duration": 23,
    "start_time": "2024-05-14T09:51:31.801Z"
   },
   {
    "duration": 71,
    "start_time": "2024-05-14T09:51:31.825Z"
   },
   {
    "duration": 30,
    "start_time": "2024-05-14T09:51:31.898Z"
   },
   {
    "duration": 25,
    "start_time": "2024-05-14T09:51:31.929Z"
   },
   {
    "duration": 39,
    "start_time": "2024-05-14T09:51:31.956Z"
   },
   {
    "duration": 36,
    "start_time": "2024-05-14T09:51:31.997Z"
   },
   {
    "duration": 27,
    "start_time": "2024-05-14T09:51:32.034Z"
   },
   {
    "duration": 50,
    "start_time": "2024-05-14T09:51:32.062Z"
   },
   {
    "duration": 18,
    "start_time": "2024-05-14T09:51:32.113Z"
   },
   {
    "duration": 41,
    "start_time": "2024-05-14T09:51:32.132Z"
   },
   {
    "duration": 6,
    "start_time": "2024-05-14T09:51:32.174Z"
   },
   {
    "duration": 10,
    "start_time": "2024-05-14T09:51:32.184Z"
   },
   {
    "duration": 59,
    "start_time": "2024-05-14T09:51:32.195Z"
   },
   {
    "duration": 68,
    "start_time": "2024-05-14T09:51:32.255Z"
   },
   {
    "duration": 6,
    "start_time": "2024-05-14T09:51:32.324Z"
   },
   {
    "duration": 12,
    "start_time": "2024-05-14T09:51:32.331Z"
   },
   {
    "duration": 79,
    "start_time": "2024-05-14T09:51:32.344Z"
   },
   {
    "duration": 5,
    "start_time": "2024-05-14T09:51:32.425Z"
   },
   {
    "duration": 672,
    "start_time": "2024-05-14T13:52:28.812Z"
   },
   {
    "duration": 24,
    "start_time": "2024-05-14T13:52:29.486Z"
   },
   {
    "duration": 39,
    "start_time": "2024-05-14T13:52:29.511Z"
   },
   {
    "duration": 13,
    "start_time": "2024-05-14T13:52:29.552Z"
   },
   {
    "duration": 48,
    "start_time": "2024-05-14T13:52:29.567Z"
   },
   {
    "duration": 4,
    "start_time": "2024-05-14T13:52:29.616Z"
   },
   {
    "duration": 12,
    "start_time": "2024-05-14T13:52:29.621Z"
   },
   {
    "duration": 31,
    "start_time": "2024-05-14T13:52:29.634Z"
   },
   {
    "duration": 10,
    "start_time": "2024-05-14T13:52:29.667Z"
   },
   {
    "duration": 9,
    "start_time": "2024-05-14T13:52:29.678Z"
   },
   {
    "duration": 49,
    "start_time": "2024-05-14T13:52:29.688Z"
   },
   {
    "duration": 10,
    "start_time": "2024-05-14T13:52:29.739Z"
   },
   {
    "duration": 22,
    "start_time": "2024-05-14T13:52:29.751Z"
   },
   {
    "duration": 44,
    "start_time": "2024-05-14T13:52:29.776Z"
   },
   {
    "duration": 34,
    "start_time": "2024-05-14T13:52:29.821Z"
   },
   {
    "duration": 36,
    "start_time": "2024-05-14T13:52:29.857Z"
   },
   {
    "duration": 4,
    "start_time": "2024-05-14T13:52:29.894Z"
   },
   {
    "duration": 28,
    "start_time": "2024-05-14T13:52:29.900Z"
   },
   {
    "duration": 30,
    "start_time": "2024-05-14T13:52:29.930Z"
   },
   {
    "duration": 37,
    "start_time": "2024-05-14T13:52:29.961Z"
   },
   {
    "duration": 94,
    "start_time": "2024-05-14T13:52:30.000Z"
   },
   {
    "duration": 124,
    "start_time": "2024-05-14T13:52:30.096Z"
   },
   {
    "duration": 11,
    "start_time": "2024-05-14T13:52:47.830Z"
   },
   {
    "duration": 7,
    "start_time": "2024-05-14T14:19:12.485Z"
   },
   {
    "duration": 26,
    "start_time": "2024-05-14T14:19:19.145Z"
   },
   {
    "duration": 18,
    "start_time": "2024-05-14T14:19:36.917Z"
   },
   {
    "duration": 9,
    "start_time": "2024-05-14T14:19:41.736Z"
   },
   {
    "duration": 11,
    "start_time": "2024-05-14T14:20:46.918Z"
   },
   {
    "duration": 26,
    "start_time": "2024-05-14T14:32:24.378Z"
   },
   {
    "duration": 48,
    "start_time": "2024-05-15T17:28:55.288Z"
   },
   {
    "duration": 6,
    "start_time": "2024-05-15T17:29:46.520Z"
   },
   {
    "duration": 6,
    "start_time": "2024-05-15T17:29:55.442Z"
   },
   {
    "duration": 607,
    "start_time": "2024-05-15T17:30:13.041Z"
   },
   {
    "duration": 29,
    "start_time": "2024-05-15T17:30:13.649Z"
   },
   {
    "duration": 17,
    "start_time": "2024-05-15T17:30:13.679Z"
   },
   {
    "duration": 22,
    "start_time": "2024-05-15T17:30:13.699Z"
   },
   {
    "duration": 33,
    "start_time": "2024-05-15T17:30:13.723Z"
   },
   {
    "duration": 3,
    "start_time": "2024-05-15T17:30:13.758Z"
   },
   {
    "duration": 14,
    "start_time": "2024-05-15T17:30:13.762Z"
   },
   {
    "duration": 13,
    "start_time": "2024-05-15T17:30:13.777Z"
   },
   {
    "duration": 27,
    "start_time": "2024-05-15T17:30:13.791Z"
   },
   {
    "duration": 4,
    "start_time": "2024-05-15T17:30:13.821Z"
   },
   {
    "duration": 48,
    "start_time": "2024-05-15T17:30:13.826Z"
   },
   {
    "duration": 10,
    "start_time": "2024-05-15T17:30:13.875Z"
   },
   {
    "duration": 13,
    "start_time": "2024-05-15T17:30:13.886Z"
   },
   {
    "duration": 18,
    "start_time": "2024-05-15T17:30:13.900Z"
   },
   {
    "duration": 19,
    "start_time": "2024-05-15T17:30:13.920Z"
   },
   {
    "duration": 17,
    "start_time": "2024-05-15T17:30:13.940Z"
   },
   {
    "duration": 4,
    "start_time": "2024-05-15T17:30:13.959Z"
   },
   {
    "duration": 14,
    "start_time": "2024-05-15T17:30:13.965Z"
   },
   {
    "duration": 5,
    "start_time": "2024-05-15T17:30:13.981Z"
   },
   {
    "duration": 30,
    "start_time": "2024-05-15T17:30:13.988Z"
   },
   {
    "duration": 12,
    "start_time": "2024-05-15T17:30:14.020Z"
   },
   {
    "duration": 5,
    "start_time": "2024-05-15T17:30:14.034Z"
   },
   {
    "duration": 954,
    "start_time": "2024-05-15T17:30:14.041Z"
   },
   {
    "duration": 0,
    "start_time": "2024-05-15T17:30:14.996Z"
   },
   {
    "duration": 0,
    "start_time": "2024-05-15T17:30:14.998Z"
   },
   {
    "duration": 0,
    "start_time": "2024-05-15T17:30:14.999Z"
   },
   {
    "duration": 0,
    "start_time": "2024-05-15T17:30:15.000Z"
   },
   {
    "duration": 0,
    "start_time": "2024-05-15T17:30:15.001Z"
   },
   {
    "duration": 0,
    "start_time": "2024-05-15T17:30:15.002Z"
   },
   {
    "duration": 0,
    "start_time": "2024-05-15T17:30:15.004Z"
   },
   {
    "duration": 0,
    "start_time": "2024-05-15T17:30:15.005Z"
   },
   {
    "duration": 0,
    "start_time": "2024-05-15T17:30:15.006Z"
   },
   {
    "duration": 0,
    "start_time": "2024-05-15T17:30:15.007Z"
   },
   {
    "duration": 0,
    "start_time": "2024-05-15T17:30:15.008Z"
   },
   {
    "duration": 0,
    "start_time": "2024-05-15T17:30:15.009Z"
   },
   {
    "duration": 7,
    "start_time": "2024-05-15T17:30:34.884Z"
   },
   {
    "duration": 539,
    "start_time": "2024-05-15T17:36:53.760Z"
   },
   {
    "duration": 11,
    "start_time": "2024-05-15T17:37:11.996Z"
   },
   {
    "duration": 544,
    "start_time": "2024-05-15T17:38:39.480Z"
   },
   {
    "duration": 567,
    "start_time": "2024-05-15T17:38:45.190Z"
   },
   {
    "duration": 499,
    "start_time": "2024-05-15T17:39:00.526Z"
   },
   {
    "duration": 1103,
    "start_time": "2024-05-15T17:39:21.658Z"
   },
   {
    "duration": 7,
    "start_time": "2024-05-15T17:46:13.329Z"
   },
   {
    "duration": 8,
    "start_time": "2024-05-15T17:46:26.782Z"
   },
   {
    "duration": 10,
    "start_time": "2024-05-15T17:46:38.524Z"
   },
   {
    "duration": 6,
    "start_time": "2024-05-15T17:46:48.012Z"
   },
   {
    "duration": 7,
    "start_time": "2024-05-15T17:47:00.137Z"
   },
   {
    "duration": 488,
    "start_time": "2024-05-15T17:47:32.107Z"
   },
   {
    "duration": 21,
    "start_time": "2024-05-15T17:47:32.597Z"
   },
   {
    "duration": 14,
    "start_time": "2024-05-15T17:47:32.620Z"
   },
   {
    "duration": 10,
    "start_time": "2024-05-15T17:47:32.636Z"
   },
   {
    "duration": 35,
    "start_time": "2024-05-15T17:47:32.647Z"
   },
   {
    "duration": 4,
    "start_time": "2024-05-15T17:47:32.684Z"
   },
   {
    "duration": 34,
    "start_time": "2024-05-15T17:47:32.689Z"
   },
   {
    "duration": 7,
    "start_time": "2024-05-15T17:47:32.725Z"
   },
   {
    "duration": 20,
    "start_time": "2024-05-15T17:47:32.734Z"
   },
   {
    "duration": 4,
    "start_time": "2024-05-15T17:47:32.758Z"
   },
   {
    "duration": 40,
    "start_time": "2024-05-15T17:47:32.763Z"
   },
   {
    "duration": 16,
    "start_time": "2024-05-15T17:47:32.805Z"
   },
   {
    "duration": 13,
    "start_time": "2024-05-15T17:47:32.822Z"
   },
   {
    "duration": 37,
    "start_time": "2024-05-15T17:47:32.836Z"
   },
   {
    "duration": 24,
    "start_time": "2024-05-15T17:47:32.875Z"
   },
   {
    "duration": 17,
    "start_time": "2024-05-15T17:47:32.901Z"
   },
   {
    "duration": 4,
    "start_time": "2024-05-15T17:47:32.919Z"
   },
   {
    "duration": 11,
    "start_time": "2024-05-15T17:47:32.925Z"
   },
   {
    "duration": 6,
    "start_time": "2024-05-15T17:47:32.937Z"
   },
   {
    "duration": 4,
    "start_time": "2024-05-15T17:47:32.945Z"
   },
   {
    "duration": 17,
    "start_time": "2024-05-15T17:47:32.950Z"
   },
   {
    "duration": 10,
    "start_time": "2024-05-15T17:47:32.968Z"
   },
   {
    "duration": 12,
    "start_time": "2024-05-15T17:47:32.980Z"
   },
   {
    "duration": 31,
    "start_time": "2024-05-15T17:47:32.993Z"
   },
   {
    "duration": 46,
    "start_time": "2024-05-15T17:47:33.025Z"
   },
   {
    "duration": 7,
    "start_time": "2024-05-15T17:47:33.073Z"
   },
   {
    "duration": 42,
    "start_time": "2024-05-15T17:47:33.081Z"
   },
   {
    "duration": 7,
    "start_time": "2024-05-15T17:47:33.126Z"
   },
   {
    "duration": 8,
    "start_time": "2024-05-15T17:47:33.135Z"
   },
   {
    "duration": 29,
    "start_time": "2024-05-15T17:47:33.145Z"
   },
   {
    "duration": 51,
    "start_time": "2024-05-15T17:47:33.175Z"
   },
   {
    "duration": 7,
    "start_time": "2024-05-15T17:47:33.228Z"
   },
   {
    "duration": 10,
    "start_time": "2024-05-15T17:47:33.237Z"
   },
   {
    "duration": 88,
    "start_time": "2024-05-15T17:47:33.249Z"
   },
   {
    "duration": 7,
    "start_time": "2024-05-15T17:47:33.338Z"
   },
   {
    "duration": 73,
    "start_time": "2024-05-15T17:55:40.407Z"
   },
   {
    "duration": 24,
    "start_time": "2024-05-15T17:56:08.986Z"
   },
   {
    "duration": 38,
    "start_time": "2024-05-15T17:56:45.707Z"
   },
   {
    "duration": 29,
    "start_time": "2024-05-15T17:57:52.420Z"
   },
   {
    "duration": 983,
    "start_time": "2024-05-15T17:58:19.575Z"
   },
   {
    "duration": 32,
    "start_time": "2024-05-15T17:59:53.673Z"
   },
   {
    "duration": 971,
    "start_time": "2024-05-15T18:00:13.612Z"
   },
   {
    "duration": 32,
    "start_time": "2024-05-15T18:00:28.118Z"
   },
   {
    "duration": 28,
    "start_time": "2024-05-15T18:10:16.350Z"
   },
   {
    "duration": 30,
    "start_time": "2024-05-15T18:10:34.843Z"
   },
   {
    "duration": 28,
    "start_time": "2024-05-15T18:10:41.364Z"
   },
   {
    "duration": 32,
    "start_time": "2024-05-15T18:10:51.986Z"
   },
   {
    "duration": 28,
    "start_time": "2024-05-15T18:11:11.943Z"
   },
   {
    "duration": 35,
    "start_time": "2024-05-15T18:11:18.710Z"
   },
   {
    "duration": 26,
    "start_time": "2024-05-15T18:11:22.723Z"
   },
   {
    "duration": 30,
    "start_time": "2024-05-15T18:11:28.520Z"
   },
   {
    "duration": 27,
    "start_time": "2024-05-15T18:13:09.494Z"
   },
   {
    "duration": 31,
    "start_time": "2024-05-15T18:13:19.061Z"
   },
   {
    "duration": 42,
    "start_time": "2024-05-15T18:25:19.902Z"
   },
   {
    "duration": 25,
    "start_time": "2024-05-15T18:40:42.589Z"
   },
   {
    "duration": 9,
    "start_time": "2024-05-15T18:41:44.660Z"
   },
   {
    "duration": 9,
    "start_time": "2024-05-15T18:42:17.886Z"
   },
   {
    "duration": 15,
    "start_time": "2024-05-15T18:43:37.641Z"
   },
   {
    "duration": 9,
    "start_time": "2024-05-15T18:44:36.630Z"
   },
   {
    "duration": 9,
    "start_time": "2024-05-15T18:45:16.953Z"
   },
   {
    "duration": 27,
    "start_time": "2024-05-15T18:56:26.375Z"
   },
   {
    "duration": 36,
    "start_time": "2024-05-15T19:23:57.913Z"
   },
   {
    "duration": 466,
    "start_time": "2024-05-15T20:21:44.433Z"
   },
   {
    "duration": 21,
    "start_time": "2024-05-15T20:21:44.901Z"
   },
   {
    "duration": 15,
    "start_time": "2024-05-15T20:21:44.924Z"
   },
   {
    "duration": 9,
    "start_time": "2024-05-15T20:21:44.941Z"
   },
   {
    "duration": 68,
    "start_time": "2024-05-15T20:21:44.952Z"
   },
   {
    "duration": 4,
    "start_time": "2024-05-15T20:21:45.021Z"
   },
   {
    "duration": 35,
    "start_time": "2024-05-15T20:21:45.026Z"
   },
   {
    "duration": 53,
    "start_time": "2024-05-15T20:21:45.063Z"
   },
   {
    "duration": 15,
    "start_time": "2024-05-15T20:21:45.118Z"
   },
   {
    "duration": 17,
    "start_time": "2024-05-15T20:21:45.136Z"
   },
   {
    "duration": 42,
    "start_time": "2024-05-15T20:21:45.155Z"
   },
   {
    "duration": 24,
    "start_time": "2024-05-15T20:21:45.198Z"
   },
   {
    "duration": 17,
    "start_time": "2024-05-15T20:21:45.223Z"
   },
   {
    "duration": 24,
    "start_time": "2024-05-15T20:21:45.241Z"
   },
   {
    "duration": 40,
    "start_time": "2024-05-15T20:21:45.266Z"
   },
   {
    "duration": 17,
    "start_time": "2024-05-15T20:21:45.307Z"
   },
   {
    "duration": 3,
    "start_time": "2024-05-15T20:21:45.326Z"
   },
   {
    "duration": 19,
    "start_time": "2024-05-15T20:21:45.330Z"
   },
   {
    "duration": 5,
    "start_time": "2024-05-15T20:21:45.350Z"
   },
   {
    "duration": 3,
    "start_time": "2024-05-15T20:21:45.357Z"
   },
   {
    "duration": 14,
    "start_time": "2024-05-15T20:21:45.361Z"
   },
   {
    "duration": 23,
    "start_time": "2024-05-15T20:21:45.376Z"
   },
   {
    "duration": 6,
    "start_time": "2024-05-15T20:21:45.400Z"
   },
   {
    "duration": 29,
    "start_time": "2024-05-15T20:21:45.408Z"
   },
   {
    "duration": 40,
    "start_time": "2024-05-15T20:21:45.439Z"
   },
   {
    "duration": 9,
    "start_time": "2024-05-15T20:21:45.480Z"
   },
   {
    "duration": 12,
    "start_time": "2024-05-15T20:21:45.490Z"
   },
   {
    "duration": 41,
    "start_time": "2024-05-15T20:21:45.504Z"
   },
   {
    "duration": 6,
    "start_time": "2024-05-15T20:21:45.546Z"
   },
   {
    "duration": 24,
    "start_time": "2024-05-15T20:21:45.554Z"
   },
   {
    "duration": 28,
    "start_time": "2024-05-15T20:21:45.580Z"
   },
   {
    "duration": 9,
    "start_time": "2024-05-15T20:21:45.610Z"
   },
   {
    "duration": 41,
    "start_time": "2024-05-15T20:21:45.620Z"
   },
   {
    "duration": 7,
    "start_time": "2024-05-15T20:21:45.663Z"
   },
   {
    "duration": 14,
    "start_time": "2024-05-15T20:21:45.672Z"
   },
   {
    "duration": 66,
    "start_time": "2024-05-15T20:21:45.688Z"
   },
   {
    "duration": 11,
    "start_time": "2024-05-15T20:21:45.756Z"
   },
   {
    "duration": 697,
    "start_time": "2024-05-16T07:24:50.741Z"
   },
   {
    "duration": 24,
    "start_time": "2024-05-16T07:24:51.440Z"
   },
   {
    "duration": 16,
    "start_time": "2024-05-16T07:24:51.465Z"
   },
   {
    "duration": 11,
    "start_time": "2024-05-16T07:24:51.483Z"
   },
   {
    "duration": 88,
    "start_time": "2024-05-16T07:24:51.496Z"
   },
   {
    "duration": 67,
    "start_time": "2024-05-16T07:24:51.586Z"
   },
   {
    "duration": 56,
    "start_time": "2024-05-16T07:24:51.654Z"
   },
   {
    "duration": 69,
    "start_time": "2024-05-16T07:24:51.712Z"
   },
   {
    "duration": 20,
    "start_time": "2024-05-16T07:24:51.783Z"
   },
   {
    "duration": 29,
    "start_time": "2024-05-16T07:24:51.806Z"
   },
   {
    "duration": 63,
    "start_time": "2024-05-16T07:24:51.838Z"
   },
   {
    "duration": 13,
    "start_time": "2024-05-16T07:24:51.903Z"
   },
   {
    "duration": 8,
    "start_time": "2024-05-16T07:24:51.918Z"
   },
   {
    "duration": 27,
    "start_time": "2024-05-16T07:24:51.928Z"
   },
   {
    "duration": 35,
    "start_time": "2024-05-16T07:24:51.957Z"
   },
   {
    "duration": 20,
    "start_time": "2024-05-16T07:24:51.994Z"
   },
   {
    "duration": 5,
    "start_time": "2024-05-16T07:24:52.016Z"
   },
   {
    "duration": 31,
    "start_time": "2024-05-16T07:24:52.023Z"
   },
   {
    "duration": 23,
    "start_time": "2024-05-16T07:24:52.056Z"
   },
   {
    "duration": 5,
    "start_time": "2024-05-16T07:24:52.081Z"
   },
   {
    "duration": 51,
    "start_time": "2024-05-16T07:24:52.087Z"
   },
   {
    "duration": 22,
    "start_time": "2024-05-16T07:24:52.140Z"
   },
   {
    "duration": 14,
    "start_time": "2024-05-16T07:25:13.273Z"
   },
   {
    "duration": 36,
    "start_time": "2024-05-16T09:05:31.241Z"
   },
   {
    "duration": 8,
    "start_time": "2024-05-16T09:05:42.198Z"
   },
   {
    "duration": 84,
    "start_time": "2024-05-16T09:06:35.025Z"
   },
   {
    "duration": 5,
    "start_time": "2024-05-16T09:06:48.566Z"
   },
   {
    "duration": 8,
    "start_time": "2024-05-16T09:06:53.983Z"
   },
   {
    "duration": 10,
    "start_time": "2024-05-16T09:20:08.860Z"
   }
  ],
  "colab": {
   "name": "dpp_template_part2.ipynb",
   "provenance": []
  },
  "kernelspec": {
   "display_name": "Python 3 (ipykernel)",
   "language": "python",
   "name": "python3"
  },
  "language_info": {
   "codemirror_mode": {
    "name": "ipython",
    "version": 3
   },
   "file_extension": ".py",
   "mimetype": "text/x-python",
   "name": "python",
   "nbconvert_exporter": "python",
   "pygments_lexer": "ipython3",
   "version": "3.9.5"
  },
  "toc": {
   "base_numbering": 1,
   "nav_menu": {},
   "number_sections": true,
   "sideBar": true,
   "skip_h1_title": true,
   "title_cell": "Table of Contents",
   "title_sidebar": "Contents",
   "toc_cell": false,
   "toc_position": {
    "height": "calc(100% - 180px)",
    "left": "10px",
    "top": "150px",
    "width": "519.59375px"
   },
   "toc_section_display": true,
   "toc_window_display": true
  }
 },
 "nbformat": 4,
 "nbformat_minor": 5
}
